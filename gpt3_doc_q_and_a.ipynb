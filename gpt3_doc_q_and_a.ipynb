{
 "cells": [
  {
   "attachments": {},
   "cell_type": "markdown",
   "metadata": {},
   "source": [
    "# Demo: Q&A on Documentation"
   ]
  },
  {
   "attachments": {},
   "cell_type": "markdown",
   "metadata": {},
   "source": [
    "## Markdown from intellij-community"
   ]
  },
  {
   "cell_type": "code",
   "execution_count": 294,
   "metadata": {},
   "outputs": [],
   "source": [
    "ij_doc_embeddings='ij-community-markdown_ddca03838_mdchunk_embeddings.pkl.gz'\n",
    "\n",
    "import os\n",
    "if not os.path.exists(ij_doc_embeddings):\n",
    "    !wget \"https://storage.googleapis.com/semantic-cs/$ij_doc_embeddings\"\n",
    "\n",
    "import pandas as pd\n",
    "df_ij_doc = pd.read_pickle(ij_doc_embeddings)\n"
   ]
  },
  {
   "cell_type": "code",
   "execution_count": 296,
   "metadata": {},
   "outputs": [
    {
     "data": {
      "text/plain": [
       "'To build IntelliJ IDEA Community Edition from source, choose **Build | Build Project** from the main menu. To build installation packages, run the `installers.cmd` command in `<IDEA_HOME>` directory. `installers.cmd` will work on both Windows and Unix systems.'"
      ]
     },
     "execution_count": 296,
     "metadata": {},
     "output_type": "execute_result"
    }
   ],
   "source": [
    "import os\n",
    "import openai\n",
    "\n",
    "openai.api_key = os.getenv(\"OPENAI_API_KEY\")\n",
    "\n",
    "# run 'Context Engineering (precise)' scection first\n",
    "answer_question(df_ij_doc, question=\"How do I build IntelliJ Idea?\", max_len=1000, debug=False)"
   ]
  },
  {
   "cell_type": "code",
   "execution_count": null,
   "metadata": {},
   "outputs": [],
   "source": []
  },
  {
   "attachments": {},
   "cell_type": "markdown",
   "metadata": {},
   "source": [
    "## Markdown from intellij-sdk-doc"
   ]
  },
  {
   "cell_type": "code",
   "execution_count": 292,
   "metadata": {},
   "outputs": [],
   "source": [
    "sdk_doc_embeddings='ij-sdk-docs-markdown_c2a526bcc_mdchunk_embeddings.pkl.gz'\n",
    "\n",
    "import os\n",
    "if not os.path.exists(sdk_doc_embeddings):\n",
    "    !wget \"https://storage.googleapis.com/semantic-cs/$sdk_doc_embeddings\"\n",
    "\n",
    "import pandas as pd\n",
    "df_sdk = pd.read_pickle(sdk_doc_embeddings)\n"
   ]
  },
  {
   "cell_type": "code",
   "execution_count": 291,
   "metadata": {},
   "outputs": [
    {
     "data": {
      "text/plain": [
       "'The syntax highlighter is created by extending the `SyntaxHighlighter` interface and registering the factory with the IntelliJ Platform in the plugin configuration file using the `com.intellij.lang.syntaxHighlighterFactory` extension point.'"
      ]
     },
     "execution_count": 291,
     "metadata": {},
     "output_type": "execute_result"
    }
   ],
   "source": [
    "import os\n",
    "import openai\n",
    "\n",
    "openai.api_key = os.getenv(\"OPENAI_API_KEY\")\n",
    "\n",
    "# run 'Context Engineering (precise)' scection first\n",
    "answer_question(df_sdk, question=\"How to create a custom syntax highlighter?\", max_len=1000, debug=False)"
   ]
  },
  {
   "cell_type": "code",
   "execution_count": null,
   "metadata": {},
   "outputs": [],
   "source": []
  },
  {
   "attachments": {},
   "cell_type": "markdown",
   "metadata": {},
   "source": []
  },
  {
   "attachments": {},
   "cell_type": "markdown",
   "metadata": {},
   "source": [
    "## KDoc and JavaDoc from intellij-community"
   ]
  },
  {
   "cell_type": "code",
   "execution_count": null,
   "metadata": {},
   "outputs": [],
   "source": [
    "#TBD"
   ]
  },
  {
   "attachments": {},
   "cell_type": "markdown",
   "metadata": {},
   "source": [
    "## Retrival"
   ]
  },
  {
   "cell_type": "code",
   "execution_count": 5,
   "metadata": {},
   "outputs": [],
   "source": [
    "code_root = \"../intellij-community\" # change to your local path\n",
    "model=\"text-embedding-ada-002\"\n",
    "\n",
    "#!git clone --depth=1 'https://github.com/JetBrains/intellij-community/' \"$code_root\""
   ]
  },
  {
   "cell_type": "code",
   "execution_count": null,
   "metadata": {},
   "outputs": [],
   "source": [
    "#!find $code_root -name \"*.md\" | grep -v -E '/test(s)?(Src)?(ing)?(Data)?/' | wc -l\n",
    "#  79\n",
    "# does NOT work on the notebook, after the 2nd pipe the results EXPLODE :/\n",
    "# find ../intellij-community -name \"*.md\" | grep -v -E '/test(s)?(Src)?(ing)?(Data)?/' | xargs -I{} wc -m {} | awk '{i+=$1;} END {print i;}'\n",
    "#  245371\n",
    "# that is only 500 chunks by 500 chars"
   ]
  },
  {
   "attachments": {},
   "cell_type": "markdown",
   "metadata": {},
   "source": [
    "### TODOs\n",
    " * extract parsers.py, re-use here and in code_search\n",
    "   * get functions: parse all community, save to .pkl\n",
    "   * get documentation: class/method K/JavaDocs"
   ]
  },
  {
   "cell_type": "code",
   "execution_count": null,
   "metadata": {},
   "outputs": [],
   "source": [
    "#git rev-parse --short HEAD\n",
    "#!find . -name \"*.md\" -printf '%P\\n' | grep -v -E '/test(s)?(Src)?(ing)?(Data)?/' > ij-community-markdown_$sha.csv"
   ]
  },
  {
   "cell_type": "code",
   "execution_count": 27,
   "metadata": {},
   "outputs": [],
   "source": [
    "import os\n",
    "import pandas as pd\n",
    "\n",
    "\n",
    "with open(f\"{code_root}/.git/refs/heads/master\") as f:\n",
    "    sha = f.read()[:9]\n",
    "\n",
    "basename=f\"ij-community-markdown_{sha}\"\n",
    "markdown_files = f\"{basename}.csv\""
   ]
  },
  {
   "cell_type": "code",
   "execution_count": 85,
   "metadata": {},
   "outputs": [],
   "source": [
    "from pathlib import Path\n",
    "\n",
    "md = pd.read_csv(markdown_files, names=[\"file\"])\n",
    "md['text'] = md['file'].apply(lambda f: (code_root / Path(f)).read_text())"
   ]
  },
  {
   "cell_type": "code",
   "execution_count": 9,
   "metadata": {},
   "outputs": [
    {
     "data": {
      "text/html": [
       "<div>\n",
       "<style scoped>\n",
       "    .dataframe tbody tr th:only-of-type {\n",
       "        vertical-align: middle;\n",
       "    }\n",
       "\n",
       "    .dataframe tbody tr th {\n",
       "        vertical-align: top;\n",
       "    }\n",
       "\n",
       "    .dataframe thead th {\n",
       "        text-align: right;\n",
       "    }\n",
       "</style>\n",
       "<table border=\"1\" class=\"dataframe\">\n",
       "  <thead>\n",
       "    <tr style=\"text-align: right;\">\n",
       "      <th></th>\n",
       "      <th>file</th>\n",
       "      <th>text</th>\n",
       "    </tr>\n",
       "  </thead>\n",
       "  <tbody>\n",
       "    <tr>\n",
       "      <th>0</th>\n",
       "      <td>CODE_OF_CONDUCT.md</td>\n",
       "      <td>## Code of Conduct\\n\\nThis project and the cor...</td>\n",
       "    </tr>\n",
       "    <tr>\n",
       "      <th>1</th>\n",
       "      <td>native/WinShellIntegration/README.md</td>\n",
       "      <td># WinShellIntegration\\nThe library provides th...</td>\n",
       "    </tr>\n",
       "    <tr>\n",
       "      <th>2</th>\n",
       "      <td>native/WinShellIntegration/src/winshellintegra...</td>\n",
       "      <td># winshellintegration\\nStatic library provides...</td>\n",
       "    </tr>\n",
       "    <tr>\n",
       "      <th>3</th>\n",
       "      <td>native/WinShellIntegration/src/winshellintegra...</td>\n",
       "      <td># winshellintegrationbridge\\nJNI-Dll integrate...</td>\n",
       "    </tr>\n",
       "    <tr>\n",
       "      <th>4</th>\n",
       "      <td>native/repair-utility/README.md</td>\n",
       "      <td>Repair is the command line utility to troubles...</td>\n",
       "    </tr>\n",
       "    <tr>\n",
       "      <th>...</th>\n",
       "      <td>...</td>\n",
       "      <td>...</td>\n",
       "    </tr>\n",
       "    <tr>\n",
       "      <th>74</th>\n",
       "      <td>docs/configurable.md</td>\n",
       "      <td>## Configurables allow adding settings to the ...</td>\n",
       "    </tr>\n",
       "    <tr>\n",
       "      <th>75</th>\n",
       "      <td>README.md</td>\n",
       "      <td># IntelliJ IDEA Community Edition [![official ...</td>\n",
       "    </tr>\n",
       "    <tr>\n",
       "      <th>76</th>\n",
       "      <td>CONTRIBUTING.md</td>\n",
       "      <td>Contributing to IntelliJ IDEA\\n===\\n\\nBefore o...</td>\n",
       "    </tr>\n",
       "    <tr>\n",
       "      <th>77</th>\n",
       "      <td>build/tools/NSIS-upgrade.md</td>\n",
       "      <td>### Upgrading NSIS to a newer version\\n\\nThe N...</td>\n",
       "    </tr>\n",
       "    <tr>\n",
       "      <th>78</th>\n",
       "      <td>notebooks/visualization/src/org/jetbrains/plug...</td>\n",
       "      <td># Table filtering\\n\\nCurrent implementation ta...</td>\n",
       "    </tr>\n",
       "  </tbody>\n",
       "</table>\n",
       "<p>79 rows × 2 columns</p>\n",
       "</div>"
      ],
      "text/plain": [
       "                                                 file   \n",
       "0                                  CODE_OF_CONDUCT.md  \\\n",
       "1                native/WinShellIntegration/README.md   \n",
       "2   native/WinShellIntegration/src/winshellintegra...   \n",
       "3   native/WinShellIntegration/src/winshellintegra...   \n",
       "4                     native/repair-utility/README.md   \n",
       "..                                                ...   \n",
       "74                               docs/configurable.md   \n",
       "75                                          README.md   \n",
       "76                                    CONTRIBUTING.md   \n",
       "77                        build/tools/NSIS-upgrade.md   \n",
       "78  notebooks/visualization/src/org/jetbrains/plug...   \n",
       "\n",
       "                                                 text  \n",
       "0   ## Code of Conduct\\n\\nThis project and the cor...  \n",
       "1   # WinShellIntegration\\nThe library provides th...  \n",
       "2   # winshellintegration\\nStatic library provides...  \n",
       "3   # winshellintegrationbridge\\nJNI-Dll integrate...  \n",
       "4   Repair is the command line utility to troubles...  \n",
       "..                                                ...  \n",
       "74  ## Configurables allow adding settings to the ...  \n",
       "75  # IntelliJ IDEA Community Edition [![official ...  \n",
       "76  Contributing to IntelliJ IDEA\\n===\\n\\nBefore o...  \n",
       "77  ### Upgrading NSIS to a newer version\\n\\nThe N...  \n",
       "78  # Table filtering\\n\\nCurrent implementation ta...  \n",
       "\n",
       "[79 rows x 2 columns]"
      ]
     },
     "execution_count": 9,
     "metadata": {},
     "output_type": "execute_result"
    }
   ],
   "source": [
    "md"
   ]
  },
  {
   "cell_type": "code",
   "execution_count": 86,
   "metadata": {},
   "outputs": [],
   "source": [
    "import tiktoken\n",
    "\n",
    "tokenizer = encoding = tiktoken.encoding_for_model(model) #tiktoken.get_encoding(\"cl100k_base\")\n",
    "\n",
    "md['n_tokens'] = md['text'].apply(lambda x: len(tokenizer.encode(x)))"
   ]
  },
  {
   "cell_type": "code",
   "execution_count": 87,
   "metadata": {},
   "outputs": [
    {
     "data": {
      "text/plain": [
       "count      79.000000\n",
       "mean      715.607595\n",
       "std      1063.225407\n",
       "min        17.000000\n",
       "25%        99.500000\n",
       "50%       297.000000\n",
       "75%       843.500000\n",
       "max      6101.000000\n",
       "Name: n_tokens, dtype: float64"
      ]
     },
     "execution_count": 87,
     "metadata": {},
     "output_type": "execute_result"
    }
   ],
   "source": [
    "md['n_tokens'].describe()"
   ]
  },
  {
   "attachments": {},
   "cell_type": "markdown",
   "metadata": {},
   "source": [
    "## Chunking\n",
    "\n",
    "Breaking up longer text in smaller chunks seems to be an important \"hyperparameter\" i.e. we should experiment with different options."
   ]
  },
  {
   "cell_type": "code",
   "execution_count": 88,
   "metadata": {},
   "outputs": [
    {
     "data": {
      "text/plain": [
       "<Axes: >"
      ]
     },
     "execution_count": 88,
     "metadata": {},
     "output_type": "execute_result"
    },
    {
     "data": {
      "image/png": "[encoded data removed]",
      "text/plain": [
       "<Figure size 640x480 with 1 Axes>"
      ]
     },
     "metadata": {},
     "output_type": "display_data"
    }
   ],
   "source": [
    "md['n_tokens'].hist()"
   ]
  },
  {
   "cell_type": "code",
   "execution_count": 222,
   "metadata": {},
   "outputs": [
    {
     "name": "stdout",
     "output_type": "stream",
     "text": [
      "No chunks:79, Tokens:56533\n"
     ]
    }
   ],
   "source": [
    "print(f\"No chunks:{len(md)}, Tokens:{md['n_tokens'].sum()}\")"
   ]
  },
  {
   "attachments": {},
   "cell_type": "markdown",
   "metadata": {},
   "source": [
    "### Naive"
   ]
  },
  {
   "cell_type": "code",
   "execution_count": 13,
   "metadata": {},
   "outputs": [],
   "source": [
    "# A naive way of context-aware chunking relying on sentence segmentation by \".\" \n",
    "# \n",
    "# There is some evidence that model like text-embedding-ada-002\n",
    "# performs better on chunks containing 256 or 512 tokens.\n",
    "# See https://www.pinecone.io/learn/chunking-strategies/\n",
    "\n",
    "from typing import List\n",
    "\n",
    "max_tokens = 500\n",
    "\n",
    "# Split the text into chunks of a maximum number of tokens\n",
    "def split_into_many(text, max_tokens = max_tokens) -> List[str]:\n",
    "    sentences = text.split('. ')\n",
    "\n",
    "    # number of tokens per sentence\n",
    "    n_tokens = [len(tokenizer.encode(\" \" + sentence)) for sentence in sentences]\n",
    "\n",
    "    chunk = []\n",
    "    chunks = []\n",
    "    tokens_so_far = 0\n",
    "\n",
    "    for sentence, token in zip(sentences, n_tokens):\n",
    "        if tokens_so_far + token > max_tokens:\n",
    "            chunks.append(\". \".join(chunk) + \".\")\n",
    "            chunk = []\n",
    "            tokens_so_far = 0\n",
    "\n",
    "        if token > max_tokens:\n",
    "            continue\n",
    "\n",
    "        chunk.append(sentence)\n",
    "        tokens_so_far += token + 1\n",
    "\n",
    "    return chunks"
   ]
  },
  {
   "cell_type": "code",
   "execution_count": 90,
   "metadata": {},
   "outputs": [],
   "source": [
    "chunks = []\n",
    "\n",
    "for i, row in md.iterrows():\n",
    "    if row['n_tokens'] > max_tokens:\n",
    "        chunks += split_into_many(row['text'])\n",
    "    else:\n",
    "        chunks.append(row['text'] )"
   ]
  },
  {
   "cell_type": "code",
   "execution_count": 91,
   "metadata": {},
   "outputs": [
    {
     "data": {
      "text/plain": [
       "<Axes: >"
      ]
     },
     "execution_count": 91,
     "metadata": {},
     "output_type": "execute_result"
    },
    {
     "data": {
      "image/png": "[encoded data removed]",
      "text/plain": [
       "<Figure size 640x480 with 1 Axes>"
      ]
     },
     "metadata": {},
     "output_type": "display_data"
    }
   ],
   "source": [
    "df = pd.DataFrame(chunks, columns = ['text'])\n",
    "df['n_tokens'] = df.text.apply(lambda x: len(tokenizer.encode(x)))\n",
    "df.n_tokens.hist()"
   ]
  },
  {
   "cell_type": "code",
   "execution_count": 224,
   "metadata": {},
   "outputs": [
    {
     "name": "stdout",
     "output_type": "stream",
     "text": [
      "Naive chunks:138, Tokens:44540\n"
     ]
    }
   ],
   "source": [
    "print(f\"Naive chunks:{len(df)}, Tokens:{df['n_tokens'].sum()}\")\n",
    "# total tokens: 56533"
   ]
  },
  {
   "cell_type": "code",
   "execution_count": 23,
   "metadata": {},
   "outputs": [
    {
     "data": {
      "text/html": [
       "<div>\n",
       "<style scoped>\n",
       "    .dataframe tbody tr th:only-of-type {\n",
       "        vertical-align: middle;\n",
       "    }\n",
       "\n",
       "    .dataframe tbody tr th {\n",
       "        vertical-align: top;\n",
       "    }\n",
       "\n",
       "    .dataframe thead th {\n",
       "        text-align: right;\n",
       "    }\n",
       "</style>\n",
       "<table border=\"1\" class=\"dataframe\">\n",
       "  <thead>\n",
       "    <tr style=\"text-align: right;\">\n",
       "      <th></th>\n",
       "      <th>text</th>\n",
       "      <th>n_tokens</th>\n",
       "    </tr>\n",
       "  </thead>\n",
       "  <tbody>\n",
       "    <tr>\n",
       "      <th>0</th>\n",
       "      <td>## Code of Conduct\\n\\nThis project and the cor...</td>\n",
       "      <td>62</td>\n",
       "    </tr>\n",
       "    <tr>\n",
       "      <th>1</th>\n",
       "      <td># WinShellIntegration\\nThe library provides th...</td>\n",
       "      <td>399</td>\n",
       "    </tr>\n",
       "    <tr>\n",
       "      <th>2</th>\n",
       "      <td># winshellintegration\\nStatic library provides...</td>\n",
       "      <td>49</td>\n",
       "    </tr>\n",
       "    <tr>\n",
       "      <th>3</th>\n",
       "      <td># winshellintegrationbridge\\nJNI-Dll integrate...</td>\n",
       "      <td>97</td>\n",
       "    </tr>\n",
       "    <tr>\n",
       "      <th>4</th>\n",
       "      <td>Repair is the command line utility to troubles...</td>\n",
       "      <td>352</td>\n",
       "    </tr>\n",
       "    <tr>\n",
       "      <th>...</th>\n",
       "      <td>...</td>\n",
       "      <td>...</td>\n",
       "    </tr>\n",
       "    <tr>\n",
       "      <th>133</th>\n",
       "      <td>\\n\\n## Building IntelliJ Community Edition\\nVe...</td>\n",
       "      <td>386</td>\n",
       "    </tr>\n",
       "    <tr>\n",
       "      <th>134</th>\n",
       "      <td>`installers.cmd` will work on both Windows and...</td>\n",
       "      <td>366</td>\n",
       "    </tr>\n",
       "    <tr>\n",
       "      <th>135</th>\n",
       "      <td>Contributing to IntelliJ IDEA\\n===\\n\\nBefore o...</td>\n",
       "      <td>95</td>\n",
       "    </tr>\n",
       "    <tr>\n",
       "      <th>136</th>\n",
       "      <td>### Upgrading NSIS to a newer version\\n\\nThe N...</td>\n",
       "      <td>459</td>\n",
       "    </tr>\n",
       "    <tr>\n",
       "      <th>137</th>\n",
       "      <td># Table filtering\\n\\nCurrent implementation ta...</td>\n",
       "      <td>56</td>\n",
       "    </tr>\n",
       "  </tbody>\n",
       "</table>\n",
       "<p>138 rows × 2 columns</p>\n",
       "</div>"
      ],
      "text/plain": [
       "                                                  text  n_tokens\n",
       "0    ## Code of Conduct\\n\\nThis project and the cor...        62\n",
       "1    # WinShellIntegration\\nThe library provides th...       399\n",
       "2    # winshellintegration\\nStatic library provides...        49\n",
       "3    # winshellintegrationbridge\\nJNI-Dll integrate...        97\n",
       "4    Repair is the command line utility to troubles...       352\n",
       "..                                                 ...       ...\n",
       "133  \\n\\n## Building IntelliJ Community Edition\\nVe...       386\n",
       "134  `installers.cmd` will work on both Windows and...       366\n",
       "135  Contributing to IntelliJ IDEA\\n===\\n\\nBefore o...        95\n",
       "136  ### Upgrading NSIS to a newer version\\n\\nThe N...       459\n",
       "137  # Table filtering\\n\\nCurrent implementation ta...        56\n",
       "\n",
       "[138 rows x 2 columns]"
      ]
     },
     "execution_count": 23,
     "metadata": {},
     "output_type": "execute_result"
    }
   ],
   "source": [
    "df"
   ]
  },
  {
   "attachments": {},
   "cell_type": "markdown",
   "metadata": {},
   "source": [
    "### Advanced\n",
    "\n",
    "Markdown header-aware [RecursiveCharacterTextSplitter](https://python.langchain.com/en/latest/_modules/langchain/text_splitter.html)"
   ]
  },
  {
   "cell_type": "code",
   "execution_count": null,
   "metadata": {},
   "outputs": [],
   "source": [
    "%pip install langchain"
   ]
  },
  {
   "cell_type": "code",
   "execution_count": 105,
   "metadata": {},
   "outputs": [],
   "source": [
    "from langchain.text_splitter import MarkdownTextSplitter\n",
    "markdown_splitter = MarkdownTextSplitter(chunk_size=500, chunk_overlap=0)"
   ]
  },
  {
   "cell_type": "code",
   "execution_count": 211,
   "metadata": {},
   "outputs": [
    {
     "name": "stdout",
     "output_type": "stream",
     "text": [
      "79\n"
     ]
    }
   ],
   "source": [
    "df_md = md.copy()"
   ]
  },
  {
   "cell_type": "code",
   "execution_count": 258,
   "metadata": {},
   "outputs": [
    {
     "data": {
      "text/html": [
       "<div>\n",
       "<style scoped>\n",
       "    .dataframe tbody tr th:only-of-type {\n",
       "        vertical-align: middle;\n",
       "    }\n",
       "\n",
       "    .dataframe tbody tr th {\n",
       "        vertical-align: top;\n",
       "    }\n",
       "\n",
       "    .dataframe thead th {\n",
       "        text-align: right;\n",
       "    }\n",
       "</style>\n",
       "<table border=\"1\" class=\"dataframe\">\n",
       "  <thead>\n",
       "    <tr style=\"text-align: right;\">\n",
       "      <th></th>\n",
       "      <th>file</th>\n",
       "      <th>text</th>\n",
       "      <th>n_tokens</th>\n",
       "      <th>chunk</th>\n",
       "      <th>embeddings</th>\n",
       "      <th>distances</th>\n",
       "    </tr>\n",
       "  </thead>\n",
       "  <tbody>\n",
       "    <tr>\n",
       "      <th>0</th>\n",
       "      <td>CODE_OF_CONDUCT.md</td>\n",
       "      <td>## Code of Conduct\\n\\nThis project and the cor...</td>\n",
       "      <td>61</td>\n",
       "      <td>## Code of Conduct\\n\\nThis project and the cor...</td>\n",
       "      <td>[-0.00040333083597943187, -0.00013125549594406...</td>\n",
       "      <td>0.262480</td>\n",
       "    </tr>\n",
       "    <tr>\n",
       "      <th>1</th>\n",
       "      <td>native/WinShellIntegration/README.md</td>\n",
       "      <td># WinShellIntegration\\nThe library provides th...</td>\n",
       "      <td>99</td>\n",
       "      <td># WinShellIntegration\\nThe library provides th...</td>\n",
       "      <td>[-0.02148049883544445, 0.0078047215938568115, ...</td>\n",
       "      <td>0.270736</td>\n",
       "    </tr>\n",
       "    <tr>\n",
       "      <th>1</th>\n",
       "      <td>native/WinShellIntegration/README.md</td>\n",
       "      <td>Build dependencies\\n* C++17-compatible compile...</td>\n",
       "      <td>99</td>\n",
       "      <td># WinShellIntegration\\nThe library provides th...</td>\n",
       "      <td>[-0.02148049883544445, 0.0078047215938568115, ...</td>\n",
       "      <td>0.270736</td>\n",
       "    </tr>\n",
       "    <tr>\n",
       "      <th>1</th>\n",
       "      <td>native/WinShellIntegration/README.md</td>\n",
       "      <td>Build\\nJust use CMake normally.</td>\n",
       "      <td>99</td>\n",
       "      <td># WinShellIntegration\\nThe library provides th...</td>\n",
       "      <td>[-0.02148049883544445, 0.0078047215938568115, ...</td>\n",
       "      <td>0.270736</td>\n",
       "    </tr>\n",
       "    <tr>\n",
       "      <th>1</th>\n",
       "      <td>native/WinShellIntegration/README.md</td>\n",
       "      <td>If you want to build [winshellintegrationbridg...</td>\n",
       "      <td>99</td>\n",
       "      <td># WinShellIntegration\\nThe library provides th...</td>\n",
       "      <td>[-0.02148049883544445, 0.0078047215938568115, ...</td>\n",
       "      <td>0.270736</td>\n",
       "    </tr>\n",
       "  </tbody>\n",
       "</table>\n",
       "</div>"
      ],
      "text/plain": [
       "                                   file   \n",
       "0                    CODE_OF_CONDUCT.md  \\\n",
       "1  native/WinShellIntegration/README.md   \n",
       "1  native/WinShellIntegration/README.md   \n",
       "1  native/WinShellIntegration/README.md   \n",
       "1  native/WinShellIntegration/README.md   \n",
       "\n",
       "                                                text  n_tokens   \n",
       "0  ## Code of Conduct\\n\\nThis project and the cor...        61  \\\n",
       "1  # WinShellIntegration\\nThe library provides th...        99   \n",
       "1  Build dependencies\\n* C++17-compatible compile...        99   \n",
       "1                    Build\\nJust use CMake normally.        99   \n",
       "1  If you want to build [winshellintegrationbridg...        99   \n",
       "\n",
       "                                               chunk   \n",
       "0  ## Code of Conduct\\n\\nThis project and the cor...  \\\n",
       "1  # WinShellIntegration\\nThe library provides th...   \n",
       "1  # WinShellIntegration\\nThe library provides th...   \n",
       "1  # WinShellIntegration\\nThe library provides th...   \n",
       "1  # WinShellIntegration\\nThe library provides th...   \n",
       "\n",
       "                                          embeddings  distances  \n",
       "0  [-0.00040333083597943187, -0.00013125549594406...   0.262480  \n",
       "1  [-0.02148049883544445, 0.0078047215938568115, ...   0.270736  \n",
       "1  [-0.02148049883544445, 0.0078047215938568115, ...   0.270736  \n",
       "1  [-0.02148049883544445, 0.0078047215938568115, ...   0.270736  \n",
       "1  [-0.02148049883544445, 0.0078047215938568115, ...   0.270736  "
      ]
     },
     "execution_count": 258,
     "metadata": {},
     "output_type": "execute_result"
    }
   ],
   "source": [
    "df_md['text'] = df_md.text.apply(lambda text: markdown_splitter.split_text(text))\n",
    "df_md = df_md.explode(\"text\")\n",
    "df_md.head()"
   ]
  },
  {
   "cell_type": "code",
   "execution_count": 213,
   "metadata": {},
   "outputs": [
    {
     "name": "stdout",
     "output_type": "stream",
     "text": [
      "781\n"
     ]
    }
   ],
   "source": [
    "# df_md['chunks'].apply(len).sum()\n",
    "print(len(df_md))"
   ]
  },
  {
   "cell_type": "code",
   "execution_count": 247,
   "metadata": {},
   "outputs": [],
   "source": [
    "df_md['n_tokens'] = df_md['chunk'].apply(lambda x: len(tokenizer.encode(x)))"
   ]
  },
  {
   "cell_type": "code",
   "execution_count": 248,
   "metadata": {},
   "outputs": [
    {
     "data": {
      "text/plain": [
       "<Axes: >"
      ]
     },
     "execution_count": 248,
     "metadata": {},
     "output_type": "execute_result"
    },
    {
     "data": {
      "image/png": "[encoded data removed]",
      "text/plain": [
       "<Figure size 640x480 with 1 Axes>"
      ]
     },
     "metadata": {},
     "output_type": "display_data"
    }
   ],
   "source": [
    "df_md['n_tokens'].hist()"
   ]
  },
  {
   "cell_type": "code",
   "execution_count": 223,
   "metadata": {},
   "outputs": [
    {
     "name": "stdout",
     "output_type": "stream",
     "text": [
      "Advanced chunks:781, Tokens:55934\n"
     ]
    }
   ],
   "source": [
    "print(f\"Advanced chunks:{len(df_md)}, Tokens:{df_md['n_tokens_chunk'].sum()}\")\n",
    "# total tokens: 56533"
   ]
  },
  {
   "attachments": {},
   "cell_type": "markdown",
   "metadata": {},
   "source": [
    "## Fetch Embeddings"
   ]
  },
  {
   "cell_type": "code",
   "execution_count": 31,
   "metadata": {},
   "outputs": [],
   "source": [
    "import os\n",
    "\n",
    "import openai\n",
    "import numpy as np\n",
    "\n",
    "openai.api_key = os.getenv(\"OPENAI_API_KEY\")\n",
    "\n",
    "df['embeddings'] = df.text.apply(lambda x: np.array(openai.Embedding.create(input=x, engine=model)['data'][0]['embedding']))\n",
    "df.to_pickle(f\"{basename}_embeddings.pkl\") # ~100 requests"
   ]
  },
  {
   "cell_type": "code",
   "execution_count": 227,
   "metadata": {},
   "outputs": [],
   "source": [
    "df_md['embeddings'] = df_md.chunk.apply(lambda x: np.array(openai.Embedding.create(input=x, engine=model)['data'][0]['embedding']))\n",
    "# ~700 requests"
   ]
  },
  {
   "cell_type": "code",
   "execution_count": 266,
   "metadata": {},
   "outputs": [],
   "source": [
    "df_md.to_pickle(f\"{basename}_mdchunk_embeddings.pkl.gz\", compression={'method': 'gzip', 'compresslevel': 1, 'mtime': 1})"
   ]
  },
  {
   "attachments": {},
   "cell_type": "markdown",
   "metadata": {},
   "source": [
    "## Context Engineering: (precise) Q&A\n",
    "\n",
    "Stores all the documents (chunks) in RAM and sort them by all similarity on every query."
   ]
  },
  {
   "cell_type": "code",
   "execution_count": 48,
   "metadata": {},
   "outputs": [],
   "source": [
    "from openai.embeddings_utils import distances_from_embeddings\n",
    "\n",
    "def create_context(question, df, max_len=1800):\n",
    "    \"\"\"\n",
    "    Create a context for a question by finding the most similar context from the dataframe\n",
    "    Depends on the 'text', 'n_tokens' and 'embeddings' fields in the dataframe!\n",
    "    \"\"\"\n",
    "\n",
    "    # Get the embeddings for the question\n",
    "    q_embeddings = np.array(openai.Embedding.create(input=question, engine=model)['data'][0]['embedding'])\n",
    "\n",
    "    # Get the distances from the embeddings\n",
    "    df['distances'] = distances_from_embeddings(q_embeddings, df['embeddings'].values, distance_metric='cosine')\n",
    "\n",
    "    returns = []\n",
    "    cur_len = 0\n",
    "\n",
    "    # Sort by distance and add the text to the context until the context is too long\n",
    "    for i, row in df.sort_values('distances', ascending=True).iterrows():\n",
    "        \n",
    "        # Add the length of the text to the current length\n",
    "        cur_len += row['n_tokens'] + 4\n",
    "        \n",
    "        # If the context is too long, break\n",
    "        if cur_len > max_len:\n",
    "            break\n",
    "        \n",
    "        # Else add it to the text that is being returned\n",
    "        returns.append(row[\"text\"])\n",
    "\n",
    "    # Return the context\n",
    "    return \"\\n\\n###\\n\\n\".join(returns)\n",
    "\n",
    "def answer_question(\n",
    "    df,\n",
    "    model=\"text-davinci-003\",\n",
    "    question=\"Am I allowed to publish model outputs to Twitter, without a human review?\",\n",
    "    max_len=1800,\n",
    "    debug=False,\n",
    "    max_tokens=150,\n",
    "    stop_sequence=None\n",
    "):\n",
    "    \"\"\"\n",
    "    Answer a question based on the most similar context from the dataframe texts\n",
    "    \"\"\"\n",
    "    context = create_context(\n",
    "        question,\n",
    "        df,\n",
    "        max_len=max_len,\n",
    "    )\n",
    "    # If debug, print the raw model response\n",
    "    if debug:\n",
    "        print(\"Context:\\n\" + context)\n",
    "        print(\"\\n\\n\")\n",
    "\n",
    "    try:\n",
    "        # Create a completions using the question and context\n",
    "        response = openai.Completion.create(\n",
    "            prompt=f\"Answer the question based on the context below, and if the question can't be answered based on the context, say \\\"I don't know\\\"\\n\\nContext: {context}\\n\\n---\\n\\nQuestion: {question}\\nAnswer:\",\n",
    "            temperature=0,\n",
    "            max_tokens=max_tokens,\n",
    "            top_p=1,\n",
    "            frequency_penalty=0,\n",
    "            presence_penalty=0,\n",
    "            stop=stop_sequence,\n",
    "            model=model,\n",
    "        )\n",
    "        return response[\"choices\"][0][\"text\"].strip()\n",
    "    except Exception as e:\n",
    "        print(e)\n",
    "        return \"\""
   ]
  },
  {
   "cell_type": "code",
   "execution_count": 34,
   "metadata": {},
   "outputs": [
    {
     "data": {
      "text/plain": [
       "'To build IntelliJ IDEA Community Edition from source, choose **Build | Build Project** from the main menu. To build installation packages, run the `installers.cmd` command in `<IDEA_HOME>` directory.'"
      ]
     },
     "execution_count": 34,
     "metadata": {},
     "output_type": "execute_result"
    }
   ],
   "source": [
    "answer_question(df, question=\"How do I build IntelliJ Idea?\", debug=True)"
   ]
  },
  {
   "cell_type": "code",
   "execution_count": 41,
   "metadata": {},
   "outputs": [
    {
     "data": {
      "text/plain": [
       "'Version 2022.1 or newer of IntelliJ IDEA Community Edition or IntelliJ IDEA Ultimate Edition is required to build and develop for the IntelliJ Platform. Using IntelliJ IDEA **File | Open**, select the `<IDEA_HOME>` directory. Make sure you have at least 8GB of RAM on your computer. To build IntelliJ IDEA Community Edition from source, choose **Build | Build Project** from the main menu. To build installation packages, run the `installers.cmd` command in `<IDEA_HOME>` directory.'"
      ]
     },
     "execution_count": 41,
     "metadata": {},
     "output_type": "execute_result"
    }
   ],
   "source": [
    "answer_question(df, question=\"How can I build IntelliJ Idea from sources?\", max_len=3000, debug=False)"
   ]
  },
  {
   "cell_type": "code",
   "execution_count": 37,
   "metadata": {},
   "outputs": [
    {
     "data": {
      "text/plain": [
       "'An IDE feature trainer is a plugin for IntelliJ IDEA that helps users learn the basic editing features of the IDE.'"
      ]
     },
     "execution_count": 37,
     "metadata": {},
     "output_type": "execute_result"
    }
   ],
   "source": [
    "answer_question(df, question=\"What is an IDE feature trainer?\", debug=False)"
   ]
  },
  {
   "cell_type": "code",
   "execution_count": null,
   "metadata": {},
   "outputs": [],
   "source": []
  },
  {
   "cell_type": "code",
   "execution_count": null,
   "metadata": {},
   "outputs": [],
   "source": [
    "answer_question(df_md, question=\"How to create a custom syntax highlighter?\", max_len=1000, debug=False)"
   ]
  },
  {
   "cell_type": "code",
   "execution_count": null,
   "metadata": {},
   "outputs": [],
   "source": []
  },
  {
   "attachments": {},
   "cell_type": "markdown",
   "metadata": {},
   "source": [
    "## Context Engineering: (index) Q&A\n",
    "\n",
    "Store all the documents (chunks) in RAM, but use approximate nearest neirbor index from HDD on every query."
   ]
  },
  {
   "cell_type": "code",
   "execution_count": null,
   "metadata": {},
   "outputs": [],
   "source": [
    "# TODO: use FAISS this time"
   ]
  },
  {
   "attachments": {},
   "cell_type": "markdown",
   "metadata": {},
   "source": [
    "# Retrive & Embed SDK docs\n",
    "\n",
    "IntelliJ SDK docs have x10 more data in Markdown"
   ]
  },
  {
   "cell_type": "code",
   "execution_count": null,
   "metadata": {},
   "outputs": [],
   "source": [
    "doc_root=\"../intellij-sdk-docs\" # change to your local path\n",
    "#!git clone --depth=1 'git@github.com:JetBrains/intellij-sdk-docs.git' \"$doc_root\""
   ]
  },
  {
   "cell_type": "code",
   "execution_count": null,
   "metadata": {},
   "outputs": [],
   "source": [
    "# find -name \"*.md\"  -printf '%P\\n' | grep -v -E '/test(s)?(Src)?(ing)?(Data)?/' | wc -l\n",
    "#  317\n",
    "# find -name \"*.md\" | grep -v -E '/test(s)?(Src)?(ing)?(Data)?/' | xargs -I{} wc -m {} | awk '{i+=$1;} END {print i;}'\n",
    "#  2504986"
   ]
  },
  {
   "cell_type": "code",
   "execution_count": 93,
   "metadata": {},
   "outputs": [],
   "source": [
    "sha = Path(f\"{doc_root}/.git/refs/heads/main\").read_text()[:9]\n",
    "\n",
    "sdk_basename=f\"ij-sdk-docs-markdown_{sha}\"\n",
    "sdk_files = f\"{sdk_basename}.csv\""
   ]
  },
  {
   "cell_type": "code",
   "execution_count": 98,
   "metadata": {},
   "outputs": [
    {
     "name": "stdout",
     "output_type": "stream",
     "text": [
      "Docs:317, Tokens:567825\n"
     ]
    }
   ],
   "source": [
    "mdd = pd.read_csv(sdk_files, names=[\"file\"])\n",
    "mdd['text'] = mdd['file'].apply(lambda f: (doc_root / Path(f)).read_text())\n",
    "mdd['n_tokens'] = mdd['text'].apply(lambda x: len(tokenizer.encode(x)))\n",
    "\n",
    "print(f\"Docs:{len(mdd)}, Tokens:{mdd['n_tokens'].sum()}\")"
   ]
  },
  {
   "cell_type": "code",
   "execution_count": 231,
   "metadata": {},
   "outputs": [
    {
     "data": {
      "text/plain": [
       "count       317.000000\n",
       "mean       1791.246057\n",
       "std        6614.913153\n",
       "min          34.000000\n",
       "25%         462.000000\n",
       "50%         949.000000\n",
       "75%        1894.000000\n",
       "max      113224.000000\n",
       "Name: n_tokens, dtype: float64"
      ]
     },
     "execution_count": 231,
     "metadata": {},
     "output_type": "execute_result"
    }
   ],
   "source": [
    "mdd['n_tokens'].describe()"
   ]
  },
  {
   "cell_type": "code",
   "execution_count": 232,
   "metadata": {},
   "outputs": [
    {
     "data": {
      "text/plain": [
       "<Axes: >"
      ]
     },
     "execution_count": 232,
     "metadata": {},
     "output_type": "execute_result"
    },
    {
     "data": {
      "image/png": "[encoded data removed]",
      "text/plain": [
       "<Figure size 640x480 with 1 Axes>"
      ]
     },
     "metadata": {},
     "output_type": "display_data"
    }
   ],
   "source": [
    "mdd['n_tokens'].hist()"
   ]
  },
  {
   "cell_type": "code",
   "execution_count": 240,
   "metadata": {},
   "outputs": [
    {
     "name": "stdout",
     "output_type": "stream",
     "text": [
      "No chunks:317, Tokens:567825\n"
     ]
    }
   ],
   "source": [
    "print(f\"No chunks:{len(mdd)}, Tokens:{mdd['n_tokens'].sum()}\")"
   ]
  },
  {
   "cell_type": "code",
   "execution_count": 281,
   "metadata": {},
   "outputs": [],
   "source": [
    "del df_sdk"
   ]
  },
  {
   "cell_type": "code",
   "execution_count": 282,
   "metadata": {},
   "outputs": [],
   "source": [
    "df_sdk = mdd.copy()\n",
    "\n",
    "df_sdk['text'] = df_sdk.text.apply(lambda text: markdown_splitter.split_text(text))\n",
    "df_sdk = df_sdk.explode(\"text\")\n",
    "\n",
    "#df_sdk['n_tokens'] = df_sdk['text'].apply(lambda x: len(tokenizer.encode(x)))\n",
    "df_sdk['tokens'] = df_sdk['text'].apply(lambda x: tokenizer.encode(x))\n",
    "df_sdk['n_tokens'] = df_sdk['tokens'].apply(len)"
   ]
  },
  {
   "cell_type": "code",
   "execution_count": 284,
   "metadata": {},
   "outputs": [
    {
     "data": {
      "text/plain": [
       "<Axes: >"
      ]
     },
     "execution_count": 284,
     "metadata": {},
     "output_type": "execute_result"
    },
    {
     "data": {
      "image/png": "[encoded data removed]",
      "text/plain": [
       "<Figure size 640x480 with 1 Axes>"
      ]
     },
     "metadata": {},
     "output_type": "display_data"
    }
   ],
   "source": [
    "df_sdk.n_tokens.hist()"
   ]
  },
  {
   "cell_type": "code",
   "execution_count": 285,
   "metadata": {},
   "outputs": [
    {
     "name": "stdout",
     "output_type": "stream",
     "text": [
      "Markdown chunks:7729, Tokens:564055\n"
     ]
    }
   ],
   "source": [
    "print(f\"Markdown chunks:{len(df_sdk)}, Tokens:{df_sdk['n_tokens'].sum()}\")"
   ]
  },
  {
   "cell_type": "code",
   "execution_count": 286,
   "metadata": {},
   "outputs": [
    {
     "name": "stdout",
     "output_type": "stream",
     "text": [
      "Price: $0.23\n",
      "Min time: 0.08 min\n"
     ]
    }
   ],
   "source": [
    "print(f\"Price: ${(df_sdk['n_tokens'].sum() / 1000) * 0.0004:.2f}\")\n",
    "print(f\"Min time: {((df_sdk['n_tokens'].sum() / 2048) / 3500):.2f} min\")\n",
    "# ~7k documents total, batch by 2k each\n",
    "\n",
    "# limit\n",
    "#  3,500 RPM / 350,000 TPM"
   ]
  },
  {
   "cell_type": "code",
   "execution_count": 269,
   "metadata": {},
   "outputs": [],
   "source": [
    "from embeddings import get_embeddings"
   ]
  },
  {
   "cell_type": "code",
   "execution_count": 287,
   "metadata": {},
   "outputs": [],
   "source": [
    "df_sdk['embeddings'] = df_sdk.groupby(np.arange(len(df_sdk))//2048)['tokens'].transform(lambda x: get_embeddings(x.tolist(), engine=model))"
   ]
  },
  {
   "cell_type": "code",
   "execution_count": 288,
   "metadata": {},
   "outputs": [],
   "source": [
    "df_sdk.to_pickle(f\"{sdk_basename}_mdchunk_embeddings.pkl.gz\", compression={'method': 'gzip', 'compresslevel': 1, 'mtime': 1})"
   ]
  },
  {
   "cell_type": "code",
   "execution_count": null,
   "metadata": {},
   "outputs": [],
   "source": []
  },
  {
   "cell_type": "code",
   "execution_count": null,
   "metadata": {},
   "outputs": [],
   "source": []
  }
 ],
 "metadata": {
  "kernelspec": {
   "display_name": ".venv",
   "language": "python",
   "name": "python3"
  },
  "language_info": {
   "codemirror_mode": {
    "name": "ipython",
    "version": 3
   },
   "file_extension": ".py",
   "mimetype": "text/x-python",
   "name": "python",
   "nbconvert_exporter": "python",
   "pygments_lexer": "ipython3",
   "version": "3.9.15"
  },
  "orig_nbformat": 4
 },
 "nbformat": 4,
 "nbformat_minor": 2
}
