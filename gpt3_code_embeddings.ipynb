{
 "cells": [
  {
   "attachments": {},
   "cell_type": "markdown",
   "metadata": {
    "datalore": {
     "hide_input_from_viewers": false,
     "hide_output_from_viewers": false,
     "node_id": "7s7DzjBfMODjiSWcRxZbnn",
     "report_properties": {
      "rowId": "s6QZH1RkYkK0T2UDsoETP6"
     },
     "type": "MD"
    }
   },
   "source": [
    "# GPT-3 embeddings for code on IJ Community\n",
    "\n",
    "* [Query: vector similarity]()\n",
    "* [Query: aproximate NN index]()\n",
    "* [Retrieval]()\n",
    "* [OpenAI Embeddings]()\n",
    "* [Bonus: data exploraitons]()"
   ]
  },
  {
   "cell_type": "code",
   "execution_count": null,
   "metadata": {
    "datalore": {
     "hide_input_from_viewers": false,
     "hide_output_from_viewers": false,
     "node_id": "jyvjl0S4E7d3SHPQ7qdLs5",
     "report_properties": {
      "rowId": "qjqAOscyYbYs8lRusA3F8M"
     },
     "type": "CODE"
    }
   },
   "outputs": [],
   "source": [
    "!wget https://raw.githubusercontent.com/bzz/jet-search/master/requirements.txt\n",
    "%pip install -r requirements.txt"
   ]
  },
  {
   "cell_type": "code",
   "execution_count": 2,
   "metadata": {
    "datalore": {
     "hide_input_from_viewers": false,
     "hide_output_from_viewers": false,
     "node_id": "nGyAqW0kjsNnY63I3toxdA",
     "report_properties": {
      "rowId": "83YZV4RBT7xc5UJeKM7TRJ"
     },
     "type": "CODE"
    }
   },
   "outputs": [],
   "source": [
    "model=\"text-embedding-ada-002\"\n",
    "code_emb_file = \"ij-communit-platform-functions-embeddings.pkl\"\n",
    "code_emb_index_file = 'ij-communit-platform-functions-embeddings.ann'\n",
    "\n",
    "ON_COLAB = 'google.colab' in str(get_ipython())\n",
    "\n",
    "if ON_COLAB:\n",
    "  from google.colab import auth\n",
    "  auth.authenticate_user()"
   ]
  },
  {
   "cell_type": "code",
   "execution_count": null,
   "metadata": {
    "datalore": {
     "hide_input_from_viewers": false,
     "hide_output_from_viewers": false,
     "node_id": "FFOrez0ARmWthPXcEqZ0rU",
     "report_properties": {
      "rowId": "0LnOx4xZt00vtdfAj2CFQJ"
     },
     "type": "CODE"
    }
   },
   "outputs": [],
   "source": [
    "if ON_COLAB:\n",
    "    !gsutil cp \"gs://cc-eval/cs/$code_emb_file\" .\n",
    "    !gsutil cp \"gs://cc-eval/cs/$code_emb_index_file\" .\n",
    "else: # on Datalore\n",
    "    !wget 'https://storage.googleapis.com/semantic-cs/ij-communit-platform-functions-embeddings.ann'\n",
    "    !wget 'https://storage.googleapis.com/semantic-cs/ij-communit-platform-functions-embeddings.pkl'"
   ]
  },
  {
   "attachments": {},
   "cell_type": "markdown",
   "metadata": {
    "datalore": {
     "hide_input_from_viewers": false,
     "hide_output_from_viewers": false,
     "node_id": "jrEvKwaZKmPn4DqoJRDCt7",
     "report_properties": {
      "rowId": "q9tbMQ894IUhmBSouuoGz9"
     },
     "type": "MD"
    }
   },
   "source": [
    "## Query"
   ]
  },
  {
   "cell_type": "code",
   "execution_count": 3,
   "metadata": {
    "datalore": {
     "hide_input_from_viewers": false,
     "hide_output_from_viewers": false,
     "node_id": "S4lniPY3LlYyW3IJM3EEWE",
     "report_properties": {
      "rowId": "D79FoTckuEUHqXeOr4GOV7"
     },
     "type": "CODE"
    }
   },
   "outputs": [],
   "source": [
    "import pandas as pd\n",
    "\n",
    "df_csv = pd.read_pickle(code_emb_file, compression='gzip')"
   ]
  },
  {
   "cell_type": "code",
   "execution_count": 15,
   "metadata": {},
   "outputs": [
    {
     "name": "stdout",
     "output_type": "stream",
     "text": [
      "Total functions: 175241, uniq:62279\n",
      "\n",
      "function_name\n",
      "actionPerformed          1986\n",
      "toString                 1700\n",
      "update                   1659\n",
      "getActionUpdateThread    1413\n",
      "dispose                  1029\n",
      "Name: count, dtype: int64\n"
     ]
    }
   ],
   "source": [
    "print(f\"Total functions: {df_csv.function_name.count()}, uniq:{df_csv.function_name.nunique()}\")\n",
    "print()\n",
    "print(df_csv.function_name.value_counts().head())"
   ]
  },
  {
   "attachments": {},
   "cell_type": "markdown",
   "metadata": {
    "datalore": {
     "hide_input_from_viewers": false,
     "hide_output_from_viewers": false,
     "node_id": "KteM10veOKHeeVIejKwMvz",
     "report_properties": {
      "rowId": "Vaewoy0c8IIhCvPuYN8KAe"
     },
     "type": "MD"
    }
   },
   "source": [
    "### Query: vector similarity (precise)\n"
   ]
  },
  {
   "cell_type": "code",
   "execution_count": 2,
   "metadata": {
    "datalore": {
     "hide_input_from_viewers": false,
     "hide_output_from_viewers": false,
     "node_id": "rA9c7wLK4BxAnSnV61vhaF",
     "report_properties": {
      "rowId": "onGFZbC4XYOkVO9liqFnmm"
     },
     "type": "CODE"
    }
   },
   "outputs": [],
   "source": [
    "from openai.embeddings_utils import cosine_similarity\n",
    "from openai.embeddings_utils import get_embedding\n",
    "\n",
    "def search_functions(df, code_query, n=3, pprint=True, n_lines=7):\n",
    "    embedding = get_embedding(code_query, engine='text-embedding-ada-002')\n",
    "    df['similarities'] = df.code_embedding.apply(lambda x: cosine_similarity(x, embedding))\n",
    "\n",
    "    res = df.sort_values('similarities', ascending=False).head(n)\n",
    "    if pprint:\n",
    "        for r in res.iterrows():\n",
    "            result = r[1]\n",
    "            print(f\"{result.filepath}:{result.function_name} score={str(round(similarity, 3))}\")\n",
    "            print(\"\\n\".join(r[1].code.split(\"\\n\")[:n_lines]))\n",
    "            print()\n",
    "            print('-'*70)\n",
    "    return res"
   ]
  },
  {
   "cell_type": "code",
   "execution_count": 7,
   "metadata": {
    "datalore": {
     "hide_input_from_viewers": false,
     "hide_output_from_viewers": false,
     "node_id": "TlKVBxXSaAeL5fFG1I6b1p",
     "report_properties": {
      "rowId": "iyQAURPTX8epa6b4RBAGld"
     },
     "type": "CODE"
    }
   },
   "outputs": [
    {
     "name": "stdout",
     "output_type": "stream",
     "text": [
      "usageView/src/com/intellij/usages/Usage.java:highlightInEditor  score=0.821\n",
      "void highlightInEditor();\n",
      "----------------------------------------------------------------------\n",
      "testFramework/src/com/intellij/testFramework/fixtures/CodeInsightTestFixture.java:checkHighlighting  score=0.81\n",
      "long checkHighlighting();\n",
      "----------------------------------------------------------------------\n",
      "platform-api/src/com/intellij/openapi/options/colors/ColorSettingsPage.java:getHighlighter  score=0.808\n",
      "@NotNull SyntaxHighlighter getHighlighter();\n",
      "----------------------------------------------------------------------\n",
      "analysis-api/src/com/intellij/lang/documentation/ClientDocumentationSettings.java:isHighlightingOfCodeBlocksEnabled  score=0.802\n",
      "boolean isHighlightingOfCodeBlocksEnabled();\n",
      "----------------------------------------------------------------------\n",
      "editor-ui-ex/src/com/intellij/openapi/editor/ex/util/LayeredHighlighterIterator.java:getActiveSyntaxHighlighter  score=0.8\n",
      "@NotNull\n",
      "  SyntaxHighlighter getActiveSyntaxHighlighter();\n",
      "----------------------------------------------------------------------\n"
     ]
    }
   ],
   "source": [
    "import os\n",
    "import openai\n",
    "openai.api_key = os.getenv(\"OPENAI_API_KEY\")\n",
    "\n",
    "res = search_functions(df_csv, 'Places where API for syntax highliting is used', n=5)"
   ]
  },
  {
   "cell_type": "code",
   "execution_count": null,
   "metadata": {
    "datalore": {
     "hide_input_from_viewers": false,
     "hide_output_from_viewers": false,
     "node_id": "NCkzqO344lKaTjKN9zwl6O",
     "report_properties": {
      "rowId": "DsmKK29SVUp3gGRZNr6yYb"
     },
     "type": "CODE"
    }
   },
   "outputs": [],
   "source": [
    "res = search_functions(df_csv, 'definition of API for syntax highliting', n=5)"
   ]
  },
  {
   "cell_type": "code",
   "execution_count": null,
   "metadata": {
    "datalore": {
     "hide_input_from_viewers": false,
     "hide_output_from_viewers": false,
     "node_id": "Jk1UrKePv0hbbiqUKyYyR9",
     "report_properties": {
      "rowId": "y3nix0cCQl4eX7GNOkeINW"
     },
     "type": "CODE"
    }
   },
   "outputs": [],
   "source": []
  },
  {
   "attachments": {},
   "cell_type": "markdown",
   "metadata": {
    "datalore": {
     "hide_input_from_viewers": false,
     "hide_output_from_viewers": false,
     "node_id": "5pmgac7KGa4CxKPK3ELoen",
     "report_properties": {
      "rowId": "hTbFSBHyy4ozjAIbIr1REF"
     },
     "type": "MD"
    }
   },
   "source": [
    "### Query: nearest neighbors index (approximate)\n",
    "\n",
    "Instead of comparing query embedding to every vector to find the closest N, let's use an approximate index (built below in [OpenAI Embeddings]() section)"
   ]
  },
  {
   "cell_type": "code",
   "execution_count": 8,
   "metadata": {
    "datalore": {
     "hide_input_from_viewers": false,
     "hide_output_from_viewers": false,
     "node_id": "eHdMRRKybCc4zWub8FdFDX",
     "report_properties": {
      "rowId": "ooiZheZh58Q0If8ZAVNgTo"
     },
     "type": "CODE"
    }
   },
   "outputs": [
    {
     "data": {
      "text/plain": [
       "True"
      ]
     },
     "metadata": {},
     "output_type": "display_data"
    }
   ],
   "source": [
    "from annoy import AnnoyIndex\n",
    "\n",
    "emb_dimensions = 1536 # OpenAI embeddings \n",
    "emb_index_file = 'ij-communit-platform-functions-embeddings.ann'\n",
    "index = AnnoyIndex(emb_dimensions, 'dot')\n",
    "index.load(emb_index_file)"
   ]
  },
  {
   "cell_type": "code",
   "execution_count": 9,
   "metadata": {
    "datalore": {
     "hide_input_from_viewers": false,
     "hide_output_from_viewers": false,
     "node_id": "jTRWaLSxlVKBbeXfGvKEgA",
     "report_properties": {
      "rowId": "LA0M0bYHBAV1Sa8WaSc9gY"
     },
     "type": "CODE"
    }
   },
   "outputs": [
    {
     "name": "stdout",
     "output_type": "stream",
     "text": [
      "Total number of verctors: 175241\n"
     ]
    }
   ],
   "source": [
    "print(f\"Total number of verctors: {len(df_csv)}\")"
   ]
  },
  {
   "cell_type": "code",
   "execution_count": 10,
   "metadata": {
    "datalore": {
     "hide_input_from_viewers": false,
     "hide_output_from_viewers": false,
     "node_id": "ieKYkjKkt9lNUda9XvzcuY",
     "report_properties": {
      "rowId": "6YjIIcFkmDsTbGL2t0rgrN"
     },
     "type": "CODE"
    }
   },
   "outputs": [],
   "source": [
    "from openai.embeddings_utils import get_embedding\n",
    "\n",
    "def search_functions_in_index(df, index, code_query, n=3, pprint=True, n_lines=7):\n",
    "    embedding = get_embedding(code_query, engine='text-embedding-ada-002')\n",
    "    # search_k is important! it affects runtime performance and accuracy\n",
    "    # see https://github.com/spotify/annoy#tradeoffs\n",
    "    res = index.get_nns_by_vector(embedding, n, include_distances=True, search_k=10000)\n",
    "    \n",
    "    # idea: try diversifying the sample with\n",
    "    # https://github.com/MaartenGr/KeyBERT/blob/master/keybert/_mmr.py#L7\n",
    "    if pprint:\n",
    "        for (i, similarity) in zip(res[0], res[1]):\n",
    "            result = df.iloc[i]\n",
    "            print(f\"{result.filepath}:{result.function_name} score={str(round(similarity, 3))}\")\n",
    "            print(\"\\n\".join(result.code.split(\"\\n\")[:n_lines]))\n",
    "            print()\n",
    "            print('-'*70)\n",
    "    df_out = df.iloc[res[0]].reset_index()\n",
    "    df_out['similarities'] = df_out.apply(lambda x: res[1][x.name] , axis=1)\n",
    "    return df_out"
   ]
  },
  {
   "cell_type": "code",
   "execution_count": null,
   "metadata": {
    "datalore": {
     "hide_input_from_viewers": false,
     "hide_output_from_viewers": false,
     "node_id": "hg63mpYS5QXR3GsEcNluOR",
     "report_properties": {
      "rowId": "Zd1T4420zKzw3f5L5Ub189"
     },
     "type": "CODE"
    }
   },
   "outputs": [
    {
     "name": "stdout",
     "output_type": "stream",
     "text": [
      "usageView/src/com/intellij/usages/Usage.java:highlightInEditor score=0.813\n",
      "void highlightInEditor();\n",
      "\n",
      "----------------------------------------------------------------------\n",
      "analysis-api/src/com/intellij/lang/documentation/ClientDocumentationSettings.java:isHighlightingOfCodeBlocksEnabled score=0.807\n",
      "boolean isHighlightingOfCodeBlocksEnabled();\n",
      "\n",
      "----------------------------------------------------------------------\n",
      "testFramework/src/com/intellij/testFramework/fixtures/CodeInsightTestFixture.java:checkHighlighting score=0.807\n",
      "long checkHighlighting();\n",
      "\n",
      "----------------------------------------------------------------------\n",
      "ide-core/src/com/intellij/ide/dnd/DnDEvent.java:hideHighlighter score=0.801\n",
      "void hideHighlighter();\n",
      "\n",
      "----------------------------------------------------------------------\n",
      "analysis-api/src/com/intellij/lang/documentation/ClientDocumentationSettings.java:isHighlightingOfQuickDocSignaturesEnabled score=0.794\n",
      "boolean isHighlightingOfQuickDocSignaturesEnabled();\n",
      "\n",
      "----------------------------------------------------------------------\n"
     ]
    }
   ],
   "source": [
    "res = search_functions_in_index(df_csv, index, 'syntax highliting API declaration', n=5)"
   ]
  },
  {
   "cell_type": "code",
   "execution_count": 11,
   "metadata": {
    "datalore": {
     "hide_input_from_viewers": false,
     "hide_output_from_viewers": false,
     "node_id": "P4x7zi5M3nQpOE182Qn7wY",
     "report_properties": {
      "rowId": "V55DlNP0dE6KfZhlnrkiyf"
     },
     "type": "CODE"
    }
   },
   "outputs": [
    {
     "data": {
      "text/html": [
       "<div>\n",
       "<style scoped>\n",
       "    .dataframe tbody tr th:only-of-type {\n",
       "        vertical-align: middle;\n",
       "    }\n",
       "\n",
       "    .dataframe tbody tr th {\n",
       "        vertical-align: top;\n",
       "    }\n",
       "\n",
       "    .dataframe thead th {\n",
       "        text-align: right;\n",
       "    }\n",
       "</style>\n",
       "<table border=\"1\" class=\"dataframe\">\n",
       "  <thead>\n",
       "    <tr style=\"text-align: right;\">\n",
       "      <th></th>\n",
       "      <th>code</th>\n",
       "      <th>function_name</th>\n",
       "      <th>filepath</th>\n",
       "      <th>n_tokens</th>\n",
       "      <th>tokens</th>\n",
       "      <th>code_embedding</th>\n",
       "      <th>similarities</th>\n",
       "    </tr>\n",
       "  </thead>\n",
       "  <tbody>\n",
       "    <tr>\n",
       "      <th>1204</th>\n",
       "      <td>void highlightInEditor();</td>\n",
       "      <td>highlightInEditor</td>\n",
       "      <td>usageView/src/com/intellij/usages/Usage.java</td>\n",
       "      <td>5</td>\n",
       "      <td>[1019, 11415, 644, 9597, 2178]</td>\n",
       "      <td>[-0.01926850900053978, -0.001198320067487657, ...</td>\n",
       "      <td>0.821482</td>\n",
       "    </tr>\n",
       "    <tr>\n",
       "      <th>77438</th>\n",
       "      <td>long checkHighlighting();</td>\n",
       "      <td>checkHighlighting</td>\n",
       "      <td>testFramework/src/com/intellij/testFramework/f...</td>\n",
       "      <td>5</td>\n",
       "      <td>[4930, 1817, 30930, 287, 2178]</td>\n",
       "      <td>[-0.034275881946086884, 0.006931202951818705, ...</td>\n",
       "      <td>0.809790</td>\n",
       "    </tr>\n",
       "    <tr>\n",
       "      <th>120902</th>\n",
       "      <td>@NotNull SyntaxHighlighter getHighlighter();</td>\n",
       "      <td>getHighlighter</td>\n",
       "      <td>platform-api/src/com/intellij/openapi/options/...</td>\n",
       "      <td>9</td>\n",
       "      <td>[31, 11250, 33217, 30930, 261, 636, 30930, 261...</td>\n",
       "      <td>[-0.01194718573242426, 0.009997588582336903, 0...</td>\n",
       "      <td>0.808344</td>\n",
       "    </tr>\n",
       "    <tr>\n",
       "      <th>158545</th>\n",
       "      <td>boolean isHighlightingOfCodeBlocksEnabled();</td>\n",
       "      <td>isHighlightingOfCodeBlocksEnabled</td>\n",
       "      <td>analysis-api/src/com/intellij/lang/documentati...</td>\n",
       "      <td>9</td>\n",
       "      <td>[6245, 374, 30930, 287, 2173, 2123, 30904, 557...</td>\n",
       "      <td>[-0.022517485544085503, 0.014456006698310375, ...</td>\n",
       "      <td>0.802317</td>\n",
       "    </tr>\n",
       "    <tr>\n",
       "      <th>118048</th>\n",
       "      <td>@NotNull\\n  SyntaxHighlighter getActiveSyntaxH...</td>\n",
       "      <td>getActiveSyntaxHighlighter</td>\n",
       "      <td>editor-ui-ex/src/com/intellij/openapi/editor/e...</td>\n",
       "      <td>13</td>\n",
       "      <td>[31, 11250, 198, 220, 33217, 30930, 261, 636, ...</td>\n",
       "      <td>[-0.010309800505638123, -0.0019021009793505073...</td>\n",
       "      <td>0.800469</td>\n",
       "    </tr>\n",
       "  </tbody>\n",
       "</table>\n",
       "</div>"
      ]
     },
     "metadata": {},
     "output_type": "display_data"
    }
   ],
   "source": [
    "res"
   ]
  },
  {
   "cell_type": "code",
   "execution_count": null,
   "metadata": {
    "datalore": {
     "hide_input_from_viewers": false,
     "hide_output_from_viewers": false,
     "node_id": "qGotbpcBQY0f2CTlMybUVN",
     "report_properties": {
      "rowId": "KqL43xuZgdSkJt9gwslzh0"
     },
     "type": "CODE"
    }
   },
   "outputs": [],
   "source": []
  },
  {
   "attachments": {},
   "cell_type": "markdown",
   "metadata": {
    "datalore": {
     "hide_input_from_viewers": false,
     "hide_output_from_viewers": false,
     "node_id": "IidnI2ZhNjtALSmkfQ7w2F",
     "report_properties": {
      "rowId": "8PoWdCDRys6WxcwbAI6yPD"
     },
     "type": "MD"
    }
   },
   "source": [
    "## Retrieval"
   ]
  },
  {
   "attachments": {},
   "cell_type": "markdown",
   "metadata": {
    "datalore": {
     "hide_input_from_viewers": false,
     "hide_output_from_viewers": false,
     "node_id": "qyXXgnY20OPWNp9lJcgGIy",
     "report_properties": {
      "rowId": "k5RjFoe5lT95CIU8L2jN4n"
     },
     "type": "MD"
    }
   },
   "source": [
    "### Java & Kotlin Parsers"
   ]
  },
  {
   "cell_type": "code",
   "execution_count": null,
   "metadata": {
    "datalore": {
     "hide_input_from_viewers": false,
     "hide_output_from_viewers": false,
     "node_id": "5Ci03vZ5Xl60ePy2Ptqkmy",
     "report_properties": {
      "rowId": "4Q6Lka94YMvBAGctCeijCf"
     },
     "type": "CODE"
    }
   },
   "outputs": [],
   "source": [
    "%pip install -r requirement.txt\n",
    "## tree-sitter, openAI\n",
    "\n",
    "# mkidr -p parsers\n",
    "!git clone 'https://github.com/tree-sitter/tree-sitter-java' parsers/tree-sitter-java\n",
    "!git clone 'https://github.com/fwcd/tree-sitter-kotlin' parsers/tree-sitter-kotlin"
   ]
  },
  {
   "cell_type": "code",
   "execution_count": null,
   "metadata": {
    "datalore": {
     "hide_input_from_viewers": false,
     "hide_output_from_viewers": false,
     "node_id": "igaHLVGliz9TaxPgCD6hDt",
     "report_properties": {
      "rowId": "k5zVIB4CK2OCsYT8CRaIOo"
     },
     "type": "CODE"
    }
   },
   "outputs": [
    {
     "data": {
      "text/plain": [
       "False"
      ]
     },
     "metadata": {},
     "output_type": "display_data"
    }
   ],
   "source": [
    "from tree_sitter import Language, Parser\n",
    "\n",
    "Language.build_library( # Build and store native libraries for parsers\n",
    "  'build/my-languages.so',\n",
    "  [\n",
    "    'parsers/tree-sitter-java',\n",
    "    'parsers/tree-sitter-kotlin'\n",
    "  ]\n",
    ")"
   ]
  },
  {
   "cell_type": "code",
   "execution_count": null,
   "metadata": {
    "datalore": {
     "hide_input_from_viewers": false,
     "hide_output_from_viewers": false,
     "node_id": "oaHg7ZtuPmpu2ikLf2vXQt",
     "report_properties": {
      "rowId": "30gUSzSoq7m2fa0whD3qZJ"
     },
     "type": "CODE"
    }
   },
   "outputs": [],
   "source": [
    "# both queries include decaration \\w empty body (e.g from interfaces)\n",
    "\n",
    "JA_LANGUAGE = Language('build/my-languages.so', 'java')\n",
    "jParser = Parser()\n",
    "jParser.set_language(JA_LANGUAGE)\n",
    "jQuery = JA_LANGUAGE.query(\"\"\"\n",
    "(method_declaration\n",
    "  name: (identifier) @method.name) @method.decl\n",
    "\"\"\")\n",
    "\n",
    "KT_LANGUAGE = Language('build/my-languages.so', 'kotlin')\n",
    "kParser = Parser()\n",
    "kParser.set_language(KT_LANGUAGE)\n",
    "kQuery = KT_LANGUAGE.query(\"\"\"\n",
    "(function_declaration\n",
    "  (simple_identifier)+ @func.name) @func.decl\n",
    "\"\"\")"
   ]
  },
  {
   "cell_type": "code",
   "execution_count": null,
   "metadata": {
    "datalore": {
     "hide_input_from_viewers": false,
     "hide_output_from_viewers": false,
     "node_id": "Ufoagnu0yREWh2znqEAkNZ",
     "report_properties": {
      "rowId": "fZf33bNSHfEMFAjw6DEodZ"
     },
     "type": "CODE"
    }
   },
   "outputs": [
    {
     "data": {
      "text/plain": [
       "[('method_declaration', b'boolean isValid();'),\n",
       " ('identifier', b'isValid'),\n",
       " ('method_declaration',\n",
       "  b'public static void main(String[] args){\\n\\t\\tSystem.out.println(\"Hello, World!\");\\n\\t}'),\n",
       " ('identifier', b'main'),\n",
       " ('method_declaration',\n",
       "  b'static @NotNull ModalTaskOwner project(@NotNull Project project) {\\n\\t\\treturn ApplicationManager.getApplication().getService(TaskSupport.class).modalTaskOwner(project);\\n\\t}'),\n",
       " ('identifier', b'project')]"
      ]
     },
     "metadata": {},
     "output_type": "display_data"
    }
   ],
   "source": [
    "jTree = jParser.parse(bytes(\"\"\"\n",
    "public class Test {\n",
    "\t/**\n",
    "\t * JavaDoc\n",
    "\t */\n",
    "\tboolean isValid();\n",
    "\tpublic static void main(String[] args){\n",
    "\t\tSystem.out.println(\"Hello, World!\");\n",
    "\t}\n",
    "\tfianl String test;\n",
    "\tstatic @NotNull ModalTaskOwner project(@NotNull Project project) {\n",
    "\t\treturn ApplicationManager.getApplication().getService(TaskSupport.class).modalTaskOwner(project);\n",
    "\t}\n",
    "}\n",
    "\"\"\", \"utf8\"))\n",
    "\n",
    "jcaptures = jQuery.captures(jTree.root_node)\n",
    "assert len(jcaptures) == 6\n",
    "[(c[0].type, c[0].text) for c in jcaptures]"
   ]
  },
  {
   "cell_type": "code",
   "execution_count": null,
   "metadata": {
    "datalore": {
     "hide_input_from_viewers": false,
     "hide_output_from_viewers": false,
     "node_id": "HhWx9mt4Jy5Ejzg9Cm1Cx4",
     "report_properties": {
      "rowId": "8mHhfdUAa9op41oIJcc0Mn"
     },
     "type": "CODE"
    }
   },
   "outputs": [
    {
     "data": {
      "text/plain": [
       "[('function_declaration',\n",
       "  b'fun main() {                        // 2\\n    println(\"Hello, World!\")        // 3\\n}'),\n",
       " ('simple_identifier', b'main'),\n",
       " ('simple_identifier', b'main'),\n",
       " ('function_declaration', b'fun onChanged()'),\n",
       " ('simple_identifier', b'onChanged'),\n",
       " ('simple_identifier', b'onChanged'),\n",
       " ('function_declaration', b'fun multiply(x: Int, y: Int = N) = x * y'),\n",
       " ('simple_identifier', b'multiply'),\n",
       " ('simple_identifier', b'multiply'),\n",
       " ('function_declaration',\n",
       "  b'override fun getMessageBus(): MessageBus {\\n    error(\"Not supported\")\\n}'),\n",
       " ('simple_identifier', b'getMessageBus'),\n",
       " ('simple_identifier', b'getMessageBus')]"
      ]
     },
     "metadata": {},
     "output_type": "display_data"
    }
   ],
   "source": [
    "kTree = kParser.parse(bytes(\"\"\"\n",
    "package org.kotlinlang.play         // 1\n",
    "\n",
    "fun main() {                        // 2\n",
    "    println(\"Hello, World!\")        // 3\n",
    "}                                   // 4\n",
    "\n",
    "/* comment */\n",
    "fun onChanged()\n",
    "\n",
    "fun multiply(x: Int, y: Int = N) = x * y// 5\n",
    "\n",
    "override fun getMessageBus(): MessageBus {\n",
    "    error(\"Not supported\")\n",
    "}\n",
    "\n",
    "class Customer                      // 6\n",
    "\"\"\", \"utf8\"))\n",
    "\n",
    "kcaptures = kQuery.captures(kTree.root_node)\n",
    "# assert len(kcaptures) == 6\n",
    "[(c[0].type, c[0].text) for c in kcaptures]"
   ]
  },
  {
   "attachments": {},
   "cell_type": "markdown",
   "metadata": {
    "datalore": {
     "hide_input_from_viewers": false,
     "hide_output_from_viewers": false,
     "node_id": "43UTMC6VEHkVhxujsmSqdV",
     "report_properties": {
      "rowId": "F3jjuMPbtpLoeatZwUrMuK"
     },
     "type": "MD"
    }
   },
   "source": [
    "### Parse & extract funtions"
   ]
  },
  {
   "cell_type": "code",
   "execution_count": null,
   "metadata": {
    "datalore": {
     "hide_input_from_viewers": true,
     "hide_output_from_viewers": true,
     "node_id": "a5CT2uJES0BIVgBNTgysh8",
     "type": "CODE"
    }
   },
   "outputs": [],
   "source": [
    "!git clone --depth=1 'https://github.com/JetBrains/intellij-community/'"
   ]
  },
  {
   "cell_type": "code",
   "execution_count": null,
   "metadata": {
    "datalore": {
     "hide_input_from_viewers": false,
     "hide_output_from_viewers": false,
     "node_id": "mWYEeOCUmu6ANfEbXnFww6",
     "report_properties": {
      "rowId": "q81YUMyi1lubOOFdDGZL6w"
     },
     "type": "CODE"
    }
   },
   "outputs": [],
   "source": [
    "import codecs\n",
    "import os\n",
    "import re\n",
    "from pathlib import Path\n",
    "all_funcs = []\n",
    "parsers = { \".java\": jParser, \".kt\": kParser}\n",
    "queries =  { \".java\": jQuery, \".kt\": kQuery}\n",
    "\n",
    "code_root = \"intellij-community/platform\" # change to your local path\n",
    "code_files = \"ij-communit-platform-files.csv\"\n",
    "code_functions = \"ij-communit-platform-functions.csv\"\n",
    "decl_re = re.compile('.*\\.decl')\n",
    "name_re = re.compile('.*\\.name')\n",
    "\n",
    "def get_functions(rel_path: str):\n",
    "    file = os.path.join(code_root, rel_path)\n",
    "    # print(f\"reading '{file}'\")\n",
    "    with open(file, 'rb') as f:\n",
    "        ext = rel_path[rel_path.rindex(\".\"):]\n",
    "        p = parsers[ext]\n",
    "        tree = p.parse(f.raw.readall())\n",
    "\n",
    "        q = queries[ext]\n",
    "        cs = iter(q.captures(tree.root_node))\n",
    "\n",
    "        for c in cs:\n",
    "            fn_code = \"\"\n",
    "            try:\n",
    "                if decl_re.match(c[1]):\n",
    "                    fn_code = codecs.utf_8_decode(c[0].text)[0]\n",
    "                    next_c = next(cs)\n",
    "                    fn_name = codecs.utf_8_decode(next_c[0].text)[0]\n",
    "                    if ext == \".kt\": # Kotlin parser matches the name twice ¯\\_(ツ)_/¯\n",
    "                        assert next_c[0].text == next(cs)[0].text, f\"{rel_path}: {fn_code}\"\n",
    "                elif name_re.match(c[1]):\n",
    "                    fn_name = codecs.utf_8_decode(c[0].text)[0]\n",
    "                else:\n",
    "                    assert False, \"neither declaration nor name\"\n",
    "                yield {\"code\": fn_code, \"function_name\": fn_name, \"filepath\": rel_path}\n",
    "            except StopIteration as e:\n",
    "                print(f\"{rel_path}: no name after {fn_code}\")\n",
    "\n",
    "with open(code_files) as f:\n",
    "    # read, parse and query every file (find all the functions)\n",
    "    for code_file in f.readlines():\n",
    "        funcs = list(get_functions(code_file.strip()))\n",
    "        for func in funcs:\n",
    "            all_funcs.append(func)"
   ]
  },
  {
   "cell_type": "code",
   "execution_count": null,
   "metadata": {
    "datalore": {
     "hide_input_from_viewers": true,
     "hide_output_from_viewers": true,
     "node_id": "68uQ79xxznfi5or1kyxnd1",
     "type": "CODE"
    }
   },
   "outputs": [],
   "source": [
    "import pandas as pd\n",
    "\n",
    "code_functions = \"ij-communit-platform-functions.csv.gz\""
   ]
  },
  {
   "cell_type": "code",
   "execution_count": null,
   "metadata": {
    "datalore": {
     "hide_input_from_viewers": true,
     "hide_output_from_viewers": true,
     "node_id": "mkF7KuwdELEYC2lTuyCCuq",
     "type": "CODE"
    }
   },
   "outputs": [],
   "source": [
    "# either cache all parsed functions on disk\n",
    "df = pd.DataFrame(all_funcs)\n",
    "df.to_csv(code_functions, index=False, compression={'method': 'gzip', 'compresslevel': 1, 'mtime': 1})"
   ]
  },
  {
   "cell_type": "code",
   "execution_count": null,
   "metadata": {
    "datalore": {
     "hide_input_from_viewers": false,
     "hide_output_from_viewers": false,
     "node_id": "KAAKzVjYg6r9ykimHCV0LU",
     "report_properties": {
      "rowId": "kRLuAfYw5hYAdShQSuJ3wz"
     },
     "type": "CODE"
    }
   },
   "outputs": [
    {
     "data": {
      "text/html": [
       "<div>\n",
       "<style scoped>\n",
       "    .dataframe tbody tr th:only-of-type {\n",
       "        vertical-align: middle;\n",
       "    }\n",
       "\n",
       "    .dataframe tbody tr th {\n",
       "        vertical-align: top;\n",
       "    }\n",
       "\n",
       "    .dataframe thead th {\n",
       "        text-align: right;\n",
       "    }\n",
       "</style>\n",
       "<table border=\"1\" class=\"dataframe\">\n",
       "  <thead>\n",
       "    <tr style=\"text-align: right;\">\n",
       "      <th></th>\n",
       "      <th>code</th>\n",
       "      <th>function_name</th>\n",
       "      <th>filepath</th>\n",
       "    </tr>\n",
       "  </thead>\n",
       "  <tbody>\n",
       "    <tr>\n",
       "      <th>0</th>\n",
       "      <td>@Override\\n  protected void update(final AnAct...</td>\n",
       "      <td>update</td>\n",
       "      <td>lang-api/src/com/intellij/execution/ui/actions...</td>\n",
       "    </tr>\n",
       "    <tr>\n",
       "      <th>1</th>\n",
       "      <td>private boolean isToFocus(final ViewContext co...</td>\n",
       "      <td>isToFocus</td>\n",
       "      <td>lang-api/src/com/intellij/execution/ui/actions...</td>\n",
       "    </tr>\n",
       "    <tr>\n",
       "      <th>2</th>\n",
       "      <td>@Override\\n  protected void actionPerformed(fi...</td>\n",
       "      <td>actionPerformed</td>\n",
       "      <td>lang-api/src/com/intellij/execution/ui/actions...</td>\n",
       "    </tr>\n",
       "    <tr>\n",
       "      <th>3</th>\n",
       "      <td>@Override\\n  public @NotNull ActionUpdateThrea...</td>\n",
       "      <td>getActionUpdateThread</td>\n",
       "      <td>lang-api/src/com/intellij/execution/ui/actions...</td>\n",
       "    </tr>\n",
       "    <tr>\n",
       "      <th>4</th>\n",
       "      <td>@Override\\n  public final void update(final @N...</td>\n",
       "      <td>update</td>\n",
       "      <td>lang-api/src/com/intellij/execution/ui/actions...</td>\n",
       "    </tr>\n",
       "  </tbody>\n",
       "</table>\n",
       "</div>"
      ]
     },
     "metadata": {},
     "output_type": "display_data"
    },
    {
     "data": {
      "text/plain": [
       "                                                code          function_name   \n",
       "0  @Override\\n  protected void update(final AnAct...                 update  \\\n",
       "1  private boolean isToFocus(final ViewContext co...              isToFocus   \n",
       "2  @Override\\n  protected void actionPerformed(fi...        actionPerformed   \n",
       "3  @Override\\n  public @NotNull ActionUpdateThrea...  getActionUpdateThread   \n",
       "4  @Override\\n  public final void update(final @N...                 update   \n",
       "\n",
       "                                            filepath  \n",
       "0  lang-api/src/com/intellij/execution/ui/actions...  \n",
       "1  lang-api/src/com/intellij/execution/ui/actions...  \n",
       "2  lang-api/src/com/intellij/execution/ui/actions...  \n",
       "3  lang-api/src/com/intellij/execution/ui/actions...  \n",
       "4  lang-api/src/com/intellij/execution/ui/actions...  "
      ]
     },
     "metadata": {},
     "output_type": "display_data"
    }
   ],
   "source": [
    "# or load them from existing cach\n",
    "!wget https://storage.googleapis.com/semantic-cs/ij-communit-platform-functions.csv.gz\n",
    "\n",
    "df = pd.read_csv(code_functions, compression='gzip')\n",
    "df.head()"
   ]
  },
  {
   "attachments": {},
   "cell_type": "markdown",
   "metadata": {
    "datalore": {
     "hide_input_from_viewers": false,
     "hide_output_from_viewers": false,
     "node_id": "kj07YY0HxQFokspn61nsaP",
     "report_properties": {
      "rowId": "bNMxdErqTZ6Ab4AoannmcU"
     },
     "type": "MD"
    }
   },
   "source": [
    "## OpenAI Embeddings"
   ]
  },
  {
   "cell_type": "code",
   "execution_count": null,
   "metadata": {
    "datalore": {
     "hide_input_from_viewers": false,
     "hide_output_from_viewers": false,
     "node_id": "Ac3ETDrepTxZNoFgz9EPej",
     "report_properties": {
      "rowId": "dXU19Jex07z7nSFSRcZuLn"
     },
     "type": "CODE"
    }
   },
   "outputs": [],
   "source": [
    "model=\"text-embedding-ada-002\"\n",
    "code_emb_file = \"ij-communit-platform-functions-embeddings.pkl\"\n",
    "code_emb_index_file = 'ij-communit-platform-functions-embeddings.ann'"
   ]
  },
  {
   "attachments": {},
   "cell_type": "markdown",
   "metadata": {
    "datalore": {
     "hide_input_from_viewers": false,
     "hide_output_from_viewers": false,
     "node_id": "F6XcJ97TYQPItUzkjm5UBn",
     "report_properties": {
      "rowId": "NVeKfjqDXjGtl0QNm9j2hp"
     },
     "type": "MD"
    }
   },
   "source": [
    "### Tokenize & encode"
   ]
  },
  {
   "cell_type": "code",
   "execution_count": null,
   "metadata": {
    "datalore": {
     "hide_input_from_viewers": false,
     "hide_output_from_viewers": false,
     "node_id": "1lMgnglk2jcoKBRuwydC1o",
     "report_properties": {
      "rowId": "yjomww0NMYecnvSZe5TTNL"
     },
     "type": "CODE"
    }
   },
   "outputs": [],
   "source": [
    "# count the tokens\n",
    "\n",
    "import tiktoken\n",
    "tokenizer = encoding = tiktoken.encoding_for_model(model) #tiktoken.get_encoding(\"cl100k_base\")\n",
    "\n",
    "df['n_tokens'] = df['code'].apply(lambda x: len(tokenizer.encode(x)))"
   ]
  },
  {
   "cell_type": "code",
   "execution_count": null,
   "metadata": {
    "datalore": {
     "hide_input_from_viewers": false,
     "hide_output_from_viewers": false,
     "node_id": "249qkkIsvY37VeNviSyPqc",
     "report_properties": {
      "rowId": "FI3cIccRRr9u2qYBgUDzeA"
     },
     "type": "CODE"
    }
   },
   "outputs": [
    {
     "data": {
      "text/html": [
       "<div>\n",
       "<style scoped>\n",
       "    .dataframe tbody tr th:only-of-type {\n",
       "        vertical-align: middle;\n",
       "    }\n",
       "\n",
       "    .dataframe tbody tr th {\n",
       "        vertical-align: top;\n",
       "    }\n",
       "\n",
       "    .dataframe thead th {\n",
       "        text-align: right;\n",
       "    }\n",
       "</style>\n",
       "<table border=\"1\" class=\"dataframe\">\n",
       "  <thead>\n",
       "    <tr style=\"text-align: right;\">\n",
       "      <th></th>\n",
       "      <th>code</th>\n",
       "      <th>function_name</th>\n",
       "      <th>filepath</th>\n",
       "      <th>n_tokens</th>\n",
       "    </tr>\n",
       "  </thead>\n",
       "  <tbody>\n",
       "    <tr>\n",
       "      <th>117876</th>\n",
       "      <td>public abstract boolean isInsideScreenBounds(i...</td>\n",
       "      <td>isInsideScreenBounds</td>\n",
       "      <td>ide-core/src/com/intellij/openapi/wm/WindowMan...</td>\n",
       "      <td>16</td>\n",
       "    </tr>\n",
       "    <tr>\n",
       "      <th>66324</th>\n",
       "      <td>@Override\\n  public void fileMoved(@NotNull Vi...</td>\n",
       "      <td>fileMoved</td>\n",
       "      <td>core-api/src/com/intellij/openapi/vfs/VirtualF...</td>\n",
       "      <td>25</td>\n",
       "    </tr>\n",
       "    <tr>\n",
       "      <th>2448</th>\n",
       "      <td>protected abstract void update(@NotNull VcsCon...</td>\n",
       "      <td>update</td>\n",
       "      <td>vcs-impl/src/com/intellij/openapi/vcs/actions/...</td>\n",
       "      <td>18</td>\n",
       "    </tr>\n",
       "    <tr>\n",
       "      <th>107659</th>\n",
       "      <td>public static @Nullable ListSelection&lt;? extend...</td>\n",
       "      <td>createDiffProducers</td>\n",
       "      <td>vcs-impl/src/com/intellij/openapi/vcs/changes/...</td>\n",
       "      <td>183</td>\n",
       "    </tr>\n",
       "    <tr>\n",
       "      <th>17736</th>\n",
       "      <td>@Override\\n  protected boolean isSelected(@Not...</td>\n",
       "      <td>isSelected</td>\n",
       "      <td>external-system-impl/src/com/intellij/openapi/...</td>\n",
       "      <td>25</td>\n",
       "    </tr>\n",
       "  </tbody>\n",
       "</table>\n",
       "</div>"
      ]
     },
     "metadata": {},
     "output_type": "display_data"
    },
    {
     "data": {
      "text/plain": [
       "                                                     code   \n",
       "117876  public abstract boolean isInsideScreenBounds(i...  \\\n",
       "66324   @Override\\n  public void fileMoved(@NotNull Vi...   \n",
       "2448    protected abstract void update(@NotNull VcsCon...   \n",
       "107659  public static @Nullable ListSelection<? extend...   \n",
       "17736   @Override\\n  protected boolean isSelected(@Not...   \n",
       "\n",
       "               function_name   \n",
       "117876  isInsideScreenBounds  \\\n",
       "66324              fileMoved   \n",
       "2448                  update   \n",
       "107659   createDiffProducers   \n",
       "17736             isSelected   \n",
       "\n",
       "                                                 filepath  n_tokens  \n",
       "117876  ide-core/src/com/intellij/openapi/wm/WindowMan...        16  \n",
       "66324   core-api/src/com/intellij/openapi/vfs/VirtualF...        25  \n",
       "2448    vcs-impl/src/com/intellij/openapi/vcs/actions/...        18  \n",
       "107659  vcs-impl/src/com/intellij/openapi/vcs/changes/...       183  \n",
       "17736   external-system-impl/src/com/intellij/openapi/...        25  "
      ]
     },
     "metadata": {},
     "output_type": "display_data"
    }
   ],
   "source": [
    "df.sample(5)"
   ]
  },
  {
   "cell_type": "code",
   "execution_count": null,
   "metadata": {
    "datalore": {
     "hide_input_from_viewers": false,
     "hide_output_from_viewers": false,
     "node_id": "bJTPyrQEYzuPfMMbUuJtHm",
     "report_properties": {
      "rowId": "2Xtwt34sUJqrs6bePga6cS"
     },
     "type": "CODE"
    }
   },
   "outputs": [
    {
     "name": "stdout",
     "output_type": "stream",
     "text": [
      "<class 'pandas.core.frame.DataFrame'>\n",
      "RangeIndex: 175242 entries, 0 to 175241\n",
      "Data columns (total 4 columns):\n",
      " #   Column         Non-Null Count   Dtype \n",
      "---  ------         --------------   ----- \n",
      " 0   code           175242 non-null  object\n",
      " 1   function_name  175242 non-null  object\n",
      " 2   filepath       175242 non-null  object\n",
      " 3   n_tokens       175242 non-null  int64 \n",
      "dtypes: int64(1), object(3)\n",
      "memory usage: 5.3+ MB\n"
     ]
    }
   ],
   "source": [
    "df.info()"
   ]
  },
  {
   "cell_type": "code",
   "execution_count": null,
   "metadata": {
    "datalore": {
     "hide_input_from_viewers": false,
     "hide_output_from_viewers": false,
     "node_id": "0iPrqYocD9dubGM4pHmR3z",
     "report_properties": {
      "rowId": "sAxqDDnSJc9ipVv0QfwM2K"
     },
     "type": "CODE"
    }
   },
   "outputs": [
    {
     "data": {
      "text/html": [
       "<div>\n",
       "<style scoped>\n",
       "    .dataframe tbody tr th:only-of-type {\n",
       "        vertical-align: middle;\n",
       "    }\n",
       "\n",
       "    .dataframe tbody tr th {\n",
       "        vertical-align: top;\n",
       "    }\n",
       "\n",
       "    .dataframe thead th {\n",
       "        text-align: right;\n",
       "    }\n",
       "</style>\n",
       "<table border=\"1\" class=\"dataframe\">\n",
       "  <thead>\n",
       "    <tr style=\"text-align: right;\">\n",
       "      <th></th>\n",
       "      <th>n_tokens</th>\n",
       "    </tr>\n",
       "  </thead>\n",
       "  <tbody>\n",
       "    <tr>\n",
       "      <th>count</th>\n",
       "      <td>175242.000000</td>\n",
       "    </tr>\n",
       "    <tr>\n",
       "      <th>mean</th>\n",
       "      <td>68.927255</td>\n",
       "    </tr>\n",
       "    <tr>\n",
       "      <th>std</th>\n",
       "      <td>126.858943</td>\n",
       "    </tr>\n",
       "    <tr>\n",
       "      <th>min</th>\n",
       "      <td>3.000000</td>\n",
       "    </tr>\n",
       "    <tr>\n",
       "      <th>25%</th>\n",
       "      <td>20.000000</td>\n",
       "    </tr>\n",
       "    <tr>\n",
       "      <th>50%</th>\n",
       "      <td>34.000000</td>\n",
       "    </tr>\n",
       "    <tr>\n",
       "      <th>75%</th>\n",
       "      <td>73.000000</td>\n",
       "    </tr>\n",
       "    <tr>\n",
       "      <th>max</th>\n",
       "      <td>13406.000000</td>\n",
       "    </tr>\n",
       "  </tbody>\n",
       "</table>\n",
       "</div>"
      ]
     },
     "metadata": {},
     "output_type": "display_data"
    },
    {
     "data": {
      "text/plain": [
       "            n_tokens\n",
       "count  175242.000000\n",
       "mean       68.927255\n",
       "std       126.858943\n",
       "min         3.000000\n",
       "25%        20.000000\n",
       "50%        34.000000\n",
       "75%        73.000000\n",
       "max     13406.000000"
      ]
     },
     "metadata": {},
     "output_type": "display_data"
    }
   ],
   "source": [
    "df.describe()"
   ]
  },
  {
   "cell_type": "code",
   "execution_count": null,
   "metadata": {
    "datalore": {
     "hide_input_from_viewers": false,
     "hide_output_from_viewers": false,
     "node_id": "92KKkI7HriaRm8myjYbi2M",
     "report_properties": {
      "rowId": "K7LpctkSy5RbPZXuQQ7tPA"
     },
     "type": "CODE"
    }
   },
   "outputs": [
    {
     "data": {
      "text/html": [
       "<div>\n",
       "<style scoped>\n",
       "    .dataframe tbody tr th:only-of-type {\n",
       "        vertical-align: middle;\n",
       "    }\n",
       "\n",
       "    .dataframe tbody tr th {\n",
       "        vertical-align: top;\n",
       "    }\n",
       "\n",
       "    .dataframe thead th {\n",
       "        text-align: right;\n",
       "    }\n",
       "</style>\n",
       "<table border=\"1\" class=\"dataframe\">\n",
       "  <thead>\n",
       "    <tr style=\"text-align: right;\">\n",
       "      <th></th>\n",
       "      <th>code</th>\n",
       "      <th>function_name</th>\n",
       "      <th>filepath</th>\n",
       "      <th>n_tokens</th>\n",
       "    </tr>\n",
       "  </thead>\n",
       "  <tbody>\n",
       "    <tr>\n",
       "      <th>70</th>\n",
       "      <td>void onStepChanged();</td>\n",
       "      <td>onStepChanged</td>\n",
       "      <td>platform-impl/src/com/intellij/ui/wizard/Wizar...</td>\n",
       "      <td>5</td>\n",
       "    </tr>\n",
       "    <tr>\n",
       "      <th>327</th>\n",
       "      <td>void selectionInverted();</td>\n",
       "      <td>selectionInverted</td>\n",
       "      <td>platform-impl/src/com/intellij/ide/util/Elemen...</td>\n",
       "      <td>5</td>\n",
       "    </tr>\n",
       "    <tr>\n",
       "      <th>374</th>\n",
       "      <td>protected abstract int getColumn();</td>\n",
       "      <td>getColumn</td>\n",
       "      <td>platform-impl/src/com/intellij/ide/util/GotoLi...</td>\n",
       "      <td>5</td>\n",
       "    </tr>\n",
       "    <tr>\n",
       "      <th>470</th>\n",
       "      <td>fun closeTipDialog()</td>\n",
       "      <td>closeTipDialog</td>\n",
       "      <td>platform-impl/src/com/intellij/ide/util/TipAnd...</td>\n",
       "      <td>5</td>\n",
       "    </tr>\n",
       "    <tr>\n",
       "      <th>475</th>\n",
       "      <td>JComponent getComponent();</td>\n",
       "      <td>getComponent</td>\n",
       "      <td>platform-impl/src/com/intellij/ide/util/TipUIU...</td>\n",
       "      <td>5</td>\n",
       "    </tr>\n",
       "    <tr>\n",
       "      <th>...</th>\n",
       "      <td>...</td>\n",
       "      <td>...</td>\n",
       "      <td>...</td>\n",
       "      <td>...</td>\n",
       "    </tr>\n",
       "    <tr>\n",
       "      <th>171692</th>\n",
       "      <td>protected abstract void perform();</td>\n",
       "      <td>perform</td>\n",
       "      <td>platform-api/src/com/intellij/ide/util/treeVie...</td>\n",
       "      <td>5</td>\n",
       "    </tr>\n",
       "    <tr>\n",
       "      <th>171932</th>\n",
       "      <td>boolean canGoFurther();</td>\n",
       "      <td>canGoFurther</td>\n",
       "      <td>platform-impl/src/com/intellij/openapi/ui/play...</td>\n",
       "      <td>5</td>\n",
       "    </tr>\n",
       "    <tr>\n",
       "      <th>173466</th>\n",
       "      <td>override fun toString(): String</td>\n",
       "      <td>toString</td>\n",
       "      <td>lang-api/src/com/intellij/codeInsight/hints/pr...</td>\n",
       "      <td>5</td>\n",
       "    </tr>\n",
       "    <tr>\n",
       "      <th>173469</th>\n",
       "      <td>fun mouseExited() {}</td>\n",
       "      <td>mouseExited</td>\n",
       "      <td>lang-api/src/com/intellij/codeInsight/hints/pr...</td>\n",
       "      <td>5</td>\n",
       "    </tr>\n",
       "    <tr>\n",
       "      <th>173656</th>\n",
       "      <td>override fun finished() {}</td>\n",
       "      <td>finished</td>\n",
       "      <td>vcs-impl/src/com/intellij/openapi/vcs/history/...</td>\n",
       "      <td>5</td>\n",
       "    </tr>\n",
       "  </tbody>\n",
       "</table>\n",
       "<p>927 rows × 4 columns</p>\n",
       "</div>"
      ]
     },
     "metadata": {},
     "output_type": "display_data"
    },
    {
     "data": {
      "text/plain": [
       "                                       code      function_name   \n",
       "70                    void onStepChanged();      onStepChanged  \\\n",
       "327               void selectionInverted();  selectionInverted   \n",
       "374     protected abstract int getColumn();          getColumn   \n",
       "470                    fun closeTipDialog()     closeTipDialog   \n",
       "475              JComponent getComponent();       getComponent   \n",
       "...                                     ...                ...   \n",
       "171692   protected abstract void perform();            perform   \n",
       "171932              boolean canGoFurther();       canGoFurther   \n",
       "173466      override fun toString(): String           toString   \n",
       "173469                 fun mouseExited() {}        mouseExited   \n",
       "173656           override fun finished() {}           finished   \n",
       "\n",
       "                                                 filepath  n_tokens  \n",
       "70      platform-impl/src/com/intellij/ui/wizard/Wizar...         5  \n",
       "327     platform-impl/src/com/intellij/ide/util/Elemen...         5  \n",
       "374     platform-impl/src/com/intellij/ide/util/GotoLi...         5  \n",
       "470     platform-impl/src/com/intellij/ide/util/TipAnd...         5  \n",
       "475     platform-impl/src/com/intellij/ide/util/TipUIU...         5  \n",
       "...                                                   ...       ...  \n",
       "171692  platform-api/src/com/intellij/ide/util/treeVie...         5  \n",
       "171932  platform-impl/src/com/intellij/openapi/ui/play...         5  \n",
       "173466  lang-api/src/com/intellij/codeInsight/hints/pr...         5  \n",
       "173469  lang-api/src/com/intellij/codeInsight/hints/pr...         5  \n",
       "173656  vcs-impl/src/com/intellij/openapi/vcs/history/...         5  \n",
       "\n",
       "[927 rows x 4 columns]"
      ]
     },
     "metadata": {},
     "output_type": "display_data"
    }
   ],
   "source": [
    "df[df['n_tokens'] == 5]"
   ]
  },
  {
   "cell_type": "code",
   "execution_count": null,
   "metadata": {
    "datalore": {
     "hide_input_from_viewers": false,
     "hide_output_from_viewers": false,
     "node_id": "9R40ihKjJEipq8sED0VupL",
     "report_properties": {
      "rowId": "tbGvdsBqZOroSQzP0mNpW9"
     },
     "type": "CODE"
    }
   },
   "outputs": [
    {
     "data": {
      "text/html": [
       "<div>\n",
       "<style scoped>\n",
       "    .dataframe tbody tr th:only-of-type {\n",
       "        vertical-align: middle;\n",
       "    }\n",
       "\n",
       "    .dataframe tbody tr th {\n",
       "        vertical-align: top;\n",
       "    }\n",
       "\n",
       "    .dataframe thead th {\n",
       "        text-align: right;\n",
       "    }\n",
       "</style>\n",
       "<table border=\"1\" class=\"dataframe\">\n",
       "  <thead>\n",
       "    <tr style=\"text-align: right;\">\n",
       "      <th></th>\n",
       "      <th>code</th>\n",
       "      <th>function_name</th>\n",
       "      <th>filepath</th>\n",
       "      <th>n_tokens</th>\n",
       "    </tr>\n",
       "  </thead>\n",
       "  <tbody>\n",
       "    <tr>\n",
       "      <th>9651</th>\n",
       "      <td>fun JsonIndexDiagnostic.generateHtml(target: A...</td>\n",
       "      <td>generateHtml</td>\n",
       "      <td>lang-impl/src/com/intellij/util/indexing/diagn...</td>\n",
       "      <td>3057</td>\n",
       "    </tr>\n",
       "    <tr>\n",
       "      <th>10772</th>\n",
       "      <td>protected fun traverseInstanceGraph(progress: ...</td>\n",
       "      <td>traverseInstanceGraph</td>\n",
       "      <td>platform-impl/src/com/intellij/diagnostic/hpro...</td>\n",
       "      <td>2885</td>\n",
       "    </tr>\n",
       "    <tr>\n",
       "      <th>10774</th>\n",
       "      <td>private fun computeDominatorFlameGraph(nav: Ob...</td>\n",
       "      <td>computeDominatorFlameGraph</td>\n",
       "      <td>platform-impl/src/com/intellij/diagnostic/hpro...</td>\n",
       "      <td>4670</td>\n",
       "    </tr>\n",
       "    <tr>\n",
       "      <th>12055</th>\n",
       "      <td>fun createResolverImpl(project: Project?, indi...</td>\n",
       "      <td>createResolverImpl</td>\n",
       "      <td>lang-impl/src/com/intellij/openapi/projectRoot...</td>\n",
       "      <td>1842</td>\n",
       "    </tr>\n",
       "    <tr>\n",
       "      <th>16234</th>\n",
       "      <td>@Override\\n  public void actionPerformed(@NotN...</td>\n",
       "      <td>actionPerformed</td>\n",
       "      <td>platform-impl/src/com/intellij/ide/actions/Act...</td>\n",
       "      <td>1561</td>\n",
       "    </tr>\n",
       "    <tr>\n",
       "      <th>...</th>\n",
       "      <td>...</td>\n",
       "      <td>...</td>\n",
       "      <td>...</td>\n",
       "      <td>...</td>\n",
       "    </tr>\n",
       "    <tr>\n",
       "      <th>168282</th>\n",
       "      <td>private void initComponents() {\\n    AnAction ...</td>\n",
       "      <td>initComponents</td>\n",
       "      <td>lang-impl/src/com/intellij/find/impl/FindPopup...</td>\n",
       "      <td>4873</td>\n",
       "    </tr>\n",
       "    <tr>\n",
       "      <th>168309</th>\n",
       "      <td>private void findSettingsChanged() {\\n    if (...</td>\n",
       "      <td>findSettingsChanged</td>\n",
       "      <td>lang-impl/src/com/intellij/find/impl/FindPopup...</td>\n",
       "      <td>1493</td>\n",
       "    </tr>\n",
       "    <tr>\n",
       "      <th>169564</th>\n",
       "      <td>override fun saveEntities(storage: EntityStora...</td>\n",
       "      <td>saveEntities</td>\n",
       "      <td>workspaceModel/jps/src/com/intellij/workspaceM...</td>\n",
       "      <td>2539</td>\n",
       "    </tr>\n",
       "    <tr>\n",
       "      <th>172968</th>\n",
       "      <td>protected void initUI(final ChooseByNamePopupC...</td>\n",
       "      <td>initUI</td>\n",
       "      <td>lang-impl/src/com/intellij/ide/util/gotoByName...</td>\n",
       "      <td>2436</td>\n",
       "    </tr>\n",
       "    <tr>\n",
       "      <th>174628</th>\n",
       "      <td>private AnAction processGroupElement(@NotNull ...</td>\n",
       "      <td>processGroupElement</td>\n",
       "      <td>platform-impl/src/com/intellij/openapi/actionS...</td>\n",
       "      <td>1302</td>\n",
       "    </tr>\n",
       "  </tbody>\n",
       "</table>\n",
       "<p>227 rows × 4 columns</p>\n",
       "</div>"
      ]
     },
     "metadata": {},
     "output_type": "display_data"
    },
    {
     "data": {
      "text/plain": [
       "                                                     code   \n",
       "9651    fun JsonIndexDiagnostic.generateHtml(target: A...  \\\n",
       "10772   protected fun traverseInstanceGraph(progress: ...   \n",
       "10774   private fun computeDominatorFlameGraph(nav: Ob...   \n",
       "12055   fun createResolverImpl(project: Project?, indi...   \n",
       "16234   @Override\\n  public void actionPerformed(@NotN...   \n",
       "...                                                   ...   \n",
       "168282  private void initComponents() {\\n    AnAction ...   \n",
       "168309  private void findSettingsChanged() {\\n    if (...   \n",
       "169564  override fun saveEntities(storage: EntityStora...   \n",
       "172968  protected void initUI(final ChooseByNamePopupC...   \n",
       "174628  private AnAction processGroupElement(@NotNull ...   \n",
       "\n",
       "                     function_name   \n",
       "9651                  generateHtml  \\\n",
       "10772        traverseInstanceGraph   \n",
       "10774   computeDominatorFlameGraph   \n",
       "12055           createResolverImpl   \n",
       "16234              actionPerformed   \n",
       "...                            ...   \n",
       "168282              initComponents   \n",
       "168309         findSettingsChanged   \n",
       "169564                saveEntities   \n",
       "172968                      initUI   \n",
       "174628         processGroupElement   \n",
       "\n",
       "                                                 filepath  n_tokens  \n",
       "9651    lang-impl/src/com/intellij/util/indexing/diagn...      3057  \n",
       "10772   platform-impl/src/com/intellij/diagnostic/hpro...      2885  \n",
       "10774   platform-impl/src/com/intellij/diagnostic/hpro...      4670  \n",
       "12055   lang-impl/src/com/intellij/openapi/projectRoot...      1842  \n",
       "16234   platform-impl/src/com/intellij/ide/actions/Act...      1561  \n",
       "...                                                   ...       ...  \n",
       "168282  lang-impl/src/com/intellij/find/impl/FindPopup...      4873  \n",
       "168309  lang-impl/src/com/intellij/find/impl/FindPopup...      1493  \n",
       "169564  workspaceModel/jps/src/com/intellij/workspaceM...      2539  \n",
       "172968  lang-impl/src/com/intellij/ide/util/gotoByName...      2436  \n",
       "174628  platform-impl/src/com/intellij/openapi/actionS...      1302  \n",
       "\n",
       "[227 rows x 4 columns]"
      ]
     },
     "metadata": {},
     "output_type": "display_data"
    }
   ],
   "source": [
    "df[df['n_tokens'] > 1300] # max context len 8192"
   ]
  },
  {
   "cell_type": "code",
   "execution_count": null,
   "metadata": {
    "datalore": {
     "hide_input_from_viewers": false,
     "hide_output_from_viewers": false,
     "node_id": "DjkS5ndgVjr9nB722uqJQI",
     "report_properties": {
      "rowId": "KzNPogswBTK0kZdtjHO1zt"
     },
     "type": "CODE"
    }
   },
   "outputs": [
    {
     "data": {
      "text/plain": [
       "12078950"
      ]
     },
     "metadata": {},
     "output_type": "display_data"
    }
   ],
   "source": [
    "df['n_tokens'].sum()"
   ]
  },
  {
   "cell_type": "code",
   "execution_count": null,
   "metadata": {
    "datalore": {
     "hide_input_from_viewers": false,
     "hide_output_from_viewers": false,
     "node_id": "laoQEpbeSdairHDEVggBvr",
     "report_properties": {
      "rowId": "m7XKG687252d2tL5UsBLsm"
     },
     "type": "CODE"
    }
   },
   "outputs": [
    {
     "name": "stdout",
     "output_type": "stream",
     "text": [
      "Price: $4.83\n",
      "Min time: 1.69 min\n"
     ]
    }
   ],
   "source": [
    "print(f\"Price: ${(df['n_tokens'].sum() / 1000) * 0.0004:.2f}\")\n",
    "print(f\"Min time: {((df['n_tokens'].sum() / 2048) / 3500):.2f} min\")\n",
    "# ~5.900 request total, 2k each\n",
    "\n",
    "# limit\n",
    "#  3,500 RPM / 350,000 TPM"
   ]
  },
  {
   "cell_type": "code",
   "execution_count": null,
   "metadata": {
    "datalore": {
     "hide_input_from_viewers": false,
     "hide_output_from_viewers": false,
     "node_id": "6Vr2pysqzhAxMLIFXUtvK5",
     "report_properties": {
      "rowId": "cs60rtxGDBiVMwYtVdgEmK"
     },
     "type": "CODE"
    }
   },
   "outputs": [],
   "source": [
    "import numpy as np\n",
    "\n",
    "# replace newlines, which can negatively affect performance. See https://github.com/openai/openai-python/blob/aa133ce3a883e2957aa1e0111ee27dfef986e787/openai/embeddings_utils.py#L20\n",
    "df['tokens'] = df['code'].apply(lambda text: np.array(tokenizer.encode(text.replace(\"\\n\", \" \"))))"
   ]
  },
  {
   "attachments": {},
   "cell_type": "markdown",
   "metadata": {
    "datalore": {
     "hide_input_from_viewers": false,
     "hide_output_from_viewers": false,
     "node_id": "iXySZgslXgGv86k7CulszN",
     "report_properties": {
      "rowId": "vu6GHKh4qEev2NemEO5Ti1"
     },
     "type": "MD"
    }
   },
   "source": [
    "### Fetch the embeddings"
   ]
  },
  {
   "cell_type": "code",
   "execution_count": null,
   "metadata": {
    "datalore": {
     "hide_input_from_viewers": false,
     "hide_output_from_viewers": false,
     "node_id": "MlQgbfBsV0pQRRyEMbrrdh",
     "report_properties": {
      "rowId": "sAzqaYFTotEJ9uyrZcUFEh"
     },
     "type": "CODE"
    }
   },
   "outputs": [],
   "source": [
    "import numpy as np\n",
    "import openai\n",
    "\n",
    "openai.api_key = os.getenv(\"OPENAI_API_KEY\")\n",
    "\n",
    "# We'll batch 2048 chunks into a single API call\n",
    "# each chunk up to 8192 tokens\n",
    "df_n = df[df['n_tokens'] < 8192]"
   ]
  },
  {
   "cell_type": "code",
   "execution_count": null,
   "metadata": {
    "datalore": {
     "hide_input_from_viewers": false,
     "hide_output_from_viewers": false,
     "node_id": "jOI2YAsGvZEO3gkYlyBP6v",
     "report_properties": {
      "rowId": "RsmBAGxrA47tnWHDJuJoDi"
     },
     "type": "CODE"
    }
   },
   "outputs": [
    {
     "data": {
      "text/html": [
       "<div>\n",
       "<style scoped>\n",
       "    .dataframe tbody tr th:only-of-type {\n",
       "        vertical-align: middle;\n",
       "    }\n",
       "\n",
       "    .dataframe tbody tr th {\n",
       "        vertical-align: top;\n",
       "    }\n",
       "\n",
       "    .dataframe thead th {\n",
       "        text-align: right;\n",
       "    }\n",
       "</style>\n",
       "<table border=\"1\" class=\"dataframe\">\n",
       "  <thead>\n",
       "    <tr style=\"text-align: right;\">\n",
       "      <th></th>\n",
       "      <th>code</th>\n",
       "      <th>function_name</th>\n",
       "      <th>filepath</th>\n",
       "      <th>n_tokens</th>\n",
       "    </tr>\n",
       "  </thead>\n",
       "  <tbody>\n",
       "    <tr>\n",
       "      <th>0</th>\n",
       "      <td>@Override\\n  protected void update(final AnAct...</td>\n",
       "      <td>update</td>\n",
       "      <td>lang-api/src/com/intellij/execution/ui/actions...</td>\n",
       "      <td>67</td>\n",
       "    </tr>\n",
       "    <tr>\n",
       "      <th>1</th>\n",
       "      <td>private boolean isToFocus(final ViewContext co...</td>\n",
       "      <td>isToFocus</td>\n",
       "      <td>lang-api/src/com/intellij/execution/ui/actions...</td>\n",
       "      <td>39</td>\n",
       "    </tr>\n",
       "    <tr>\n",
       "      <th>2</th>\n",
       "      <td>@Override\\n  protected void actionPerformed(fi...</td>\n",
       "      <td>actionPerformed</td>\n",
       "      <td>lang-api/src/com/intellij/execution/ui/actions...</td>\n",
       "      <td>63</td>\n",
       "    </tr>\n",
       "    <tr>\n",
       "      <th>3</th>\n",
       "      <td>@Override\\n  public @NotNull ActionUpdateThrea...</td>\n",
       "      <td>getActionUpdateThread</td>\n",
       "      <td>lang-api/src/com/intellij/execution/ui/actions...</td>\n",
       "      <td>25</td>\n",
       "    </tr>\n",
       "    <tr>\n",
       "      <th>4</th>\n",
       "      <td>@Override\\n  public final void update(final @N...</td>\n",
       "      <td>update</td>\n",
       "      <td>lang-api/src/com/intellij/execution/ui/actions...</td>\n",
       "      <td>76</td>\n",
       "    </tr>\n",
       "  </tbody>\n",
       "</table>\n",
       "</div>"
      ]
     },
     "metadata": {},
     "output_type": "display_data"
    },
    {
     "data": {
      "text/plain": [
       "                                                code          function_name   \n",
       "0  @Override\\n  protected void update(final AnAct...                 update  \\\n",
       "1  private boolean isToFocus(final ViewContext co...              isToFocus   \n",
       "2  @Override\\n  protected void actionPerformed(fi...        actionPerformed   \n",
       "3  @Override\\n  public @NotNull ActionUpdateThrea...  getActionUpdateThread   \n",
       "4  @Override\\n  public final void update(final @N...                 update   \n",
       "\n",
       "                                            filepath  n_tokens  \n",
       "0  lang-api/src/com/intellij/execution/ui/actions...        67  \n",
       "1  lang-api/src/com/intellij/execution/ui/actions...        39  \n",
       "2  lang-api/src/com/intellij/execution/ui/actions...        63  \n",
       "3  lang-api/src/com/intellij/execution/ui/actions...        25  \n",
       "4  lang-api/src/com/intellij/execution/ui/actions...        76  "
      ]
     },
     "metadata": {},
     "output_type": "display_data"
    }
   ],
   "source": [
    "df_n.head()"
   ]
  },
  {
   "cell_type": "code",
   "execution_count": null,
   "metadata": {
    "datalore": {
     "hide_input_from_viewers": false,
     "hide_output_from_viewers": false,
     "node_id": "TVG702JP01HCcdCBXCeEvJ",
     "report_properties": {
      "rowId": "h3Cbe5OHxOzkC4k7dheXWI"
     },
     "type": "CODE"
    }
   },
   "outputs": [],
   "source": [
    "from typing import List\n",
    "from tenacity import retry, stop_after_attempt, wait_random_exponential\n",
    "import numpy as np\n",
    "\n",
    "@retry(wait=wait_random_exponential(min=1, max=20), stop=stop_after_attempt(6))\n",
    "def get_embeddings(\n",
    "    list_of_tokens: List[int], engine=\"text-embedding-ada-002\"\n",
    ") -> List[np.ndarray]: #List[float]\n",
    "    assert len(list_of_tokens) <= 2048, \"The batch size should not be larger than 2048.\"\n",
    "\n",
    "    # replace newlines, which accoring to OpenAI can negatively affect performance.\n",
    "    # list_of_tokens = [text.replace(\"\\n\", \" \") for text in list_of_tokens]\n",
    "    ## we did this earlier, during tokenization\n",
    "\n",
    "    data = openai.Embedding.create(input=list_of_tokens, engine=engine).data\n",
    "    data = sorted(data, key=lambda x: x[\"index\"])  # maintain the same order as input.\n",
    "    return [np.array(d[\"embedding\"]) for d in data]"
   ]
  },
  {
   "cell_type": "code",
   "execution_count": null,
   "metadata": {
    "datalore": {
     "hide_input_from_viewers": false,
     "hide_output_from_viewers": false,
     "node_id": "BWTQa6LOvNMDDOujFnxk5i",
     "report_properties": {
      "rowId": "LSBPfHgSQJEts9BNfOvJ9w"
     },
     "type": "CODE"
    }
   },
   "outputs": [],
   "source": [
    "# All the API requests happen here! 86 API requests on /platform\n",
    "df_n['code_embedding'] = df_n.groupby(np.arange(len(df_n))//2048)['tokens'].transform(lambda x: get_embeddings(x.tolist(), engine=model))"
   ]
  },
  {
   "cell_type": "code",
   "execution_count": null,
   "metadata": {
    "datalore": {
     "hide_input_from_viewers": false,
     "hide_output_from_viewers": false,
     "node_id": "sWgqBVatd6zXMmxaqeDX23",
     "report_properties": {
      "rowId": "2tLxPrDaFSchT1ekSg4SyC"
     },
     "type": "CODE"
    }
   },
   "outputs": [],
   "source": [
    "df_n.to_pickle(code_emb_file, compression={'method': 'gzip', 'compresslevel': 1, 'mtime': 1})"
   ]
  },
  {
   "cell_type": "code",
   "execution_count": null,
   "metadata": {
    "datalore": {
     "hide_input_from_viewers": false,
     "hide_output_from_viewers": false,
     "node_id": "ZTWuMf6qqFcGB7mTGXhUgb",
     "report_properties": {
      "rowId": "sUm5vNjaSZTmq83vZHUEJP"
     },
     "type": "CODE"
    }
   },
   "outputs": [],
   "source": [
    "df_n.head()"
   ]
  },
  {
   "cell_type": "code",
   "execution_count": null,
   "metadata": {
    "datalore": {
     "hide_input_from_viewers": false,
     "hide_output_from_viewers": false,
     "node_id": "Dn46SZ707x8JhJbQGiOggF",
     "report_properties": {
      "rowId": "UNwcXuGiDKzB3bUPKYrW3o"
     },
     "type": "CODE"
    }
   },
   "outputs": [],
   "source": []
  },
  {
   "attachments": {},
   "cell_type": "markdown",
   "metadata": {
    "datalore": {
     "hide_input_from_viewers": false,
     "hide_output_from_viewers": false,
     "node_id": "COTEWRoj2Nztidpd87K4ma",
     "report_properties": {
      "rowId": "MCyau72IBzuzQhK8RkAYBJ"
     },
     "type": "MD"
    }
   },
   "source": [
    "### Build the Index\n",
    "\n",
    "To speed up the search for the nearest neighbors among the vectors - we'll build an index for approximate nearest neighbors search that trades off some accuracy for speed.\n",
    "\n",
    "We'll use https://github.com/spotify/annoy.\n",
    "\n",
    "But https://github.com/facebookresearch/faiss is also good, though official builds are _only_ on Anaconda. (Be careful running someone else's builds from the Pypi!)"
   ]
  },
  {
   "cell_type": "code",
   "execution_count": null,
   "metadata": {
    "datalore": {
     "hide_input_from_viewers": false,
     "hide_output_from_viewers": false,
     "node_id": "lAOrxKTCFmQGQ8mB8zISFE",
     "report_properties": {
      "rowId": "8RXMtEt382FXspZL9hxWq5"
     },
     "type": "CODE"
    }
   },
   "outputs": [
    {
     "data": {
      "text/plain": [
       "True"
      ]
     },
     "metadata": {},
     "output_type": "display_data"
    }
   ],
   "source": [
    "# build the index\n",
    "from annoy import AnnoyIndex\n",
    "\n",
    "emb_dimensions = df_csv.iloc[0].code_embedding.shape[0] # 1536 for text-embedding-ada-002\n",
    "\n",
    "# Metric can be \"angular\", \"euclidean\", \"manhattan\", \"hamming\", or \"dot\" \n",
    "# This will affect the results significantly! \n",
    "# Use 'dot' for cosin similarty, to compare with Precise Query section at the begining of this notebook\n",
    "index = AnnoyIndex(emb_dimensions, 'dot')\n",
    "\n",
    "\n",
    "df_csv.apply(lambda x: index.add_item(x.name, x.code_embedding), axis=1)\n",
    "\n",
    "index.build(200)\n",
    "index.save(f\"{code_emb_index_file}\")"
   ]
  },
  {
   "attachments": {},
   "cell_type": "markdown",
   "metadata": {
    "datalore": {
     "hide_input_from_viewers": false,
     "hide_output_from_viewers": false,
     "node_id": "dEof2KwimxxxL418tw9pI7",
     "report_properties": {
      "rowId": "N5NXpKvwdzu4KQ5YODJFtC"
     },
     "type": "MD"
    }
   },
   "source": [
    "## Bonus: data exploration"
   ]
  },
  {
   "cell_type": "code",
   "execution_count": 23,
   "metadata": {},
   "outputs": [
    {
     "data": {
      "text/html": [
       "<div>\n",
       "<style scoped>\n",
       "    .dataframe tbody tr th:only-of-type {\n",
       "        vertical-align: middle;\n",
       "    }\n",
       "\n",
       "    .dataframe tbody tr th {\n",
       "        vertical-align: top;\n",
       "    }\n",
       "\n",
       "    .dataframe thead th {\n",
       "        text-align: right;\n",
       "    }\n",
       "</style>\n",
       "<table border=\"1\" class=\"dataframe\">\n",
       "  <thead>\n",
       "    <tr style=\"text-align: right;\">\n",
       "      <th></th>\n",
       "      <th>code</th>\n",
       "      <th>function_name</th>\n",
       "      <th>filepath</th>\n",
       "      <th>n_tokens</th>\n",
       "      <th>tokens</th>\n",
       "      <th>code_embedding</th>\n",
       "    </tr>\n",
       "  </thead>\n",
       "  <tbody>\n",
       "    <tr>\n",
       "      <th>0</th>\n",
       "      <td>@Override\\n  protected void update(final AnAct...</td>\n",
       "      <td>update</td>\n",
       "      <td>lang-api/src/com/intellij/execution/ui/actions...</td>\n",
       "      <td>67</td>\n",
       "      <td>[6123, 198, 220, 2682, 742, 2713, 10285, 1556,...</td>\n",
       "      <td>[-0.016020899638533592, -0.01102778222411871, ...</td>\n",
       "    </tr>\n",
       "    <tr>\n",
       "      <th>1</th>\n",
       "      <td>private boolean isToFocus(final ViewContext co...</td>\n",
       "      <td>isToFocus</td>\n",
       "      <td>lang-api/src/com/intellij/execution/ui/actions...</td>\n",
       "      <td>39</td>\n",
       "      <td>[2039, 2777, 374, 1271, 14139, 10285, 2806, 20...</td>\n",
       "      <td>[0.002539371605962515, -0.01106214802712202, 0...</td>\n",
       "    </tr>\n",
       "    <tr>\n",
       "      <th>2</th>\n",
       "      <td>@Override\\n  protected void actionPerformed(fi...</td>\n",
       "      <td>actionPerformed</td>\n",
       "      <td>lang-api/src/com/intellij/execution/ui/actions...</td>\n",
       "      <td>63</td>\n",
       "      <td>[6123, 198, 220, 2682, 742, 25026, 10285, 1556...</td>\n",
       "      <td>[-0.009785722009837627, -0.014558453112840652,...</td>\n",
       "    </tr>\n",
       "  </tbody>\n",
       "</table>\n",
       "</div>"
      ],
      "text/plain": [
       "                                                code    function_name   \n",
       "0  @Override\\n  protected void update(final AnAct...           update  \\\n",
       "1  private boolean isToFocus(final ViewContext co...        isToFocus   \n",
       "2  @Override\\n  protected void actionPerformed(fi...  actionPerformed   \n",
       "\n",
       "                                            filepath  n_tokens   \n",
       "0  lang-api/src/com/intellij/execution/ui/actions...        67  \\\n",
       "1  lang-api/src/com/intellij/execution/ui/actions...        39   \n",
       "2  lang-api/src/com/intellij/execution/ui/actions...        63   \n",
       "\n",
       "                                              tokens   \n",
       "0  [6123, 198, 220, 2682, 742, 2713, 10285, 1556,...  \\\n",
       "1  [2039, 2777, 374, 1271, 14139, 10285, 2806, 20...   \n",
       "2  [6123, 198, 220, 2682, 742, 25026, 10285, 1556...   \n",
       "\n",
       "                                      code_embedding  \n",
       "0  [-0.016020899638533592, -0.01102778222411871, ...  \n",
       "1  [0.002539371605962515, -0.01106214802712202, 0...  \n",
       "2  [-0.009785722009837627, -0.014558453112840652,...  "
      ]
     },
     "execution_count": 23,
     "metadata": {},
     "output_type": "execute_result"
    }
   ],
   "source": [
    "df_csv.head(3)"
   ]
  },
  {
   "cell_type": "code",
   "execution_count": 21,
   "metadata": {
    "datalore": {
     "hide_input_from_viewers": false,
     "hide_output_from_viewers": false,
     "node_id": "vNQ21BHUUiRCfwLvn685uP",
     "report_properties": {
      "rowId": "VB42ntnFkGa9KHBi1mP8wN"
     },
     "type": "CODE"
    }
   },
   "outputs": [
    {
     "name": "stdout",
     "output_type": "stream",
     "text": [
      "Total functions\n",
      "count              175241\n",
      "unique              62279\n",
      "top       actionPerformed\n",
      "freq                 1986\n",
      "Name: function_name, dtype: object\n",
      "\n",
      "function_name\n",
      "actionPerformed          1986\n",
      "toString                 1700\n",
      "update                   1659\n",
      "getActionUpdateThread    1413\n",
      "dispose                  1029\n",
      "equals                    995\n",
      "hashCode                  919\n",
      "getInstance               900\n",
      "getName                   620\n",
      "run                       605\n",
      "create                    552\n",
      "getIcon                   528\n",
      "get                       505\n",
      "getText                   419\n",
      "isEnabled                 404\n",
      "Name: count, dtype: int64\n"
     ]
    }
   ],
   "source": [
    "# number of uniq funtion names\n",
    "print(\"Total functions\")\n",
    "print(df_csv.function_name.describe())\n",
    "print()\n",
    "print(df_csv.function_name.value_counts().head(15))"
   ]
  },
  {
   "cell_type": "code",
   "execution_count": 99,
   "metadata": {
    "datalore": {
     "hide_input_from_viewers": false,
     "hide_output_from_viewers": false,
     "node_id": "92WHzi37bzW9cCeuj8j6H5",
     "report_properties": {
      "rowId": "5nZau0SOddI5sUfnTYddbV"
     },
     "type": "CODE"
    }
   },
   "outputs": [
    {
     "data": {
      "text/html": [
       "<div>\n",
       "<style scoped>\n",
       "    .dataframe tbody tr th:only-of-type {\n",
       "        vertical-align: middle;\n",
       "    }\n",
       "\n",
       "    .dataframe tbody tr th {\n",
       "        vertical-align: top;\n",
       "    }\n",
       "\n",
       "    .dataframe thead th {\n",
       "        text-align: right;\n",
       "    }\n",
       "</style>\n",
       "<table border=\"1\" class=\"dataframe\">\n",
       "  <thead>\n",
       "    <tr style=\"text-align: right;\">\n",
       "      <th></th>\n",
       "      <th>code</th>\n",
       "      <th>function_name</th>\n",
       "      <th>filepath</th>\n",
       "      <th>n_tokens</th>\n",
       "      <th>tokens</th>\n",
       "      <th>code_embedding</th>\n",
       "      <th>sha256</th>\n",
       "    </tr>\n",
       "  </thead>\n",
       "  <tbody>\n",
       "    <tr>\n",
       "      <th>1205</th>\n",
       "      <td>default int getNavigationOffset() {\\n    FileE...</td>\n",
       "      <td>getNavigationOffset</td>\n",
       "      <td>usageView/src/com/intellij/usages/Usage.java</td>\n",
       "      <td>67</td>\n",
       "      <td>[2309, 528, 636, 16804, 6582, 368, 341, 262, 2...</td>\n",
       "      <td>[-0.006719141732901335, -0.03228727728128433, ...</td>\n",
       "      <td>3c9cfa4da06e3244c997889c116e2dd18a4716016c010b...</td>\n",
       "    </tr>\n",
       "    <tr>\n",
       "      <th>1239</th>\n",
       "      <td>@Override\\n  public int getNavigationOffset() ...</td>\n",
       "      <td>getNavigationOffset</td>\n",
       "      <td>usageView/src/com/intellij/usages/UsageInfo2Us...</td>\n",
       "      <td>102</td>\n",
       "      <td>[6123, 198, 220, 586, 528, 636, 16804, 6582, 3...</td>\n",
       "      <td>[-0.015396180562675, -0.023044120520353317, 0....</td>\n",
       "      <td>52b2cfb8be6e0aa11723d3c8e64593857a7824322ad46f...</td>\n",
       "    </tr>\n",
       "    <tr>\n",
       "      <th>1277</th>\n",
       "      <td>int getNavigationOffset();</td>\n",
       "      <td>getNavigationOffset</td>\n",
       "      <td>usageView/src/com/intellij/usages/UsageInfoAda...</td>\n",
       "      <td>5</td>\n",
       "      <td>[396, 636, 16804, 6582, 2178]</td>\n",
       "      <td>[-0.012459712103009224, -0.02222840115427971, ...</td>\n",
       "      <td>975a8211e10d72fce3775f377fd663c72377e4a05c3455...</td>\n",
       "    </tr>\n",
       "    <tr>\n",
       "      <th>78940</th>\n",
       "      <td>public int getNavigationOffset() {\\n    if (my...</td>\n",
       "      <td>getNavigationOffset</td>\n",
       "      <td>core-api/src/com/intellij/usageView/UsageInfo....</td>\n",
       "      <td>153</td>\n",
       "      <td>[898, 528, 636, 16804, 6582, 368, 341, 262, 42...</td>\n",
       "      <td>[0.005394522566348314, -0.020168595016002655, ...</td>\n",
       "      <td>347f98c6c90b2b6c815bfd845235c6af641d627af6428c...</td>\n",
       "    </tr>\n",
       "  </tbody>\n",
       "</table>\n",
       "</div>"
      ],
      "text/plain": [
       "                                                    code        function_name   \n",
       "1205   default int getNavigationOffset() {\\n    FileE...  getNavigationOffset  \\\n",
       "1239   @Override\\n  public int getNavigationOffset() ...  getNavigationOffset   \n",
       "1277                          int getNavigationOffset();  getNavigationOffset   \n",
       "78940  public int getNavigationOffset() {\\n    if (my...  getNavigationOffset   \n",
       "\n",
       "                                                filepath  n_tokens   \n",
       "1205        usageView/src/com/intellij/usages/Usage.java        67  \\\n",
       "1239   usageView/src/com/intellij/usages/UsageInfo2Us...       102   \n",
       "1277   usageView/src/com/intellij/usages/UsageInfoAda...         5   \n",
       "78940  core-api/src/com/intellij/usageView/UsageInfo....       153   \n",
       "\n",
       "                                                  tokens   \n",
       "1205   [2309, 528, 636, 16804, 6582, 368, 341, 262, 2...  \\\n",
       "1239   [6123, 198, 220, 586, 528, 636, 16804, 6582, 3...   \n",
       "1277                       [396, 636, 16804, 6582, 2178]   \n",
       "78940  [898, 528, 636, 16804, 6582, 368, 341, 262, 42...   \n",
       "\n",
       "                                          code_embedding   \n",
       "1205   [-0.006719141732901335, -0.03228727728128433, ...  \\\n",
       "1239   [-0.015396180562675, -0.023044120520353317, 0....   \n",
       "1277   [-0.012459712103009224, -0.02222840115427971, ...   \n",
       "78940  [0.005394522566348314, -0.020168595016002655, ...   \n",
       "\n",
       "                                                  sha256  \n",
       "1205   3c9cfa4da06e3244c997889c116e2dd18a4716016c010b...  \n",
       "1239   52b2cfb8be6e0aa11723d3c8e64593857a7824322ad46f...  \n",
       "1277   975a8211e10d72fce3775f377fd663c72377e4a05c3455...  \n",
       "78940  347f98c6c90b2b6c815bfd845235c6af641d627af6428c...  "
      ]
     },
     "execution_count": 99,
     "metadata": {},
     "output_type": "execute_result"
    }
   ],
   "source": [
    "# look at particular funciton (by name)\n",
    "df_csv[df_csv['function_name'] == 'getNavigationOffset']"
   ]
  },
  {
   "cell_type": "code",
   "execution_count": null,
   "metadata": {},
   "outputs": [],
   "source": []
  },
  {
   "attachments": {},
   "cell_type": "markdown",
   "metadata": {},
   "source": [
    "### Exact duplicates"
   ]
  },
  {
   "cell_type": "code",
   "execution_count": 32,
   "metadata": {},
   "outputs": [],
   "source": [
    "# number of uniq function bodies\n",
    "from hashlib import sha256\n",
    "df_csv['sha256'] = df_csv.code.apply(lambda c: sha256(c.encode('utf-8')).hexdigest())"
   ]
  },
  {
   "cell_type": "code",
   "execution_count": 122,
   "metadata": {},
   "outputs": [
    {
     "name": "stdout",
     "output_type": "stream",
     "text": [
      "Total function hashes (8001 duplicates)\n",
      "count                                                175241\n",
      "unique                                               167240\n",
      "top       4308ab318c0cd6e72d79f07b91a6f88924f8aa0b9c3512...\n",
      "freq                                                    468\n",
      "Name: sha256, dtype: object\n",
      "\n",
      "sha256\n",
      "4308ab318c0cd6e72d79f07b91a6f88924f8aa0b9c351284f19a40db9764fa03    468\n",
      "686c07da765011de27f36183b9d880f94e95a8d94bc098ba79bb7129cd2bca53    184\n",
      "c6261907fd79d4d5c58df73f1740eb426f058bdc05214bfdf580d1cdd3b3c4ba    159\n",
      "8d08fc554ed03e66945ed893a06f6332d8eeb5e8cb6f8351c475993c60d0b0ac    115\n",
      "50d82766648f81bdd183a416b6778b939d231bb0a60c92ec311d9a7712d7d95b     93\n",
      "0222f1719469253b7f8d760c17ddf9faadb9a0f52a293d84a2dcec91d6386f18     88\n",
      "8ccf5d3973441ccfd6dcd7c7f0ea495d4a3ee7c539681f9c2b342288f7ea098a     86\n",
      "f759174d65bffc5e00786330a75628e321367ddde491479a3f4983ac340fda21     54\n",
      "03e73ee74429d516b93f6fa9f207d5e2283bc0e76e7c1a2241ee963641eabc51     48\n",
      "725534d89e7054ede828517a1a16d064b17081e0342deab0381b14b67599a63b     44\n",
      "31f05dd74f5e35352a3db810066ff23d95b98dd5f752b165a415e3b077567d5b     39\n",
      "f9b46ebc87508529a12d14e53f88840e92ae410b2d8a1fa35de1fd7235145d5f     38\n",
      "92d7cbcb49bdb6db96032794fa2367002e9d3cf29724a4c75d24a545e2f2af63     37\n",
      "23829d84b50fb167104edd40f9b779abf65b93b31729e490f49a8a452aff0700     35\n",
      "8d0fe3de2c4276bb0631e0b9d10580f426c0838f1e3f3c47f833d26632c6dd40     35\n",
      "Name: count, dtype: int64\n"
     ]
    }
   ],
   "source": [
    "print(\"Total function hashes (8001 duplicates)\")\n",
    "print(df_csv.sha256.describe())\n",
    "print()\n",
    "print(df_csv['sha256'].value_counts().head(15))"
   ]
  },
  {
   "cell_type": "code",
   "execution_count": 40,
   "metadata": {},
   "outputs": [
    {
     "data": {
      "text/html": [
       "<div>\n",
       "<style scoped>\n",
       "    .dataframe tbody tr th:only-of-type {\n",
       "        vertical-align: middle;\n",
       "    }\n",
       "\n",
       "    .dataframe tbody tr th {\n",
       "        vertical-align: top;\n",
       "    }\n",
       "\n",
       "    .dataframe thead th {\n",
       "        text-align: right;\n",
       "    }\n",
       "</style>\n",
       "<table border=\"1\" class=\"dataframe\">\n",
       "  <thead>\n",
       "    <tr style=\"text-align: right;\">\n",
       "      <th></th>\n",
       "      <th>code</th>\n",
       "      <th>function_name</th>\n",
       "      <th>filepath</th>\n",
       "      <th>n_tokens</th>\n",
       "      <th>tokens</th>\n",
       "      <th>code_embedding</th>\n",
       "      <th>sha256</th>\n",
       "    </tr>\n",
       "  </thead>\n",
       "  <tbody>\n",
       "    <tr>\n",
       "      <th>2817</th>\n",
       "      <td>@Override\\n    public @NotNull ActionUpdateThr...</td>\n",
       "      <td>getActionUpdateThread</td>\n",
       "      <td>vcs-impl/src/com/intellij/openapi/vcs/actions/...</td>\n",
       "      <td>26</td>\n",
       "      <td>[6123, 198, 262, 586, 571, 11250, 5703, 4387, ...</td>\n",
       "      <td>[-0.04584747180342674, -0.01652103289961815, 0...</td>\n",
       "      <td>686c07da765011de27f36183b9d880f94e95a8d94bc098...</td>\n",
       "    </tr>\n",
       "    <tr>\n",
       "      <th>2876</th>\n",
       "      <td>@Override\\n    public @NotNull ActionUpdateThr...</td>\n",
       "      <td>getActionUpdateThread</td>\n",
       "      <td>vcs-impl/src/com/intellij/openapi/vcs/actions/...</td>\n",
       "      <td>26</td>\n",
       "      <td>[6123, 198, 262, 586, 571, 11250, 5703, 4387, ...</td>\n",
       "      <td>[-0.04584747180342674, -0.01652103289961815, 0...</td>\n",
       "      <td>686c07da765011de27f36183b9d880f94e95a8d94bc098...</td>\n",
       "    </tr>\n",
       "  </tbody>\n",
       "</table>\n",
       "</div>"
      ],
      "text/plain": [
       "                                                   code   \n",
       "2817  @Override\\n    public @NotNull ActionUpdateThr...  \\\n",
       "2876  @Override\\n    public @NotNull ActionUpdateThr...   \n",
       "\n",
       "              function_name   \n",
       "2817  getActionUpdateThread  \\\n",
       "2876  getActionUpdateThread   \n",
       "\n",
       "                                               filepath  n_tokens   \n",
       "2817  vcs-impl/src/com/intellij/openapi/vcs/actions/...        26  \\\n",
       "2876  vcs-impl/src/com/intellij/openapi/vcs/actions/...        26   \n",
       "\n",
       "                                                 tokens   \n",
       "2817  [6123, 198, 262, 586, 571, 11250, 5703, 4387, ...  \\\n",
       "2876  [6123, 198, 262, 586, 571, 11250, 5703, 4387, ...   \n",
       "\n",
       "                                         code_embedding   \n",
       "2817  [-0.04584747180342674, -0.01652103289961815, 0...  \\\n",
       "2876  [-0.04584747180342674, -0.01652103289961815, 0...   \n",
       "\n",
       "                                                 sha256  \n",
       "2817  686c07da765011de27f36183b9d880f94e95a8d94bc098...  \n",
       "2876  686c07da765011de27f36183b9d880f94e95a8d94bc098...  "
      ]
     },
     "execution_count": 40,
     "metadata": {},
     "output_type": "execute_result"
    }
   ],
   "source": [
    "# look at 2nd most duplicated funciton (by hash)\n",
    "df_csv[df_csv['sha256'] == '686c07da765011de27f36183b9d880f94e95a8d94bc098ba79bb7129cd2bca53'].head(2)"
   ]
  },
  {
   "cell_type": "code",
   "execution_count": 260,
   "metadata": {},
   "outputs": [
    {
     "name": "stdout",
     "output_type": "stream",
     "text": [
      "@Override\n",
      "    public @NotNull ActionUpdateThread getActionUpdateThread() {\n",
      "      return ActionUpdateThread.EDT;\n",
      "    }\n"
     ]
    }
   ],
   "source": [
    "print(df_csv.code.iloc[2876])"
   ]
  },
  {
   "attachments": {},
   "cell_type": "markdown",
   "metadata": {},
   "source": [
    "#### Distribution "
   ]
  },
  {
   "cell_type": "code",
   "execution_count": 258,
   "metadata": {},
   "outputs": [
    {
     "data": {
      "text/html": [
       "<div>\n",
       "<style scoped>\n",
       "    .dataframe tbody tr th:only-of-type {\n",
       "        vertical-align: middle;\n",
       "    }\n",
       "\n",
       "    .dataframe tbody tr th {\n",
       "        vertical-align: top;\n",
       "    }\n",
       "\n",
       "    .dataframe thead th {\n",
       "        text-align: right;\n",
       "    }\n",
       "</style>\n",
       "<table border=\"1\" class=\"dataframe\">\n",
       "  <thead>\n",
       "    <tr style=\"text-align: right;\">\n",
       "      <th></th>\n",
       "      <th>function_name</th>\n",
       "      <th>n_tokens</th>\n",
       "      <th>index</th>\n",
       "      <th>count</th>\n",
       "    </tr>\n",
       "  </thead>\n",
       "  <tbody>\n",
       "    <tr>\n",
       "      <th>43667</th>\n",
       "      <td>getActionUpdateThread</td>\n",
       "      <td>25</td>\n",
       "      <td>3</td>\n",
       "      <td>468</td>\n",
       "    </tr>\n",
       "    <tr>\n",
       "      <th>67948</th>\n",
       "      <td>getActionUpdateThread</td>\n",
       "      <td>26</td>\n",
       "      <td>2817</td>\n",
       "      <td>184</td>\n",
       "    </tr>\n",
       "    <tr>\n",
       "      <th>129112</th>\n",
       "      <td>getActionUpdateThread</td>\n",
       "      <td>26</td>\n",
       "      <td>18</td>\n",
       "      <td>159</td>\n",
       "    </tr>\n",
       "    <tr>\n",
       "      <th>91713</th>\n",
       "      <td>getActionUpdateThread</td>\n",
       "      <td>13</td>\n",
       "      <td>2427</td>\n",
       "      <td>115</td>\n",
       "    </tr>\n",
       "    <tr>\n",
       "      <th>52618</th>\n",
       "      <td>dispose</td>\n",
       "      <td>10</td>\n",
       "      <td>1840</td>\n",
       "      <td>93</td>\n",
       "    </tr>\n",
       "    <tr>\n",
       "      <th>...</th>\n",
       "      <td>...</td>\n",
       "      <td>...</td>\n",
       "      <td>...</td>\n",
       "      <td>...</td>\n",
       "    </tr>\n",
       "    <tr>\n",
       "      <th>27884</th>\n",
       "      <td>updateWorkflow</td>\n",
       "      <td>68</td>\n",
       "      <td>46762</td>\n",
       "      <td>2</td>\n",
       "    </tr>\n",
       "    <tr>\n",
       "      <th>82030</th>\n",
       "      <td>run</td>\n",
       "      <td>5</td>\n",
       "      <td>51567</td>\n",
       "      <td>2</td>\n",
       "    </tr>\n",
       "    <tr>\n",
       "      <th>82086</th>\n",
       "      <td>toString</td>\n",
       "      <td>8</td>\n",
       "      <td>170004</td>\n",
       "      <td>2</td>\n",
       "    </tr>\n",
       "    <tr>\n",
       "      <th>82127</th>\n",
       "      <td>update</td>\n",
       "      <td>33</td>\n",
       "      <td>123383</td>\n",
       "      <td>2</td>\n",
       "    </tr>\n",
       "    <tr>\n",
       "      <th>167216</th>\n",
       "      <td>getViewDescriptor</td>\n",
       "      <td>28</td>\n",
       "      <td>29784</td>\n",
       "      <td>2</td>\n",
       "    </tr>\n",
       "  </tbody>\n",
       "</table>\n",
       "<p>3905 rows × 4 columns</p>\n",
       "</div>"
      ],
      "text/plain": [
       "                function_name  n_tokens   index  count\n",
       "43667   getActionUpdateThread        25       3    468\n",
       "67948   getActionUpdateThread        26    2817    184\n",
       "129112  getActionUpdateThread        26      18    159\n",
       "91713   getActionUpdateThread        13    2427    115\n",
       "52618                 dispose        10    1840     93\n",
       "...                       ...       ...     ...    ...\n",
       "27884          updateWorkflow        68   46762      2\n",
       "82030                     run         5   51567      2\n",
       "82086                toString         8  170004      2\n",
       "82127                  update        33  123383      2\n",
       "167216      getViewDescriptor        28   29784      2\n",
       "\n",
       "[3905 rows x 4 columns]"
      ]
     },
     "execution_count": 258,
     "metadata": {},
     "output_type": "execute_result"
    }
   ],
   "source": [
    "# a closer look on the distribution of exact duplicates\n",
    "d = df_csv.reset_index()\n",
    "d = d \\\n",
    "    .groupby(['sha256'], as_index=False) \\\n",
    "    .agg({\n",
    "        'function_name':'first',\n",
    "        'n_tokens':'first',\n",
    "        'index':'first',\n",
    "        'sha256':'size',\n",
    "        }) \\\n",
    "   .rename(columns={'sha256': 'count'})\n",
    "d = d[d['count'] > 1].sort_values('count', ascending=False)\n",
    "d\n"
   ]
  },
  {
   "cell_type": "code",
   "execution_count": 250,
   "metadata": {},
   "outputs": [
    {
     "data": {
      "text/plain": [
       "11906"
      ]
     },
     "execution_count": 250,
     "metadata": {},
     "output_type": "execute_result"
    }
   ],
   "source": [
    "# total 11906 (duplicates) - 3905 (each one is uniq) = 8001 duplicates, as before\n",
    "d['count'].sum()"
   ]
  },
  {
   "cell_type": "code",
   "execution_count": 257,
   "metadata": {},
   "outputs": [
    {
     "data": {
      "text/html": [
       "<div>\n",
       "<style scoped>\n",
       "    .dataframe tbody tr th:only-of-type {\n",
       "        vertical-align: middle;\n",
       "    }\n",
       "\n",
       "    .dataframe tbody tr th {\n",
       "        vertical-align: top;\n",
       "    }\n",
       "\n",
       "    .dataframe thead th {\n",
       "        text-align: right;\n",
       "    }\n",
       "</style>\n",
       "<table border=\"1\" class=\"dataframe\">\n",
       "  <thead>\n",
       "    <tr style=\"text-align: right;\">\n",
       "      <th></th>\n",
       "      <th>n_tokens</th>\n",
       "      <th>count</th>\n",
       "    </tr>\n",
       "  </thead>\n",
       "  <tbody>\n",
       "    <tr>\n",
       "      <th>count</th>\n",
       "      <td>3905.000000</td>\n",
       "      <td>3905.000000</td>\n",
       "    </tr>\n",
       "    <tr>\n",
       "      <th>mean</th>\n",
       "      <td>23.608707</td>\n",
       "      <td>3.048912</td>\n",
       "    </tr>\n",
       "    <tr>\n",
       "      <th>std</th>\n",
       "      <td>34.563007</td>\n",
       "      <td>9.269829</td>\n",
       "    </tr>\n",
       "    <tr>\n",
       "      <th>min</th>\n",
       "      <td>3.000000</td>\n",
       "      <td>2.000000</td>\n",
       "    </tr>\n",
       "    <tr>\n",
       "      <th>25%</th>\n",
       "      <td>14.000000</td>\n",
       "      <td>2.000000</td>\n",
       "    </tr>\n",
       "    <tr>\n",
       "      <th>50%</th>\n",
       "      <td>18.000000</td>\n",
       "      <td>2.000000</td>\n",
       "    </tr>\n",
       "    <tr>\n",
       "      <th>75%</th>\n",
       "      <td>24.000000</td>\n",
       "      <td>3.000000</td>\n",
       "    </tr>\n",
       "    <tr>\n",
       "      <th>max</th>\n",
       "      <td>749.000000</td>\n",
       "      <td>468.000000</td>\n",
       "    </tr>\n",
       "  </tbody>\n",
       "</table>\n",
       "</div>"
      ],
      "text/plain": [
       "          n_tokens        count\n",
       "count  3905.000000  3905.000000\n",
       "mean     23.608707     3.048912\n",
       "std      34.563007     9.269829\n",
       "min       3.000000     2.000000\n",
       "25%      14.000000     2.000000\n",
       "50%      18.000000     2.000000\n",
       "75%      24.000000     3.000000\n",
       "max     749.000000   468.000000"
      ]
     },
     "execution_count": 257,
     "metadata": {},
     "output_type": "execute_result"
    }
   ],
   "source": [
    "d[[\"n_tokens\", \"count\"]].describe()"
   ]
  },
  {
   "cell_type": "code",
   "execution_count": 261,
   "metadata": {},
   "outputs": [
    {
     "data": {
      "text/html": [
       "<div>\n",
       "<style scoped>\n",
       "    .dataframe tbody tr th:only-of-type {\n",
       "        vertical-align: middle;\n",
       "    }\n",
       "\n",
       "    .dataframe tbody tr th {\n",
       "        vertical-align: top;\n",
       "    }\n",
       "\n",
       "    .dataframe thead th {\n",
       "        text-align: right;\n",
       "    }\n",
       "</style>\n",
       "<table border=\"1\" class=\"dataframe\">\n",
       "  <thead>\n",
       "    <tr style=\"text-align: right;\">\n",
       "      <th></th>\n",
       "      <th>function_name</th>\n",
       "      <th>n_tokens</th>\n",
       "      <th>index</th>\n",
       "      <th>count</th>\n",
       "    </tr>\n",
       "  </thead>\n",
       "  <tbody>\n",
       "    <tr>\n",
       "      <th>67948</th>\n",
       "      <td>getActionUpdateThread</td>\n",
       "      <td>26</td>\n",
       "      <td>2817</td>\n",
       "      <td>184</td>\n",
       "    </tr>\n",
       "    <tr>\n",
       "      <th>129112</th>\n",
       "      <td>getActionUpdateThread</td>\n",
       "      <td>26</td>\n",
       "      <td>18</td>\n",
       "      <td>159</td>\n",
       "    </tr>\n",
       "    <tr>\n",
       "      <th>161501</th>\n",
       "      <td>getActionUpdateThread</td>\n",
       "      <td>26</td>\n",
       "      <td>4750</td>\n",
       "      <td>54</td>\n",
       "    </tr>\n",
       "    <tr>\n",
       "      <th>23188</th>\n",
       "      <td>message</td>\n",
       "      <td>42</td>\n",
       "      <td>8602</td>\n",
       "      <td>35</td>\n",
       "    </tr>\n",
       "    <tr>\n",
       "      <th>124722</th>\n",
       "      <td>messagePointer</td>\n",
       "      <td>48</td>\n",
       "      <td>8603</td>\n",
       "      <td>29</td>\n",
       "    </tr>\n",
       "    <tr>\n",
       "      <th>...</th>\n",
       "      <td>...</td>\n",
       "      <td>...</td>\n",
       "      <td>...</td>\n",
       "      <td>...</td>\n",
       "    </tr>\n",
       "    <tr>\n",
       "      <th>81066</th>\n",
       "      <td>removeIf</td>\n",
       "      <td>39</td>\n",
       "      <td>111742</td>\n",
       "      <td>2</td>\n",
       "    </tr>\n",
       "    <tr>\n",
       "      <th>82129</th>\n",
       "      <td>getPresentableDetails</td>\n",
       "      <td>32</td>\n",
       "      <td>105654</td>\n",
       "      <td>2</td>\n",
       "    </tr>\n",
       "    <tr>\n",
       "      <th>27884</th>\n",
       "      <td>updateWorkflow</td>\n",
       "      <td>68</td>\n",
       "      <td>46762</td>\n",
       "      <td>2</td>\n",
       "    </tr>\n",
       "    <tr>\n",
       "      <th>82127</th>\n",
       "      <td>update</td>\n",
       "      <td>33</td>\n",
       "      <td>123383</td>\n",
       "      <td>2</td>\n",
       "    </tr>\n",
       "    <tr>\n",
       "      <th>167216</th>\n",
       "      <td>getViewDescriptor</td>\n",
       "      <td>28</td>\n",
       "      <td>29784</td>\n",
       "      <td>2</td>\n",
       "    </tr>\n",
       "  </tbody>\n",
       "</table>\n",
       "<p>832 rows × 4 columns</p>\n",
       "</div>"
      ],
      "text/plain": [
       "                function_name  n_tokens   index  count\n",
       "67948   getActionUpdateThread        26    2817    184\n",
       "129112  getActionUpdateThread        26      18    159\n",
       "161501  getActionUpdateThread        26    4750     54\n",
       "23188                 message        42    8602     35\n",
       "124722         messagePointer        48    8603     29\n",
       "...                       ...       ...     ...    ...\n",
       "81066                removeIf        39  111742      2\n",
       "82129   getPresentableDetails        32  105654      2\n",
       "27884          updateWorkflow        68   46762      2\n",
       "82127                  update        33  123383      2\n",
       "167216      getViewDescriptor        28   29784      2\n",
       "\n",
       "[832 rows x 4 columns]"
      ]
     },
     "execution_count": 261,
     "metadata": {},
     "output_type": "execute_result"
    }
   ],
   "source": [
    "d[d['n_tokens'] > 25]"
   ]
  },
  {
   "cell_type": "code",
   "execution_count": 264,
   "metadata": {},
   "outputs": [
    {
     "name": "stdout",
     "output_type": "stream",
     "text": [
      "                      function_name  n_tokens  index  count\n",
      "              getActionUpdateThread        25      3    468\n",
      "              getActionUpdateThread        26   2817    184\n",
      "              getActionUpdateThread        26     18    159\n",
      "              getActionUpdateThread        13   2427    115\n",
      "                            dispose        10   1840     93\n",
      "              getActionUpdateThread        25   2811     88\n",
      "              getActionUpdateThread        21   2863     86\n",
      "              getActionUpdateThread        26   4750     54\n",
      "              getActionUpdateThread        22   2841     48\n",
      "                           getGroup        10   6265     44\n",
      "                 startInWriteAction        17   8126     39\n",
      "                           getGroup        17   7530     38\n",
      "              getActionUpdateThread        16  14725     37\n",
      "                         getProject        17  14213     35\n",
      "                            message        42   8602     35\n",
      "              getActionUpdateThread        14  16457     32\n",
      "                     messagePointer        48   8603     29\n",
      "                         getProject        13   7758     26\n",
      "                           getGroup        15   7533     25\n",
      "                            dispose         6   1898     25\n",
      "                            isValid         3   1200     25\n",
      "                            dispose         5   5377     25\n",
      "                         getProject         8   4258     24\n",
      "              getActionUpdateThread        17   2869     21\n",
      "              getActionUpdateThread        25  12995     21\n",
      "                            dispose         7  18452     20\n",
      "                           toString        15    667     19\n",
      "                       getComponent         9   1343     18\n",
      "                         getProject         4  10352     17\n",
      "                            dispose        10  11509     17\n",
      "                          loadState        21    691     16\n",
      "              getActionUpdateThread        26   3460     16\n",
      "                         isDisposed        13  18015     16\n",
      "                               size         3   1977     16\n",
      "                           toString        14  13025     15\n",
      "                            getName        20  25100     15\n",
      "                canNavigateToSource        17  27531     15\n",
      "                            getIcon        13    126     15\n",
      "                       getComponent         5    475     14\n",
      "                         getProject        17  14495     13\n",
      "                canNavigateToSource        18   1167     13\n",
      "                            dispose         3   9804     13\n",
      "                            isValid        14  27834     13\n",
      "                         getProject        20  10384     13\n",
      "                            isEmpty         3  17903     12\n",
      "                            getName        12  10694     12\n",
      "              getActionUpdateThread        22  46792     12\n",
      "                     getMinimumSize        17  24502     12\n",
      "               getComponentGraphics        32  26641     12\n",
      "                            getName        15  27446     12\n",
      "                           getGroup         7  10883     12\n",
      "                         getProject        16   2687     12\n",
      "                            dispose        10   9968     12\n",
      "                         isDisposed         4  10297     12\n",
      "                         getProject         7  43121     12\n",
      "                   isValidForLookup        16  56466     12\n",
      "                            getName         7   4441     12\n",
      "                           hashCode        15  92611     12\n",
      "                              clear         3  14974     12\n",
      "                              close         3   1328     11\n",
      "                           getIndex        12   3164     11\n",
      "                        isDumbAware        17   4716     11\n",
      "                               size        14  58450     11\n",
      "                        isDirectory        15   4851     10\n",
      "                  createCenterPanel        18   6290     10\n",
      "                            getName        11   9285     10\n",
      "                          isEnabled         3  23009     10\n",
      "                             cancel         3  17931     10\n",
      "                            getIcon         4   4435     10\n",
      "                        canNavigate        15  27838      9\n",
      "                       getComponent         7    885      9\n",
      "                  createCenterPanel        17    370      9\n",
      "                             commit         3   9806      9\n",
      "                            isEmpty        16  88611      9\n",
      "                          getEditor        17  65243      9\n",
      "                     isBorderOpaque        16  36555      9\n",
      "                             update        30  11768      9\n",
      "                       getComponent        22  29846      9\n",
      "                            getName        19   2258      9\n",
      "                          getOffset        13  59189      9\n",
      "                            getIcon        15  40813      8\n",
      "                               size        15   9518      8\n",
      "                 startInWriteAction        10  39767      8\n",
      "                         getProject        15  21450      8\n",
      "                            getName         3  24472      8\n",
      "                              getId        12   9669      8\n",
      "                            dispose         8  23546      8\n",
      "                            dispose         9  32631      8\n",
      "                             remove        15  53263      8\n",
      "                           getState         6  27999      8\n",
      "                            getIcon        17  13026      8\n",
      "                     getMaximumSize        17  24503      8\n",
      "                            getFile        17   7805      8\n",
      "                            getIcon        16  12017      8\n",
      "                             remove        15   2855      8\n",
      "                setPluginDescriptor        26  11561      8\n",
      "                             remove        15  51763      8\n",
      "                         getProject         8  45939      8\n",
      "                               size        11  72817      8\n",
      "                     messagePointer        49  17783      8\n",
      "                         getProject         8  26412      8\n",
      "                         getProject        21   9951      8\n",
      "                         isWritable        15  20371      8\n",
      "                            hasNext        14  48515      8\n",
      "              getActionUpdateThread        21   5439      7\n",
      "                            getFile        20   8536      7\n",
      "                          getOffset         4  79878      7\n",
      "                               size        16  88609      7\n",
      "                           isBinary        15   8963      7\n",
      "                           toString        14   1191      7\n",
      "                  createCenterPanel        19  14180      7\n",
      "            isSearchInModuleContent        23   3585      7\n",
      "                          isVisible         3  49874      7\n",
      "                           toString        15   9031      7\n",
      "                             update        24  16722      7\n",
      "                       getReference        16  47595      7\n",
      "                     messagePointer        70  53026      7\n",
      "                          getModule         8  15009      7\n",
      "                         isDisposed        16  37223      7\n",
      "                             accept        26 127517      7\n",
      "                              reset         3   8983      7\n",
      "                            getFile        21  14492      7\n",
      "                              clear        19   6941      7\n",
      "                          isEnabled        12  38748      7\n",
      "                setPluginDescriptor        26   3355      7\n",
      "                          getEditor         8  14105      7\n",
      "                           getState        15  38332      7\n",
      "                       getComponent        14  12887      7\n",
      "                 startInWriteAction        17  56827      7\n",
      "                       getComponent        16  30842      7\n",
      "                            getFile        13  25486      7\n",
      "                            message        63  53025      7\n",
      "            isAvailableInEditorOnly        18 117553      7\n",
      "                      isCopyVisible        21  27329      7\n",
      "         getImplementationClassName        19   3356      7\n",
      "                               size        14  25825      7\n",
      "                            isEmpty        14  88596      7\n",
      "                            getText        19  45800      6\n",
      "                         getManager        17  65700      6\n",
      "                        wasLaunched        16  47395      6\n",
      "                       getMainPanel        15  39266      6\n",
      "                           toString        15   2202      6\n",
      "                      findElementAt        19  65760      6\n",
      "           refreshAndFindFileByPath        28  45737      6\n",
      "                setPluginDescriptor        30    463      6\n",
      "                        putUserData        35  10038      6\n",
      "                          getAnchor        17  26571      6\n",
      "               requiresCommittedPSI        18  11231      6\n",
      "                            cleanup         3    699      6\n",
      "                isSearchInLibraries        18   3583      6\n",
      "                     setShortcutSet        13  86928      6\n",
      "                        isDumbAware        17   4765      6\n",
      "                 getOriginalElement        17  65790      6\n",
      "                      getReferences        26  47596      6\n",
      "                            isEmpty        18  51725      6\n",
      "                              getId        16  40127      6\n",
      "                        getUseScope        27  47599      6\n",
      "                    getPresentation        16  14111      6\n",
      "                      wasTerminated        16  47377      6\n",
      "                              reset         3  34536      6\n",
      "                         isModified        15  21810      6\n",
      "                           addAfter        30  91527      6\n",
      "                            getText        12  33190      6\n",
      "              getActionUpdateThread        25   9253      6\n",
      "                        isDumbAware         9  59647      6\n",
      "                          getEditor         4  25475      6\n",
      "                           toString         7  24675      6\n",
      "                           getValue        11  72369      6\n",
      "               displayTextInToolbar        17  27714      6\n",
      "                processDeclarations        42  47597      6\n",
      "                     getVirtualFile        10  14104      6\n",
      "                           getColor        12  14185      6\n",
      "                     getStartOffset        15 106337      6\n",
      "                         isModified         4   8039      6\n",
      "                        getDocument         8   4260      6\n",
      "                        getDocument        13  49344      6\n",
      "                     isEquivalentTo        22  47610      6\n",
      "                              getId        20  21946      6\n",
      "                        isDirectory        15  25220      6\n",
      "                             expand        40 132213      6\n",
      "                           toString         5  12210      6\n",
      "                         setEnabled        16  70435      6\n",
      "                canNavigateToSource        17  14502      6\n",
      "           getAccessibleActionCount        18  21699      6\n",
      "                    actionPerformed        16    842      6\n",
      "                           getGroup        17  35725      6\n",
      "                            getPath        12  15359      6\n",
      "                       isInProgress        15  47373      6\n",
      "                getAccessibleAction        18  54339      6\n",
      "                          addBefore        30  91526      6\n",
      "                        textMatches        20  65766      6\n",
      "                     getColumnCount        16  12900      6\n",
      "                        getChildren        22  65749      6\n",
      "                         isSelected         3  59327      6\n",
      "                                add        25  91525      5\n",
      "                    getRulesControl        38 164172      5\n",
      "                          getOffset        16   1773      5\n",
      "                  getAccessibleRole        22  40241      5\n",
      "                        checkDelete        21   5958      5\n",
      "  requiresAllDocumentsToBeCommitted        29  64178      5\n",
      "                          getEditor        13   4301      5\n",
      "                  hasAscendingOrder        16  17486      5\n",
      "                             update        24  11798      5\n",
      "                isSearchInLibraries        18 100827      5\n",
      "                        canNavigate        22  47605      5\n",
      "                       getComponent         9  47002      5\n",
      "                             getEnd        13  41264      5\n",
      "                               stop         3  55941      5\n",
      "                            getFile        13    661      5\n",
      "                     getFeatureName         9  83777      5\n",
      "                             getKey        24  35196      5\n",
      "                          getWeight         4  51845      5\n",
      "                         isModified        15  23155      5\n",
      "                            dispose        11  43841      5\n",
      "                            getName        14  91318      5\n",
      "                            message        40  15289      5\n",
      "                           hashCode         8  15190      5\n",
      "                           getTitle        19    115      5\n",
      "                    actionPerformed        10   5373      5\n",
      "            checkMainSlotVisibility        30  86967      5\n",
      "                        addListener         8  22164      5\n",
      "                          isEnabled         5  56352      5\n",
      "                            setName        17 119028      5\n",
      "                        getAccessor        18  67387      5\n",
      "                        isDumbAware        17   4751      5\n",
      "isEnabledWithActivePopupSpeedSearch        19  54289      5\n",
      "               dependsOnFileContent        17  75093      5\n",
      "                         isModified        23  70939      5\n",
      "                      getFileSystem        24 111124      5\n",
      "                           toString        12  21772      5\n",
      "                               show         3  11703      5\n",
      "                       getComponent        21  82074      5\n",
      "                            getName        20   2201      5\n",
      "                           hashCode        16   1170      5\n",
      "                     isBorderOpaque        16  18326      5\n",
      "                            isValid         7  17645      5\n",
      "                        textMatches        19  65765      5\n",
      "                 getDefaultLanguage        23  34292      5\n",
      "                      getTextOffset        16  91519      5\n",
      "                            getIcon        16   1160      5\n",
      "                           getPanel        17  34277      5\n",
      "       getPreferredFocusedComponent        19   8136      5\n",
      "                         isReadOnly        15  12833      5\n",
      "             getStartOffsetInParent        19  91516      5\n",
      "                isSearchInLibraries        18  58076      5\n",
      "                            getIcon        13  24026      5\n",
      "                       getEndOffset        15 106338      5\n",
      "                           checkAdd        25  91528      5\n",
      "                         getContext        15  91299      5\n",
      "                            isFinal        15  47396      5\n",
      "                            getTree        14  12894      5\n",
      "                              clear        15 139451      5\n",
      "                           getStyle        21   9102      5\n",
      "                     isBorderOpaque        16  45461      5\n",
      "                           isBinary        15  23391      5\n",
      "               isSpeedSearchEnabled        17  32858      5\n",
      "                                 ID        18   5068      5\n",
      "              getActionUpdateThread        26  16551      5\n",
      "                       getComponent        12  65086      5\n",
      "                               save        23 105653      5\n",
      "                    getResolveScope        28  47598      5\n",
      "                      createActions        23   9050      5\n",
      "                   isPassParentEnvs        19  36972      5\n",
      "                           hashCode         8  72373      5\n",
      "                          isEnabled        15  48736      5\n",
      "                         setEnabled         6  23010      5\n",
      "                         getProject         6  52593      5\n",
      "                         getProject        10  21136      5\n",
      "       getPreferredFocusedComponent        20  95481      5\n",
      "       getPreferredFocusedComponent        23  39086      5\n",
      "                    findReferenceAt        29  91284      5\n",
      "                            hasNext        15  43858      5\n",
      "                        getUserData        34  10037      5\n",
      "                          fillFiles        77  74049      5\n",
      "                             equals         8  37316      5\n",
      "                   prepareForCommit         5 115508      5\n",
      "                 startInWriteAction        17  26289      5\n",
      "               getModificationStamp        17  20372      5\n",
      "              createEmptyCollection        22 140514      5\n",
      "                         getVersion         3  23394      5\n",
      "                              getId         7  15144      5\n",
      "                         getProject        18   4277      5\n",
      "                           hashCode        16   9672      5\n",
      "                            getName        16  23625      5\n",
      "               isSpeedSearchEnabled        17   8761      5\n",
      "                              getId        19  31159      5\n",
      "                       mappingCount        31   7001      4\n",
      "                           entrySet        26 101513      4\n",
      "              getActionUpdateThread        25   6397      4\n",
      "                            message        35  76901      4\n",
      "                              getId        13  79628      4\n",
      "                             update        22   6398      4\n",
      "                           getColor         7  33419      4\n",
      "                        getLanguage         8  68087      4\n",
      "                             accept        22   5969      4\n",
      "                            perform        17  20844      4\n",
      "                              valid        17 106141      4\n",
      "                           iterator        15   7039      4\n",
      "                       getTimestamp        13  63799      4\n",
      "                             getEnd        13  13870      4\n",
      "                            advance       271   7026      4\n",
      "                         isDisposed        15  18170      4\n",
      "                        addListener        21  21826      4\n",
      "                   getSourceActions        18  27661      4\n",
      "                       recoverState       126   7028      4\n",
      "                              clear        15   7036      4\n",
      "                            refresh        11  45736      4\n",
      "               getNavigationElement        17  47573      4\n",
      "                             update        28   4721      4\n",
      "                             update         3  55162      4\n",
      "                  createCenterPanel        23  92453      4\n",
      "                       getTextRange        16  65757      4\n",
      "                           contains        15   6998      4\n",
      "                            isValid        18 131320      4\n",
      "                           hashCode        95   6990      4\n",
      "                            getPath        16  83555      4\n",
      "                         getElement         4   1172      4\n",
      "              getActionUpdateThread        21  35768      4\n",
      "                 getImportPerformer        19  67797      4\n",
      "                          getEditor        20  27907      4\n",
      "                              clear       231   6987      4\n",
      "                            getNode        15  91500      4\n",
      "                  getTextAttributes         5 148514      4\n",
      "                      getBackground        12  56114      4\n",
      "                             addAll        24   7052      4\n",
      "                         getProject        16  27233      4\n",
      "                            refresh        18   4860      4\n",
      "                       getAlignment         8  34490      4\n",
      "                      isInitialized        13   7273      4\n",
      "                          getEditor        13   7499      4\n",
      "                           getPoint        13  35310      4\n",
      "                            getIcon         6   1298      4\n",
      "                            getFile        17  57943      4\n",
      "                    hasMoreElements        16   7030      4\n",
      "                           contains        19   7048      4\n",
      "                      getTextOffset        16  47581      4\n",
      "                            getText        12  41265      4\n",
      "                              clear        41 123459      4\n",
      "                     getDisplayName         8  15143      4\n",
      "                     getMaximumSize        17  76003      4\n",
      "                         isWritable        15  87858      4\n",
      "                          getWeight        16  82400      4\n",
      "                           hashCode        16  90531      4\n",
      "                        getBasePath        21  12534      4\n",
      "              isOnlyOneFacetAllowed        19  15528      4\n",
      "                            getName        17  25036      4\n",
      "                        isAvailable        26 134002      4\n",
      "                        getDocument        21   7804      4\n",
      "                     getStartOffset        17  41326      4\n",
      "                   getRightSideType        20  86852      4\n",
      "                      containsValue        24 101412      4\n",
      "                            getUrls        14  15168      4\n",
      "                       getComponent        23  69710      4\n",
      "                          removeAll        63   7046      4\n",
      "                         isWritable        20 131321      4\n",
      "                          getWeight        16  67110      4\n",
      "                            isEmpty        15  17554      4\n",
      "                     getStartOffset         5  68026      4\n",
      "                            dispose         9  33459      4\n",
      "                     createCacheKey        20  43305      4\n",
      "                       getRawResult        13   6877      4\n",
      "                    actionPerformed        17    299      4\n",
      "                          pushState        90   7027      4\n",
      "                     removeTreeNode       714   7020      4\n",
      "                    actionPerformed        19     13      4\n",
      "                    getTextSettings        25  94500      4\n",
      "                        getLanguage        23 131350      4\n",
      "                      getTextLength        16  91517      4\n",
      "                    getSupportedVcs        12   2064      4\n",
      "                isSearchInLibraries        18   3586      4\n",
      "                           toString        16 163747      4\n",
      "                            hasNext         3  48570      4\n",
      "                            getText        11  25844      4\n",
      "                 getProjectFilePath        21  12536      4\n",
      "                           hashCode        16   4006      4\n",
      "                         isCanceled         4  55944      4\n",
      "                           toString        98   7044      4\n",
      "                           getIndex        15  15905      4\n",
      "                           isDefect        16  47374      4\n",
      "                              getId        12 127465      4\n",
      "                   isEqualToDefault        10  72384      4\n",
      "                             update        31  11765      4\n",
      "                            setName         5  84394      4\n",
      "                          isShowing        15  55908      4\n",
      "                          getSpaces        13  22642      4\n",
      "                        containsAll        60   7045      4\n",
      "                       getRawResult        12   6907      4\n",
      "                        isAvailable        26  56825      4\n",
      "                           toString        19   6970      4\n",
      "                 isEnabledByDefault        16  10639      4\n",
      "                            getIcon         8  15223      4\n",
      "                          getOffset        16 121249      4\n",
      "                        asyncCommit        25  31208      4\n",
      "         getProcessedElementsHeader        20  88876      4\n",
      "                            getName        16  98397      4\n",
      "                           getPanel        13  13190      4\n",
      "                          retainAll        64   7047      4\n",
      "                            hasNext        14   7029      4\n",
      "                           navigate        13  58699      4\n",
      "                            isValid        11  63839      4\n",
      "                        getDocument        20  18226      4\n",
      "                              getId         3  17800      4\n",
      "                      getTextLength        17  20315      4\n",
      "                       mouseClicked        35 133262      4\n",
      "                       tableSizeFor        90   6974      4\n",
      "                            getName         7  24814      4\n",
      "               getModificationStamp         5  20918      4\n",
      "                           getTitle        20  21707      4\n",
      "                              getId        19  31054      4\n",
      "                    getPresentation        16  91309      4\n",
      "                              clear        13 120143      4\n",
      "                           getValue        20   6968      4\n",
      "                         isWritable         4  14982      4\n",
      "                        nextElement        15   7033      4\n",
      "                        isDumbAware        22   6399      4\n",
      "                            isModal        15  55902      4\n",
      "                             getKey        14 101423      4\n",
      "                        getDocument         4  20908      4\n",
      "                            getFile         8  14875      4\n",
      "                         getProject         6  46050      4\n",
      "         handleMouseClickOnSelected        18  76055      4\n",
      "                          focusLost        15  35957      4\n",
      "                             remove        10   7041      4\n",
      "                           getPanel        21  21818      4\n",
      "                 getCellEditorValue        17  10976      4\n",
      "                    isCaseSensitive        15  95277      4\n",
      "                            dispose        16  24108      4\n",
      "                         getElement        17  67590      4\n",
      "                             isOpen        14  12540      4\n",
      "                          isEnabled        23   8223      4\n",
      "                           toString        15  42615      4\n",
      "                            advance         3  39422      4\n",
      "                      getTextLength         4  53115      4\n",
      "                             getKey        19 101475      4\n",
      "                        getFileType         8  20931      4\n",
      "                         rotateLeft       147   7021      4\n",
      "                             remove        62   7049      4\n",
      "                           contains        10   7040      4\n",
      "                  isClassAcceptable        20  52219      4\n",
      "                            isEmpty        14  72818      4\n",
      "                           toString        24  72383      4\n",
      "             getStartOffsetInParent        19  47580      4\n",
      "                   balanceInsertion       390   7023      4\n",
      "            isSearchInModuleContent        23 100826      4\n",
      "                        setDelegate        17  65179      4\n",
      "                         mouseMoved        36 133263      4\n",
      "                           hashCode        16 123725      4\n",
      "                            toArray       195   7042      4\n",
      "                       getRawResult        12   6899      4\n",
      "               getModificationStamp        18   4856      4\n",
      "                     getDisplayName        16  34048      4\n",
      "                            getFile         8   8052      4\n",
      "                           getTable        14  36503      4\n",
      "                       getEmptyText        21  26659      4\n",
      "                           toString        11  43541      4\n",
      "                            getIcon        15   1295      4\n",
      "                            getName        13  23868      4\n",
      "                         getProject        14  58737      4\n",
      "                    actionPerformed        26  31237      4\n",
      "                          isChanged         4   9805      4\n",
      "                         isPhysical        30 131341      4\n",
      "                    checkInvariants       236   7025      4\n",
      "                           getStart        13  13869      4\n",
      "                            hasNext        16 123469      4\n",
      "                            toArray       274   7043      4\n",
      "                           hashCode        92   7058      4\n",
      "               getModificationStamp        18  20284      4\n",
      "                        getTopPanel        15  48063      4\n",
      "                          getEditor        18  18199      4\n",
      "                               size        12  36564      4\n",
      "                               size        15   1980      4\n",
      "                         getContext        20  47560      4\n",
      "                              reset        15  70941      4\n",
      "                             values        45   6988      4\n",
      "                             update        24  48240      4\n",
      "                              clear        12  29108      4\n",
      "                            isEmpty        26   6979      4\n",
      "                        resizeStamp        33   7003      4\n",
      "                    getScreenBounds        23  36525      4\n",
      "                        computePath        22 111123      4\n",
      "                            getPath        20  62530      4\n",
      "                               size        51   6978      4\n",
      "                        rotateRight       147   7022      4\n",
      "                      writeExternal        29  33167      4\n",
      "                            isEmpty        16   7038      4\n",
      "                            getThis         7  71761      4\n",
      "                            getText        16  45309      4\n",
      "                           getFiles        15  15169      4\n",
      "                               next        54   7032      4\n",
      "                       getComponent        22  47875      4\n",
      "                            getFile        18  75062      4\n",
      "                 getDefaultProvider        23   5890      4\n",
      "                           hashCode         3  45798      4\n",
      "                           getOrder         3  59369      4\n",
      "                             equals        50   7059      4\n",
      "            checkMainSlotVisibility        30  86926      4\n",
      "                        isDirectory         4  21102      4\n",
      "                    getSelectedItem        16  30960      4\n",
      "                        getDocument        17   7757      4\n",
      "                       getComponent         7   9964      4\n",
      "                          untreeify       107   7012      4\n",
      "                        getPriority        20   2919      4\n",
      "                            getIcon         8  31020      4\n",
      "                    balanceDeletion       654   7024      4\n",
      "                               copy        34 131319      4\n",
      "                         unlockRoot        15   7016      4\n",
      "                     messagePointer        46  15290      4\n",
      "                        isAvailable         4  27404      4\n",
      "                         treeifyBin       218   7011      4\n",
      "                               size        16   7037      4\n",
      "                            getName        13  88577      4\n",
      "                            dispose         6  22854      4\n",
      "                                add        17   7051      4\n",
      "                       getRawResult        12   6915      4\n",
      "                       getRawResult        12   6891      4\n",
      "                      containsValue       114   6982      4\n",
      "                            getFile         8  44648      4\n"
     ]
    }
   ],
   "source": [
    "# print the whole list\n",
    "with pd.option_context('display.max_rows', None, 'display.max_columns', None):\n",
    "    print(d[d['count'] > 3].to_string(index=False))"
   ]
  },
  {
   "cell_type": "code",
   "execution_count": 325,
   "metadata": {},
   "outputs": [],
   "source": [
    "def print_code(d, i):\n",
    "    print(d.iloc[i]['filepath'])\n",
    "    print(d.iloc[i]['code'])\n",
    "    print(d.iloc[i]['sha256'])"
   ]
  },
  {
   "cell_type": "code",
   "execution_count": 343,
   "metadata": {},
   "outputs": [
    {
     "name": "stdout",
     "output_type": "stream",
     "text": [
      "468 copies\n",
      "lang-api/src/com/intellij/execution/ui/actions/BaseViewAction.java\n",
      "@Override\n",
      "  public @NotNull ActionUpdateThread getActionUpdateThread() {\n",
      "    return ActionUpdateThread.BGT;\n",
      "  }\n",
      "4308ab318c0cd6e72d79f07b91a6f88924f8aa0b9c351284f19a40db9764fa03\n",
      "\n",
      "184 copies\n",
      "vcs-impl/src/com/intellij/openapi/vcs/actions/ShowAnnotationColorsAction.java\n",
      "@Override\n",
      "    public @NotNull ActionUpdateThread getActionUpdateThread() {\n",
      "      return ActionUpdateThread.EDT;\n",
      "    }\n",
      "686c07da765011de27f36183b9d880f94e95a8d94bc098ba79bb7129cd2bca53\n",
      "\n",
      "159 copies\n",
      "lang-api/src/com/intellij/execution/ui/actions/CloseAction.java\n",
      "@Override\n",
      "  public @NotNull ActionUpdateThread getActionUpdateThread() {\n",
      "    return ActionUpdateThread.EDT;\n",
      "  }\n",
      "c6261907fd79d4d5c58df73f1740eb426f058bdc05214bfdf580d1cdd3b3c4ba\n",
      "\n",
      "115 copies\n",
      "vcs-impl/src/com/intellij/openapi/vcs/actions/AbstractCommonCheckinAction.kt\n",
      "override fun getActionUpdateThread() = ActionUpdateThread.BGT\n",
      "8d08fc554ed03e66945ed893a06f6332d8eeb5e8cb6f8351c475993c60d0b0ac\n",
      "\n"
     ]
    }
   ],
   "source": [
    "# check the top4 duplicates\n",
    "for row in d.head(4).values.tolist():\n",
    "    print(f\"{row[3]} copies\")\n",
    "    print_code(df_csv, row[2])\n",
    "    print()"
   ]
  },
  {
   "cell_type": "code",
   "execution_count": 328,
   "metadata": {},
   "outputs": [
    {
     "name": "stdout",
     "output_type": "stream",
     "text": [
      "diff-api/src/com/intellij/openapi/diff/DiffBundle.java\n",
      "@NotNull\n",
      "  public static @Nls String message(@NotNull @PropertyKey(resourceBundle = BUNDLE) String key, Object @NotNull ... params) {\n",
      "    return INSTANCE.getMessage(key, params);\n",
      "  }\n",
      "23829d84b50fb167104edd40f9b779abf65b93b31729e490f49a8a452aff0700\n"
     ]
    }
   ],
   "source": [
    "# check the function 'message' (42 tokens long, copied 35 times)\n",
    "idx = 8602\n",
    "print_code(df_csv, idx)"
   ]
  },
  {
   "cell_type": "code",
   "execution_count": 316,
   "metadata": {},
   "outputs": [
    {
     "data": {
      "text/plain": [
       "8602                                               diff-api/src/com/intellij/openapi/diff/DiffBundle.java\n",
       "15215                                   remote-servers/api/src/com/intellij/remoteServer/CloudBundle.java\n",
       "17782                 platform-impl/src/com/intellij/util/io/processHandshake/ProcessHandshakeBundle.java\n",
       "23033                                                   dvcs-api/src/com/intellij/dvcs/ui/DvcsBundle.java\n",
       "24398                                        tasks-platform-api/src/com/intellij/tasks/TaskApiBundle.java\n",
       "27299                           testRunner/src/com/intellij/execution/testframework/TestRunnerBundle.java\n",
       "29206                                                   lang-impl/src/com/intellij/build/BuildBundle.java\n",
       "38618                                          tasks-platform-impl/src/com/intellij/tasks/TaskBundle.java\n",
       "38894                               platform-impl/src/com/intellij/openapi/fileTypes/FileTypesBundle.java\n",
       "43692                                                code-style-api/src/com/intellij/CodeStyleBundle.java\n",
       "57918                                    core-api/src/com/intellij/core/CoreDeprecatedMessagesBundle.java\n",
       "66706                                  built-in-server-api/src/org/jetbrains/ide/BuiltInServerBundle.java\n",
       "71076                                      ide-core/src/com/intellij/ide/IdeDeprecatedMessagesBundle.java\n",
       "73835           collaboration-tools/src/com/intellij/collaboration/messages/CollaborationToolsBundle.java\n",
       "74177                         elevation/src/com/intellij/execution/process/elevation/ElevationBundle.java\n",
       "88461                                              vcs-log/api/src/com/intellij/vcs/log/VcsLogBundle.java\n",
       "90325                                structuralsearch/source/com/intellij/structuralsearch/SSRBundle.java\n",
       "93733                                       xdebugger-api/src/com/intellij/xdebugger/XDebuggerBundle.java\n",
       "100346                           smRunner/src/com/intellij/execution/testframework/sm/SmRunnerBundle.java\n",
       "107308    external-process-auth-helper/src/externalProcessAuthHelper/ExternalProcessAuthHelperBundle.java\n",
       "107498                                         analysis-api/src/com/intellij/analysis/AnalysisBundle.java\n",
       "111577                                    indexing-api/src/com/intellij/util/indexing/IndexingBundle.java\n",
       "117404                                                  lang-impl/src/com/intellij/tools/ToolsBundle.java\n",
       "124501                                 platform-impl/src/com/intellij/internal/InternalActionsBundle.java\n",
       "153286              analysis-api/src/com/intellij/codeInspection/InspectionsDeprecatedMessagesBundle.java\n",
       "153627                                       webSymbols/src/com/intellij/webSymbols/WebSymbolsBundle.java\n",
       "154775                             projectModel-api/src/com/intellij/projectModel/ProjectModelBundle.java\n",
       "156159                    structure-view-impl/src/com/intellij/ide/structureView/StructureViewBundle.java\n",
       "156888                                     platform-api/src/com/intellij/openapi/keymap/KeyMapBundle.java\n",
       "157136                              duplicates-analysis/src/com/intellij/dupLocator/DupLocatorBundle.java\n",
       "161521                                         configuration-store-impl/src/ConfigurationStoreBundle.java\n",
       "164843                                   vcs-api/vcs-api-core/src/com/intellij/openapi/vcs/VcsBundle.java\n",
       "165247                                     platform-util-io/src/com/intellij/util/io/IdeUtilIoBundle.java\n",
       "168946                            editor-ui-api/src/com/intellij/openapi/editor/PlatformEditorBundle.java\n",
       "169954                                     platform-api/src/com/intellij/openapi/editor/EditorBundle.java\n",
       "Name: filepath, dtype: object"
      ]
     },
     "metadata": {},
     "output_type": "display_data"
    }
   ],
   "source": [
    "with pd.option_context('display.max_colwidth', None):\n",
    "    display(df_csv[df_csv['sha256'] == df_csv.iloc[idx]['sha256']]['filepath'])"
   ]
  },
  {
   "attachments": {},
   "cell_type": "markdown",
   "metadata": {},
   "source": [
    "### Function lengh\n",
    "\n",
    "Distribution of function lengths (in tokens)"
   ]
  },
  {
   "cell_type": "code",
   "execution_count": 98,
   "metadata": {
    "datalore": {
     "hide_input_from_viewers": false,
     "hide_output_from_viewers": false,
     "node_id": "FJgm0i71t0CK0S5IIPLlBB",
     "report_properties": {
      "rowId": "7Uz3u4JKnISzs9C7wv3x0b"
     },
     "type": "CODE"
    }
   },
   "outputs": [
    {
     "data": {
      "text/plain": [
       "<Axes: >"
      ]
     },
     "execution_count": 98,
     "metadata": {},
     "output_type": "execute_result"
    },
    {
     "data": {
      "image/png": "[encoded data removed]",
      "text/plain": [
       "<Figure size 640x480 with 1 Axes>"
      ]
     },
     "metadata": {},
     "output_type": "display_data"
    }
   ],
   "source": [
    "df_csv[df_csv['n_tokens'] < 4000]['n_tokens'].hist(bins=200, log=True)"
   ]
  },
  {
   "cell_type": "code",
   "execution_count": null,
   "metadata": {},
   "outputs": [
    {
     "data": {
      "text/plain": [
       "<Axes: >"
      ]
     },
     "metadata": {},
     "output_type": "display_data"
    },
    {
     "data": {
      "image/png": "[encoded data removed]",
      "text/plain": [
       "<Figure size 640x480 with 1 Axes>"
      ]
     },
     "metadata": {},
     "output_type": "display_data"
    }
   ],
   "source": [
    "df_sdk.n_tokens.hist()"
   ]
  },
  {
   "cell_type": "code",
   "execution_count": null,
   "metadata": {
    "datalore": {
     "hide_input_from_viewers": false,
     "hide_output_from_viewers": false,
     "node_id": "qfmWMToV6YeycK3ckUU3Va",
     "report_properties": {
      "rowId": "gUq2Zdk9RD8yB6ID9NeMxI"
     },
     "type": "CODE"
    }
   },
   "outputs": [],
   "source": []
  }
 ],
 "metadata": {
  "datalore": {
   "base_environment": "default",
   "computation_mode": "JUPYTER",
   "package_manager": "pip",
   "packages": [],
   "report_row_ids": [
    "s6QZH1RkYkK0T2UDsoETP6",
    "qjqAOscyYbYs8lRusA3F8M",
    "83YZV4RBT7xc5UJeKM7TRJ",
    "0LnOx4xZt00vtdfAj2CFQJ",
    "q9tbMQ894IUhmBSouuoGz9",
    "Vaewoy0c8IIhCvPuYN8KAe",
    "onGFZbC4XYOkVO9liqFnmm",
    "D79FoTckuEUHqXeOr4GOV7",
    "iyQAURPTX8epa6b4RBAGld",
    "DsmKK29SVUp3gGRZNr6yYb",
    "y3nix0cCQl4eX7GNOkeINW",
    "hTbFSBHyy4ozjAIbIr1REF",
    "ooiZheZh58Q0If8ZAVNgTo",
    "LA0M0bYHBAV1Sa8WaSc9gY",
    "6YjIIcFkmDsTbGL2t0rgrN",
    "Zd1T4420zKzw3f5L5Ub189",
    "V55DlNP0dE6KfZhlnrkiyf",
    "KqL43xuZgdSkJt9gwslzh0",
    "8PoWdCDRys6WxcwbAI6yPD",
    "k5RjFoe5lT95CIU8L2jN4n",
    "4Q6Lka94YMvBAGctCeijCf",
    "k5zVIB4CK2OCsYT8CRaIOo",
    "30gUSzSoq7m2fa0whD3qZJ",
    "fZf33bNSHfEMFAjw6DEodZ",
    "8mHhfdUAa9op41oIJcc0Mn",
    "F3jjuMPbtpLoeatZwUrMuK",
    "q81YUMyi1lubOOFdDGZL6w",
    "kRLuAfYw5hYAdShQSuJ3wz",
    "bNMxdErqTZ6Ab4AoannmcU",
    "dXU19Jex07z7nSFSRcZuLn",
    "NVeKfjqDXjGtl0QNm9j2hp",
    "yjomww0NMYecnvSZe5TTNL",
    "FI3cIccRRr9u2qYBgUDzeA",
    "2Xtwt34sUJqrs6bePga6cS",
    "sAxqDDnSJc9ipVv0QfwM2K",
    "K7LpctkSy5RbPZXuQQ7tPA",
    "tbGvdsBqZOroSQzP0mNpW9",
    "KzNPogswBTK0kZdtjHO1zt",
    "m7XKG687252d2tL5UsBLsm",
    "cs60rtxGDBiVMwYtVdgEmK",
    "vu6GHKh4qEev2NemEO5Ti1",
    "sAzqaYFTotEJ9uyrZcUFEh",
    "RsmBAGxrA47tnWHDJuJoDi",
    "h3Cbe5OHxOzkC4k7dheXWI",
    "LSBPfHgSQJEts9BNfOvJ9w",
    "2tLxPrDaFSchT1ekSg4SyC",
    "sUm5vNjaSZTmq83vZHUEJP",
    "UNwcXuGiDKzB3bUPKYrW3o",
    "MCyau72IBzuzQhK8RkAYBJ",
    "8RXMtEt382FXspZL9hxWq5",
    "N5NXpKvwdzu4KQ5YODJFtC",
    "5nZau0SOddI5sUfnTYddbV",
    "VB42ntnFkGa9KHBi1mP8wN",
    "7Uz3u4JKnISzs9C7wv3x0b",
    "gUq2Zdk9RD8yB6ID9NeMxI"
   ],
   "version": 2
  },
  "kernelspec": {
   "display_name": ".venv",
   "language": "python",
   "name": "python3"
  },
  "language_info": {
   "codemirror_mode": {
    "name": "ipython",
    "version": 3
   },
   "file_extension": ".py",
   "mimetype": "text/x-python",
   "name": "python",
   "nbconvert_exporter": "python",
   "pygments_lexer": "ipython3",
   "version": "3.9.15"
  }
 },
 "nbformat": 4,
 "nbformat_minor": 4
}
