{
 "cells": [
  {
   "attachments": {},
   "cell_type": "markdown",
   "metadata": {
    "datalore": {
     "hide_input_from_viewers": false,
     "hide_output_from_viewers": false,
     "node_id": "7s7DzjBfMODjiSWcRxZbnn",
     "report_properties": {
      "rowId": "s6QZH1RkYkK0T2UDsoETP6"
     },
     "type": "MD"
    }
   },
   "source": [
    "# GPT-3 embeddings for code on IJ Community\n",
    "\n",
    "* [Query: vector similarity]()\n",
    "* [Query: aproximate NN index]()\n",
    "* [Retrieval]()\n",
    "* [OpenAI Embeddings]()\n",
    "* [Bonus: data exploraitons]()"
   ]
  },
  {
   "cell_type": "code",
   "execution_count": null,
   "metadata": {
    "datalore": {
     "hide_input_from_viewers": false,
     "hide_output_from_viewers": false,
     "node_id": "jyvjl0S4E7d3SHPQ7qdLs5",
     "report_properties": {
      "rowId": "qjqAOscyYbYs8lRusA3F8M"
     },
     "type": "CODE"
    },
    "vscode": {
     "languageId": "python"
    }
   },
   "outputs": [],
   "source": [
    "!wget https://raw.githubusercontent.com/bzz/jet-search/master/requirements.txt\n",
    "%pip install -r requirements.txt"
   ]
  },
  {
   "cell_type": "code",
   "execution_count": 3,
   "metadata": {
    "datalore": {
     "hide_input_from_viewers": false,
     "hide_output_from_viewers": false,
     "node_id": "nGyAqW0kjsNnY63I3toxdA",
     "report_properties": {
      "rowId": "83YZV4RBT7xc5UJeKM7TRJ"
     },
     "type": "CODE"
    },
    "vscode": {
     "languageId": "python"
    }
   },
   "outputs": [],
   "source": [
    "model=\"text-embedding-ada-002\"\n",
    "code_emb_file = \"ij-communit-platform-functions-embeddings.pkl\"\n",
    "code_emb_index_file = 'ij-communit-platform-functions-embeddings.ann'\n",
    "\n",
    "ON_CLOUD = 'google.colab' in str(get_ipython())\n",
    "\n",
    "if ON_CLOUD:\n",
    "  from google.colab import auth\n",
    "  auth.authenticate_user()"
   ]
  },
  {
   "cell_type": "code",
   "execution_count": null,
   "metadata": {
    "datalore": {
     "hide_input_from_viewers": false,
     "hide_output_from_viewers": false,
     "node_id": "FFOrez0ARmWthPXcEqZ0rU",
     "report_properties": {
      "rowId": "0LnOx4xZt00vtdfAj2CFQJ"
     },
     "type": "CODE"
    },
    "vscode": {
     "languageId": "python"
    }
   },
   "outputs": [],
   "source": [
    "# on collab\n",
    "# !gsutil cp \"gs://cc-eval/cs/$code_emb_file\" .\n",
    "# !gsutil cp \"gs://cc-eval/cs/$code_emb_index_file\" .\n",
    "\n",
    "# on Datalore\n",
    "!wget 'https://storage.googleapis.com/semantic-cs/ij-communit-platform-functions-embeddings.ann'\n",
    "!wget 'https://storage.googleapis.com/semantic-cs/ij-communit-platform-functions-embeddings.pkl'"
   ]
  },
  {
   "attachments": {},
   "cell_type": "markdown",
   "metadata": {
    "datalore": {
     "hide_input_from_viewers": false,
     "hide_output_from_viewers": false,
     "node_id": "jrEvKwaZKmPn4DqoJRDCt7",
     "report_properties": {
      "rowId": "q9tbMQ894IUhmBSouuoGz9"
     },
     "type": "MD"
    }
   },
   "source": [
    "## Query"
   ]
  },
  {
   "attachments": {},
   "cell_type": "markdown",
   "metadata": {
    "datalore": {
     "hide_input_from_viewers": false,
     "hide_output_from_viewers": false,
     "node_id": "KteM10veOKHeeVIejKwMvz",
     "report_properties": {
      "rowId": "Vaewoy0c8IIhCvPuYN8KAe"
     },
     "type": "MD"
    }
   },
   "source": [
    "### Query: vector similarity (precise)\n"
   ]
  },
  {
   "cell_type": "code",
   "execution_count": 2,
   "metadata": {
    "datalore": {
     "hide_input_from_viewers": false,
     "hide_output_from_viewers": false,
     "node_id": "rA9c7wLK4BxAnSnV61vhaF",
     "report_properties": {
      "rowId": "onGFZbC4XYOkVO9liqFnmm"
     },
     "type": "CODE"
    },
    "vscode": {
     "languageId": "python"
    }
   },
   "outputs": [],
   "source": [
    "from openai.embeddings_utils import cosine_similarity\n",
    "from openai.embeddings_utils import get_embedding\n",
    "\n",
    "def search_functions(df, code_query, n=3, pprint=True, n_lines=7):\n",
    "    embedding = get_embedding(code_query, engine='text-embedding-ada-002')\n",
    "    df['similarities'] = df.code_embedding.apply(lambda x: cosine_similarity(x, embedding))\n",
    "\n",
    "    res = df.sort_values('similarities', ascending=False).head(n)\n",
    "    if pprint:\n",
    "        for r in res.iterrows():\n",
    "            result = r[1]\n",
    "            print(f\"{result.filepath}:{result.function_name} score={str(round(similarity, 3))}\")\n",
    "            print(\"\\n\".join(r[1].code.split(\"\\n\")[:n_lines]))\n",
    "            print()\n",
    "            print('-'*70)\n",
    "    return res"
   ]
  },
  {
   "cell_type": "code",
   "execution_count": 5,
   "metadata": {
    "datalore": {
     "hide_input_from_viewers": false,
     "hide_output_from_viewers": false,
     "node_id": "S4lniPY3LlYyW3IJM3EEWE",
     "report_properties": {
      "rowId": "D79FoTckuEUHqXeOr4GOV7"
     },
     "type": "CODE"
    },
    "vscode": {
     "languageId": "python"
    }
   },
   "outputs": [],
   "source": [
    "import pandas as pd\n",
    "\n",
    "df_csv = pd.read_pickle(code_emb_file, compression='gzip')"
   ]
  },
  {
   "cell_type": "code",
   "execution_count": 7,
   "metadata": {
    "datalore": {
     "hide_input_from_viewers": false,
     "hide_output_from_viewers": false,
     "node_id": "TlKVBxXSaAeL5fFG1I6b1p",
     "report_properties": {
      "rowId": "iyQAURPTX8epa6b4RBAGld"
     },
     "type": "CODE"
    },
    "vscode": {
     "languageId": "python"
    }
   },
   "outputs": [
    {
     "name": "stdout",
     "output_type": "stream",
     "text": [
      "usageView/src/com/intellij/usages/Usage.java:highlightInEditor  score=0.821\n",
      "void highlightInEditor();\n",
      "----------------------------------------------------------------------\n",
      "testFramework/src/com/intellij/testFramework/fixtures/CodeInsightTestFixture.java:checkHighlighting  score=0.81\n",
      "long checkHighlighting();\n",
      "----------------------------------------------------------------------\n",
      "platform-api/src/com/intellij/openapi/options/colors/ColorSettingsPage.java:getHighlighter  score=0.808\n",
      "@NotNull SyntaxHighlighter getHighlighter();\n",
      "----------------------------------------------------------------------\n",
      "analysis-api/src/com/intellij/lang/documentation/ClientDocumentationSettings.java:isHighlightingOfCodeBlocksEnabled  score=0.802\n",
      "boolean isHighlightingOfCodeBlocksEnabled();\n",
      "----------------------------------------------------------------------\n",
      "editor-ui-ex/src/com/intellij/openapi/editor/ex/util/LayeredHighlighterIterator.java:getActiveSyntaxHighlighter  score=0.8\n",
      "@NotNull\n",
      "  SyntaxHighlighter getActiveSyntaxHighlighter();\n",
      "----------------------------------------------------------------------\n"
     ]
    }
   ],
   "source": [
    "import os\n",
    "import openai\n",
    "openai.api_key = os.getenv(\"OPENAI_API_KEY\")\n",
    "\n",
    "res = search_functions(df_csv, 'Places where API for syntax highliting is used', n=5)"
   ]
  },
  {
   "cell_type": "code",
   "execution_count": null,
   "metadata": {
    "datalore": {
     "hide_input_from_viewers": false,
     "hide_output_from_viewers": false,
     "node_id": "NCkzqO344lKaTjKN9zwl6O",
     "report_properties": {
      "rowId": "DsmKK29SVUp3gGRZNr6yYb"
     },
     "type": "CODE"
    },
    "vscode": {
     "languageId": "python"
    }
   },
   "outputs": [],
   "source": [
    "res = search_functions(df_csv, 'definition of API for syntax highliting', n=5)"
   ]
  },
  {
   "cell_type": "code",
   "execution_count": null,
   "metadata": {
    "datalore": {
     "hide_input_from_viewers": false,
     "hide_output_from_viewers": false,
     "node_id": "Jk1UrKePv0hbbiqUKyYyR9",
     "report_properties": {
      "rowId": "y3nix0cCQl4eX7GNOkeINW"
     },
     "type": "CODE"
    },
    "vscode": {
     "languageId": "python"
    }
   },
   "outputs": [],
   "source": []
  },
  {
   "attachments": {},
   "cell_type": "markdown",
   "metadata": {
    "datalore": {
     "hide_input_from_viewers": false,
     "hide_output_from_viewers": false,
     "node_id": "5pmgac7KGa4CxKPK3ELoen",
     "report_properties": {
      "rowId": "hTbFSBHyy4ozjAIbIr1REF"
     },
     "type": "MD"
    }
   },
   "source": [
    "### Query: nearest neighbors index (approximate)\n",
    "\n",
    "Instead of comparing query embedding to every vector to find the closest N, let's use an approximate index (built below in [OpenAI Embeddings]() section)"
   ]
  },
  {
   "cell_type": "code",
   "execution_count": 8,
   "metadata": {
    "datalore": {
     "hide_input_from_viewers": false,
     "hide_output_from_viewers": false,
     "node_id": "eHdMRRKybCc4zWub8FdFDX",
     "report_properties": {
      "rowId": "ooiZheZh58Q0If8ZAVNgTo"
     },
     "type": "CODE"
    },
    "vscode": {
     "languageId": "python"
    }
   },
   "outputs": [
    {
     "data": {
      "text/plain": [
       "True"
      ]
     },
     "metadata": {},
     "output_type": "display_data"
    }
   ],
   "source": [
    "from annoy import AnnoyIndex\n",
    "\n",
    "emb_dimensions = 1536 # OpenAI embeddings \n",
    "emb_index_file = 'ij-communit-platform-functions-embeddings.ann'\n",
    "index = AnnoyIndex(emb_dimensions, 'dot')\n",
    "index.load(emb_index_file)"
   ]
  },
  {
   "cell_type": "code",
   "execution_count": 9,
   "metadata": {
    "datalore": {
     "hide_input_from_viewers": false,
     "hide_output_from_viewers": false,
     "node_id": "jTRWaLSxlVKBbeXfGvKEgA",
     "report_properties": {
      "rowId": "LA0M0bYHBAV1Sa8WaSc9gY"
     },
     "type": "CODE"
    },
    "vscode": {
     "languageId": "python"
    }
   },
   "outputs": [
    {
     "name": "stdout",
     "output_type": "stream",
     "text": [
      "Total number of verctors: 175241\n"
     ]
    }
   ],
   "source": [
    "print(f\"Total number of verctors: {len(df_csv)}\")"
   ]
  },
  {
   "cell_type": "code",
   "execution_count": 10,
   "metadata": {
    "datalore": {
     "hide_input_from_viewers": false,
     "hide_output_from_viewers": false,
     "node_id": "ieKYkjKkt9lNUda9XvzcuY",
     "report_properties": {
      "rowId": "6YjIIcFkmDsTbGL2t0rgrN"
     },
     "type": "CODE"
    },
    "vscode": {
     "languageId": "python"
    }
   },
   "outputs": [],
   "source": [
    "from openai.embeddings_utils import get_embedding\n",
    "\n",
    "def search_functions_in_index(df, index, code_query, n=3, pprint=True, n_lines=7):\n",
    "    embedding = get_embedding(code_query, engine='text-embedding-ada-002')\n",
    "    # search_k is important! it affects runtime performance and accuracy\n",
    "    # see https://github.com/spotify/annoy#tradeoffs\n",
    "    res = index.get_nns_by_vector(embedding, n, include_distances=True, search_k=10000)\n",
    "    \n",
    "    if pprint:\n",
    "        for (i, similarity) in zip(res[0], res[1]):\n",
    "            result = df.iloc[i]\n",
    "            print(f\"{result.filepath}:{result.function_name} score={str(round(similarity, 3))}\")\n",
    "            print(\"\\n\".join(result.code.split(\"\\n\")[:n_lines]))\n",
    "            print()\n",
    "            print('-'*70)\n",
    "    df_out = df.iloc[res[0]].reset_index()\n",
    "    df_out['similarities'] = df_out.apply(lambda x: res[1][x.name] , axis=1)\n",
    "    return df_out"
   ]
  },
  {
   "cell_type": "code",
   "execution_count": null,
   "metadata": {
    "datalore": {
     "hide_input_from_viewers": false,
     "hide_output_from_viewers": false,
     "node_id": "hg63mpYS5QXR3GsEcNluOR",
     "report_properties": {
      "rowId": "Zd1T4420zKzw3f5L5Ub189"
     },
     "type": "CODE"
    },
    "vscode": {
     "languageId": "python"
    }
   },
   "outputs": [
    {
     "name": "stdout",
     "output_type": "stream",
     "text": [
      "usageView/src/com/intellij/usages/Usage.java:highlightInEditor score=0.813\n",
      "void highlightInEditor();\n",
      "\n",
      "----------------------------------------------------------------------\n",
      "analysis-api/src/com/intellij/lang/documentation/ClientDocumentationSettings.java:isHighlightingOfCodeBlocksEnabled score=0.807\n",
      "boolean isHighlightingOfCodeBlocksEnabled();\n",
      "\n",
      "----------------------------------------------------------------------\n",
      "testFramework/src/com/intellij/testFramework/fixtures/CodeInsightTestFixture.java:checkHighlighting score=0.807\n",
      "long checkHighlighting();\n",
      "\n",
      "----------------------------------------------------------------------\n",
      "ide-core/src/com/intellij/ide/dnd/DnDEvent.java:hideHighlighter score=0.801\n",
      "void hideHighlighter();\n",
      "\n",
      "----------------------------------------------------------------------\n",
      "analysis-api/src/com/intellij/lang/documentation/ClientDocumentationSettings.java:isHighlightingOfQuickDocSignaturesEnabled score=0.794\n",
      "boolean isHighlightingOfQuickDocSignaturesEnabled();\n",
      "\n",
      "----------------------------------------------------------------------\n"
     ]
    }
   ],
   "source": [
    "res = search_functions_in_index(df_csv, index, 'syntax highliting API declaration', n=5)"
   ]
  },
  {
   "cell_type": "code",
   "execution_count": 11,
   "metadata": {
    "datalore": {
     "hide_input_from_viewers": false,
     "hide_output_from_viewers": false,
     "node_id": "P4x7zi5M3nQpOE182Qn7wY",
     "report_properties": {
      "rowId": "V55DlNP0dE6KfZhlnrkiyf"
     },
     "type": "CODE"
    },
    "vscode": {
     "languageId": "python"
    }
   },
   "outputs": [
    {
     "data": {
      "text/html": [
       "<div>\n",
       "<style scoped>\n",
       "    .dataframe tbody tr th:only-of-type {\n",
       "        vertical-align: middle;\n",
       "    }\n",
       "\n",
       "    .dataframe tbody tr th {\n",
       "        vertical-align: top;\n",
       "    }\n",
       "\n",
       "    .dataframe thead th {\n",
       "        text-align: right;\n",
       "    }\n",
       "</style>\n",
       "<table border=\"1\" class=\"dataframe\">\n",
       "  <thead>\n",
       "    <tr style=\"text-align: right;\">\n",
       "      <th></th>\n",
       "      <th>code</th>\n",
       "      <th>function_name</th>\n",
       "      <th>filepath</th>\n",
       "      <th>n_tokens</th>\n",
       "      <th>tokens</th>\n",
       "      <th>code_embedding</th>\n",
       "      <th>similarities</th>\n",
       "    </tr>\n",
       "  </thead>\n",
       "  <tbody>\n",
       "    <tr>\n",
       "      <th>1204</th>\n",
       "      <td>void highlightInEditor();</td>\n",
       "      <td>highlightInEditor</td>\n",
       "      <td>usageView/src/com/intellij/usages/Usage.java</td>\n",
       "      <td>5</td>\n",
       "      <td>[1019, 11415, 644, 9597, 2178]</td>\n",
       "      <td>[-0.01926850900053978, -0.001198320067487657, ...</td>\n",
       "      <td>0.821482</td>\n",
       "    </tr>\n",
       "    <tr>\n",
       "      <th>77438</th>\n",
       "      <td>long checkHighlighting();</td>\n",
       "      <td>checkHighlighting</td>\n",
       "      <td>testFramework/src/com/intellij/testFramework/f...</td>\n",
       "      <td>5</td>\n",
       "      <td>[4930, 1817, 30930, 287, 2178]</td>\n",
       "      <td>[-0.034275881946086884, 0.006931202951818705, ...</td>\n",
       "      <td>0.809790</td>\n",
       "    </tr>\n",
       "    <tr>\n",
       "      <th>120902</th>\n",
       "      <td>@NotNull SyntaxHighlighter getHighlighter();</td>\n",
       "      <td>getHighlighter</td>\n",
       "      <td>platform-api/src/com/intellij/openapi/options/...</td>\n",
       "      <td>9</td>\n",
       "      <td>[31, 11250, 33217, 30930, 261, 636, 30930, 261...</td>\n",
       "      <td>[-0.01194718573242426, 0.009997588582336903, 0...</td>\n",
       "      <td>0.808344</td>\n",
       "    </tr>\n",
       "    <tr>\n",
       "      <th>158545</th>\n",
       "      <td>boolean isHighlightingOfCodeBlocksEnabled();</td>\n",
       "      <td>isHighlightingOfCodeBlocksEnabled</td>\n",
       "      <td>analysis-api/src/com/intellij/lang/documentati...</td>\n",
       "      <td>9</td>\n",
       "      <td>[6245, 374, 30930, 287, 2173, 2123, 30904, 557...</td>\n",
       "      <td>[-0.022517485544085503, 0.014456006698310375, ...</td>\n",
       "      <td>0.802317</td>\n",
       "    </tr>\n",
       "    <tr>\n",
       "      <th>118048</th>\n",
       "      <td>@NotNull\\n  SyntaxHighlighter getActiveSyntaxH...</td>\n",
       "      <td>getActiveSyntaxHighlighter</td>\n",
       "      <td>editor-ui-ex/src/com/intellij/openapi/editor/e...</td>\n",
       "      <td>13</td>\n",
       "      <td>[31, 11250, 198, 220, 33217, 30930, 261, 636, ...</td>\n",
       "      <td>[-0.010309800505638123, -0.0019021009793505073...</td>\n",
       "      <td>0.800469</td>\n",
       "    </tr>\n",
       "  </tbody>\n",
       "</table>\n",
       "</div>"
      ]
     },
     "metadata": {},
     "output_type": "display_data"
    }
   ],
   "source": [
    "res"
   ]
  },
  {
   "cell_type": "code",
   "execution_count": null,
   "metadata": {
    "datalore": {
     "hide_input_from_viewers": false,
     "hide_output_from_viewers": false,
     "node_id": "qGotbpcBQY0f2CTlMybUVN",
     "report_properties": {
      "rowId": "KqL43xuZgdSkJt9gwslzh0"
     },
     "type": "CODE"
    },
    "vscode": {
     "languageId": "python"
    }
   },
   "outputs": [],
   "source": []
  },
  {
   "attachments": {},
   "cell_type": "markdown",
   "metadata": {
    "datalore": {
     "hide_input_from_viewers": false,
     "hide_output_from_viewers": false,
     "node_id": "IidnI2ZhNjtALSmkfQ7w2F",
     "report_properties": {
      "rowId": "8PoWdCDRys6WxcwbAI6yPD"
     },
     "type": "MD"
    }
   },
   "source": [
    "## Retrieval"
   ]
  },
  {
   "attachments": {},
   "cell_type": "markdown",
   "metadata": {
    "datalore": {
     "hide_input_from_viewers": false,
     "hide_output_from_viewers": false,
     "node_id": "qyXXgnY20OPWNp9lJcgGIy",
     "report_properties": {
      "rowId": "k5RjFoe5lT95CIU8L2jN4n"
     },
     "type": "MD"
    }
   },
   "source": [
    "### Java & Kotlin Parsers"
   ]
  },
  {
   "cell_type": "code",
   "execution_count": null,
   "metadata": {
    "datalore": {
     "hide_input_from_viewers": false,
     "hide_output_from_viewers": false,
     "node_id": "5Ci03vZ5Xl60ePy2Ptqkmy",
     "report_properties": {
      "rowId": "4Q6Lka94YMvBAGctCeijCf"
     },
     "type": "CODE"
    },
    "vscode": {
     "languageId": "python"
    }
   },
   "outputs": [],
   "source": [
    "%pip install -r requirement.txt\n",
    "## tree-sitter, openAI\n",
    "\n",
    "# mkidr -p parsers\n",
    "!git clone 'https://github.com/tree-sitter/tree-sitter-java' parsers/tree-sitter-java\n",
    "!git clone 'https://github.com/fwcd/tree-sitter-kotlin' parsers/tree-sitter-kotlin"
   ]
  },
  {
   "cell_type": "code",
   "execution_count": null,
   "metadata": {
    "datalore": {
     "hide_input_from_viewers": false,
     "hide_output_from_viewers": false,
     "node_id": "igaHLVGliz9TaxPgCD6hDt",
     "report_properties": {
      "rowId": "k5zVIB4CK2OCsYT8CRaIOo"
     },
     "type": "CODE"
    },
    "vscode": {
     "languageId": "python"
    }
   },
   "outputs": [
    {
     "data": {
      "text/plain": [
       "False"
      ]
     },
     "metadata": {},
     "output_type": "display_data"
    }
   ],
   "source": [
    "from tree_sitter import Language, Parser\n",
    "\n",
    "Language.build_library( # Build and store native libraries for parsers\n",
    "  'build/my-languages.so',\n",
    "  [\n",
    "    'parsers/tree-sitter-java',\n",
    "    'parsers/tree-sitter-kotlin'\n",
    "  ]\n",
    ")"
   ]
  },
  {
   "cell_type": "code",
   "execution_count": null,
   "metadata": {
    "datalore": {
     "hide_input_from_viewers": false,
     "hide_output_from_viewers": false,
     "node_id": "oaHg7ZtuPmpu2ikLf2vXQt",
     "report_properties": {
      "rowId": "30gUSzSoq7m2fa0whD3qZJ"
     },
     "type": "CODE"
    },
    "vscode": {
     "languageId": "python"
    }
   },
   "outputs": [],
   "source": [
    "# both queries include decaration \\w empty body (e.g from interfaces)\n",
    "\n",
    "JA_LANGUAGE = Language('build/my-languages.so', 'java')\n",
    "jParser = Parser()\n",
    "jParser.set_language(JA_LANGUAGE)\n",
    "jQuery = JA_LANGUAGE.query(\"\"\"\n",
    "(method_declaration\n",
    "  name: (identifier) @method.name) @method.decl\n",
    "\"\"\")\n",
    "\n",
    "KT_LANGUAGE = Language('build/my-languages.so', 'kotlin')\n",
    "kParser = Parser()\n",
    "kParser.set_language(KT_LANGUAGE)\n",
    "kQuery = KT_LANGUAGE.query(\"\"\"\n",
    "(function_declaration\n",
    "  (simple_identifier)+ @func.name) @func.decl\n",
    "\"\"\")"
   ]
  },
  {
   "cell_type": "code",
   "execution_count": null,
   "metadata": {
    "datalore": {
     "hide_input_from_viewers": false,
     "hide_output_from_viewers": false,
     "node_id": "Ufoagnu0yREWh2znqEAkNZ",
     "report_properties": {
      "rowId": "fZf33bNSHfEMFAjw6DEodZ"
     },
     "type": "CODE"
    },
    "vscode": {
     "languageId": "python"
    }
   },
   "outputs": [
    {
     "data": {
      "text/plain": [
       "[('method_declaration', b'boolean isValid();'),\n",
       " ('identifier', b'isValid'),\n",
       " ('method_declaration',\n",
       "  b'public static void main(String[] args){\\n\\t\\tSystem.out.println(\"Hello, World!\");\\n\\t}'),\n",
       " ('identifier', b'main'),\n",
       " ('method_declaration',\n",
       "  b'static @NotNull ModalTaskOwner project(@NotNull Project project) {\\n\\t\\treturn ApplicationManager.getApplication().getService(TaskSupport.class).modalTaskOwner(project);\\n\\t}'),\n",
       " ('identifier', b'project')]"
      ]
     },
     "metadata": {},
     "output_type": "display_data"
    }
   ],
   "source": [
    "jTree = jParser.parse(bytes(\"\"\"\n",
    "public class Test {\n",
    "\t/**\n",
    "\t * JavaDoc\n",
    "\t */\n",
    "\tboolean isValid();\n",
    "\tpublic static void main(String[] args){\n",
    "\t\tSystem.out.println(\"Hello, World!\");\n",
    "\t}\n",
    "\tfianl String test;\n",
    "\tstatic @NotNull ModalTaskOwner project(@NotNull Project project) {\n",
    "\t\treturn ApplicationManager.getApplication().getService(TaskSupport.class).modalTaskOwner(project);\n",
    "\t}\n",
    "}\n",
    "\"\"\", \"utf8\"))\n",
    "\n",
    "jcaptures = jQuery.captures(jTree.root_node)\n",
    "assert len(jcaptures) == 6\n",
    "[(c[0].type, c[0].text) for c in jcaptures]"
   ]
  },
  {
   "cell_type": "code",
   "execution_count": null,
   "metadata": {
    "datalore": {
     "hide_input_from_viewers": false,
     "hide_output_from_viewers": false,
     "node_id": "HhWx9mt4Jy5Ejzg9Cm1Cx4",
     "report_properties": {
      "rowId": "8mHhfdUAa9op41oIJcc0Mn"
     },
     "type": "CODE"
    },
    "vscode": {
     "languageId": "python"
    }
   },
   "outputs": [
    {
     "data": {
      "text/plain": [
       "[('function_declaration',\n",
       "  b'fun main() {                        // 2\\n    println(\"Hello, World!\")        // 3\\n}'),\n",
       " ('simple_identifier', b'main'),\n",
       " ('simple_identifier', b'main'),\n",
       " ('function_declaration', b'fun onChanged()'),\n",
       " ('simple_identifier', b'onChanged'),\n",
       " ('simple_identifier', b'onChanged'),\n",
       " ('function_declaration', b'fun multiply(x: Int, y: Int = N) = x * y'),\n",
       " ('simple_identifier', b'multiply'),\n",
       " ('simple_identifier', b'multiply'),\n",
       " ('function_declaration',\n",
       "  b'override fun getMessageBus(): MessageBus {\\n    error(\"Not supported\")\\n}'),\n",
       " ('simple_identifier', b'getMessageBus'),\n",
       " ('simple_identifier', b'getMessageBus')]"
      ]
     },
     "metadata": {},
     "output_type": "display_data"
    }
   ],
   "source": [
    "kTree = kParser.parse(bytes(\"\"\"\n",
    "package org.kotlinlang.play         // 1\n",
    "\n",
    "fun main() {                        // 2\n",
    "    println(\"Hello, World!\")        // 3\n",
    "}                                   // 4\n",
    "\n",
    "/* comment */\n",
    "fun onChanged()\n",
    "\n",
    "fun multiply(x: Int, y: Int = N) = x * y// 5\n",
    "\n",
    "override fun getMessageBus(): MessageBus {\n",
    "    error(\"Not supported\")\n",
    "}\n",
    "\n",
    "class Customer                      // 6\n",
    "\"\"\", \"utf8\"))\n",
    "\n",
    "kcaptures = kQuery.captures(kTree.root_node)\n",
    "# assert len(kcaptures) == 6\n",
    "[(c[0].type, c[0].text) for c in kcaptures]"
   ]
  },
  {
   "attachments": {},
   "cell_type": "markdown",
   "metadata": {
    "datalore": {
     "hide_input_from_viewers": false,
     "hide_output_from_viewers": false,
     "node_id": "43UTMC6VEHkVhxujsmSqdV",
     "report_properties": {
      "rowId": "F3jjuMPbtpLoeatZwUrMuK"
     },
     "type": "MD"
    }
   },
   "source": [
    "### Parse & extract funtions"
   ]
  },
  {
   "cell_type": "code",
   "execution_count": null,
   "metadata": {
    "datalore": {
     "hide_input_from_viewers": true,
     "hide_output_from_viewers": true,
     "node_id": "a5CT2uJES0BIVgBNTgysh8",
     "type": "CODE"
    },
    "vscode": {
     "languageId": "python"
    }
   },
   "outputs": [],
   "source": [
    "!git clone --depth=1 'https://github.com/JetBrains/intellij-community/'"
   ]
  },
  {
   "cell_type": "code",
   "execution_count": null,
   "metadata": {
    "datalore": {
     "hide_input_from_viewers": false,
     "hide_output_from_viewers": false,
     "node_id": "mWYEeOCUmu6ANfEbXnFww6",
     "report_properties": {
      "rowId": "q81YUMyi1lubOOFdDGZL6w"
     },
     "type": "CODE"
    },
    "vscode": {
     "languageId": "python"
    }
   },
   "outputs": [],
   "source": [
    "import codecs\n",
    "import os\n",
    "import re\n",
    "from pathlib import Path\n",
    "all_funcs = []\n",
    "parsers = { \".java\": jParser, \".kt\": kParser}\n",
    "queries =  { \".java\": jQuery, \".kt\": kQuery}\n",
    "\n",
    "code_root = \"intellij-community/platform\" # change to your local path\n",
    "code_files = \"ij-communit-platform-files.csv\"\n",
    "code_functions = \"ij-communit-platform-functions.csv\"\n",
    "decl_re = re.compile('.*\\.decl')\n",
    "name_re = re.compile('.*\\.name')\n",
    "\n",
    "def get_functions(rel_path: str):\n",
    "    file = os.path.join(code_root, rel_path)\n",
    "    # print(f\"reading '{file}'\")\n",
    "    with open(file, 'rb') as f:\n",
    "        ext = rel_path[rel_path.rindex(\".\"):]\n",
    "        p = parsers[ext]\n",
    "        tree = p.parse(f.raw.readall())\n",
    "\n",
    "        q = queries[ext]\n",
    "        cs = iter(q.captures(tree.root_node))\n",
    "\n",
    "        for c in cs:\n",
    "            fn_code = \"\"\n",
    "            try:\n",
    "                if decl_re.match(c[1]):\n",
    "                    fn_code = codecs.utf_8_decode(c[0].text)[0]\n",
    "                    next_c = next(cs)\n",
    "                    fn_name = codecs.utf_8_decode(next_c[0].text)[0]\n",
    "                    if ext == \".kt\": # Kotlin parser matches the name twice ¯\\_(ツ)_/¯\n",
    "                        assert next_c[0].text == next(cs)[0].text, f\"{rel_path}: {fn_code}\"\n",
    "                elif name_re.match(c[1]):\n",
    "                    fn_name = codecs.utf_8_decode(c[0].text)[0]\n",
    "                else:\n",
    "                    assert False, \"neither declaration nor name\"\n",
    "                yield {\"code\": fn_code, \"function_name\": fn_name, \"filepath\": rel_path}\n",
    "            except StopIteration as e:\n",
    "                print(f\"{rel_path}: no name after {fn_code}\")\n",
    "\n",
    "with open(code_files) as f:\n",
    "    # read, parse and query every file (find all the functions)\n",
    "    for code_file in f.readlines():\n",
    "        funcs = list(get_functions(code_file.strip()))\n",
    "        for func in funcs:\n",
    "            all_funcs.append(func)"
   ]
  },
  {
   "cell_type": "code",
   "execution_count": null,
   "metadata": {
    "datalore": {
     "hide_input_from_viewers": true,
     "hide_output_from_viewers": true,
     "node_id": "68uQ79xxznfi5or1kyxnd1",
     "type": "CODE"
    },
    "vscode": {
     "languageId": "python"
    }
   },
   "outputs": [],
   "source": [
    "import pandas as pd\n",
    "\n",
    "code_functions = \"ij-communit-platform-functions.csv.gz\""
   ]
  },
  {
   "cell_type": "code",
   "execution_count": null,
   "metadata": {
    "datalore": {
     "hide_input_from_viewers": true,
     "hide_output_from_viewers": true,
     "node_id": "mkF7KuwdELEYC2lTuyCCuq",
     "type": "CODE"
    },
    "vscode": {
     "languageId": "python"
    }
   },
   "outputs": [],
   "source": [
    "# either cache all parsed functions on disk\n",
    "df = pd.DataFrame(all_funcs)\n",
    "df.to_csv(code_functions, index=False, compression={'method': 'gzip', 'compresslevel': 1, 'mtime': 1})"
   ]
  },
  {
   "cell_type": "code",
   "execution_count": null,
   "metadata": {
    "datalore": {
     "hide_input_from_viewers": false,
     "hide_output_from_viewers": false,
     "node_id": "KAAKzVjYg6r9ykimHCV0LU",
     "report_properties": {
      "rowId": "kRLuAfYw5hYAdShQSuJ3wz"
     },
     "type": "CODE"
    },
    "vscode": {
     "languageId": "python"
    }
   },
   "outputs": [
    {
     "data": {
      "text/html": [
       "<div>\n",
       "<style scoped>\n",
       "    .dataframe tbody tr th:only-of-type {\n",
       "        vertical-align: middle;\n",
       "    }\n",
       "\n",
       "    .dataframe tbody tr th {\n",
       "        vertical-align: top;\n",
       "    }\n",
       "\n",
       "    .dataframe thead th {\n",
       "        text-align: right;\n",
       "    }\n",
       "</style>\n",
       "<table border=\"1\" class=\"dataframe\">\n",
       "  <thead>\n",
       "    <tr style=\"text-align: right;\">\n",
       "      <th></th>\n",
       "      <th>code</th>\n",
       "      <th>function_name</th>\n",
       "      <th>filepath</th>\n",
       "    </tr>\n",
       "  </thead>\n",
       "  <tbody>\n",
       "    <tr>\n",
       "      <th>0</th>\n",
       "      <td>@Override\\n  protected void update(final AnAct...</td>\n",
       "      <td>update</td>\n",
       "      <td>lang-api/src/com/intellij/execution/ui/actions...</td>\n",
       "    </tr>\n",
       "    <tr>\n",
       "      <th>1</th>\n",
       "      <td>private boolean isToFocus(final ViewContext co...</td>\n",
       "      <td>isToFocus</td>\n",
       "      <td>lang-api/src/com/intellij/execution/ui/actions...</td>\n",
       "    </tr>\n",
       "    <tr>\n",
       "      <th>2</th>\n",
       "      <td>@Override\\n  protected void actionPerformed(fi...</td>\n",
       "      <td>actionPerformed</td>\n",
       "      <td>lang-api/src/com/intellij/execution/ui/actions...</td>\n",
       "    </tr>\n",
       "    <tr>\n",
       "      <th>3</th>\n",
       "      <td>@Override\\n  public @NotNull ActionUpdateThrea...</td>\n",
       "      <td>getActionUpdateThread</td>\n",
       "      <td>lang-api/src/com/intellij/execution/ui/actions...</td>\n",
       "    </tr>\n",
       "    <tr>\n",
       "      <th>4</th>\n",
       "      <td>@Override\\n  public final void update(final @N...</td>\n",
       "      <td>update</td>\n",
       "      <td>lang-api/src/com/intellij/execution/ui/actions...</td>\n",
       "    </tr>\n",
       "  </tbody>\n",
       "</table>\n",
       "</div>"
      ]
     },
     "metadata": {},
     "output_type": "display_data"
    },
    {
     "data": {
      "text/plain": [
       "                                                code          function_name   \n",
       "0  @Override\\n  protected void update(final AnAct...                 update  \\\n",
       "1  private boolean isToFocus(final ViewContext co...              isToFocus   \n",
       "2  @Override\\n  protected void actionPerformed(fi...        actionPerformed   \n",
       "3  @Override\\n  public @NotNull ActionUpdateThrea...  getActionUpdateThread   \n",
       "4  @Override\\n  public final void update(final @N...                 update   \n",
       "\n",
       "                                            filepath  \n",
       "0  lang-api/src/com/intellij/execution/ui/actions...  \n",
       "1  lang-api/src/com/intellij/execution/ui/actions...  \n",
       "2  lang-api/src/com/intellij/execution/ui/actions...  \n",
       "3  lang-api/src/com/intellij/execution/ui/actions...  \n",
       "4  lang-api/src/com/intellij/execution/ui/actions...  "
      ]
     },
     "metadata": {},
     "output_type": "display_data"
    }
   ],
   "source": [
    "# or load them from existing cach\n",
    "!wget https://storage.googleapis.com/semantic-cs/ij-communit-platform-functions.csv.gz\n",
    "\n",
    "df = pd.read_csv(code_functions, compression='gzip')\n",
    "df.head()"
   ]
  },
  {
   "attachments": {},
   "cell_type": "markdown",
   "metadata": {
    "datalore": {
     "hide_input_from_viewers": false,
     "hide_output_from_viewers": false,
     "node_id": "kj07YY0HxQFokspn61nsaP",
     "report_properties": {
      "rowId": "bNMxdErqTZ6Ab4AoannmcU"
     },
     "type": "MD"
    }
   },
   "source": [
    "## OpenAI Embeddings"
   ]
  },
  {
   "cell_type": "code",
   "execution_count": null,
   "metadata": {
    "datalore": {
     "hide_input_from_viewers": false,
     "hide_output_from_viewers": false,
     "node_id": "Ac3ETDrepTxZNoFgz9EPej",
     "report_properties": {
      "rowId": "dXU19Jex07z7nSFSRcZuLn"
     },
     "type": "CODE"
    },
    "vscode": {
     "languageId": "python"
    }
   },
   "outputs": [],
   "source": [
    "model=\"text-embedding-ada-002\"\n",
    "code_emb_file = \"ij-communit-platform-functions-embeddings.pkl\"\n",
    "code_emb_index_file = 'ij-communit-platform-functions-embeddings.ann'"
   ]
  },
  {
   "attachments": {},
   "cell_type": "markdown",
   "metadata": {
    "datalore": {
     "hide_input_from_viewers": false,
     "hide_output_from_viewers": false,
     "node_id": "F6XcJ97TYQPItUzkjm5UBn",
     "report_properties": {
      "rowId": "NVeKfjqDXjGtl0QNm9j2hp"
     },
     "type": "MD"
    }
   },
   "source": [
    "### Tokenize & encode"
   ]
  },
  {
   "cell_type": "code",
   "execution_count": null,
   "metadata": {
    "datalore": {
     "hide_input_from_viewers": false,
     "hide_output_from_viewers": false,
     "node_id": "1lMgnglk2jcoKBRuwydC1o",
     "report_properties": {
      "rowId": "yjomww0NMYecnvSZe5TTNL"
     },
     "type": "CODE"
    },
    "vscode": {
     "languageId": "python"
    }
   },
   "outputs": [],
   "source": [
    "# count the tokens\n",
    "\n",
    "import tiktoken\n",
    "tokenizer = encoding = tiktoken.encoding_for_model(model) #tiktoken.get_encoding(\"cl100k_base\")\n",
    "\n",
    "df['n_tokens'] = df['code'].apply(lambda x: len(tokenizer.encode(x)))"
   ]
  },
  {
   "cell_type": "code",
   "execution_count": null,
   "metadata": {
    "datalore": {
     "hide_input_from_viewers": false,
     "hide_output_from_viewers": false,
     "node_id": "249qkkIsvY37VeNviSyPqc",
     "report_properties": {
      "rowId": "FI3cIccRRr9u2qYBgUDzeA"
     },
     "type": "CODE"
    },
    "vscode": {
     "languageId": "python"
    }
   },
   "outputs": [
    {
     "data": {
      "text/html": [
       "<div>\n",
       "<style scoped>\n",
       "    .dataframe tbody tr th:only-of-type {\n",
       "        vertical-align: middle;\n",
       "    }\n",
       "\n",
       "    .dataframe tbody tr th {\n",
       "        vertical-align: top;\n",
       "    }\n",
       "\n",
       "    .dataframe thead th {\n",
       "        text-align: right;\n",
       "    }\n",
       "</style>\n",
       "<table border=\"1\" class=\"dataframe\">\n",
       "  <thead>\n",
       "    <tr style=\"text-align: right;\">\n",
       "      <th></th>\n",
       "      <th>code</th>\n",
       "      <th>function_name</th>\n",
       "      <th>filepath</th>\n",
       "      <th>n_tokens</th>\n",
       "    </tr>\n",
       "  </thead>\n",
       "  <tbody>\n",
       "    <tr>\n",
       "      <th>117876</th>\n",
       "      <td>public abstract boolean isInsideScreenBounds(i...</td>\n",
       "      <td>isInsideScreenBounds</td>\n",
       "      <td>ide-core/src/com/intellij/openapi/wm/WindowMan...</td>\n",
       "      <td>16</td>\n",
       "    </tr>\n",
       "    <tr>\n",
       "      <th>66324</th>\n",
       "      <td>@Override\\n  public void fileMoved(@NotNull Vi...</td>\n",
       "      <td>fileMoved</td>\n",
       "      <td>core-api/src/com/intellij/openapi/vfs/VirtualF...</td>\n",
       "      <td>25</td>\n",
       "    </tr>\n",
       "    <tr>\n",
       "      <th>2448</th>\n",
       "      <td>protected abstract void update(@NotNull VcsCon...</td>\n",
       "      <td>update</td>\n",
       "      <td>vcs-impl/src/com/intellij/openapi/vcs/actions/...</td>\n",
       "      <td>18</td>\n",
       "    </tr>\n",
       "    <tr>\n",
       "      <th>107659</th>\n",
       "      <td>public static @Nullable ListSelection&lt;? extend...</td>\n",
       "      <td>createDiffProducers</td>\n",
       "      <td>vcs-impl/src/com/intellij/openapi/vcs/changes/...</td>\n",
       "      <td>183</td>\n",
       "    </tr>\n",
       "    <tr>\n",
       "      <th>17736</th>\n",
       "      <td>@Override\\n  protected boolean isSelected(@Not...</td>\n",
       "      <td>isSelected</td>\n",
       "      <td>external-system-impl/src/com/intellij/openapi/...</td>\n",
       "      <td>25</td>\n",
       "    </tr>\n",
       "  </tbody>\n",
       "</table>\n",
       "</div>"
      ]
     },
     "metadata": {},
     "output_type": "display_data"
    },
    {
     "data": {
      "text/plain": [
       "                                                     code   \n",
       "117876  public abstract boolean isInsideScreenBounds(i...  \\\n",
       "66324   @Override\\n  public void fileMoved(@NotNull Vi...   \n",
       "2448    protected abstract void update(@NotNull VcsCon...   \n",
       "107659  public static @Nullable ListSelection<? extend...   \n",
       "17736   @Override\\n  protected boolean isSelected(@Not...   \n",
       "\n",
       "               function_name   \n",
       "117876  isInsideScreenBounds  \\\n",
       "66324              fileMoved   \n",
       "2448                  update   \n",
       "107659   createDiffProducers   \n",
       "17736             isSelected   \n",
       "\n",
       "                                                 filepath  n_tokens  \n",
       "117876  ide-core/src/com/intellij/openapi/wm/WindowMan...        16  \n",
       "66324   core-api/src/com/intellij/openapi/vfs/VirtualF...        25  \n",
       "2448    vcs-impl/src/com/intellij/openapi/vcs/actions/...        18  \n",
       "107659  vcs-impl/src/com/intellij/openapi/vcs/changes/...       183  \n",
       "17736   external-system-impl/src/com/intellij/openapi/...        25  "
      ]
     },
     "metadata": {},
     "output_type": "display_data"
    }
   ],
   "source": [
    "df.sample(5)"
   ]
  },
  {
   "cell_type": "code",
   "execution_count": null,
   "metadata": {
    "datalore": {
     "hide_input_from_viewers": false,
     "hide_output_from_viewers": false,
     "node_id": "bJTPyrQEYzuPfMMbUuJtHm",
     "report_properties": {
      "rowId": "2Xtwt34sUJqrs6bePga6cS"
     },
     "type": "CODE"
    },
    "vscode": {
     "languageId": "python"
    }
   },
   "outputs": [
    {
     "name": "stdout",
     "output_type": "stream",
     "text": [
      "<class 'pandas.core.frame.DataFrame'>\n",
      "RangeIndex: 175242 entries, 0 to 175241\n",
      "Data columns (total 4 columns):\n",
      " #   Column         Non-Null Count   Dtype \n",
      "---  ------         --------------   ----- \n",
      " 0   code           175242 non-null  object\n",
      " 1   function_name  175242 non-null  object\n",
      " 2   filepath       175242 non-null  object\n",
      " 3   n_tokens       175242 non-null  int64 \n",
      "dtypes: int64(1), object(3)\n",
      "memory usage: 5.3+ MB\n"
     ]
    }
   ],
   "source": [
    "df.info()"
   ]
  },
  {
   "cell_type": "code",
   "execution_count": null,
   "metadata": {
    "datalore": {
     "hide_input_from_viewers": false,
     "hide_output_from_viewers": false,
     "node_id": "0iPrqYocD9dubGM4pHmR3z",
     "report_properties": {
      "rowId": "sAxqDDnSJc9ipVv0QfwM2K"
     },
     "type": "CODE"
    },
    "vscode": {
     "languageId": "python"
    }
   },
   "outputs": [
    {
     "data": {
      "text/html": [
       "<div>\n",
       "<style scoped>\n",
       "    .dataframe tbody tr th:only-of-type {\n",
       "        vertical-align: middle;\n",
       "    }\n",
       "\n",
       "    .dataframe tbody tr th {\n",
       "        vertical-align: top;\n",
       "    }\n",
       "\n",
       "    .dataframe thead th {\n",
       "        text-align: right;\n",
       "    }\n",
       "</style>\n",
       "<table border=\"1\" class=\"dataframe\">\n",
       "  <thead>\n",
       "    <tr style=\"text-align: right;\">\n",
       "      <th></th>\n",
       "      <th>n_tokens</th>\n",
       "    </tr>\n",
       "  </thead>\n",
       "  <tbody>\n",
       "    <tr>\n",
       "      <th>count</th>\n",
       "      <td>175242.000000</td>\n",
       "    </tr>\n",
       "    <tr>\n",
       "      <th>mean</th>\n",
       "      <td>68.927255</td>\n",
       "    </tr>\n",
       "    <tr>\n",
       "      <th>std</th>\n",
       "      <td>126.858943</td>\n",
       "    </tr>\n",
       "    <tr>\n",
       "      <th>min</th>\n",
       "      <td>3.000000</td>\n",
       "    </tr>\n",
       "    <tr>\n",
       "      <th>25%</th>\n",
       "      <td>20.000000</td>\n",
       "    </tr>\n",
       "    <tr>\n",
       "      <th>50%</th>\n",
       "      <td>34.000000</td>\n",
       "    </tr>\n",
       "    <tr>\n",
       "      <th>75%</th>\n",
       "      <td>73.000000</td>\n",
       "    </tr>\n",
       "    <tr>\n",
       "      <th>max</th>\n",
       "      <td>13406.000000</td>\n",
       "    </tr>\n",
       "  </tbody>\n",
       "</table>\n",
       "</div>"
      ]
     },
     "metadata": {},
     "output_type": "display_data"
    },
    {
     "data": {
      "text/plain": [
       "            n_tokens\n",
       "count  175242.000000\n",
       "mean       68.927255\n",
       "std       126.858943\n",
       "min         3.000000\n",
       "25%        20.000000\n",
       "50%        34.000000\n",
       "75%        73.000000\n",
       "max     13406.000000"
      ]
     },
     "metadata": {},
     "output_type": "display_data"
    }
   ],
   "source": [
    "df.describe()"
   ]
  },
  {
   "cell_type": "code",
   "execution_count": null,
   "metadata": {
    "datalore": {
     "hide_input_from_viewers": false,
     "hide_output_from_viewers": false,
     "node_id": "92KKkI7HriaRm8myjYbi2M",
     "report_properties": {
      "rowId": "K7LpctkSy5RbPZXuQQ7tPA"
     },
     "type": "CODE"
    },
    "vscode": {
     "languageId": "python"
    }
   },
   "outputs": [
    {
     "data": {
      "text/html": [
       "<div>\n",
       "<style scoped>\n",
       "    .dataframe tbody tr th:only-of-type {\n",
       "        vertical-align: middle;\n",
       "    }\n",
       "\n",
       "    .dataframe tbody tr th {\n",
       "        vertical-align: top;\n",
       "    }\n",
       "\n",
       "    .dataframe thead th {\n",
       "        text-align: right;\n",
       "    }\n",
       "</style>\n",
       "<table border=\"1\" class=\"dataframe\">\n",
       "  <thead>\n",
       "    <tr style=\"text-align: right;\">\n",
       "      <th></th>\n",
       "      <th>code</th>\n",
       "      <th>function_name</th>\n",
       "      <th>filepath</th>\n",
       "      <th>n_tokens</th>\n",
       "    </tr>\n",
       "  </thead>\n",
       "  <tbody>\n",
       "    <tr>\n",
       "      <th>70</th>\n",
       "      <td>void onStepChanged();</td>\n",
       "      <td>onStepChanged</td>\n",
       "      <td>platform-impl/src/com/intellij/ui/wizard/Wizar...</td>\n",
       "      <td>5</td>\n",
       "    </tr>\n",
       "    <tr>\n",
       "      <th>327</th>\n",
       "      <td>void selectionInverted();</td>\n",
       "      <td>selectionInverted</td>\n",
       "      <td>platform-impl/src/com/intellij/ide/util/Elemen...</td>\n",
       "      <td>5</td>\n",
       "    </tr>\n",
       "    <tr>\n",
       "      <th>374</th>\n",
       "      <td>protected abstract int getColumn();</td>\n",
       "      <td>getColumn</td>\n",
       "      <td>platform-impl/src/com/intellij/ide/util/GotoLi...</td>\n",
       "      <td>5</td>\n",
       "    </tr>\n",
       "    <tr>\n",
       "      <th>470</th>\n",
       "      <td>fun closeTipDialog()</td>\n",
       "      <td>closeTipDialog</td>\n",
       "      <td>platform-impl/src/com/intellij/ide/util/TipAnd...</td>\n",
       "      <td>5</td>\n",
       "    </tr>\n",
       "    <tr>\n",
       "      <th>475</th>\n",
       "      <td>JComponent getComponent();</td>\n",
       "      <td>getComponent</td>\n",
       "      <td>platform-impl/src/com/intellij/ide/util/TipUIU...</td>\n",
       "      <td>5</td>\n",
       "    </tr>\n",
       "    <tr>\n",
       "      <th>...</th>\n",
       "      <td>...</td>\n",
       "      <td>...</td>\n",
       "      <td>...</td>\n",
       "      <td>...</td>\n",
       "    </tr>\n",
       "    <tr>\n",
       "      <th>171692</th>\n",
       "      <td>protected abstract void perform();</td>\n",
       "      <td>perform</td>\n",
       "      <td>platform-api/src/com/intellij/ide/util/treeVie...</td>\n",
       "      <td>5</td>\n",
       "    </tr>\n",
       "    <tr>\n",
       "      <th>171932</th>\n",
       "      <td>boolean canGoFurther();</td>\n",
       "      <td>canGoFurther</td>\n",
       "      <td>platform-impl/src/com/intellij/openapi/ui/play...</td>\n",
       "      <td>5</td>\n",
       "    </tr>\n",
       "    <tr>\n",
       "      <th>173466</th>\n",
       "      <td>override fun toString(): String</td>\n",
       "      <td>toString</td>\n",
       "      <td>lang-api/src/com/intellij/codeInsight/hints/pr...</td>\n",
       "      <td>5</td>\n",
       "    </tr>\n",
       "    <tr>\n",
       "      <th>173469</th>\n",
       "      <td>fun mouseExited() {}</td>\n",
       "      <td>mouseExited</td>\n",
       "      <td>lang-api/src/com/intellij/codeInsight/hints/pr...</td>\n",
       "      <td>5</td>\n",
       "    </tr>\n",
       "    <tr>\n",
       "      <th>173656</th>\n",
       "      <td>override fun finished() {}</td>\n",
       "      <td>finished</td>\n",
       "      <td>vcs-impl/src/com/intellij/openapi/vcs/history/...</td>\n",
       "      <td>5</td>\n",
       "    </tr>\n",
       "  </tbody>\n",
       "</table>\n",
       "<p>927 rows × 4 columns</p>\n",
       "</div>"
      ]
     },
     "metadata": {},
     "output_type": "display_data"
    },
    {
     "data": {
      "text/plain": [
       "                                       code      function_name   \n",
       "70                    void onStepChanged();      onStepChanged  \\\n",
       "327               void selectionInverted();  selectionInverted   \n",
       "374     protected abstract int getColumn();          getColumn   \n",
       "470                    fun closeTipDialog()     closeTipDialog   \n",
       "475              JComponent getComponent();       getComponent   \n",
       "...                                     ...                ...   \n",
       "171692   protected abstract void perform();            perform   \n",
       "171932              boolean canGoFurther();       canGoFurther   \n",
       "173466      override fun toString(): String           toString   \n",
       "173469                 fun mouseExited() {}        mouseExited   \n",
       "173656           override fun finished() {}           finished   \n",
       "\n",
       "                                                 filepath  n_tokens  \n",
       "70      platform-impl/src/com/intellij/ui/wizard/Wizar...         5  \n",
       "327     platform-impl/src/com/intellij/ide/util/Elemen...         5  \n",
       "374     platform-impl/src/com/intellij/ide/util/GotoLi...         5  \n",
       "470     platform-impl/src/com/intellij/ide/util/TipAnd...         5  \n",
       "475     platform-impl/src/com/intellij/ide/util/TipUIU...         5  \n",
       "...                                                   ...       ...  \n",
       "171692  platform-api/src/com/intellij/ide/util/treeVie...         5  \n",
       "171932  platform-impl/src/com/intellij/openapi/ui/play...         5  \n",
       "173466  lang-api/src/com/intellij/codeInsight/hints/pr...         5  \n",
       "173469  lang-api/src/com/intellij/codeInsight/hints/pr...         5  \n",
       "173656  vcs-impl/src/com/intellij/openapi/vcs/history/...         5  \n",
       "\n",
       "[927 rows x 4 columns]"
      ]
     },
     "metadata": {},
     "output_type": "display_data"
    }
   ],
   "source": [
    "df[df['n_tokens'] == 5]"
   ]
  },
  {
   "cell_type": "code",
   "execution_count": null,
   "metadata": {
    "datalore": {
     "hide_input_from_viewers": false,
     "hide_output_from_viewers": false,
     "node_id": "9R40ihKjJEipq8sED0VupL",
     "report_properties": {
      "rowId": "tbGvdsBqZOroSQzP0mNpW9"
     },
     "type": "CODE"
    },
    "vscode": {
     "languageId": "python"
    }
   },
   "outputs": [
    {
     "data": {
      "text/html": [
       "<div>\n",
       "<style scoped>\n",
       "    .dataframe tbody tr th:only-of-type {\n",
       "        vertical-align: middle;\n",
       "    }\n",
       "\n",
       "    .dataframe tbody tr th {\n",
       "        vertical-align: top;\n",
       "    }\n",
       "\n",
       "    .dataframe thead th {\n",
       "        text-align: right;\n",
       "    }\n",
       "</style>\n",
       "<table border=\"1\" class=\"dataframe\">\n",
       "  <thead>\n",
       "    <tr style=\"text-align: right;\">\n",
       "      <th></th>\n",
       "      <th>code</th>\n",
       "      <th>function_name</th>\n",
       "      <th>filepath</th>\n",
       "      <th>n_tokens</th>\n",
       "    </tr>\n",
       "  </thead>\n",
       "  <tbody>\n",
       "    <tr>\n",
       "      <th>9651</th>\n",
       "      <td>fun JsonIndexDiagnostic.generateHtml(target: A...</td>\n",
       "      <td>generateHtml</td>\n",
       "      <td>lang-impl/src/com/intellij/util/indexing/diagn...</td>\n",
       "      <td>3057</td>\n",
       "    </tr>\n",
       "    <tr>\n",
       "      <th>10772</th>\n",
       "      <td>protected fun traverseInstanceGraph(progress: ...</td>\n",
       "      <td>traverseInstanceGraph</td>\n",
       "      <td>platform-impl/src/com/intellij/diagnostic/hpro...</td>\n",
       "      <td>2885</td>\n",
       "    </tr>\n",
       "    <tr>\n",
       "      <th>10774</th>\n",
       "      <td>private fun computeDominatorFlameGraph(nav: Ob...</td>\n",
       "      <td>computeDominatorFlameGraph</td>\n",
       "      <td>platform-impl/src/com/intellij/diagnostic/hpro...</td>\n",
       "      <td>4670</td>\n",
       "    </tr>\n",
       "    <tr>\n",
       "      <th>12055</th>\n",
       "      <td>fun createResolverImpl(project: Project?, indi...</td>\n",
       "      <td>createResolverImpl</td>\n",
       "      <td>lang-impl/src/com/intellij/openapi/projectRoot...</td>\n",
       "      <td>1842</td>\n",
       "    </tr>\n",
       "    <tr>\n",
       "      <th>16234</th>\n",
       "      <td>@Override\\n  public void actionPerformed(@NotN...</td>\n",
       "      <td>actionPerformed</td>\n",
       "      <td>platform-impl/src/com/intellij/ide/actions/Act...</td>\n",
       "      <td>1561</td>\n",
       "    </tr>\n",
       "    <tr>\n",
       "      <th>...</th>\n",
       "      <td>...</td>\n",
       "      <td>...</td>\n",
       "      <td>...</td>\n",
       "      <td>...</td>\n",
       "    </tr>\n",
       "    <tr>\n",
       "      <th>168282</th>\n",
       "      <td>private void initComponents() {\\n    AnAction ...</td>\n",
       "      <td>initComponents</td>\n",
       "      <td>lang-impl/src/com/intellij/find/impl/FindPopup...</td>\n",
       "      <td>4873</td>\n",
       "    </tr>\n",
       "    <tr>\n",
       "      <th>168309</th>\n",
       "      <td>private void findSettingsChanged() {\\n    if (...</td>\n",
       "      <td>findSettingsChanged</td>\n",
       "      <td>lang-impl/src/com/intellij/find/impl/FindPopup...</td>\n",
       "      <td>1493</td>\n",
       "    </tr>\n",
       "    <tr>\n",
       "      <th>169564</th>\n",
       "      <td>override fun saveEntities(storage: EntityStora...</td>\n",
       "      <td>saveEntities</td>\n",
       "      <td>workspaceModel/jps/src/com/intellij/workspaceM...</td>\n",
       "      <td>2539</td>\n",
       "    </tr>\n",
       "    <tr>\n",
       "      <th>172968</th>\n",
       "      <td>protected void initUI(final ChooseByNamePopupC...</td>\n",
       "      <td>initUI</td>\n",
       "      <td>lang-impl/src/com/intellij/ide/util/gotoByName...</td>\n",
       "      <td>2436</td>\n",
       "    </tr>\n",
       "    <tr>\n",
       "      <th>174628</th>\n",
       "      <td>private AnAction processGroupElement(@NotNull ...</td>\n",
       "      <td>processGroupElement</td>\n",
       "      <td>platform-impl/src/com/intellij/openapi/actionS...</td>\n",
       "      <td>1302</td>\n",
       "    </tr>\n",
       "  </tbody>\n",
       "</table>\n",
       "<p>227 rows × 4 columns</p>\n",
       "</div>"
      ]
     },
     "metadata": {},
     "output_type": "display_data"
    },
    {
     "data": {
      "text/plain": [
       "                                                     code   \n",
       "9651    fun JsonIndexDiagnostic.generateHtml(target: A...  \\\n",
       "10772   protected fun traverseInstanceGraph(progress: ...   \n",
       "10774   private fun computeDominatorFlameGraph(nav: Ob...   \n",
       "12055   fun createResolverImpl(project: Project?, indi...   \n",
       "16234   @Override\\n  public void actionPerformed(@NotN...   \n",
       "...                                                   ...   \n",
       "168282  private void initComponents() {\\n    AnAction ...   \n",
       "168309  private void findSettingsChanged() {\\n    if (...   \n",
       "169564  override fun saveEntities(storage: EntityStora...   \n",
       "172968  protected void initUI(final ChooseByNamePopupC...   \n",
       "174628  private AnAction processGroupElement(@NotNull ...   \n",
       "\n",
       "                     function_name   \n",
       "9651                  generateHtml  \\\n",
       "10772        traverseInstanceGraph   \n",
       "10774   computeDominatorFlameGraph   \n",
       "12055           createResolverImpl   \n",
       "16234              actionPerformed   \n",
       "...                            ...   \n",
       "168282              initComponents   \n",
       "168309         findSettingsChanged   \n",
       "169564                saveEntities   \n",
       "172968                      initUI   \n",
       "174628         processGroupElement   \n",
       "\n",
       "                                                 filepath  n_tokens  \n",
       "9651    lang-impl/src/com/intellij/util/indexing/diagn...      3057  \n",
       "10772   platform-impl/src/com/intellij/diagnostic/hpro...      2885  \n",
       "10774   platform-impl/src/com/intellij/diagnostic/hpro...      4670  \n",
       "12055   lang-impl/src/com/intellij/openapi/projectRoot...      1842  \n",
       "16234   platform-impl/src/com/intellij/ide/actions/Act...      1561  \n",
       "...                                                   ...       ...  \n",
       "168282  lang-impl/src/com/intellij/find/impl/FindPopup...      4873  \n",
       "168309  lang-impl/src/com/intellij/find/impl/FindPopup...      1493  \n",
       "169564  workspaceModel/jps/src/com/intellij/workspaceM...      2539  \n",
       "172968  lang-impl/src/com/intellij/ide/util/gotoByName...      2436  \n",
       "174628  platform-impl/src/com/intellij/openapi/actionS...      1302  \n",
       "\n",
       "[227 rows x 4 columns]"
      ]
     },
     "metadata": {},
     "output_type": "display_data"
    }
   ],
   "source": [
    "df[df['n_tokens'] > 1300] # max context len 8192"
   ]
  },
  {
   "cell_type": "code",
   "execution_count": null,
   "metadata": {
    "datalore": {
     "hide_input_from_viewers": false,
     "hide_output_from_viewers": false,
     "node_id": "DjkS5ndgVjr9nB722uqJQI",
     "report_properties": {
      "rowId": "KzNPogswBTK0kZdtjHO1zt"
     },
     "type": "CODE"
    },
    "vscode": {
     "languageId": "python"
    }
   },
   "outputs": [
    {
     "data": {
      "text/plain": [
       "12078950"
      ]
     },
     "metadata": {},
     "output_type": "display_data"
    }
   ],
   "source": [
    "df['n_tokens'].sum()"
   ]
  },
  {
   "cell_type": "code",
   "execution_count": null,
   "metadata": {
    "datalore": {
     "hide_input_from_viewers": false,
     "hide_output_from_viewers": false,
     "node_id": "laoQEpbeSdairHDEVggBvr",
     "report_properties": {
      "rowId": "m7XKG687252d2tL5UsBLsm"
     },
     "type": "CODE"
    },
    "vscode": {
     "languageId": "python"
    }
   },
   "outputs": [
    {
     "name": "stdout",
     "output_type": "stream",
     "text": [
      "Price: $4.83\n",
      "Min time: 1.69 min\n"
     ]
    }
   ],
   "source": [
    "print(f\"Price: ${(df['n_tokens'].sum() / 1000) * 0.0004:.2f}\")\n",
    "print(f\"Min time: {((df['n_tokens'].sum() / 2048) / 3500):.2f} min\")\n",
    "# ~5.900 request total, 2k each\n",
    "\n",
    "# limit\n",
    "#  3,500 RPM / 350,000 TPM"
   ]
  },
  {
   "cell_type": "code",
   "execution_count": null,
   "metadata": {
    "datalore": {
     "hide_input_from_viewers": false,
     "hide_output_from_viewers": false,
     "node_id": "6Vr2pysqzhAxMLIFXUtvK5",
     "report_properties": {
      "rowId": "cs60rtxGDBiVMwYtVdgEmK"
     },
     "type": "CODE"
    },
    "vscode": {
     "languageId": "python"
    }
   },
   "outputs": [],
   "source": [
    "import numpy as np\n",
    "\n",
    "# replace newlines, which can negatively affect performance. See https://github.com/openai/openai-python/blob/aa133ce3a883e2957aa1e0111ee27dfef986e787/openai/embeddings_utils.py#L20\n",
    "df['tokens'] = df['code'].apply(lambda text: tokenizer.encode(text.replace(\"\\n\", \" \")))"
   ]
  },
  {
   "attachments": {},
   "cell_type": "markdown",
   "metadata": {
    "datalore": {
     "hide_input_from_viewers": false,
     "hide_output_from_viewers": false,
     "node_id": "iXySZgslXgGv86k7CulszN",
     "report_properties": {
      "rowId": "vu6GHKh4qEev2NemEO5Ti1"
     },
     "type": "MD"
    }
   },
   "source": [
    "### Fetch the embeddings"
   ]
  },
  {
   "cell_type": "code",
   "execution_count": null,
   "metadata": {
    "datalore": {
     "hide_input_from_viewers": false,
     "hide_output_from_viewers": false,
     "node_id": "MlQgbfBsV0pQRRyEMbrrdh",
     "report_properties": {
      "rowId": "sAzqaYFTotEJ9uyrZcUFEh"
     },
     "type": "CODE"
    },
    "vscode": {
     "languageId": "python"
    }
   },
   "outputs": [],
   "source": [
    "import numpy as np\n",
    "import openai\n",
    "\n",
    "openai.api_key = os.getenv(\"OPENAI_API_KEY\")\n",
    "\n",
    "# We'll batch 2048 chunks into a single API call\n",
    "# each chunk up to 8192 tokens\n",
    "df_n = df[df['n_tokens'] < 8192]"
   ]
  },
  {
   "cell_type": "code",
   "execution_count": null,
   "metadata": {
    "datalore": {
     "hide_input_from_viewers": false,
     "hide_output_from_viewers": false,
     "node_id": "jOI2YAsGvZEO3gkYlyBP6v",
     "report_properties": {
      "rowId": "RsmBAGxrA47tnWHDJuJoDi"
     },
     "type": "CODE"
    },
    "vscode": {
     "languageId": "python"
    }
   },
   "outputs": [
    {
     "data": {
      "text/html": [
       "<div>\n",
       "<style scoped>\n",
       "    .dataframe tbody tr th:only-of-type {\n",
       "        vertical-align: middle;\n",
       "    }\n",
       "\n",
       "    .dataframe tbody tr th {\n",
       "        vertical-align: top;\n",
       "    }\n",
       "\n",
       "    .dataframe thead th {\n",
       "        text-align: right;\n",
       "    }\n",
       "</style>\n",
       "<table border=\"1\" class=\"dataframe\">\n",
       "  <thead>\n",
       "    <tr style=\"text-align: right;\">\n",
       "      <th></th>\n",
       "      <th>code</th>\n",
       "      <th>function_name</th>\n",
       "      <th>filepath</th>\n",
       "      <th>n_tokens</th>\n",
       "    </tr>\n",
       "  </thead>\n",
       "  <tbody>\n",
       "    <tr>\n",
       "      <th>0</th>\n",
       "      <td>@Override\\n  protected void update(final AnAct...</td>\n",
       "      <td>update</td>\n",
       "      <td>lang-api/src/com/intellij/execution/ui/actions...</td>\n",
       "      <td>67</td>\n",
       "    </tr>\n",
       "    <tr>\n",
       "      <th>1</th>\n",
       "      <td>private boolean isToFocus(final ViewContext co...</td>\n",
       "      <td>isToFocus</td>\n",
       "      <td>lang-api/src/com/intellij/execution/ui/actions...</td>\n",
       "      <td>39</td>\n",
       "    </tr>\n",
       "    <tr>\n",
       "      <th>2</th>\n",
       "      <td>@Override\\n  protected void actionPerformed(fi...</td>\n",
       "      <td>actionPerformed</td>\n",
       "      <td>lang-api/src/com/intellij/execution/ui/actions...</td>\n",
       "      <td>63</td>\n",
       "    </tr>\n",
       "    <tr>\n",
       "      <th>3</th>\n",
       "      <td>@Override\\n  public @NotNull ActionUpdateThrea...</td>\n",
       "      <td>getActionUpdateThread</td>\n",
       "      <td>lang-api/src/com/intellij/execution/ui/actions...</td>\n",
       "      <td>25</td>\n",
       "    </tr>\n",
       "    <tr>\n",
       "      <th>4</th>\n",
       "      <td>@Override\\n  public final void update(final @N...</td>\n",
       "      <td>update</td>\n",
       "      <td>lang-api/src/com/intellij/execution/ui/actions...</td>\n",
       "      <td>76</td>\n",
       "    </tr>\n",
       "  </tbody>\n",
       "</table>\n",
       "</div>"
      ]
     },
     "metadata": {},
     "output_type": "display_data"
    },
    {
     "data": {
      "text/plain": [
       "                                                code          function_name   \n",
       "0  @Override\\n  protected void update(final AnAct...                 update  \\\n",
       "1  private boolean isToFocus(final ViewContext co...              isToFocus   \n",
       "2  @Override\\n  protected void actionPerformed(fi...        actionPerformed   \n",
       "3  @Override\\n  public @NotNull ActionUpdateThrea...  getActionUpdateThread   \n",
       "4  @Override\\n  public final void update(final @N...                 update   \n",
       "\n",
       "                                            filepath  n_tokens  \n",
       "0  lang-api/src/com/intellij/execution/ui/actions...        67  \n",
       "1  lang-api/src/com/intellij/execution/ui/actions...        39  \n",
       "2  lang-api/src/com/intellij/execution/ui/actions...        63  \n",
       "3  lang-api/src/com/intellij/execution/ui/actions...        25  \n",
       "4  lang-api/src/com/intellij/execution/ui/actions...        76  "
      ]
     },
     "metadata": {},
     "output_type": "display_data"
    }
   ],
   "source": [
    "df_n.head()"
   ]
  },
  {
   "cell_type": "code",
   "execution_count": null,
   "metadata": {
    "datalore": {
     "hide_input_from_viewers": false,
     "hide_output_from_viewers": false,
     "node_id": "TVG702JP01HCcdCBXCeEvJ",
     "report_properties": {
      "rowId": "h3Cbe5OHxOzkC4k7dheXWI"
     },
     "type": "CODE"
    },
    "vscode": {
     "languageId": "python"
    }
   },
   "outputs": [],
   "source": [
    "from typing import List\n",
    "from tenacity import retry, stop_after_attempt, wait_random_exponential\n",
    "import numpy as np\n",
    "\n",
    "@retry(wait=wait_random_exponential(min=1, max=20), stop=stop_after_attempt(6))\n",
    "def get_embeddings(\n",
    "    list_of_tokens: List[int], engine=\"text-embedding-ada-002\"\n",
    ") -> List[np.ndarray]: #List[float]\n",
    "    assert len(list_of_tokens) <= 2048, \"The batch size should not be larger than 2048.\"\n",
    "\n",
    "    # replace newlines, which accoring to OpenAI can negatively affect performance.\n",
    "    # list_of_tokens = [text.replace(\"\\n\", \" \") for text in list_of_tokens]\n",
    "    ## we did this earlier, during tokenization\n",
    "\n",
    "    data = openai.Embedding.create(input=list_of_tokens, engine=engine).data\n",
    "    data = sorted(data, key=lambda x: x[\"index\"])  # maintain the same order as input.\n",
    "    return [np.array(d[\"embedding\"]) for d in data]"
   ]
  },
  {
   "cell_type": "code",
   "execution_count": null,
   "metadata": {
    "datalore": {
     "hide_input_from_viewers": false,
     "hide_output_from_viewers": false,
     "node_id": "BWTQa6LOvNMDDOujFnxk5i",
     "report_properties": {
      "rowId": "LSBPfHgSQJEts9BNfOvJ9w"
     },
     "type": "CODE"
    },
    "vscode": {
     "languageId": "python"
    }
   },
   "outputs": [],
   "source": [
    "# All the API requests happen here! 86 API requests on /platform\n",
    "df_n['code_embedding'] = df_n.groupby(np.arange(len(df_n))//2048)['code'].transform(lambda x: get_embeddings(x.tolist(), engine=model))"
   ]
  },
  {
   "cell_type": "code",
   "execution_count": null,
   "metadata": {
    "datalore": {
     "hide_input_from_viewers": false,
     "hide_output_from_viewers": false,
     "node_id": "sWgqBVatd6zXMmxaqeDX23",
     "report_properties": {
      "rowId": "2tLxPrDaFSchT1ekSg4SyC"
     },
     "type": "CODE"
    },
    "vscode": {
     "languageId": "python"
    }
   },
   "outputs": [],
   "source": [
    "df_n.to_pickle(code_emb_file, compression={'method': 'gzip', 'compresslevel': 1, 'mtime': 1})"
   ]
  },
  {
   "cell_type": "code",
   "execution_count": null,
   "metadata": {
    "datalore": {
     "hide_input_from_viewers": false,
     "hide_output_from_viewers": false,
     "node_id": "ZTWuMf6qqFcGB7mTGXhUgb",
     "report_properties": {
      "rowId": "sUm5vNjaSZTmq83vZHUEJP"
     },
     "type": "CODE"
    },
    "vscode": {
     "languageId": "python"
    }
   },
   "outputs": [],
   "source": [
    "df_n.head()"
   ]
  },
  {
   "cell_type": "code",
   "execution_count": null,
   "metadata": {
    "datalore": {
     "hide_input_from_viewers": false,
     "hide_output_from_viewers": false,
     "node_id": "Dn46SZ707x8JhJbQGiOggF",
     "report_properties": {
      "rowId": "UNwcXuGiDKzB3bUPKYrW3o"
     },
     "type": "CODE"
    },
    "vscode": {
     "languageId": "python"
    }
   },
   "outputs": [],
   "source": []
  },
  {
   "attachments": {},
   "cell_type": "markdown",
   "metadata": {
    "datalore": {
     "hide_input_from_viewers": false,
     "hide_output_from_viewers": false,
     "node_id": "COTEWRoj2Nztidpd87K4ma",
     "report_properties": {
      "rowId": "MCyau72IBzuzQhK8RkAYBJ"
     },
     "type": "MD"
    }
   },
   "source": [
    "### Build the Index\n",
    "\n",
    "To speed up the search for the nearest neighbors among the vectors - we'll build an index for approximate nearest neighbors search that trades off some accuracy for speed.\n",
    "\n",
    "We'll use https://github.com/spotify/annoy.\n",
    "\n",
    "But https://github.com/facebookresearch/faiss is also good, though official builds are _only_ on Anaconda. (Be careful running someone else's builds from the Pypi!)"
   ]
  },
  {
   "cell_type": "code",
   "execution_count": null,
   "metadata": {
    "datalore": {
     "hide_input_from_viewers": false,
     "hide_output_from_viewers": false,
     "node_id": "lAOrxKTCFmQGQ8mB8zISFE",
     "report_properties": {
      "rowId": "8RXMtEt382FXspZL9hxWq5"
     },
     "type": "CODE"
    },
    "vscode": {
     "languageId": "python"
    }
   },
   "outputs": [
    {
     "data": {
      "text/plain": [
       "True"
      ]
     },
     "metadata": {},
     "output_type": "display_data"
    }
   ],
   "source": [
    "# build the index\n",
    "from annoy import AnnoyIndex\n",
    "\n",
    "emb_dimensions = df_csv.iloc[0].code_embedding.shape[0] # 1536 for text-embedding-ada-002\n",
    "\n",
    "# Metric can be \"angular\", \"euclidean\", \"manhattan\", \"hamming\", or \"dot\" \n",
    "# This will affect the results significantly! \n",
    "# Use 'dot' for cosin similarty, to compare with Precise Query section at the begining of this notebook\n",
    "index = AnnoyIndex(emb_dimensions, 'dot')\n",
    "\n",
    "\n",
    "df_csv.apply(lambda x: index.add_item(x.name, x.code_embedding), axis=1)\n",
    "\n",
    "index.build(200)\n",
    "index.save(f\"{code_emb_index_file}\")"
   ]
  },
  {
   "attachments": {},
   "cell_type": "markdown",
   "metadata": {
    "datalore": {
     "hide_input_from_viewers": false,
     "hide_output_from_viewers": false,
     "node_id": "dEof2KwimxxxL418tw9pI7",
     "report_properties": {
      "rowId": "N5NXpKvwdzu4KQ5YODJFtC"
     },
     "type": "MD"
    }
   },
   "source": [
    "## Bonus: data exploration"
   ]
  },
  {
   "cell_type": "code",
   "execution_count": null,
   "metadata": {
    "datalore": {
     "hide_input_from_viewers": false,
     "hide_output_from_viewers": false,
     "node_id": "92WHzi37bzW9cCeuj8j6H5",
     "report_properties": {
      "rowId": "5nZau0SOddI5sUfnTYddbV"
     },
     "type": "CODE"
    },
    "vscode": {
     "languageId": "python"
    }
   },
   "outputs": [
    {
     "data": {
      "text/html": [
       "<div>\n",
       "<style scoped>\n",
       "    .dataframe tbody tr th:only-of-type {\n",
       "        vertical-align: middle;\n",
       "    }\n",
       "\n",
       "    .dataframe tbody tr th {\n",
       "        vertical-align: top;\n",
       "    }\n",
       "\n",
       "    .dataframe thead th {\n",
       "        text-align: right;\n",
       "    }\n",
       "</style>\n",
       "<table border=\"1\" class=\"dataframe\">\n",
       "  <thead>\n",
       "    <tr style=\"text-align: right;\">\n",
       "      <th></th>\n",
       "      <th>code</th>\n",
       "      <th>function_name</th>\n",
       "      <th>filepath</th>\n",
       "    </tr>\n",
       "  </thead>\n",
       "  <tbody>\n",
       "    <tr>\n",
       "      <th>1205</th>\n",
       "      <td>default int getNavigationOffset() {\\n    FileE...</td>\n",
       "      <td>getNavigationOffset</td>\n",
       "      <td>usageView/src/com/intellij/usages/Usage.java</td>\n",
       "    </tr>\n",
       "    <tr>\n",
       "      <th>1239</th>\n",
       "      <td>@Override\\n  public int getNavigationOffset() ...</td>\n",
       "      <td>getNavigationOffset</td>\n",
       "      <td>usageView/src/com/intellij/usages/UsageInfo2Us...</td>\n",
       "    </tr>\n",
       "    <tr>\n",
       "      <th>1277</th>\n",
       "      <td>int getNavigationOffset();</td>\n",
       "      <td>getNavigationOffset</td>\n",
       "      <td>usageView/src/com/intellij/usages/UsageInfoAda...</td>\n",
       "    </tr>\n",
       "    <tr>\n",
       "      <th>78941</th>\n",
       "      <td>public int getNavigationOffset() {\\n    if (my...</td>\n",
       "      <td>getNavigationOffset</td>\n",
       "      <td>core-api/src/com/intellij/usageView/UsageInfo....</td>\n",
       "    </tr>\n",
       "  </tbody>\n",
       "</table>\n",
       "</div>"
      ]
     },
     "metadata": {},
     "output_type": "display_data"
    },
    {
     "data": {
      "text/plain": [
       "                                                    code        function_name   \n",
       "1205   default int getNavigationOffset() {\\n    FileE...  getNavigationOffset  \\\n",
       "1239   @Override\\n  public int getNavigationOffset() ...  getNavigationOffset   \n",
       "1277                          int getNavigationOffset();  getNavigationOffset   \n",
       "78941  public int getNavigationOffset() {\\n    if (my...  getNavigationOffset   \n",
       "\n",
       "                                                filepath  \n",
       "1205        usageView/src/com/intellij/usages/Usage.java  \n",
       "1239   usageView/src/com/intellij/usages/UsageInfo2Us...  \n",
       "1277   usageView/src/com/intellij/usages/UsageInfoAda...  \n",
       "78941  core-api/src/com/intellij/usageView/UsageInfo....  "
      ]
     },
     "metadata": {},
     "output_type": "display_data"
    }
   ],
   "source": [
    "df[df['function_name'] == 'getNavigationOffset']"
   ]
  },
  {
   "cell_type": "code",
   "execution_count": null,
   "metadata": {
    "datalore": {
     "hide_input_from_viewers": false,
     "hide_output_from_viewers": false,
     "node_id": "vNQ21BHUUiRCfwLvn685uP",
     "report_properties": {
      "rowId": "VB42ntnFkGa9KHBi1mP8wN"
     },
     "type": "CODE"
    },
    "vscode": {
     "languageId": "python"
    }
   },
   "outputs": [
    {
     "name": "stdout",
     "output_type": "stream",
     "text": [
      "count              175242\n",
      "unique              62280\n",
      "top       actionPerformed\n",
      "freq                 1986\n",
      "Name: function_name, dtype: object\n",
      "\n",
      "function_name\n",
      "actionPerformed                 1986\n",
      "toString                        1700\n",
      "update                          1659\n",
      "getActionUpdateThread           1413\n",
      "dispose                         1029\n",
      "equals                           995\n",
      "hashCode                         919\n",
      "getInstance                      900\n",
      "getName                          620\n",
      "run                              605\n",
      "create                           552\n",
      "getIcon                          528\n",
      "get                              505\n",
      "getText                          419\n",
      "isEnabled                        404\n",
      "remove                           403\n",
      "apply                            401\n",
      "getProject                       395\n",
      "isSelected                       373\n",
      "reset                            370\n",
      "clear                            359\n",
      "getState                         358\n",
      "setSelected                      348\n",
      "getComponent                     345\n",
      "getChildren                      332\n",
      "getId                            332\n",
      "getData                          326\n",
      "add                              314\n",
      "execute                          302\n",
      "getDisplayName                   288\n",
      "process                          285\n",
      "getPreferredSize                 283\n",
      "contains                         282\n",
      "createCenterPanel                275\n",
      "isEmpty                          266\n",
      "getDescription                   266\n",
      "close                            263\n",
      "invoke                           263\n",
      "getValue                         263\n",
      "getPreferredFocusedComponent     259\n",
      "loadState                        258\n",
      "paint                            255\n",
      "isValid                          251\n",
      "size                             249\n",
      "init                             239\n",
      "perform                          228\n",
      "isModified                       226\n",
      "accept                           218\n",
      "addListener                      215\n",
      "getFile                          214\n",
      "Name: count, dtype: int64\n"
     ]
    }
   ],
   "source": [
    "print(df.function_name.describe())\n",
    "print()\n",
    "print(df.function_name.value_counts().head(50))"
   ]
  },
  {
   "cell_type": "code",
   "execution_count": null,
   "metadata": {
    "datalore": {
     "hide_input_from_viewers": false,
     "hide_output_from_viewers": false,
     "node_id": "FJgm0i71t0CK0S5IIPLlBB",
     "report_properties": {
      "rowId": "7Uz3u4JKnISzs9C7wv3x0b"
     },
     "type": "CODE"
    },
    "vscode": {
     "languageId": "python"
    }
   },
   "outputs": [
    {
     "name": "stdout",
     "output_type": "stream",
     "text": [
      "\n"
     ]
    },
    {
     "name": "stderr",
     "output_type": "stream",
     "text": [
      "\n"
     ]
    },
    {
     "data": {
      "text/plain": [
       "<Axes: >"
      ]
     },
     "execution_count": 39,
     "metadata": {},
     "output_type": "execute_result"
    },
    {
     "data": {
      "image/png": "[encoded data removed]"
     },
     "metadata": {
      "image/png": {}
     },
     "output_type": "display_data"
    },
    {
     "data": {
      "text/plain": [
       "<Figure size 640x480 with 1 Axes>"
      ]
     },
     "metadata": {},
     "output_type": "display_data"
    }
   ],
   "source": [
    "df[df['n_tokens'] < 4000]['n_tokens'].hist(bins=200, log=True)"
   ]
  },
  {
   "cell_type": "code",
   "execution_count": null,
   "metadata": {
    "datalore": {
     "hide_input_from_viewers": false,
     "hide_output_from_viewers": false,
     "node_id": "qfmWMToV6YeycK3ckUU3Va",
     "report_properties": {
      "rowId": "gUq2Zdk9RD8yB6ID9NeMxI"
     },
     "type": "CODE"
    },
    "vscode": {
     "languageId": "python"
    }
   },
   "outputs": [],
   "source": []
  }
 ],
 "metadata": {
  "datalore": {
   "base_environment": "default",
   "computation_mode": "JUPYTER",
   "package_manager": "pip",
   "packages": [],
   "report_row_ids": [
    "s6QZH1RkYkK0T2UDsoETP6",
    "qjqAOscyYbYs8lRusA3F8M",
    "83YZV4RBT7xc5UJeKM7TRJ",
    "0LnOx4xZt00vtdfAj2CFQJ",
    "q9tbMQ894IUhmBSouuoGz9",
    "Vaewoy0c8IIhCvPuYN8KAe",
    "onGFZbC4XYOkVO9liqFnmm",
    "D79FoTckuEUHqXeOr4GOV7",
    "iyQAURPTX8epa6b4RBAGld",
    "DsmKK29SVUp3gGRZNr6yYb",
    "y3nix0cCQl4eX7GNOkeINW",
    "hTbFSBHyy4ozjAIbIr1REF",
    "ooiZheZh58Q0If8ZAVNgTo",
    "LA0M0bYHBAV1Sa8WaSc9gY",
    "6YjIIcFkmDsTbGL2t0rgrN",
    "Zd1T4420zKzw3f5L5Ub189",
    "V55DlNP0dE6KfZhlnrkiyf",
    "KqL43xuZgdSkJt9gwslzh0",
    "8PoWdCDRys6WxcwbAI6yPD",
    "k5RjFoe5lT95CIU8L2jN4n",
    "4Q6Lka94YMvBAGctCeijCf",
    "k5zVIB4CK2OCsYT8CRaIOo",
    "30gUSzSoq7m2fa0whD3qZJ",
    "fZf33bNSHfEMFAjw6DEodZ",
    "8mHhfdUAa9op41oIJcc0Mn",
    "F3jjuMPbtpLoeatZwUrMuK",
    "q81YUMyi1lubOOFdDGZL6w",
    "kRLuAfYw5hYAdShQSuJ3wz",
    "bNMxdErqTZ6Ab4AoannmcU",
    "dXU19Jex07z7nSFSRcZuLn",
    "NVeKfjqDXjGtl0QNm9j2hp",
    "yjomww0NMYecnvSZe5TTNL",
    "FI3cIccRRr9u2qYBgUDzeA",
    "2Xtwt34sUJqrs6bePga6cS",
    "sAxqDDnSJc9ipVv0QfwM2K",
    "K7LpctkSy5RbPZXuQQ7tPA",
    "tbGvdsBqZOroSQzP0mNpW9",
    "KzNPogswBTK0kZdtjHO1zt",
    "m7XKG687252d2tL5UsBLsm",
    "cs60rtxGDBiVMwYtVdgEmK",
    "vu6GHKh4qEev2NemEO5Ti1",
    "sAzqaYFTotEJ9uyrZcUFEh",
    "RsmBAGxrA47tnWHDJuJoDi",
    "h3Cbe5OHxOzkC4k7dheXWI",
    "LSBPfHgSQJEts9BNfOvJ9w",
    "2tLxPrDaFSchT1ekSg4SyC",
    "sUm5vNjaSZTmq83vZHUEJP",
    "UNwcXuGiDKzB3bUPKYrW3o",
    "MCyau72IBzuzQhK8RkAYBJ",
    "8RXMtEt382FXspZL9hxWq5",
    "N5NXpKvwdzu4KQ5YODJFtC",
    "5nZau0SOddI5sUfnTYddbV",
    "VB42ntnFkGa9KHBi1mP8wN",
    "7Uz3u4JKnISzs9C7wv3x0b",
    "gUq2Zdk9RD8yB6ID9NeMxI"
   ],
   "version": 2
  },
  "kernelspec": {
   "display_name": "Python",
   "language": "python",
   "name": "python"
  }
 },
 "nbformat": 4,
 "nbformat_minor": 4
}
