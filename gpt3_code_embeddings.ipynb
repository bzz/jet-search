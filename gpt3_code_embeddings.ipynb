{
 "cells": [
  {
   "attachments": {},
   "cell_type": "markdown",
   "metadata": {},
   "source": [
    "# GPT-3 embeddings for code on IJ Community\n",
    "\n",
    "ToC"
   ]
  },
  {
   "attachments": {},
   "cell_type": "markdown",
   "metadata": {},
   "source": [
    "## Java & Kotlin Parsers"
   ]
  },
  {
   "cell_type": "code",
   "execution_count": null,
   "metadata": {},
   "outputs": [],
   "source": [
    "%pip install -r requirement.txt\n",
    "## tree-sitter, openAI\n",
    "\n",
    "# mkidr -p parsers\n",
    "!git clone 'https://github.com/tree-sitter/tree-sitter-java' parsers/tree-sitter-java\n",
    "!git clone 'https://github.com/fwcd/tree-sitter-kotlin' parsers/tree-sitter-kotlin"
   ]
  },
  {
   "cell_type": "code",
   "execution_count": 61,
   "metadata": {},
   "outputs": [
    {
     "data": {
      "text/plain": [
       "True"
      ]
     },
     "execution_count": 61,
     "metadata": {},
     "output_type": "execute_result"
    }
   ],
   "source": [
    "from tree_sitter import Language, Parser\n",
    "\n",
    "Language.build_library( # Build and store native libraries for parsers\n",
    "  'build/my-languages.so',\n",
    "  [\n",
    "    'parsers/tree-sitter-java',\n",
    "    'parsers/tree-sitter-kotlin'\n",
    "  ]\n",
    ")"
   ]
  },
  {
   "cell_type": "code",
   "execution_count": 103,
   "metadata": {},
   "outputs": [],
   "source": [
    "# both queries include decaration \\w empty body (e.g from interfaces)\n",
    "\n",
    "JA_LANGUAGE = Language('build/my-languages.so', 'java')\n",
    "jParser = Parser()\n",
    "jParser.set_language(JA_LANGUAGE)\n",
    "jQuery = JA_LANGUAGE.query(\"\"\"\n",
    "(method_declaration\n",
    "  name: (identifier) @method.name) @method.decl\n",
    "\"\"\")\n",
    "\n",
    "KT_LANGUAGE = Language('build/my-languages.so', 'kotlin')\n",
    "kParser = Parser()\n",
    "kParser.set_language(KT_LANGUAGE)\n",
    "kQuery = KT_LANGUAGE.query(\"\"\"\n",
    "(function_declaration\n",
    "  (simple_identifier)+ @func.name) @func.decl\n",
    "\"\"\")"
   ]
  },
  {
   "cell_type": "code",
   "execution_count": 104,
   "metadata": {},
   "outputs": [
    {
     "data": {
      "text/plain": [
       "[('method_declaration', b'boolean isValid();'),\n",
       " ('identifier', b'isValid'),\n",
       " ('method_declaration',\n",
       "  b'public static void main(String[] args){\\n\\t\\tSystem.out.println(\"Hello, World!\");\\n\\t}'),\n",
       " ('identifier', b'main'),\n",
       " ('method_declaration',\n",
       "  b'static @NotNull ModalTaskOwner project(@NotNull Project project) {\\n\\t\\treturn ApplicationManager.getApplication().getService(TaskSupport.class).modalTaskOwner(project);\\n\\t}'),\n",
       " ('identifier', b'project')]"
      ]
     },
     "execution_count": 104,
     "metadata": {},
     "output_type": "execute_result"
    }
   ],
   "source": [
    "jTree = jParser.parse(bytes(\"\"\"\n",
    "public class Test {\n",
    "\tboolean isValid();\n",
    "\tpublic static void main(String[] args){\n",
    "\t\tSystem.out.println(\"Hello, World!\");\n",
    "\t}\n",
    "\tfianl String test;\n",
    "\tstatic @NotNull ModalTaskOwner project(@NotNull Project project) {\n",
    "\t\treturn ApplicationManager.getApplication().getService(TaskSupport.class).modalTaskOwner(project);\n",
    "\t}\n",
    "}\n",
    "\"\"\", \"utf8\"))\n",
    "\n",
    "jcaptures = jQuery.captures(jTree.root_node)\n",
    "assert len(jcaptures) == 6\n",
    "[(c[0].type, c[0].text) for c in jcaptures]"
   ]
  },
  {
   "cell_type": "code",
   "execution_count": 105,
   "metadata": {},
   "outputs": [
    {
     "data": {
      "text/plain": [
       "[('function_declaration',\n",
       "  b'fun main() {                        // 2\\n    println(\"Hello, World!\")        // 3\\n}'),\n",
       " ('simple_identifier', b'main'),\n",
       " ('simple_identifier', b'main'),\n",
       " ('function_declaration', b'fun onChanged()'),\n",
       " ('simple_identifier', b'onChanged'),\n",
       " ('simple_identifier', b'onChanged'),\n",
       " ('function_declaration', b'fun multiply(x: Int, y: Int = N) = x * y'),\n",
       " ('simple_identifier', b'multiply'),\n",
       " ('simple_identifier', b'multiply'),\n",
       " ('function_declaration',\n",
       "  b'override fun getMessageBus(): MessageBus {\\n    error(\"Not supported\")\\n}'),\n",
       " ('simple_identifier', b'getMessageBus'),\n",
       " ('simple_identifier', b'getMessageBus')]"
      ]
     },
     "execution_count": 105,
     "metadata": {},
     "output_type": "execute_result"
    }
   ],
   "source": [
    "kTree = kParser.parse(bytes(\"\"\"\n",
    "package org.kotlinlang.play         // 1\n",
    "\n",
    "fun main() {                        // 2\n",
    "    println(\"Hello, World!\")        // 3\n",
    "}                                   // 4\n",
    "\n",
    "fun onChanged()\n",
    "\n",
    "fun multiply(x: Int, y: Int = N) = x * y// 5\n",
    "\n",
    "override fun getMessageBus(): MessageBus {\n",
    "    error(\"Not supported\")\n",
    "}\n",
    "\n",
    "class Customer                      // 6\n",
    "\"\"\", \"utf8\"))\n",
    "\n",
    "kcaptures = kQuery.captures(kTree.root_node)\n",
    "# assert len(kcaptures) == 6\n",
    "[(c[0].type, c[0].text) for c in kcaptures]"
   ]
  },
  {
   "attachments": {},
   "cell_type": "markdown",
   "metadata": {},
   "source": [
    "## Parse & extract funtions"
   ]
  },
  {
   "cell_type": "code",
   "execution_count": 88,
   "metadata": {},
   "outputs": [],
   "source": [
    "import codecs\n",
    "import os\n",
    "import re\n",
    "from pathlib import Path\n",
    "all_funcs = []\n",
    "parsers = { \".java\": jParser, \".kt\": kParser}\n",
    "queries =  { \".java\": jQuery, \".kt\": kQuery}\n",
    "\n",
    "code_root = \"../intellij-community/platform\"\n",
    "code_files = \"ij-communit-platform-files.csv\"\n",
    "code_functions = \"ij-communit-platform-functions.csv\"\n",
    "decl_re = re.compile('.*\\.decl')\n",
    "name_re = re.compile('.*\\.name')\n",
    "\n",
    "def get_functions(rel_path: str):\n",
    "    file = os.path.join(code_root, rel_path)\n",
    "    # print(f\"reading '{file}'\")\n",
    "    with open(file, 'rb') as f:\n",
    "        ext = rel_path[rel_path.rindex(\".\"):]\n",
    "        p = parsers[ext]\n",
    "        tree = p.parse(f.raw.readall())\n",
    "\n",
    "        q = queries[ext]\n",
    "        cs = iter(q.captures(tree.root_node))\n",
    "\n",
    "        for c in cs:\n",
    "            fn_code = \"\"\n",
    "            try:\n",
    "                if decl_re.match(c[1]):\n",
    "                    fn_code = codecs.utf_8_decode(c[0].text)[0]\n",
    "                    next_c = next(cs)\n",
    "                    fn_name = codecs.utf_8_decode(next_c[0].text)[0]\n",
    "                    if ext == \".kt\": # Kotlin parser matches the name twice ¯\\_(ツ)_/¯\n",
    "                        assert next_c[0].text == next(cs)[0].text, f\"{rel_path}: {fn_code}\"\n",
    "                elif name_re.match(c[1]):\n",
    "                    fn_name = codecs.utf_8_decode(c[0].text)[0]\n",
    "                else:\n",
    "                    assert False, \"neither declaration nor name\"\n",
    "                yield {\"code\": fn_code, \"function_name\": fn_name, \"filepath\": rel_path}\n",
    "            except StopIteration as e:\n",
    "                print(f\"{rel_path}: no name after {fn_code}\")\n",
    "\n",
    "with open(code_files) as f:\n",
    "    # read, parse and query every file (find all the functions)\n",
    "    for code_file in f.readlines():\n",
    "        funcs = list(get_functions(code_file.strip()))\n",
    "        for func in funcs:\n",
    "            all_funcs.append(func)\n"
   ]
  },
  {
   "cell_type": "code",
   "execution_count": 283,
   "metadata": {},
   "outputs": [
    {
     "data": {
      "text/html": [
       "<div>\n",
       "<style scoped>\n",
       "    .dataframe tbody tr th:only-of-type {\n",
       "        vertical-align: middle;\n",
       "    }\n",
       "\n",
       "    .dataframe tbody tr th {\n",
       "        vertical-align: top;\n",
       "    }\n",
       "\n",
       "    .dataframe thead th {\n",
       "        text-align: right;\n",
       "    }\n",
       "</style>\n",
       "<table border=\"1\" class=\"dataframe\">\n",
       "  <thead>\n",
       "    <tr style=\"text-align: right;\">\n",
       "      <th></th>\n",
       "      <th>code</th>\n",
       "      <th>function_name</th>\n",
       "      <th>filepath</th>\n",
       "    </tr>\n",
       "  </thead>\n",
       "  <tbody>\n",
       "    <tr>\n",
       "      <th>0</th>\n",
       "      <td>@Override\\n  protected void update(final AnAct...</td>\n",
       "      <td>update</td>\n",
       "      <td>lang-api/src/com/intellij/execution/ui/actions...</td>\n",
       "    </tr>\n",
       "    <tr>\n",
       "      <th>1</th>\n",
       "      <td>private boolean isToFocus(final ViewContext co...</td>\n",
       "      <td>isToFocus</td>\n",
       "      <td>lang-api/src/com/intellij/execution/ui/actions...</td>\n",
       "    </tr>\n",
       "    <tr>\n",
       "      <th>2</th>\n",
       "      <td>@Override\\n  protected void actionPerformed(fi...</td>\n",
       "      <td>actionPerformed</td>\n",
       "      <td>lang-api/src/com/intellij/execution/ui/actions...</td>\n",
       "    </tr>\n",
       "    <tr>\n",
       "      <th>3</th>\n",
       "      <td>@Override\\n  public @NotNull ActionUpdateThrea...</td>\n",
       "      <td>getActionUpdateThread</td>\n",
       "      <td>lang-api/src/com/intellij/execution/ui/actions...</td>\n",
       "    </tr>\n",
       "    <tr>\n",
       "      <th>4</th>\n",
       "      <td>@Override\\n  public final void update(final @N...</td>\n",
       "      <td>update</td>\n",
       "      <td>lang-api/src/com/intellij/execution/ui/actions...</td>\n",
       "    </tr>\n",
       "  </tbody>\n",
       "</table>\n",
       "</div>"
      ],
      "text/plain": [
       "                                                code          function_name   \n",
       "0  @Override\\n  protected void update(final AnAct...                 update  \\\n",
       "1  private boolean isToFocus(final ViewContext co...              isToFocus   \n",
       "2  @Override\\n  protected void actionPerformed(fi...        actionPerformed   \n",
       "3  @Override\\n  public @NotNull ActionUpdateThrea...  getActionUpdateThread   \n",
       "4  @Override\\n  public final void update(final @N...                 update   \n",
       "\n",
       "                                            filepath  \n",
       "0  lang-api/src/com/intellij/execution/ui/actions...  \n",
       "1  lang-api/src/com/intellij/execution/ui/actions...  \n",
       "2  lang-api/src/com/intellij/execution/ui/actions...  \n",
       "3  lang-api/src/com/intellij/execution/ui/actions...  \n",
       "4  lang-api/src/com/intellij/execution/ui/actions...  "
      ]
     },
     "execution_count": 283,
     "metadata": {},
     "output_type": "execute_result"
    }
   ],
   "source": [
    "import pandas as pd\n",
    "\n",
    "code_functions = \"ij-communit-platform-functions.gz.csv\"\n",
    "\n",
    "df = pd.DataFrame(all_funcs)\n",
    "df.to_csv(code_functions, index=False, compression='gzip')\n",
    "df.head()"
   ]
  },
  {
   "attachments": {},
   "cell_type": "markdown",
   "metadata": {},
   "source": [
    "## Tokenize & embeddings"
   ]
  },
  {
   "cell_type": "code",
   "execution_count": 95,
   "metadata": {},
   "outputs": [],
   "source": [
    "# count tokens\n",
    "model=\"text-embedding-ada-002\"\n",
    "\n",
    "import tiktoken\n",
    "tokenizer = encoding = tiktoken.encoding_for_model(model) #tiktoken.get_encoding(\"cl100k_base\")\n",
    "\n",
    "df['n_tokens'] = df['code'].apply(lambda x: len(tokenizer.encode(x)))\n"
   ]
  },
  {
   "cell_type": "code",
   "execution_count": 34,
   "metadata": {},
   "outputs": [
    {
     "data": {
      "text/html": [
       "<div>\n",
       "<style scoped>\n",
       "    .dataframe tbody tr th:only-of-type {\n",
       "        vertical-align: middle;\n",
       "    }\n",
       "\n",
       "    .dataframe tbody tr th {\n",
       "        vertical-align: top;\n",
       "    }\n",
       "\n",
       "    .dataframe thead th {\n",
       "        text-align: right;\n",
       "    }\n",
       "</style>\n",
       "<table border=\"1\" class=\"dataframe\">\n",
       "  <thead>\n",
       "    <tr style=\"text-align: right;\">\n",
       "      <th></th>\n",
       "      <th>code</th>\n",
       "      <th>function_name</th>\n",
       "      <th>filepath</th>\n",
       "      <th>n_tokens</th>\n",
       "    </tr>\n",
       "  </thead>\n",
       "  <tbody>\n",
       "    <tr>\n",
       "      <th>145946</th>\n",
       "      <td>static int getUsedHashAlgorithmVersion() {\\n  ...</td>\n",
       "      <td>getUsedHashAlgorithmVersion</td>\n",
       "      <td>indexing-impl/src/com/intellij/psi/impl/cache/...</td>\n",
       "      <td>25</td>\n",
       "    </tr>\n",
       "    <tr>\n",
       "      <th>172798</th>\n",
       "      <td>private void resizeComboToFitCustomShortcut() ...</td>\n",
       "      <td>resizeComboToFitCustomShortcut</td>\n",
       "      <td>lang-impl/src/com/intellij/codeInsight/templat...</td>\n",
       "      <td>49</td>\n",
       "    </tr>\n",
       "    <tr>\n",
       "      <th>56300</th>\n",
       "      <td>public boolean postponeValidation() {\\n    ret...</td>\n",
       "      <td>postponeValidation</td>\n",
       "      <td>lang-impl/src/com/intellij/ide/util/projectWiz...</td>\n",
       "      <td>12</td>\n",
       "    </tr>\n",
       "    <tr>\n",
       "      <th>49396</th>\n",
       "      <td>@Override\\n  public Dimension getPreferredSize...</td>\n",
       "      <td>getPreferredSize</td>\n",
       "      <td>platform-impl/src/com/intellij/ui/EditorComboB...</td>\n",
       "      <td>97</td>\n",
       "    </tr>\n",
       "    <tr>\n",
       "      <th>26268</th>\n",
       "      <td>public int getEnd() {\\n    return myEnd;\\n  }</td>\n",
       "      <td>getEnd</td>\n",
       "      <td>core-impl/src/com/intellij/ide/highlighter/cus...</td>\n",
       "      <td>13</td>\n",
       "    </tr>\n",
       "  </tbody>\n",
       "</table>\n",
       "</div>"
      ],
      "text/plain": [
       "                                                     code   \n",
       "145946  static int getUsedHashAlgorithmVersion() {\\n  ...  \\\n",
       "172798  private void resizeComboToFitCustomShortcut() ...   \n",
       "56300   public boolean postponeValidation() {\\n    ret...   \n",
       "49396   @Override\\n  public Dimension getPreferredSize...   \n",
       "26268       public int getEnd() {\\n    return myEnd;\\n  }   \n",
       "\n",
       "                         function_name   \n",
       "145946     getUsedHashAlgorithmVersion  \\\n",
       "172798  resizeComboToFitCustomShortcut   \n",
       "56300               postponeValidation   \n",
       "49396                 getPreferredSize   \n",
       "26268                           getEnd   \n",
       "\n",
       "                                                 filepath  n_tokens  \n",
       "145946  indexing-impl/src/com/intellij/psi/impl/cache/...        25  \n",
       "172798  lang-impl/src/com/intellij/codeInsight/templat...        49  \n",
       "56300   lang-impl/src/com/intellij/ide/util/projectWiz...        12  \n",
       "49396   platform-impl/src/com/intellij/ui/EditorComboB...        97  \n",
       "26268   core-impl/src/com/intellij/ide/highlighter/cus...        13  "
      ]
     },
     "execution_count": 34,
     "metadata": {},
     "output_type": "execute_result"
    }
   ],
   "source": [
    "df.sample(5)"
   ]
  },
  {
   "cell_type": "code",
   "execution_count": 89,
   "metadata": {},
   "outputs": [
    {
     "name": "stdout",
     "output_type": "stream",
     "text": [
      "<class 'pandas.core.frame.DataFrame'>\n",
      "RangeIndex: 175311 entries, 0 to 175310\n",
      "Data columns (total 4 columns):\n",
      " #   Column         Non-Null Count   Dtype \n",
      "---  ------         --------------   ----- \n",
      " 0   code           175311 non-null  object\n",
      " 1   function_name  175311 non-null  object\n",
      " 2   filepath       175311 non-null  object\n",
      " 3   n_tokens       175311 non-null  int64 \n",
      "dtypes: int64(1), object(3)\n",
      "memory usage: 5.4+ MB\n"
     ]
    }
   ],
   "source": [
    "df.info()"
   ]
  },
  {
   "cell_type": "code",
   "execution_count": 96,
   "metadata": {},
   "outputs": [
    {
     "name": "stdout",
     "output_type": "stream",
     "text": [
      "<class 'pandas.core.frame.DataFrame'>\n",
      "RangeIndex: 175242 entries, 0 to 175241\n",
      "Data columns (total 4 columns):\n",
      " #   Column         Non-Null Count   Dtype \n",
      "---  ------         --------------   ----- \n",
      " 0   code           175242 non-null  object\n",
      " 1   function_name  175242 non-null  object\n",
      " 2   filepath       175242 non-null  object\n",
      " 3   n_tokens       175242 non-null  int64 \n",
      "dtypes: int64(1), object(3)\n",
      "memory usage: 5.3+ MB\n"
     ]
    }
   ],
   "source": [
    "df.info()"
   ]
  },
  {
   "cell_type": "code",
   "execution_count": 90,
   "metadata": {},
   "outputs": [
    {
     "data": {
      "text/html": [
       "<div>\n",
       "<style scoped>\n",
       "    .dataframe tbody tr th:only-of-type {\n",
       "        vertical-align: middle;\n",
       "    }\n",
       "\n",
       "    .dataframe tbody tr th {\n",
       "        vertical-align: top;\n",
       "    }\n",
       "\n",
       "    .dataframe thead th {\n",
       "        text-align: right;\n",
       "    }\n",
       "</style>\n",
       "<table border=\"1\" class=\"dataframe\">\n",
       "  <thead>\n",
       "    <tr style=\"text-align: right;\">\n",
       "      <th></th>\n",
       "      <th>n_tokens</th>\n",
       "    </tr>\n",
       "  </thead>\n",
       "  <tbody>\n",
       "    <tr>\n",
       "      <th>count</th>\n",
       "      <td>175311.000000</td>\n",
       "    </tr>\n",
       "    <tr>\n",
       "      <th>mean</th>\n",
       "      <td>68.900126</td>\n",
       "    </tr>\n",
       "    <tr>\n",
       "      <th>std</th>\n",
       "      <td>126.841344</td>\n",
       "    </tr>\n",
       "    <tr>\n",
       "      <th>min</th>\n",
       "      <td>0.000000</td>\n",
       "    </tr>\n",
       "    <tr>\n",
       "      <th>25%</th>\n",
       "      <td>20.000000</td>\n",
       "    </tr>\n",
       "    <tr>\n",
       "      <th>50%</th>\n",
       "      <td>34.000000</td>\n",
       "    </tr>\n",
       "    <tr>\n",
       "      <th>75%</th>\n",
       "      <td>73.000000</td>\n",
       "    </tr>\n",
       "    <tr>\n",
       "      <th>max</th>\n",
       "      <td>13406.000000</td>\n",
       "    </tr>\n",
       "  </tbody>\n",
       "</table>\n",
       "</div>"
      ],
      "text/plain": [
       "            n_tokens\n",
       "count  175311.000000\n",
       "mean       68.900126\n",
       "std       126.841344\n",
       "min         0.000000\n",
       "25%        20.000000\n",
       "50%        34.000000\n",
       "75%        73.000000\n",
       "max     13406.000000"
      ]
     },
     "execution_count": 90,
     "metadata": {},
     "output_type": "execute_result"
    }
   ],
   "source": [
    "df.describe()"
   ]
  },
  {
   "cell_type": "code",
   "execution_count": 97,
   "metadata": {},
   "outputs": [
    {
     "data": {
      "text/html": [
       "<div>\n",
       "<style scoped>\n",
       "    .dataframe tbody tr th:only-of-type {\n",
       "        vertical-align: middle;\n",
       "    }\n",
       "\n",
       "    .dataframe tbody tr th {\n",
       "        vertical-align: top;\n",
       "    }\n",
       "\n",
       "    .dataframe thead th {\n",
       "        text-align: right;\n",
       "    }\n",
       "</style>\n",
       "<table border=\"1\" class=\"dataframe\">\n",
       "  <thead>\n",
       "    <tr style=\"text-align: right;\">\n",
       "      <th></th>\n",
       "      <th>n_tokens</th>\n",
       "    </tr>\n",
       "  </thead>\n",
       "  <tbody>\n",
       "    <tr>\n",
       "      <th>count</th>\n",
       "      <td>175242.000000</td>\n",
       "    </tr>\n",
       "    <tr>\n",
       "      <th>mean</th>\n",
       "      <td>68.927255</td>\n",
       "    </tr>\n",
       "    <tr>\n",
       "      <th>std</th>\n",
       "      <td>126.858943</td>\n",
       "    </tr>\n",
       "    <tr>\n",
       "      <th>min</th>\n",
       "      <td>3.000000</td>\n",
       "    </tr>\n",
       "    <tr>\n",
       "      <th>25%</th>\n",
       "      <td>20.000000</td>\n",
       "    </tr>\n",
       "    <tr>\n",
       "      <th>50%</th>\n",
       "      <td>34.000000</td>\n",
       "    </tr>\n",
       "    <tr>\n",
       "      <th>75%</th>\n",
       "      <td>73.000000</td>\n",
       "    </tr>\n",
       "    <tr>\n",
       "      <th>max</th>\n",
       "      <td>13406.000000</td>\n",
       "    </tr>\n",
       "  </tbody>\n",
       "</table>\n",
       "</div>"
      ],
      "text/plain": [
       "            n_tokens\n",
       "count  175242.000000\n",
       "mean       68.927255\n",
       "std       126.858943\n",
       "min         3.000000\n",
       "25%        20.000000\n",
       "50%        34.000000\n",
       "75%        73.000000\n",
       "max     13406.000000"
      ]
     },
     "execution_count": 97,
     "metadata": {},
     "output_type": "execute_result"
    }
   ],
   "source": [
    "df.describe()"
   ]
  },
  {
   "cell_type": "code",
   "execution_count": 91,
   "metadata": {},
   "outputs": [
    {
     "data": {
      "text/html": [
       "<div>\n",
       "<style scoped>\n",
       "    .dataframe tbody tr th:only-of-type {\n",
       "        vertical-align: middle;\n",
       "    }\n",
       "\n",
       "    .dataframe tbody tr th {\n",
       "        vertical-align: top;\n",
       "    }\n",
       "\n",
       "    .dataframe thead th {\n",
       "        text-align: right;\n",
       "    }\n",
       "</style>\n",
       "<table border=\"1\" class=\"dataframe\">\n",
       "  <thead>\n",
       "    <tr style=\"text-align: right;\">\n",
       "      <th></th>\n",
       "      <th>code</th>\n",
       "      <th>function_name</th>\n",
       "      <th>filepath</th>\n",
       "      <th>n_tokens</th>\n",
       "    </tr>\n",
       "  </thead>\n",
       "  <tbody>\n",
       "    <tr>\n",
       "      <th>4399</th>\n",
       "      <td></td>\n",
       "      <td>DEFAULT_NO_EMAIL_ZENDESK_REQUESTER</td>\n",
       "      <td>feedback/src/com/intellij/feedback/common/Gene...</td>\n",
       "      <td>0</td>\n",
       "    </tr>\n",
       "    <tr>\n",
       "      <th>4991</th>\n",
       "      <td></td>\n",
       "      <td>defaultPathQuery</td>\n",
       "      <td>built-in-server/src/org/jetbrains/builtInWebSe...</td>\n",
       "      <td>0</td>\n",
       "    </tr>\n",
       "    <tr>\n",
       "      <th>4993</th>\n",
       "      <td></td>\n",
       "      <td>defaultPathQuery</td>\n",
       "      <td>built-in-server/src/org/jetbrains/builtInWebSe...</td>\n",
       "      <td>0</td>\n",
       "    </tr>\n",
       "    <tr>\n",
       "      <th>10790</th>\n",
       "      <td></td>\n",
       "      <td>id</td>\n",
       "      <td>platform-impl/src/com/intellij/diagnostic/hpro...</td>\n",
       "      <td>0</td>\n",
       "    </tr>\n",
       "    <tr>\n",
       "      <th>10792</th>\n",
       "      <td></td>\n",
       "      <td>id</td>\n",
       "      <td>platform-impl/src/com/intellij/diagnostic/hpro...</td>\n",
       "      <td>0</td>\n",
       "    </tr>\n",
       "    <tr>\n",
       "      <th>...</th>\n",
       "      <td>...</td>\n",
       "      <td>...</td>\n",
       "      <td>...</td>\n",
       "      <td>...</td>\n",
       "    </tr>\n",
       "    <tr>\n",
       "      <th>146111</th>\n",
       "      <td></td>\n",
       "      <td>alwaysTrue</td>\n",
       "      <td>util-ex/src/com/intellij/psi/util/psiTreeUtil.kt</td>\n",
       "      <td>0</td>\n",
       "    </tr>\n",
       "    <tr>\n",
       "      <th>160190</th>\n",
       "      <td></td>\n",
       "      <td>DEFAULT_NOTIFICATION_STATUS</td>\n",
       "      <td>diff-impl/src/com/intellij/diff/tools/util/Dif...</td>\n",
       "      <td>0</td>\n",
       "    </tr>\n",
       "    <tr>\n",
       "      <th>160192</th>\n",
       "      <td></td>\n",
       "      <td>DEFAULT_NOTIFICATION_STATUS</td>\n",
       "      <td>diff-impl/src/com/intellij/diff/tools/util/Dif...</td>\n",
       "      <td>0</td>\n",
       "    </tr>\n",
       "    <tr>\n",
       "      <th>163968</th>\n",
       "      <td></td>\n",
       "      <td>DEFAULT_LAMBDA</td>\n",
       "      <td>ml-impl/src/com/intellij/internal/ml/ngram/NGr...</td>\n",
       "      <td>0</td>\n",
       "    </tr>\n",
       "    <tr>\n",
       "      <th>164362</th>\n",
       "      <td></td>\n",
       "      <td>dir</td>\n",
       "      <td>testFramework/src/com/intellij/util/io/Directo...</td>\n",
       "      <td>0</td>\n",
       "    </tr>\n",
       "  </tbody>\n",
       "</table>\n",
       "<p>69 rows × 4 columns</p>\n",
       "</div>"
      ],
      "text/plain": [
       "       code                       function_name   \n",
       "4399         DEFAULT_NO_EMAIL_ZENDESK_REQUESTER  \\\n",
       "4991                           defaultPathQuery   \n",
       "4993                           defaultPathQuery   \n",
       "10790                                        id   \n",
       "10792                                        id   \n",
       "...     ...                                 ...   \n",
       "146111                               alwaysTrue   \n",
       "160190              DEFAULT_NOTIFICATION_STATUS   \n",
       "160192              DEFAULT_NOTIFICATION_STATUS   \n",
       "163968                           DEFAULT_LAMBDA   \n",
       "164362                                      dir   \n",
       "\n",
       "                                                 filepath  n_tokens  \n",
       "4399    feedback/src/com/intellij/feedback/common/Gene...         0  \n",
       "4991    built-in-server/src/org/jetbrains/builtInWebSe...         0  \n",
       "4993    built-in-server/src/org/jetbrains/builtInWebSe...         0  \n",
       "10790   platform-impl/src/com/intellij/diagnostic/hpro...         0  \n",
       "10792   platform-impl/src/com/intellij/diagnostic/hpro...         0  \n",
       "...                                                   ...       ...  \n",
       "146111   util-ex/src/com/intellij/psi/util/psiTreeUtil.kt         0  \n",
       "160190  diff-impl/src/com/intellij/diff/tools/util/Dif...         0  \n",
       "160192  diff-impl/src/com/intellij/diff/tools/util/Dif...         0  \n",
       "163968  ml-impl/src/com/intellij/internal/ml/ngram/NGr...         0  \n",
       "164362  testFramework/src/com/intellij/util/io/Directo...         0  \n",
       "\n",
       "[69 rows x 4 columns]"
      ]
     },
     "execution_count": 91,
     "metadata": {},
     "output_type": "execute_result"
    }
   ],
   "source": [
    "df[df['n_tokens'] == 0]"
   ]
  },
  {
   "cell_type": "code",
   "execution_count": 99,
   "metadata": {},
   "outputs": [
    {
     "data": {
      "text/html": [
       "<div>\n",
       "<style scoped>\n",
       "    .dataframe tbody tr th:only-of-type {\n",
       "        vertical-align: middle;\n",
       "    }\n",
       "\n",
       "    .dataframe tbody tr th {\n",
       "        vertical-align: top;\n",
       "    }\n",
       "\n",
       "    .dataframe thead th {\n",
       "        text-align: right;\n",
       "    }\n",
       "</style>\n",
       "<table border=\"1\" class=\"dataframe\">\n",
       "  <thead>\n",
       "    <tr style=\"text-align: right;\">\n",
       "      <th></th>\n",
       "      <th>code</th>\n",
       "      <th>function_name</th>\n",
       "      <th>filepath</th>\n",
       "      <th>n_tokens</th>\n",
       "    </tr>\n",
       "  </thead>\n",
       "  <tbody>\n",
       "    <tr>\n",
       "      <th>699</th>\n",
       "      <td>void cleanup();</td>\n",
       "      <td>cleanup</td>\n",
       "      <td>analysis-api/src/com/intellij/codeInspection/l...</td>\n",
       "      <td>3</td>\n",
       "    </tr>\n",
       "    <tr>\n",
       "      <th>718</th>\n",
       "      <td>void cleanup();</td>\n",
       "      <td>cleanup</td>\n",
       "      <td>analysis-api/src/com/intellij/codeInspection/l...</td>\n",
       "      <td>3</td>\n",
       "    </tr>\n",
       "    <tr>\n",
       "      <th>1076</th>\n",
       "      <td>void run();</td>\n",
       "      <td>run</td>\n",
       "      <td>editor-ui-api/src/com/intellij/openapi/actionS...</td>\n",
       "      <td>3</td>\n",
       "    </tr>\n",
       "    <tr>\n",
       "      <th>1200</th>\n",
       "      <td>boolean isValid();</td>\n",
       "      <td>isValid</td>\n",
       "      <td>usageView/src/com/intellij/usages/Usage.java</td>\n",
       "      <td>3</td>\n",
       "    </tr>\n",
       "    <tr>\n",
       "      <th>1308</th>\n",
       "      <td>boolean isValid();</td>\n",
       "      <td>isValid</td>\n",
       "      <td>usageView/src/com/intellij/usages/UsageTarget....</td>\n",
       "      <td>3</td>\n",
       "    </tr>\n",
       "    <tr>\n",
       "      <th>...</th>\n",
       "      <td>...</td>\n",
       "      <td>...</td>\n",
       "      <td>...</td>\n",
       "      <td>...</td>\n",
       "    </tr>\n",
       "    <tr>\n",
       "      <th>170086</th>\n",
       "      <td>void cancel();</td>\n",
       "      <td>cancel</td>\n",
       "      <td>core-impl/src/com/intellij/concurrency/Job.java</td>\n",
       "      <td>3</td>\n",
       "    </tr>\n",
       "    <tr>\n",
       "      <th>170739</th>\n",
       "      <td>void split();</td>\n",
       "      <td>split</td>\n",
       "      <td>platform-api/src/com/intellij/ui/content/Tabbe...</td>\n",
       "      <td>3</td>\n",
       "    </tr>\n",
       "    <tr>\n",
       "      <th>172463</th>\n",
       "      <td>void cancel();</td>\n",
       "      <td>cancel</td>\n",
       "      <td>core-api/src/org/jetbrains/concurrency/Cancell...</td>\n",
       "      <td>3</td>\n",
       "    </tr>\n",
       "    <tr>\n",
       "      <th>173406</th>\n",
       "      <td>void apply();</td>\n",
       "      <td>apply</td>\n",
       "      <td>lang-impl/src/com/intellij/ide/util/gotoByName...</td>\n",
       "      <td>3</td>\n",
       "    </tr>\n",
       "    <tr>\n",
       "      <th>174484</th>\n",
       "      <td>fun onChanged()</td>\n",
       "      <td>onChanged</td>\n",
       "      <td>lang-api/src/com/intellij/ide/projectView/Proj...</td>\n",
       "      <td>3</td>\n",
       "    </tr>\n",
       "  </tbody>\n",
       "</table>\n",
       "<p>429 rows × 4 columns</p>\n",
       "</div>"
      ],
      "text/plain": [
       "                      code function_name   \n",
       "699        void cleanup();       cleanup  \\\n",
       "718        void cleanup();       cleanup   \n",
       "1076           void run();           run   \n",
       "1200    boolean isValid();       isValid   \n",
       "1308    boolean isValid();       isValid   \n",
       "...                    ...           ...   \n",
       "170086      void cancel();        cancel   \n",
       "170739       void split();         split   \n",
       "172463      void cancel();        cancel   \n",
       "173406       void apply();         apply   \n",
       "174484     fun onChanged()     onChanged   \n",
       "\n",
       "                                                 filepath  n_tokens  \n",
       "699     analysis-api/src/com/intellij/codeInspection/l...         3  \n",
       "718     analysis-api/src/com/intellij/codeInspection/l...         3  \n",
       "1076    editor-ui-api/src/com/intellij/openapi/actionS...         3  \n",
       "1200         usageView/src/com/intellij/usages/Usage.java         3  \n",
       "1308    usageView/src/com/intellij/usages/UsageTarget....         3  \n",
       "...                                                   ...       ...  \n",
       "170086    core-impl/src/com/intellij/concurrency/Job.java         3  \n",
       "170739  platform-api/src/com/intellij/ui/content/Tabbe...         3  \n",
       "172463  core-api/src/org/jetbrains/concurrency/Cancell...         3  \n",
       "173406  lang-impl/src/com/intellij/ide/util/gotoByName...         3  \n",
       "174484  lang-api/src/com/intellij/ide/projectView/Proj...         3  \n",
       "\n",
       "[429 rows x 4 columns]"
      ]
     },
     "execution_count": 99,
     "metadata": {},
     "output_type": "execute_result"
    }
   ],
   "source": [
    "df[df['n_tokens'] == 3]"
   ]
  },
  {
   "cell_type": "code",
   "execution_count": 141,
   "metadata": {},
   "outputs": [
    {
     "data": {
      "text/plain": [
       "12078950"
      ]
     },
     "execution_count": 141,
     "metadata": {},
     "output_type": "execute_result"
    }
   ],
   "source": [
    "df['n_tokens'].sum()"
   ]
  },
  {
   "cell_type": "code",
   "execution_count": 143,
   "metadata": {},
   "outputs": [
    {
     "data": {
      "text/html": [
       "<div>\n",
       "<style scoped>\n",
       "    .dataframe tbody tr th:only-of-type {\n",
       "        vertical-align: middle;\n",
       "    }\n",
       "\n",
       "    .dataframe tbody tr th {\n",
       "        vertical-align: top;\n",
       "    }\n",
       "\n",
       "    .dataframe thead th {\n",
       "        text-align: right;\n",
       "    }\n",
       "</style>\n",
       "<table border=\"1\" class=\"dataframe\">\n",
       "  <thead>\n",
       "    <tr style=\"text-align: right;\">\n",
       "      <th></th>\n",
       "      <th>code</th>\n",
       "      <th>function_name</th>\n",
       "      <th>filepath</th>\n",
       "      <th>n_tokens</th>\n",
       "      <th>tokens</th>\n",
       "    </tr>\n",
       "  </thead>\n",
       "  <tbody>\n",
       "    <tr>\n",
       "      <th>77709</th>\n",
       "      <td>private static int[] splitIntegerList() {\\n   ...</td>\n",
       "      <td>splitIntegerList</td>\n",
       "      <td>util/zip/src/org/jetbrains/ikv/RecSplitSetting...</td>\n",
       "      <td>13406</td>\n",
       "      <td>[2039, 1118, 528, 1318, 6859, 3570, 861, 368, ...</td>\n",
       "    </tr>\n",
       "  </tbody>\n",
       "</table>\n",
       "</div>"
      ],
      "text/plain": [
       "                                                    code     function_name   \n",
       "77709  private static int[] splitIntegerList() {\\n   ...  splitIntegerList  \\\n",
       "\n",
       "                                                filepath  n_tokens   \n",
       "77709  util/zip/src/org/jetbrains/ikv/RecSplitSetting...     13406  \\\n",
       "\n",
       "                                                  tokens  \n",
       "77709  [2039, 1118, 528, 1318, 6859, 3570, 861, 368, ...  "
      ]
     },
     "execution_count": 143,
     "metadata": {},
     "output_type": "execute_result"
    }
   ],
   "source": [
    "df[df['n_tokens'] > 8192]"
   ]
  },
  {
   "cell_type": "code",
   "execution_count": 107,
   "metadata": {},
   "outputs": [
    {
     "name": "stdout",
     "output_type": "stream",
     "text": [
      "Price: $4.83\n"
     ]
    }
   ],
   "source": [
    "print(f\"Price: ${(df['n_tokens'].sum() / 1000) * 0.0004:.2f}\")\n",
    "print(f\"Min time: {((df['n_tokens'].sum() / 2048) / 3500):.2f} min\")\n",
    "# ~5.900 request total, 2k each\n",
    "\n",
    "# limit\n",
    "#  3,500 RPM\n",
    "#  350,000 TPM"
   ]
  },
  {
   "cell_type": "code",
   "execution_count": 108,
   "metadata": {},
   "outputs": [
    {
     "name": "stdout",
     "output_type": "stream",
     "text": [
      "Time: 1.69 min\n"
     ]
    }
   ],
   "source": []
  },
  {
   "cell_type": "code",
   "execution_count": 133,
   "metadata": {},
   "outputs": [],
   "source": [
    "import numpy as np\n",
    "\n",
    "df['tokens'] = df['code'].apply(lambda x: tokenizer.encode(x))"
   ]
  },
  {
   "cell_type": "code",
   "execution_count": 148,
   "metadata": {},
   "outputs": [
    {
     "data": {
      "text/plain": [
       "list"
      ]
     },
     "execution_count": 148,
     "metadata": {},
     "output_type": "execute_result"
    }
   ],
   "source": [
    "type(df['tokens'][0])"
   ]
  },
  {
   "cell_type": "code",
   "execution_count": 175,
   "metadata": {},
   "outputs": [],
   "source": [
    "import numpy as np\n",
    "import openai\n",
    "# from openai.embeddings_utils import get_embedding\n",
    "\n",
    "openai.api_key = os.getenv(\"OPENAI_API_KEY\")\n",
    "\n",
    "# batch by 2048\n",
    "# each max 8192\n",
    "df_n = df[df['n_tokens'] < 8192]\n"
   ]
  },
  {
   "cell_type": "code",
   "execution_count": null,
   "metadata": {},
   "outputs": [],
   "source": [
    "df_n['emb'] = df_n.groupby(np.arange(len(df_n))//2048)['tokens'].transform(lambda x: get_emb(x))"
   ]
  },
  {
   "cell_type": "code",
   "execution_count": 286,
   "metadata": {},
   "outputs": [
    {
     "data": {
      "text/html": [
       "<div>\n",
       "<style scoped>\n",
       "    .dataframe tbody tr th:only-of-type {\n",
       "        vertical-align: middle;\n",
       "    }\n",
       "\n",
       "    .dataframe tbody tr th {\n",
       "        vertical-align: top;\n",
       "    }\n",
       "\n",
       "    .dataframe thead th {\n",
       "        text-align: right;\n",
       "    }\n",
       "</style>\n",
       "<table border=\"1\" class=\"dataframe\">\n",
       "  <thead>\n",
       "    <tr style=\"text-align: right;\">\n",
       "      <th></th>\n",
       "      <th>code</th>\n",
       "      <th>function_name</th>\n",
       "      <th>filepath</th>\n",
       "      <th>n_tokens</th>\n",
       "      <th>tokens</th>\n",
       "      <th>code_embedding</th>\n",
       "    </tr>\n",
       "  </thead>\n",
       "  <tbody>\n",
       "    <tr>\n",
       "      <th>0</th>\n",
       "      <td>@Override\\n  protected void update(final AnAct...</td>\n",
       "      <td>update</td>\n",
       "      <td>lang-api/src/com/intellij/execution/ui/actions...</td>\n",
       "      <td>67</td>\n",
       "      <td>[6123, 198, 220, 2682, 742, 2713, 10285, 1556,...</td>\n",
       "      <td>[-0.016020899638533592, -0.01102778222411871, ...</td>\n",
       "    </tr>\n",
       "    <tr>\n",
       "      <th>1</th>\n",
       "      <td>private boolean isToFocus(final ViewContext co...</td>\n",
       "      <td>isToFocus</td>\n",
       "      <td>lang-api/src/com/intellij/execution/ui/actions...</td>\n",
       "      <td>39</td>\n",
       "      <td>[2039, 2777, 374, 1271, 14139, 10285, 2806, 20...</td>\n",
       "      <td>[0.002539371605962515, -0.01106214802712202, 0...</td>\n",
       "    </tr>\n",
       "    <tr>\n",
       "      <th>2</th>\n",
       "      <td>@Override\\n  protected void actionPerformed(fi...</td>\n",
       "      <td>actionPerformed</td>\n",
       "      <td>lang-api/src/com/intellij/execution/ui/actions...</td>\n",
       "      <td>63</td>\n",
       "      <td>[6123, 198, 220, 2682, 742, 25026, 10285, 1556...</td>\n",
       "      <td>[-0.009785722009837627, -0.014558453112840652,...</td>\n",
       "    </tr>\n",
       "    <tr>\n",
       "      <th>3</th>\n",
       "      <td>@Override\\n  public @NotNull ActionUpdateThrea...</td>\n",
       "      <td>getActionUpdateThread</td>\n",
       "      <td>lang-api/src/com/intellij/execution/ui/actions...</td>\n",
       "      <td>25</td>\n",
       "      <td>[6123, 198, 220, 586, 571, 11250, 5703, 4387, ...</td>\n",
       "      <td>[-0.05378969386219978, -0.02131587639451027, 0...</td>\n",
       "    </tr>\n",
       "    <tr>\n",
       "      <th>4</th>\n",
       "      <td>@Override\\n  public final void update(final @N...</td>\n",
       "      <td>update</td>\n",
       "      <td>lang-api/src/com/intellij/execution/ui/actions...</td>\n",
       "      <td>76</td>\n",
       "      <td>[6123, 198, 220, 586, 1620, 742, 2713, 10285, ...</td>\n",
       "      <td>[-0.02128949761390686, -0.009933851659297943, ...</td>\n",
       "    </tr>\n",
       "  </tbody>\n",
       "</table>\n",
       "</div>"
      ],
      "text/plain": [
       "                                                code          function_name   \n",
       "0  @Override\\n  protected void update(final AnAct...                 update  \\\n",
       "1  private boolean isToFocus(final ViewContext co...              isToFocus   \n",
       "2  @Override\\n  protected void actionPerformed(fi...        actionPerformed   \n",
       "3  @Override\\n  public @NotNull ActionUpdateThrea...  getActionUpdateThread   \n",
       "4  @Override\\n  public final void update(final @N...                 update   \n",
       "\n",
       "                                            filepath  n_tokens   \n",
       "0  lang-api/src/com/intellij/execution/ui/actions...        67  \\\n",
       "1  lang-api/src/com/intellij/execution/ui/actions...        39   \n",
       "2  lang-api/src/com/intellij/execution/ui/actions...        63   \n",
       "3  lang-api/src/com/intellij/execution/ui/actions...        25   \n",
       "4  lang-api/src/com/intellij/execution/ui/actions...        76   \n",
       "\n",
       "                                              tokens   \n",
       "0  [6123, 198, 220, 2682, 742, 2713, 10285, 1556,...  \\\n",
       "1  [2039, 2777, 374, 1271, 14139, 10285, 2806, 20...   \n",
       "2  [6123, 198, 220, 2682, 742, 25026, 10285, 1556...   \n",
       "3  [6123, 198, 220, 586, 571, 11250, 5703, 4387, ...   \n",
       "4  [6123, 198, 220, 586, 1620, 742, 2713, 10285, ...   \n",
       "\n",
       "                                      code_embedding  \n",
       "0  [-0.016020899638533592, -0.01102778222411871, ...  \n",
       "1  [0.002539371605962515, -0.01106214802712202, 0...  \n",
       "2  [-0.009785722009837627, -0.014558453112840652,...  \n",
       "3  [-0.05378969386219978, -0.02131587639451027, 0...  \n",
       "4  [-0.02128949761390686, -0.009933851659297943, ...  "
      ]
     },
     "execution_count": 286,
     "metadata": {},
     "output_type": "execute_result"
    }
   ],
   "source": [
    "df_n.head()"
   ]
  },
  {
   "cell_type": "code",
   "execution_count": 278,
   "metadata": {},
   "outputs": [
    {
     "name": "stderr",
     "output_type": "stream",
     "text": [
      "/var/folders/6d/br70fjk53yb1m1bnbpb74bch0000gn/T/ipykernel_40010/360095265.py:1: SettingWithCopyWarning: \n",
      "A value is trying to be set on a copy of a slice from a DataFrame\n",
      "\n",
      "See the caveats in the documentation: https://pandas.pydata.org/pandas-docs/stable/user_guide/indexing.html#returning-a-view-versus-a-copy\n",
      "  df_n.drop(columns=['emb'], inplace=True)\n"
     ]
    }
   ],
   "source": [
    "df_n.drop(columns=['emb'], inplace=True)"
   ]
  },
  {
   "cell_type": "code",
   "execution_count": 281,
   "metadata": {},
   "outputs": [],
   "source": [
    "from typing import List\n",
    "\n",
    "from tenacity import retry, stop_after_attempt, wait_random_exponential\n",
    "\n",
    "\n",
    "@retry(wait=wait_random_exponential(min=1, max=20), stop=stop_after_attempt(6))\n",
    "def get_embeddings(\n",
    "    list_of_tokens: List[int], engine=\"text-similarity-babbage-001\"\n",
    ") -> List[List[float]]:\n",
    "    assert len(list_of_tokens) <= 2048, \"The batch size should not be larger than 2048.\"\n",
    "\n",
    "    # replace newlines, which can negatively affect performance.\n",
    "    # list_of_text = [text.replace(\"\\n\", \" \") for text in list_of_text]\n",
    "\n",
    "    data = openai.Embedding.create(input=list_of_tokens, engine=engine).data\n",
    "    data = sorted(data, key=lambda x: x[\"index\"])  # maintain the same order as input.\n",
    "    return [d[\"embedding\"] for d in data]\n"
   ]
  },
  {
   "cell_type": "code",
   "execution_count": 282,
   "metadata": {},
   "outputs": [
    {
     "name": "stderr",
     "output_type": "stream",
     "text": [
      "/var/folders/6d/br70fjk53yb1m1bnbpb74bch0000gn/T/ipykernel_40010/344990029.py:2: SettingWithCopyWarning: \n",
      "A value is trying to be set on a copy of a slice from a DataFrame.\n",
      "Try using .loc[row_indexer,col_indexer] = value instead\n",
      "\n",
      "See the caveats in the documentation: https://pandas.pydata.org/pandas-docs/stable/user_guide/indexing.html#returning-a-view-versus-a-copy\n",
      "  df_n['code_embedding'] = df_n.groupby(np.arange(len(df_n))//2048)['tokens'].transform(lambda x: get_embeddings(x.tolist(), engine=model))\n"
     ]
    }
   ],
   "source": [
    "# df_n['emb']            = df_n.groupby(np.arange(len(df_n))//2048)['tokens'].transform(lambda x: get_emb(x.tolist()))\n",
    "df_n['code_embedding'] = df_n.groupby(np.arange(len(df_n))//2048)['tokens'].transform(lambda x: get_embeddings(x.tolist(), engine=model))"
   ]
  },
  {
   "cell_type": "code",
   "execution_count": 284,
   "metadata": {},
   "outputs": [],
   "source": [
    "code_emb_file = \"ij-communit-platform-functions-embeddings.gz.csv\"\n",
    "\n",
    "df_n.to_csv(code_emb_file, index=False, compression='gzip')\n"
   ]
  },
  {
   "cell_type": "code",
   "execution_count": 289,
   "metadata": {},
   "outputs": [
    {
     "data": {
      "text/plain": [
       "float"
      ]
     },
     "execution_count": 289,
     "metadata": {},
     "output_type": "execute_result"
    }
   ],
   "source": [
    "type(df_n.code_embedding[0][0])"
   ]
  },
  {
   "cell_type": "code",
   "execution_count": null,
   "metadata": {},
   "outputs": [],
   "source": []
  },
  {
   "cell_type": "code",
   "execution_count": 290,
   "metadata": {},
   "outputs": [],
   "source": [
    "from openai.embeddings_utils import cosine_similarity\n",
    "from openai.embeddings_utils import get_embedding\n",
    "\n",
    "def search_functions(df, code_query, n=3, pprint=True, n_lines=7):\n",
    "    embedding = get_embedding(code_query, engine='text-embedding-ada-002')\n",
    "    df['similarities'] = df.code_embedding.apply(lambda x: cosine_similarity(x, embedding))\n",
    "\n",
    "    res = df.sort_values('similarities', ascending=False).head(n)\n",
    "    if pprint:\n",
    "        for r in res.iterrows():\n",
    "            print(r[1].filepath+\":\"+r[1].function_name + \"  score=\" + str(round(r[1].similarities, 3)))\n",
    "            print(\"\\n\".join(r[1].code.split(\"\\n\")[:n_lines]))\n",
    "            print('-'*70)\n",
    "    return res"
   ]
  },
  {
   "cell_type": "code",
   "execution_count": 294,
   "metadata": {},
   "outputs": [
    {
     "name": "stdout",
     "output_type": "stream",
     "text": [
      "usageView/src/com/intellij/usages/Usage.java:highlightInEditor  score=0.831\n",
      "void highlightInEditor();\n",
      "----------------------------------------------------------------------\n",
      "testFramework/src/com/intellij/testFramework/fixtures/CodeInsightTestFixture.java:checkHighlighting  score=0.825\n",
      "long checkHighlighting();\n",
      "----------------------------------------------------------------------\n",
      "platform-api/src/com/intellij/openapi/options/colors/ColorSettingsPage.java:getHighlighter  score=0.823\n",
      "@NotNull SyntaxHighlighter getHighlighter();\n",
      "----------------------------------------------------------------------\n",
      "editor-ui-ex/src/com/intellij/openapi/editor/ex/util/LayeredHighlighterIterator.java:getActiveSyntaxHighlighter  score=0.813\n",
      "@NotNull\n",
      "  SyntaxHighlighter getActiveSyntaxHighlighter();\n",
      "----------------------------------------------------------------------\n",
      "xdebugger-impl/src/com/intellij/xdebugger/impl/ui/DebuggerColorsPage.java:getHighlighter  score=0.809\n",
      "@Override\n",
      "  @NotNull\n",
      "  public SyntaxHighlighter getHighlighter() {\n",
      "    return new PlainSyntaxHighlighter();\n",
      "  }\n",
      "----------------------------------------------------------------------\n"
     ]
    },
    {
     "name": "stderr",
     "output_type": "stream",
     "text": [
      "/var/folders/6d/br70fjk53yb1m1bnbpb74bch0000gn/T/ipykernel_40010/3373101337.py:6: SettingWithCopyWarning: \n",
      "A value is trying to be set on a copy of a slice from a DataFrame.\n",
      "Try using .loc[row_indexer,col_indexer] = value instead\n",
      "\n",
      "See the caveats in the documentation: https://pandas.pydata.org/pandas-docs/stable/user_guide/indexing.html#returning-a-view-versus-a-copy\n",
      "  df['similarities'] = df.code_embedding.apply(lambda x: cosine_similarity(x, embedding))\n"
     ]
    }
   ],
   "source": [
    "res = search_functions(df_n, 'API for syntax highliting', n=5)"
   ]
  },
  {
   "cell_type": "code",
   "execution_count": 295,
   "metadata": {},
   "outputs": [
    {
     "data": {
      "text/html": [
       "<div>\n",
       "<style scoped>\n",
       "    .dataframe tbody tr th:only-of-type {\n",
       "        vertical-align: middle;\n",
       "    }\n",
       "\n",
       "    .dataframe tbody tr th {\n",
       "        vertical-align: top;\n",
       "    }\n",
       "\n",
       "    .dataframe thead th {\n",
       "        text-align: right;\n",
       "    }\n",
       "</style>\n",
       "<table border=\"1\" class=\"dataframe\">\n",
       "  <thead>\n",
       "    <tr style=\"text-align: right;\">\n",
       "      <th></th>\n",
       "      <th>code</th>\n",
       "      <th>function_name</th>\n",
       "      <th>filepath</th>\n",
       "    </tr>\n",
       "  </thead>\n",
       "  <tbody>\n",
       "    <tr>\n",
       "      <th>1205</th>\n",
       "      <td>default int getNavigationOffset() {\\n    FileE...</td>\n",
       "      <td>getNavigationOffset</td>\n",
       "      <td>usageView/src/com/intellij/usages/Usage.java</td>\n",
       "    </tr>\n",
       "    <tr>\n",
       "      <th>1239</th>\n",
       "      <td>@Override\\n  public int getNavigationOffset() ...</td>\n",
       "      <td>getNavigationOffset</td>\n",
       "      <td>usageView/src/com/intellij/usages/UsageInfo2Us...</td>\n",
       "    </tr>\n",
       "    <tr>\n",
       "      <th>1277</th>\n",
       "      <td>int getNavigationOffset();</td>\n",
       "      <td>getNavigationOffset</td>\n",
       "      <td>usageView/src/com/intellij/usages/UsageInfoAda...</td>\n",
       "    </tr>\n",
       "    <tr>\n",
       "      <th>78941</th>\n",
       "      <td>public int getNavigationOffset() {\\n    if (my...</td>\n",
       "      <td>getNavigationOffset</td>\n",
       "      <td>core-api/src/com/intellij/usageView/UsageInfo....</td>\n",
       "    </tr>\n",
       "  </tbody>\n",
       "</table>\n",
       "</div>"
      ],
      "text/plain": [
       "                                                    code        function_name   \n",
       "1205   default int getNavigationOffset() {\\n    FileE...  getNavigationOffset  \\\n",
       "1239   @Override\\n  public int getNavigationOffset() ...  getNavigationOffset   \n",
       "1277                          int getNavigationOffset();  getNavigationOffset   \n",
       "78941  public int getNavigationOffset() {\\n    if (my...  getNavigationOffset   \n",
       "\n",
       "                                                filepath  \n",
       "1205        usageView/src/com/intellij/usages/Usage.java  \n",
       "1239   usageView/src/com/intellij/usages/UsageInfo2Us...  \n",
       "1277   usageView/src/com/intellij/usages/UsageInfoAda...  \n",
       "78941  core-api/src/com/intellij/usageView/UsageInfo....  "
      ]
     },
     "execution_count": 295,
     "metadata": {},
     "output_type": "execute_result"
    }
   ],
   "source": [
    "df[df['function_name'] == 'getNavigationOffset']"
   ]
  },
  {
   "cell_type": "code",
   "execution_count": 303,
   "metadata": {},
   "outputs": [
    {
     "name": "stdout",
     "output_type": "stream",
     "text": [
      "count              175242\n",
      "unique              62280\n",
      "top       actionPerformed\n",
      "freq                 1986\n",
      "Name: function_name, dtype: object\n",
      "\n",
      "function_name\n",
      "actionPerformed                 1986\n",
      "toString                        1700\n",
      "update                          1659\n",
      "getActionUpdateThread           1413\n",
      "dispose                         1029\n",
      "equals                           995\n",
      "hashCode                         919\n",
      "getInstance                      900\n",
      "getName                          620\n",
      "run                              605\n",
      "create                           552\n",
      "getIcon                          528\n",
      "get                              505\n",
      "getText                          419\n",
      "isEnabled                        404\n",
      "remove                           403\n",
      "apply                            401\n",
      "getProject                       395\n",
      "isSelected                       373\n",
      "reset                            370\n",
      "clear                            359\n",
      "getState                         358\n",
      "setSelected                      348\n",
      "getComponent                     345\n",
      "getChildren                      332\n",
      "getId                            332\n",
      "getData                          326\n",
      "add                              314\n",
      "execute                          302\n",
      "getDisplayName                   288\n",
      "process                          285\n",
      "getPreferredSize                 283\n",
      "contains                         282\n",
      "createCenterPanel                275\n",
      "isEmpty                          266\n",
      "getDescription                   266\n",
      "close                            263\n",
      "invoke                           263\n",
      "getValue                         263\n",
      "getPreferredFocusedComponent     259\n",
      "loadState                        258\n",
      "paint                            255\n",
      "isValid                          251\n",
      "size                             249\n",
      "init                             239\n",
      "perform                          228\n",
      "isModified                       226\n",
      "accept                           218\n",
      "addListener                      215\n",
      "getFile                          214\n",
      "Name: count, dtype: int64\n"
     ]
    }
   ],
   "source": [
    "print(df.function_name.describe())\n",
    "print()\n",
    "print(df.function_name.value_counts().head(50))"
   ]
  },
  {
   "cell_type": "code",
   "execution_count": null,
   "metadata": {},
   "outputs": [],
   "source": []
  },
  {
   "cell_type": "code",
   "execution_count": 292,
   "metadata": {},
   "outputs": [
    {
     "data": {
      "text/html": [
       "<div>\n",
       "<style scoped>\n",
       "    .dataframe tbody tr th:only-of-type {\n",
       "        vertical-align: middle;\n",
       "    }\n",
       "\n",
       "    .dataframe tbody tr th {\n",
       "        vertical-align: top;\n",
       "    }\n",
       "\n",
       "    .dataframe thead th {\n",
       "        text-align: right;\n",
       "    }\n",
       "</style>\n",
       "<table border=\"1\" class=\"dataframe\">\n",
       "  <thead>\n",
       "    <tr style=\"text-align: right;\">\n",
       "      <th></th>\n",
       "      <th>code</th>\n",
       "      <th>function_name</th>\n",
       "      <th>filepath</th>\n",
       "      <th>n_tokens</th>\n",
       "      <th>tokens</th>\n",
       "      <th>code_embedding</th>\n",
       "      <th>similarities</th>\n",
       "    </tr>\n",
       "  </thead>\n",
       "  <tbody>\n",
       "    <tr>\n",
       "      <th>0</th>\n",
       "      <td>@Override\\n  protected void update(final AnAct...</td>\n",
       "      <td>update</td>\n",
       "      <td>lang-api/src/com/intellij/execution/ui/actions...</td>\n",
       "      <td>67</td>\n",
       "      <td>[6123, 198, 220, 2682, 742, 2713, 10285, 1556,...</td>\n",
       "      <td>[-0.016020899638533592, -0.01102778222411871, ...</td>\n",
       "      <td>0.657746</td>\n",
       "    </tr>\n",
       "    <tr>\n",
       "      <th>1</th>\n",
       "      <td>private boolean isToFocus(final ViewContext co...</td>\n",
       "      <td>isToFocus</td>\n",
       "      <td>lang-api/src/com/intellij/execution/ui/actions...</td>\n",
       "      <td>39</td>\n",
       "      <td>[2039, 2777, 374, 1271, 14139, 10285, 2806, 20...</td>\n",
       "      <td>[0.002539371605962515, -0.01106214802712202, 0...</td>\n",
       "      <td>0.657430</td>\n",
       "    </tr>\n",
       "    <tr>\n",
       "      <th>2</th>\n",
       "      <td>@Override\\n  protected void actionPerformed(fi...</td>\n",
       "      <td>actionPerformed</td>\n",
       "      <td>lang-api/src/com/intellij/execution/ui/actions...</td>\n",
       "      <td>63</td>\n",
       "      <td>[6123, 198, 220, 2682, 742, 25026, 10285, 1556...</td>\n",
       "      <td>[-0.009785722009837627, -0.014558453112840652,...</td>\n",
       "      <td>0.669121</td>\n",
       "    </tr>\n",
       "    <tr>\n",
       "      <th>3</th>\n",
       "      <td>@Override\\n  public @NotNull ActionUpdateThrea...</td>\n",
       "      <td>getActionUpdateThread</td>\n",
       "      <td>lang-api/src/com/intellij/execution/ui/actions...</td>\n",
       "      <td>25</td>\n",
       "      <td>[6123, 198, 220, 586, 571, 11250, 5703, 4387, ...</td>\n",
       "      <td>[-0.05378969386219978, -0.02131587639451027, 0...</td>\n",
       "      <td>0.644399</td>\n",
       "    </tr>\n",
       "    <tr>\n",
       "      <th>4</th>\n",
       "      <td>@Override\\n  public final void update(final @N...</td>\n",
       "      <td>update</td>\n",
       "      <td>lang-api/src/com/intellij/execution/ui/actions...</td>\n",
       "      <td>76</td>\n",
       "      <td>[6123, 198, 220, 586, 1620, 742, 2713, 10285, ...</td>\n",
       "      <td>[-0.02128949761390686, -0.009933851659297943, ...</td>\n",
       "      <td>0.647052</td>\n",
       "    </tr>\n",
       "  </tbody>\n",
       "</table>\n",
       "</div>"
      ],
      "text/plain": [
       "                                                code          function_name   \n",
       "0  @Override\\n  protected void update(final AnAct...                 update  \\\n",
       "1  private boolean isToFocus(final ViewContext co...              isToFocus   \n",
       "2  @Override\\n  protected void actionPerformed(fi...        actionPerformed   \n",
       "3  @Override\\n  public @NotNull ActionUpdateThrea...  getActionUpdateThread   \n",
       "4  @Override\\n  public final void update(final @N...                 update   \n",
       "\n",
       "                                            filepath  n_tokens   \n",
       "0  lang-api/src/com/intellij/execution/ui/actions...        67  \\\n",
       "1  lang-api/src/com/intellij/execution/ui/actions...        39   \n",
       "2  lang-api/src/com/intellij/execution/ui/actions...        63   \n",
       "3  lang-api/src/com/intellij/execution/ui/actions...        25   \n",
       "4  lang-api/src/com/intellij/execution/ui/actions...        76   \n",
       "\n",
       "                                              tokens   \n",
       "0  [6123, 198, 220, 2682, 742, 2713, 10285, 1556,...  \\\n",
       "1  [2039, 2777, 374, 1271, 14139, 10285, 2806, 20...   \n",
       "2  [6123, 198, 220, 2682, 742, 25026, 10285, 1556...   \n",
       "3  [6123, 198, 220, 586, 571, 11250, 5703, 4387, ...   \n",
       "4  [6123, 198, 220, 586, 1620, 742, 2713, 10285, ...   \n",
       "\n",
       "                                      code_embedding  similarities  \n",
       "0  [-0.016020899638533592, -0.01102778222411871, ...      0.657746  \n",
       "1  [0.002539371605962515, -0.01106214802712202, 0...      0.657430  \n",
       "2  [-0.009785722009837627, -0.014558453112840652,...      0.669121  \n",
       "3  [-0.05378969386219978, -0.02131587639451027, 0...      0.644399  \n",
       "4  [-0.02128949761390686, -0.009933851659297943, ...      0.647052  "
      ]
     },
     "execution_count": 292,
     "metadata": {},
     "output_type": "execute_result"
    }
   ],
   "source": [
    "df_n.head()"
   ]
  },
  {
   "cell_type": "code",
   "execution_count": null,
   "metadata": {},
   "outputs": [],
   "source": []
  },
  {
   "cell_type": "code",
   "execution_count": 273,
   "metadata": {},
   "outputs": [
    {
     "name": "stdout",
     "output_type": "stream",
     "text": [
      "                                                code          function_name   \n",
      "0  @Override\\n  protected void update(final AnAct...                 update  \\\n",
      "1  private boolean isToFocus(final ViewContext co...              isToFocus   \n",
      "2  @Override\\n  protected void actionPerformed(fi...        actionPerformed   \n",
      "3  @Override\\n  public @NotNull ActionUpdateThrea...  getActionUpdateThread   \n",
      "4  @Override\\n  public final void update(final @N...                 update   \n",
      "\n",
      "                                            filepath  n_tokens   \n",
      "0  lang-api/src/com/intellij/execution/ui/actions...        67  \\\n",
      "1  lang-api/src/com/intellij/execution/ui/actions...        39   \n",
      "2  lang-api/src/com/intellij/execution/ui/actions...        63   \n",
      "3  lang-api/src/com/intellij/execution/ui/actions...        25   \n",
      "4  lang-api/src/com/intellij/execution/ui/actions...        76   \n",
      "\n",
      "                                              tokens   emb  tokens_shape  \n",
      "0  [6123, 198, 220, 2682, 742, 2713, 10285, 1556,...  [67]            67  \n",
      "1  [2039, 2777, 374, 1271, 14139, 10285, 2806, 20...  [39]            39  \n",
      "2  [6123, 198, 220, 2682, 742, 25026, 10285, 1556...  [63]            63  \n",
      "3  [6123, 198, 220, 586, 571, 11250, 5703, 4387, ...  [25]            25  \n",
      "4  [6123, 198, 220, 586, 1620, 742, 2713, 10285, ...  [76]            76  \n"
     ]
    }
   ],
   "source": [
    "from typing import List\n",
    "\n",
    "def get_emb(batch: List[List[int]]):\n",
    "     print(type(batch))\n",
    "     return [[len(x)] for x in batch]\n",
    "\n",
    "x = df_n \\\n",
    "    .groupby(np.arange(len(df_n))//2048) \\\n",
    "    # .apply(list) \\\n",
    "    # .apply(lambda x: np.asarray(x).shape)\n",
    "\n",
    "for k, group in x: # 86\n",
    "     tokens_batch = group['tokens'].to_list()\n",
    "     group['tokens_shape'] = group['tokens'].apply(list).transform(len)\n",
    "     # print(tb)\n",
    "     # group['tokens_shape'] = pd.DataFrame(get_emb(tokens_batch))\n",
    "     print(group.head())\n",
    "     break"
   ]
  },
  {
   "cell_type": "code",
   "execution_count": 251,
   "metadata": {},
   "outputs": [],
   "source": [
    "import openai\n",
    "openai.api_key = os.getenv(\"OPENAI_API_KEY\")\n",
    "\n",
    "# print(openai.Model.list())\n",
    "# response = openai.Embedding.create(model=model, input=[[64], [65]])\n",
    "# print(response)\n",
    "\n",
    "# df_n['code_embedding'] = df['tokens'].apply(lambda x: get_embedding(x, engine=model))\n",
    "\n"
   ]
  },
  {
   "cell_type": "code",
   "execution_count": null,
   "metadata": {},
   "outputs": [],
   "source": [
    "embeddings = response['data'][0]['embedding']\n",
    "\n",
    "print(embeddings)"
   ]
  }
 ],
 "metadata": {
  "kernelspec": {
   "display_name": ".venv",
   "language": "python",
   "name": "python3"
  },
  "language_info": {
   "codemirror_mode": {
    "name": "ipython",
    "version": 3
   },
   "file_extension": ".py",
   "mimetype": "text/x-python",
   "name": "python",
   "nbconvert_exporter": "python",
   "pygments_lexer": "ipython3",
   "version": "3.9.15"
  },
  "orig_nbformat": 4
 },
 "nbformat": 4,
 "nbformat_minor": 2
}
