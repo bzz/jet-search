{
  "cells": [
    {
      "cell_type": "markdown",
      "metadata": {
        "id": "oLpQFxbMVwag"
      },
      "source": [
        "# GPT-3 embeddings for code on IJ Community\n",
        "\n",
        "* [Query: vector similarity]()\n",
        "* [Query: aproximate NN index]()\n",
        "* [Retrieval]()\n",
        "* [OpenAI Embeddings]()\n",
        "* [Bonus: data exploraitons]()\n"
      ]
    },
    {
      "cell_type": "code",
      "execution_count": null,
      "metadata": {
        "id": "RR_CvFgJmpNn"
      },
      "outputs": [],
      "source": [
        "!wget https://raw.githubusercontent.com/bzz/jet-search/master/requirements.txt\n",
        "%pip install -r requirements.txt"
      ]
    },
    {
      "cell_type": "code",
      "execution_count": 4,
      "metadata": {
        "id": "Xr4xewpAmwLQ"
      },
      "outputs": [],
      "source": [
        "model=\"text-embedding-ada-002\"\n",
        "code_emb_file = \"ij-communit-platform-functions-embeddings.pkl\"\n",
        "code_emb_index_file = 'ij-communit-platform-functions-embeddings.ann'\n",
        "\n",
        "ON_CLOUD = 'google.colab' in str(get_ipython())\n",
        "\n",
        "if ON_CLOUD:\n",
        "  from google.colab import auth\n",
        "  auth.authenticate_user()"
      ]
    },
    {
      "cell_type": "code",
      "execution_count": null,
      "metadata": {
        "colab": {
          "base_uri": "https://localhost:8080/"
        },
        "id": "a2WK-kH2opLm",
        "outputId": "30ed6036-56c8-42d0-972c-b34af9249de6"
      },
      "outputs": [],
      "source": [
        "# on collab\n",
        "# !gsutil cp \"gs://cc-eval/cs/$code_emb_file\" .\n",
        "# !gsutil cp \"gs://cc-eval/cs/$code_emb_index_file\" .\n",
        "\n",
        "# on Datalore\n",
        "!wget 'https://storage.googleapis.com/semantic-cs/ij-communit-platform-functions-embeddings.ann'\n",
        "!wget 'https://storage.googleapis.com/semantic-cs/ij-communit-platform-functions-embeddings.pkl'"
      ]
    },
    {
      "cell_type": "markdown",
      "metadata": {
        "id": "8x0Mhw6WVwah"
      },
      "source": [
        "## Query"
      ]
    },
    {
      "cell_type": "markdown",
      "metadata": {
        "id": "oaPV3VpfVwai"
      },
      "source": [
        "### Query: vector similarity (precise)\n",
        "\n"
      ]
    },
    {
      "cell_type": "code",
      "execution_count": 2,
      "metadata": {
        "id": "juXrLwVCVwai"
      },
      "outputs": [],
      "source": [
        "from openai.embeddings_utils import cosine_similarity\n",
        "from openai.embeddings_utils import get_embedding\n",
        "\n",
        "def search_functions(df, code_query, n=3, pprint=True, n_lines=7):\n",
        "    embedding = get_embedding(code_query, engine='text-embedding-ada-002')\n",
        "    df['similarities'] = df.code_embedding.apply(lambda x: cosine_similarity(x, embedding))\n",
        "\n",
        "    res = df.sort_values('similarities', ascending=False).head(n)\n",
        "    if pprint:\n",
        "        for r in res.iterrows():\n",
        "            print(r[1].filepath+\":\"+r[1].function_name + \"  score=\" + str(round(r[1].similarities, 3)))\n",
        "            print(\"\\n\".join(r[1].code.split(\"\\n\")[:n_lines]))\n",
        "            print('-'*70)\n",
        "    return res"
      ]
    },
    {
      "cell_type": "code",
      "execution_count": 5,
      "metadata": {
        "id": "sD-WZtRGVwaj"
      },
      "outputs": [],
      "source": [
        "import pandas as pd\n",
        "\n",
        "df_csv = pd.read_pickle(code_emb_file, compression='gzip')"
      ]
    },
    {
      "cell_type": "code",
      "execution_count": 8,
      "metadata": {
        "colab": {
          "base_uri": "https://localhost:8080/"
        },
        "id": "xRGDaYVdVwaj",
        "outputId": "382e8ee3-ea25-4a74-93ff-b9df2ed78aa6"
      },
      "outputs": [
        {
          "name": "stdout",
          "output_type": "stream",
          "text": [
            "usageView/src/com/intellij/usages/Usage.java:highlightInEditor  score=0.821\n",
            "void highlightInEditor();\n",
            "----------------------------------------------------------------------\n",
            "testFramework/src/com/intellij/testFramework/fixtures/CodeInsightTestFixture.java:checkHighlighting  score=0.81\n",
            "long checkHighlighting();\n",
            "----------------------------------------------------------------------\n",
            "platform-api/src/com/intellij/openapi/options/colors/ColorSettingsPage.java:getHighlighter  score=0.808\n",
            "@NotNull SyntaxHighlighter getHighlighter();\n",
            "----------------------------------------------------------------------\n",
            "analysis-api/src/com/intellij/lang/documentation/ClientDocumentationSettings.java:isHighlightingOfCodeBlocksEnabled  score=0.802\n",
            "boolean isHighlightingOfCodeBlocksEnabled();\n",
            "----------------------------------------------------------------------\n",
            "editor-ui-ex/src/com/intellij/openapi/editor/ex/util/LayeredHighlighterIterator.java:getActiveSyntaxHighlighter  score=0.8\n",
            "@NotNull\n",
            "  SyntaxHighlighter getActiveSyntaxHighlighter();\n",
            "----------------------------------------------------------------------\n"
          ]
        }
      ],
      "source": [
        "import os\n",
        "import openai\n",
        "openai.api_key = os.getenv(\"OPENAI_API_KEY\")\n",
        "\n",
        "res = search_functions(df_csv, 'Places where API for syntax highliting is used', n=5)"
      ]
    },
    {
      "cell_type": "code",
      "execution_count": null,
      "metadata": {
        "id": "48C25JvmVwak"
      },
      "outputs": [],
      "source": [
        "res = search_functions(df_csv, 'definition of API for syntax highliting', n=5)"
      ]
    },
    {
      "cell_type": "code",
      "execution_count": null,
      "metadata": {
        "id": "xfdaTLQXz3di"
      },
      "outputs": [],
      "source": []
    },
    {
      "cell_type": "markdown",
      "metadata": {
        "id": "d9Hc1B9EVwak"
      },
      "source": [
        "### Query: nearest neighbors index (approximate)\n",
        "\n",
        "Instead of comparing query embedding to every vector to find the closest N, let's use an approximate index (built below in [OpenAI Embeddings]() section)"
      ]
    },
    {
      "cell_type": "code",
      "execution_count": null,
      "metadata": {
        "id": "H-FeVhTQ51e0"
      },
      "outputs": [],
      "source": [
        "from annoy import AnnoyIndex\n",
        "\n",
        "emb_dimensions = 1536 # OpenAI embeddings \n",
        "emb_index_file = 'ij-communit-platform-functions-embeddings.ann'\n",
        "index = AnnoyIndex(emb_dimensions, 'dot')\n",
        "index.load(emb_index_file)"
      ]
    },
    {
      "cell_type": "code",
      "execution_count": 16,
      "metadata": {
        "colab": {
          "base_uri": "https://localhost:8080/"
        },
        "id": "xbTuMdE-0qFo",
        "outputId": "cf5e298f-c56e-4136-d0c6-554337923875"
      },
      "outputs": [
        {
          "name": "stdout",
          "output_type": "stream",
          "text": [
            "Total number of verctors: 175241\n"
          ]
        }
      ],
      "source": [
        "print(f\"Total number of verctors: {len(df_csv)}\")"
      ]
    },
    {
      "cell_type": "code",
      "execution_count": 39,
      "metadata": {
        "id": "fc8fYuIXVwak"
      },
      "outputs": [],
      "source": [
        "from openai.embeddings_utils import get_embedding\n",
        "\n",
        "def search_functions_in_index(df, index, code_query, n=3, pprint=True, n_lines=7):\n",
        "    embedding = get_embedding(code_query, engine='text-embedding-ada-002')\n",
        "    # search_k is important! it affects runtime performance and accuracy\n",
        "    # see https://github.com/spotify/annoy#tradeoffs\n",
        "    res = index.get_nns_by_vector(embedding, n, include_distances=True, search_k=10000)\n",
        "    \n",
        "    if pprint:\n",
        "        for (i, similarity) in zip(res[0], res[1]):\n",
        "            result = df.iloc[i]\n",
        "            print(f\"{result.filepath}:{result.function_name} score={str(round(similarity, 3))}\")\n",
        "            print(\"\\n\".join(result.code.split(\"\\n\")[:n_lines]))\n",
        "            print()\n",
        "            print('-'*70)\n",
        "    df_out = df.iloc[res[0]].reset_index()\n",
        "    df_out['similarities'] = df_out.apply(lambda x: res[1][x.name] , axis=1)\n",
        "    return df_out"
      ]
    },
    {
      "cell_type": "code",
      "execution_count": 40,
      "metadata": {
        "colab": {
          "base_uri": "https://localhost:8080/"
        },
        "id": "rP5CpiwVVwak",
        "outputId": "4c9df021-a47a-430a-89dc-7f8627a1ff1d"
      },
      "outputs": [
        {
          "name": "stdout",
          "output_type": "stream",
          "text": [
            "usageView/src/com/intellij/usages/Usage.java:highlightInEditor score=0.813\n",
            "void highlightInEditor();\n",
            "\n",
            "----------------------------------------------------------------------\n",
            "analysis-api/src/com/intellij/lang/documentation/ClientDocumentationSettings.java:isHighlightingOfCodeBlocksEnabled score=0.807\n",
            "boolean isHighlightingOfCodeBlocksEnabled();\n",
            "\n",
            "----------------------------------------------------------------------\n",
            "testFramework/src/com/intellij/testFramework/fixtures/CodeInsightTestFixture.java:checkHighlighting score=0.807\n",
            "long checkHighlighting();\n",
            "\n",
            "----------------------------------------------------------------------\n",
            "ide-core/src/com/intellij/ide/dnd/DnDEvent.java:hideHighlighter score=0.801\n",
            "void hideHighlighter();\n",
            "\n",
            "----------------------------------------------------------------------\n",
            "analysis-api/src/com/intellij/lang/documentation/ClientDocumentationSettings.java:isHighlightingOfQuickDocSignaturesEnabled score=0.794\n",
            "boolean isHighlightingOfQuickDocSignaturesEnabled();\n",
            "\n",
            "----------------------------------------------------------------------\n"
          ]
        }
      ],
      "source": [
        "res = search_functions_in_index(df_csv, index, 'syntax highliting API declaration', n=5)"
      ]
    },
    {
      "cell_type": "code",
      "execution_count": 41,
      "metadata": {
        "colab": {
          "base_uri": "https://localhost:8080/",
          "height": 722
        },
        "id": "h3otHeFn5_cl",
        "outputId": "937203b6-bdc7-4f16-d09f-24cc22ec0268"
      },
      "outputs": [
        {
          "data": {
            "text/html": [
              "\n",
              "  <div id=\"df-57db7b70-0745-4142-9f99-eb91c1f72705\">\n",
              "    <div class=\"colab-df-container\">\n",
              "      <div>\n",
              "<style scoped>\n",
              "    .dataframe tbody tr th:only-of-type {\n",
              "        vertical-align: middle;\n",
              "    }\n",
              "\n",
              "    .dataframe tbody tr th {\n",
              "        vertical-align: top;\n",
              "    }\n",
              "\n",
              "    .dataframe thead th {\n",
              "        text-align: right;\n",
              "    }\n",
              "</style>\n",
              "<table border=\"1\" class=\"dataframe\">\n",
              "  <thead>\n",
              "    <tr style=\"text-align: right;\">\n",
              "      <th></th>\n",
              "      <th>index</th>\n",
              "      <th>code</th>\n",
              "      <th>function_name</th>\n",
              "      <th>filepath</th>\n",
              "      <th>n_tokens</th>\n",
              "      <th>tokens</th>\n",
              "      <th>code_embedding</th>\n",
              "      <th>similarities</th>\n",
              "    </tr>\n",
              "  </thead>\n",
              "  <tbody>\n",
              "    <tr>\n",
              "      <th>0</th>\n",
              "      <td>1204</td>\n",
              "      <td>void highlightInEditor();</td>\n",
              "      <td>highlightInEditor</td>\n",
              "      <td>usageView/src/com/intellij/usages/Usage.java</td>\n",
              "      <td>5</td>\n",
              "      <td>[1019, 11415, 644, 9597, 2178]</td>\n",
              "      <td>[-0.01926850900053978, -0.001198320067487657, ...</td>\n",
              "      <td>0.813251</td>\n",
              "    </tr>\n",
              "    <tr>\n",
              "      <th>1</th>\n",
              "      <td>158545</td>\n",
              "      <td>boolean isHighlightingOfCodeBlocksEnabled();</td>\n",
              "      <td>isHighlightingOfCodeBlocksEnabled</td>\n",
              "      <td>analysis-api/src/com/intellij/lang/documentati...</td>\n",
              "      <td>9</td>\n",
              "      <td>[6245, 374, 30930, 287, 2173, 2123, 30904, 557...</td>\n",
              "      <td>[-0.022517485544085503, 0.014456006698310375, ...</td>\n",
              "      <td>0.806812</td>\n",
              "    </tr>\n",
              "    <tr>\n",
              "      <th>2</th>\n",
              "      <td>77438</td>\n",
              "      <td>long checkHighlighting();</td>\n",
              "      <td>checkHighlighting</td>\n",
              "      <td>testFramework/src/com/intellij/testFramework/f...</td>\n",
              "      <td>5</td>\n",
              "      <td>[4930, 1817, 30930, 287, 2178]</td>\n",
              "      <td>[-0.034275881946086884, 0.006931202951818705, ...</td>\n",
              "      <td>0.806672</td>\n",
              "    </tr>\n",
              "    <tr>\n",
              "      <th>3</th>\n",
              "      <td>167831</td>\n",
              "      <td>void hideHighlighter();</td>\n",
              "      <td>hideHighlighter</td>\n",
              "      <td>ide-core/src/com/intellij/ide/dnd/DnDEvent.java</td>\n",
              "      <td>5</td>\n",
              "      <td>[1019, 10477, 30930, 261, 2178]</td>\n",
              "      <td>[-0.0321929045021534, 5.1633367547765374e-05, ...</td>\n",
              "      <td>0.801489</td>\n",
              "    </tr>\n",
              "    <tr>\n",
              "      <th>4</th>\n",
              "      <td>158544</td>\n",
              "      <td>boolean isHighlightingOfQuickDocSignaturesEnab...</td>\n",
              "      <td>isHighlightingOfQuickDocSignaturesEnabled</td>\n",
              "      <td>analysis-api/src/com/intellij/lang/documentati...</td>\n",
              "      <td>11</td>\n",
              "      <td>[6245, 374, 30930, 287, 2173, 25310, 9743, 741...</td>\n",
              "      <td>[-0.03709271177649498, 0.015990113839507103, 0...</td>\n",
              "      <td>0.793928</td>\n",
              "    </tr>\n",
              "  </tbody>\n",
              "</table>\n",
              "</div>\n",
              "      <button class=\"colab-df-convert\" onclick=\"convertToInteractive('df-57db7b70-0745-4142-9f99-eb91c1f72705')\"\n",
              "              title=\"Convert this dataframe to an interactive table.\"\n",
              "              style=\"display:none;\">\n",
              "        \n",
              "  <svg xmlns=\"http://www.w3.org/2000/svg\" height=\"24px\"viewBox=\"0 0 24 24\"\n",
              "       width=\"24px\">\n",
              "    <path d=\"M0 0h24v24H0V0z\" fill=\"none\"/>\n",
              "    <path d=\"M18.56 5.44l.94 2.06.94-2.06 2.06-.94-2.06-.94-.94-2.06-.94 2.06-2.06.94zm-11 1L8.5 8.5l.94-2.06 2.06-.94-2.06-.94L8.5 2.5l-.94 2.06-2.06.94zm10 10l.94 2.06.94-2.06 2.06-.94-2.06-.94-.94-2.06-.94 2.06-2.06.94z\"/><path d=\"M17.41 7.96l-1.37-1.37c-.4-.4-.92-.59-1.43-.59-.52 0-1.04.2-1.43.59L10.3 9.45l-7.72 7.72c-.78.78-.78 2.05 0 2.83L4 21.41c.39.39.9.59 1.41.59.51 0 1.02-.2 1.41-.59l7.78-7.78 2.81-2.81c.8-.78.8-2.07 0-2.86zM5.41 20L4 18.59l7.72-7.72 1.47 1.35L5.41 20z\"/>\n",
              "  </svg>\n",
              "      </button>\n",
              "      \n",
              "  <style>\n",
              "    .colab-df-container {\n",
              "      display:flex;\n",
              "      flex-wrap:wrap;\n",
              "      gap: 12px;\n",
              "    }\n",
              "\n",
              "    .colab-df-convert {\n",
              "      background-color: #E8F0FE;\n",
              "      border: none;\n",
              "      border-radius: 50%;\n",
              "      cursor: pointer;\n",
              "      display: none;\n",
              "      fill: #1967D2;\n",
              "      height: 32px;\n",
              "      padding: 0 0 0 0;\n",
              "      width: 32px;\n",
              "    }\n",
              "\n",
              "    .colab-df-convert:hover {\n",
              "      background-color: #E2EBFA;\n",
              "      box-shadow: 0px 1px 2px rgba(60, 64, 67, 0.3), 0px 1px 3px 1px rgba(60, 64, 67, 0.15);\n",
              "      fill: #174EA6;\n",
              "    }\n",
              "\n",
              "    [theme=dark] .colab-df-convert {\n",
              "      background-color: #3B4455;\n",
              "      fill: #D2E3FC;\n",
              "    }\n",
              "\n",
              "    [theme=dark] .colab-df-convert:hover {\n",
              "      background-color: #434B5C;\n",
              "      box-shadow: 0px 1px 3px 1px rgba(0, 0, 0, 0.15);\n",
              "      filter: drop-shadow(0px 1px 2px rgba(0, 0, 0, 0.3));\n",
              "      fill: #FFFFFF;\n",
              "    }\n",
              "  </style>\n",
              "\n",
              "      <script>\n",
              "        const buttonEl =\n",
              "          document.querySelector('#df-57db7b70-0745-4142-9f99-eb91c1f72705 button.colab-df-convert');\n",
              "        buttonEl.style.display =\n",
              "          google.colab.kernel.accessAllowed ? 'block' : 'none';\n",
              "\n",
              "        async function convertToInteractive(key) {\n",
              "          const element = document.querySelector('#df-57db7b70-0745-4142-9f99-eb91c1f72705');\n",
              "          const dataTable =\n",
              "            await google.colab.kernel.invokeFunction('convertToInteractive',\n",
              "                                                     [key], {});\n",
              "          if (!dataTable) return;\n",
              "\n",
              "          const docLinkHtml = 'Like what you see? Visit the ' +\n",
              "            '<a target=\"_blank\" href=https://colab.research.google.com/notebooks/data_table.ipynb>data table notebook</a>'\n",
              "            + ' to learn more about interactive tables.';\n",
              "          element.innerHTML = '';\n",
              "          dataTable['output_type'] = 'display_data';\n",
              "          await google.colab.output.renderOutput(dataTable, element);\n",
              "          const docLink = document.createElement('div');\n",
              "          docLink.innerHTML = docLinkHtml;\n",
              "          element.appendChild(docLink);\n",
              "        }\n",
              "      </script>\n",
              "    </div>\n",
              "  </div>\n",
              "  "
            ],
            "text/plain": [
              "    index                                               code   \n",
              "0    1204                          void highlightInEditor();  \\\n",
              "1  158545       boolean isHighlightingOfCodeBlocksEnabled();   \n",
              "2   77438                          long checkHighlighting();   \n",
              "3  167831                            void hideHighlighter();   \n",
              "4  158544  boolean isHighlightingOfQuickDocSignaturesEnab...   \n",
              "\n",
              "                               function_name   \n",
              "0                          highlightInEditor  \\\n",
              "1          isHighlightingOfCodeBlocksEnabled   \n",
              "2                          checkHighlighting   \n",
              "3                            hideHighlighter   \n",
              "4  isHighlightingOfQuickDocSignaturesEnabled   \n",
              "\n",
              "                                            filepath  n_tokens   \n",
              "0       usageView/src/com/intellij/usages/Usage.java         5  \\\n",
              "1  analysis-api/src/com/intellij/lang/documentati...         9   \n",
              "2  testFramework/src/com/intellij/testFramework/f...         5   \n",
              "3    ide-core/src/com/intellij/ide/dnd/DnDEvent.java         5   \n",
              "4  analysis-api/src/com/intellij/lang/documentati...        11   \n",
              "\n",
              "                                              tokens   \n",
              "0                     [1019, 11415, 644, 9597, 2178]  \\\n",
              "1  [6245, 374, 30930, 287, 2173, 2123, 30904, 557...   \n",
              "2                     [4930, 1817, 30930, 287, 2178]   \n",
              "3                    [1019, 10477, 30930, 261, 2178]   \n",
              "4  [6245, 374, 30930, 287, 2173, 25310, 9743, 741...   \n",
              "\n",
              "                                      code_embedding  similarities  \n",
              "0  [-0.01926850900053978, -0.001198320067487657, ...      0.813251  \n",
              "1  [-0.022517485544085503, 0.014456006698310375, ...      0.806812  \n",
              "2  [-0.034275881946086884, 0.006931202951818705, ...      0.806672  \n",
              "3  [-0.0321929045021534, 5.1633367547765374e-05, ...      0.801489  \n",
              "4  [-0.03709271177649498, 0.015990113839507103, 0...      0.793928  "
            ]
          },
          "execution_count": 41,
          "metadata": {},
          "output_type": "execute_result"
        }
      ],
      "source": [
        "res"
      ]
    },
    {
      "cell_type": "code",
      "execution_count": null,
      "metadata": {
        "id": "AClbv_stVwal"
      },
      "outputs": [],
      "source": []
    },
    {
      "cell_type": "markdown",
      "metadata": {
        "id": "5iyTW7WXVwal"
      },
      "source": [
        "## Retrieval"
      ]
    },
    {
      "cell_type": "markdown",
      "metadata": {
        "id": "EiIaSxdhVwal"
      },
      "source": [
        "### Java & Kotlin Parsers"
      ]
    },
    {
      "cell_type": "code",
      "execution_count": null,
      "metadata": {
        "id": "Szp-dsAmVwal"
      },
      "outputs": [],
      "source": [
        "%pip install -r requirement.txt\n",
        "## tree-sitter, openAI\n",
        "\n",
        "# mkidr -p parsers\n",
        "!git clone 'https://github.com/tree-sitter/tree-sitter-java' parsers/tree-sitter-java\n",
        "!git clone 'https://github.com/fwcd/tree-sitter-kotlin' parsers/tree-sitter-kotlin"
      ]
    },
    {
      "cell_type": "code",
      "execution_count": null,
      "metadata": {
        "id": "cBDGvwMgVwal",
        "outputId": "883d7c14-b6a2-4101-ceaa-239ea5bd692c"
      },
      "outputs": [
        {
          "data": {
            "text/plain": [
              "False"
            ]
          },
          "execution_count": 16,
          "metadata": {},
          "output_type": "execute_result"
        }
      ],
      "source": [
        "from tree_sitter import Language, Parser\n",
        "\n",
        "Language.build_library( # Build and store native libraries for parsers\n",
        "  'build/my-languages.so',\n",
        "  [\n",
        "    'parsers/tree-sitter-java',\n",
        "    'parsers/tree-sitter-kotlin'\n",
        "  ]\n",
        ")"
      ]
    },
    {
      "cell_type": "code",
      "execution_count": null,
      "metadata": {
        "id": "ya5CS7d7Vwav"
      },
      "outputs": [],
      "source": [
        "# both queries include decaration \\w empty body (e.g from interfaces)\n",
        "\n",
        "JA_LANGUAGE = Language('build/my-languages.so', 'java')\n",
        "jParser = Parser()\n",
        "jParser.set_language(JA_LANGUAGE)\n",
        "jQuery = JA_LANGUAGE.query(\"\"\"\n",
        "(method_declaration\n",
        "  name: (identifier) @method.name) @method.decl\n",
        "\"\"\")\n",
        "\n",
        "KT_LANGUAGE = Language('build/my-languages.so', 'kotlin')\n",
        "kParser = Parser()\n",
        "kParser.set_language(KT_LANGUAGE)\n",
        "kQuery = KT_LANGUAGE.query(\"\"\"\n",
        "(function_declaration\n",
        "  (simple_identifier)+ @func.name) @func.decl\n",
        "\"\"\")"
      ]
    },
    {
      "cell_type": "code",
      "execution_count": null,
      "metadata": {
        "id": "ZK_PJQbkVwav",
        "outputId": "33788bdb-0dbe-40bc-d68d-0d9f0c5c9713"
      },
      "outputs": [
        {
          "data": {
            "text/plain": [
              "[('method_declaration', b'boolean isValid();'),\n",
              " ('identifier', b'isValid'),\n",
              " ('method_declaration',\n",
              "  b'public static void main(String[] args){\\n\\t\\tSystem.out.println(\"Hello, World!\");\\n\\t}'),\n",
              " ('identifier', b'main'),\n",
              " ('method_declaration',\n",
              "  b'static @NotNull ModalTaskOwner project(@NotNull Project project) {\\n\\t\\treturn ApplicationManager.getApplication().getService(TaskSupport.class).modalTaskOwner(project);\\n\\t}'),\n",
              " ('identifier', b'project')]"
            ]
          },
          "execution_count": 18,
          "metadata": {},
          "output_type": "execute_result"
        }
      ],
      "source": [
        "jTree = jParser.parse(bytes(\"\"\"\n",
        "public class Test {\n",
        "\t/**\n",
        "\t * JavaDoc\n",
        "\t */\n",
        "\tboolean isValid();\n",
        "\tpublic static void main(String[] args){\n",
        "\t\tSystem.out.println(\"Hello, World!\");\n",
        "\t}\n",
        "\tfianl String test;\n",
        "\tstatic @NotNull ModalTaskOwner project(@NotNull Project project) {\n",
        "\t\treturn ApplicationManager.getApplication().getService(TaskSupport.class).modalTaskOwner(project);\n",
        "\t}\n",
        "}\n",
        "\"\"\", \"utf8\"))\n",
        "\n",
        "jcaptures = jQuery.captures(jTree.root_node)\n",
        "assert len(jcaptures) == 6\n",
        "[(c[0].type, c[0].text) for c in jcaptures]"
      ]
    },
    {
      "cell_type": "code",
      "execution_count": null,
      "metadata": {
        "id": "TGJKk3YyVwaw",
        "outputId": "4215a7f6-0de0-43fb-a0b7-b59c51d88d0b"
      },
      "outputs": [
        {
          "data": {
            "text/plain": [
              "[('function_declaration',\n",
              "  b'fun main() {                        // 2\\n    println(\"Hello, World!\")        // 3\\n}'),\n",
              " ('simple_identifier', b'main'),\n",
              " ('simple_identifier', b'main'),\n",
              " ('function_declaration', b'fun onChanged()'),\n",
              " ('simple_identifier', b'onChanged'),\n",
              " ('simple_identifier', b'onChanged'),\n",
              " ('function_declaration', b'fun multiply(x: Int, y: Int = N) = x * y'),\n",
              " ('simple_identifier', b'multiply'),\n",
              " ('simple_identifier', b'multiply'),\n",
              " ('function_declaration',\n",
              "  b'override fun getMessageBus(): MessageBus {\\n    error(\"Not supported\")\\n}'),\n",
              " ('simple_identifier', b'getMessageBus'),\n",
              " ('simple_identifier', b'getMessageBus')]"
            ]
          },
          "execution_count": 19,
          "metadata": {},
          "output_type": "execute_result"
        }
      ],
      "source": [
        "kTree = kParser.parse(bytes(\"\"\"\n",
        "package org.kotlinlang.play         // 1\n",
        "\n",
        "fun main() {                        // 2\n",
        "    println(\"Hello, World!\")        // 3\n",
        "}                                   // 4\n",
        "\n",
        "/* comment */\n",
        "fun onChanged()\n",
        "\n",
        "fun multiply(x: Int, y: Int = N) = x * y// 5\n",
        "\n",
        "override fun getMessageBus(): MessageBus {\n",
        "    error(\"Not supported\")\n",
        "}\n",
        "\n",
        "class Customer                      // 6\n",
        "\"\"\", \"utf8\"))\n",
        "\n",
        "kcaptures = kQuery.captures(kTree.root_node)\n",
        "# assert len(kcaptures) == 6\n",
        "[(c[0].type, c[0].text) for c in kcaptures]"
      ]
    },
    {
      "cell_type": "markdown",
      "metadata": {
        "id": "OwXYkt4FVwaw"
      },
      "source": [
        "### Parse & extract funtions"
      ]
    },
    {
      "cell_type": "code",
      "execution_count": null,
      "metadata": {
        "id": "6nJbyRFIVwaw"
      },
      "outputs": [],
      "source": [
        "import codecs\n",
        "import os\n",
        "import re\n",
        "from pathlib import Path\n",
        "all_funcs = []\n",
        "parsers = { \".java\": jParser, \".kt\": kParser}\n",
        "queries =  { \".java\": jQuery, \".kt\": kQuery}\n",
        "\n",
        "code_root = \"../intellij-community/platform\"\n",
        "code_files = \"ij-communit-platform-files.csv\"\n",
        "code_functions = \"ij-communit-platform-functions.csv\"\n",
        "decl_re = re.compile('.*\\.decl')\n",
        "name_re = re.compile('.*\\.name')\n",
        "\n",
        "def get_functions(rel_path: str):\n",
        "    file = os.path.join(code_root, rel_path)\n",
        "    # print(f\"reading '{file}'\")\n",
        "    with open(file, 'rb') as f:\n",
        "        ext = rel_path[rel_path.rindex(\".\"):]\n",
        "        p = parsers[ext]\n",
        "        tree = p.parse(f.raw.readall())\n",
        "\n",
        "        q = queries[ext]\n",
        "        cs = iter(q.captures(tree.root_node))\n",
        "\n",
        "        for c in cs:\n",
        "            fn_code = \"\"\n",
        "            try:\n",
        "                if decl_re.match(c[1]):\n",
        "                    fn_code = codecs.utf_8_decode(c[0].text)[0]\n",
        "                    next_c = next(cs)\n",
        "                    fn_name = codecs.utf_8_decode(next_c[0].text)[0]\n",
        "                    if ext == \".kt\": # Kotlin parser matches the name twice ¯\\_(ツ)_/¯\n",
        "                        assert next_c[0].text == next(cs)[0].text, f\"{rel_path}: {fn_code}\"\n",
        "                elif name_re.match(c[1]):\n",
        "                    fn_name = codecs.utf_8_decode(c[0].text)[0]\n",
        "                else:\n",
        "                    assert False, \"neither declaration nor name\"\n",
        "                yield {\"code\": fn_code, \"function_name\": fn_name, \"filepath\": rel_path}\n",
        "            except StopIteration as e:\n",
        "                print(f\"{rel_path}: no name after {fn_code}\")\n",
        "\n",
        "with open(code_files) as f:\n",
        "    # read, parse and query every file (find all the functions)\n",
        "    for code_file in f.readlines():\n",
        "        funcs = list(get_functions(code_file.strip()))\n",
        "        for func in funcs:\n",
        "            all_funcs.append(func)\n"
      ]
    },
    {
      "cell_type": "code",
      "execution_count": null,
      "metadata": {
        "id": "Hiy_GE1GVwaw",
        "outputId": "313d7b1f-8c59-4add-b98b-3b121b09353d"
      },
      "outputs": [
        {
          "data": {
            "text/html": [
              "<div>\n",
              "<style scoped>\n",
              "    .dataframe tbody tr th:only-of-type {\n",
              "        vertical-align: middle;\n",
              "    }\n",
              "\n",
              "    .dataframe tbody tr th {\n",
              "        vertical-align: top;\n",
              "    }\n",
              "\n",
              "    .dataframe thead th {\n",
              "        text-align: right;\n",
              "    }\n",
              "</style>\n",
              "<table border=\"1\" class=\"dataframe\">\n",
              "  <thead>\n",
              "    <tr style=\"text-align: right;\">\n",
              "      <th></th>\n",
              "      <th>code</th>\n",
              "      <th>function_name</th>\n",
              "      <th>filepath</th>\n",
              "    </tr>\n",
              "  </thead>\n",
              "  <tbody>\n",
              "    <tr>\n",
              "      <th>0</th>\n",
              "      <td>@Override\\n  protected void update(final AnAct...</td>\n",
              "      <td>update</td>\n",
              "      <td>lang-api/src/com/intellij/execution/ui/actions...</td>\n",
              "    </tr>\n",
              "    <tr>\n",
              "      <th>1</th>\n",
              "      <td>private boolean isToFocus(final ViewContext co...</td>\n",
              "      <td>isToFocus</td>\n",
              "      <td>lang-api/src/com/intellij/execution/ui/actions...</td>\n",
              "    </tr>\n",
              "    <tr>\n",
              "      <th>2</th>\n",
              "      <td>@Override\\n  protected void actionPerformed(fi...</td>\n",
              "      <td>actionPerformed</td>\n",
              "      <td>lang-api/src/com/intellij/execution/ui/actions...</td>\n",
              "    </tr>\n",
              "    <tr>\n",
              "      <th>3</th>\n",
              "      <td>@Override\\n  public @NotNull ActionUpdateThrea...</td>\n",
              "      <td>getActionUpdateThread</td>\n",
              "      <td>lang-api/src/com/intellij/execution/ui/actions...</td>\n",
              "    </tr>\n",
              "    <tr>\n",
              "      <th>4</th>\n",
              "      <td>@Override\\n  public final void update(final @N...</td>\n",
              "      <td>update</td>\n",
              "      <td>lang-api/src/com/intellij/execution/ui/actions...</td>\n",
              "    </tr>\n",
              "  </tbody>\n",
              "</table>\n",
              "</div>"
            ],
            "text/plain": [
              "                                                code          function_name   \n",
              "0  @Override\\n  protected void update(final AnAct...                 update  \\\n",
              "1  private boolean isToFocus(final ViewContext co...              isToFocus   \n",
              "2  @Override\\n  protected void actionPerformed(fi...        actionPerformed   \n",
              "3  @Override\\n  public @NotNull ActionUpdateThrea...  getActionUpdateThread   \n",
              "4  @Override\\n  public final void update(final @N...                 update   \n",
              "\n",
              "                                            filepath  \n",
              "0  lang-api/src/com/intellij/execution/ui/actions...  \n",
              "1  lang-api/src/com/intellij/execution/ui/actions...  \n",
              "2  lang-api/src/com/intellij/execution/ui/actions...  \n",
              "3  lang-api/src/com/intellij/execution/ui/actions...  \n",
              "4  lang-api/src/com/intellij/execution/ui/actions...  "
            ]
          },
          "execution_count": 47,
          "metadata": {},
          "output_type": "execute_result"
        }
      ],
      "source": [
        "import pandas as pd\n",
        "\n",
        "code_functions = \"ij-communit-platform-functions.csv.gz\"\n",
        "\n",
        "#df = pd.DataFrame(all_funcs)\n",
        "#df.to_csv(code_functions, index=False, compression='gzip')\n",
        "df = pd.read_csv(code_functions, compression='gzip')\n",
        "df.head()"
      ]
    },
    {
      "cell_type": "markdown",
      "metadata": {
        "id": "imDeu2kKVwaw"
      },
      "source": [
        "## OpenAI Embeddings"
      ]
    },
    {
      "cell_type": "code",
      "execution_count": null,
      "metadata": {
        "id": "5esZGNiCVwaw"
      },
      "outputs": [],
      "source": [
        "model=\"text-embedding-ada-002\"\n",
        "code_emb_file = \"ij-communit-platform-functions-embeddings.pkl\"\n",
        "code_emb_index_file = 'ij-communit-platform-functions-embeddings.ann'"
      ]
    },
    {
      "cell_type": "markdown",
      "metadata": {
        "id": "UW9nf3EpVwaw"
      },
      "source": [
        "### Tokenize & encode"
      ]
    },
    {
      "cell_type": "code",
      "execution_count": null,
      "metadata": {
        "id": "6j9SFpnrVwaw"
      },
      "outputs": [],
      "source": [
        "# count the tokens\n",
        "\n",
        "import tiktoken\n",
        "tokenizer = encoding = tiktoken.encoding_for_model(model) #tiktoken.get_encoding(\"cl100k_base\")\n",
        "\n",
        "df['n_tokens'] = df['code'].apply(lambda x: len(tokenizer.encode(x)))\n"
      ]
    },
    {
      "cell_type": "code",
      "execution_count": null,
      "metadata": {
        "id": "z4Ky5-qcVwax",
        "outputId": "a7a2167e-4b00-4283-d55f-c53cf3f086f2"
      },
      "outputs": [
        {
          "data": {
            "text/html": [
              "<div>\n",
              "<style scoped>\n",
              "    .dataframe tbody tr th:only-of-type {\n",
              "        vertical-align: middle;\n",
              "    }\n",
              "\n",
              "    .dataframe tbody tr th {\n",
              "        vertical-align: top;\n",
              "    }\n",
              "\n",
              "    .dataframe thead th {\n",
              "        text-align: right;\n",
              "    }\n",
              "</style>\n",
              "<table border=\"1\" class=\"dataframe\">\n",
              "  <thead>\n",
              "    <tr style=\"text-align: right;\">\n",
              "      <th></th>\n",
              "      <th>code</th>\n",
              "      <th>function_name</th>\n",
              "      <th>filepath</th>\n",
              "      <th>n_tokens</th>\n",
              "    </tr>\n",
              "  </thead>\n",
              "  <tbody>\n",
              "    <tr>\n",
              "      <th>117876</th>\n",
              "      <td>public abstract boolean isInsideScreenBounds(i...</td>\n",
              "      <td>isInsideScreenBounds</td>\n",
              "      <td>ide-core/src/com/intellij/openapi/wm/WindowMan...</td>\n",
              "      <td>16</td>\n",
              "    </tr>\n",
              "    <tr>\n",
              "      <th>66324</th>\n",
              "      <td>@Override\\n  public void fileMoved(@NotNull Vi...</td>\n",
              "      <td>fileMoved</td>\n",
              "      <td>core-api/src/com/intellij/openapi/vfs/VirtualF...</td>\n",
              "      <td>25</td>\n",
              "    </tr>\n",
              "    <tr>\n",
              "      <th>2448</th>\n",
              "      <td>protected abstract void update(@NotNull VcsCon...</td>\n",
              "      <td>update</td>\n",
              "      <td>vcs-impl/src/com/intellij/openapi/vcs/actions/...</td>\n",
              "      <td>18</td>\n",
              "    </tr>\n",
              "    <tr>\n",
              "      <th>107659</th>\n",
              "      <td>public static @Nullable ListSelection&lt;? extend...</td>\n",
              "      <td>createDiffProducers</td>\n",
              "      <td>vcs-impl/src/com/intellij/openapi/vcs/changes/...</td>\n",
              "      <td>183</td>\n",
              "    </tr>\n",
              "    <tr>\n",
              "      <th>17736</th>\n",
              "      <td>@Override\\n  protected boolean isSelected(@Not...</td>\n",
              "      <td>isSelected</td>\n",
              "      <td>external-system-impl/src/com/intellij/openapi/...</td>\n",
              "      <td>25</td>\n",
              "    </tr>\n",
              "  </tbody>\n",
              "</table>\n",
              "</div>"
            ],
            "text/plain": [
              "                                                     code   \n",
              "117876  public abstract boolean isInsideScreenBounds(i...  \\\n",
              "66324   @Override\\n  public void fileMoved(@NotNull Vi...   \n",
              "2448    protected abstract void update(@NotNull VcsCon...   \n",
              "107659  public static @Nullable ListSelection<? extend...   \n",
              "17736   @Override\\n  protected boolean isSelected(@Not...   \n",
              "\n",
              "               function_name   \n",
              "117876  isInsideScreenBounds  \\\n",
              "66324              fileMoved   \n",
              "2448                  update   \n",
              "107659   createDiffProducers   \n",
              "17736             isSelected   \n",
              "\n",
              "                                                 filepath  n_tokens  \n",
              "117876  ide-core/src/com/intellij/openapi/wm/WindowMan...        16  \n",
              "66324   core-api/src/com/intellij/openapi/vfs/VirtualF...        25  \n",
              "2448    vcs-impl/src/com/intellij/openapi/vcs/actions/...        18  \n",
              "107659  vcs-impl/src/com/intellij/openapi/vcs/changes/...       183  \n",
              "17736   external-system-impl/src/com/intellij/openapi/...        25  "
            ]
          },
          "execution_count": 50,
          "metadata": {},
          "output_type": "execute_result"
        }
      ],
      "source": [
        "df.sample(5)"
      ]
    },
    {
      "cell_type": "code",
      "execution_count": null,
      "metadata": {
        "id": "VFcbTzgkVwbB",
        "outputId": "eccd062e-d3ff-476f-9d3d-71840c98d087"
      },
      "outputs": [
        {
          "name": "stdout",
          "output_type": "stream",
          "text": [
            "<class 'pandas.core.frame.DataFrame'>\n",
            "RangeIndex: 175242 entries, 0 to 175241\n",
            "Data columns (total 4 columns):\n",
            " #   Column         Non-Null Count   Dtype \n",
            "---  ------         --------------   ----- \n",
            " 0   code           175242 non-null  object\n",
            " 1   function_name  175242 non-null  object\n",
            " 2   filepath       175242 non-null  object\n",
            " 3   n_tokens       175242 non-null  int64 \n",
            "dtypes: int64(1), object(3)\n",
            "memory usage: 5.3+ MB\n"
          ]
        }
      ],
      "source": [
        "df.info()"
      ]
    },
    {
      "cell_type": "code",
      "execution_count": null,
      "metadata": {
        "id": "ub3834gzVwb2",
        "outputId": "5db9d2da-2016-4d31-9df2-fbaf0b21c5a4"
      },
      "outputs": [
        {
          "data": {
            "text/html": [
              "<div>\n",
              "<style scoped>\n",
              "    .dataframe tbody tr th:only-of-type {\n",
              "        vertical-align: middle;\n",
              "    }\n",
              "\n",
              "    .dataframe tbody tr th {\n",
              "        vertical-align: top;\n",
              "    }\n",
              "\n",
              "    .dataframe thead th {\n",
              "        text-align: right;\n",
              "    }\n",
              "</style>\n",
              "<table border=\"1\" class=\"dataframe\">\n",
              "  <thead>\n",
              "    <tr style=\"text-align: right;\">\n",
              "      <th></th>\n",
              "      <th>n_tokens</th>\n",
              "    </tr>\n",
              "  </thead>\n",
              "  <tbody>\n",
              "    <tr>\n",
              "      <th>count</th>\n",
              "      <td>175242.000000</td>\n",
              "    </tr>\n",
              "    <tr>\n",
              "      <th>mean</th>\n",
              "      <td>68.927255</td>\n",
              "    </tr>\n",
              "    <tr>\n",
              "      <th>std</th>\n",
              "      <td>126.858943</td>\n",
              "    </tr>\n",
              "    <tr>\n",
              "      <th>min</th>\n",
              "      <td>3.000000</td>\n",
              "    </tr>\n",
              "    <tr>\n",
              "      <th>25%</th>\n",
              "      <td>20.000000</td>\n",
              "    </tr>\n",
              "    <tr>\n",
              "      <th>50%</th>\n",
              "      <td>34.000000</td>\n",
              "    </tr>\n",
              "    <tr>\n",
              "      <th>75%</th>\n",
              "      <td>73.000000</td>\n",
              "    </tr>\n",
              "    <tr>\n",
              "      <th>max</th>\n",
              "      <td>13406.000000</td>\n",
              "    </tr>\n",
              "  </tbody>\n",
              "</table>\n",
              "</div>"
            ],
            "text/plain": [
              "            n_tokens\n",
              "count  175242.000000\n",
              "mean       68.927255\n",
              "std       126.858943\n",
              "min         3.000000\n",
              "25%        20.000000\n",
              "50%        34.000000\n",
              "75%        73.000000\n",
              "max     13406.000000"
            ]
          },
          "execution_count": 26,
          "metadata": {},
          "output_type": "execute_result"
        }
      ],
      "source": [
        "df.describe()"
      ]
    },
    {
      "cell_type": "code",
      "execution_count": null,
      "metadata": {
        "id": "kUvS6t72Vwb3",
        "outputId": "c7a65ee9-fcc1-42e7-ae62-e6c953242414"
      },
      "outputs": [
        {
          "data": {
            "text/html": [
              "<div>\n",
              "<style scoped>\n",
              "    .dataframe tbody tr th:only-of-type {\n",
              "        vertical-align: middle;\n",
              "    }\n",
              "\n",
              "    .dataframe tbody tr th {\n",
              "        vertical-align: top;\n",
              "    }\n",
              "\n",
              "    .dataframe thead th {\n",
              "        text-align: right;\n",
              "    }\n",
              "</style>\n",
              "<table border=\"1\" class=\"dataframe\">\n",
              "  <thead>\n",
              "    <tr style=\"text-align: right;\">\n",
              "      <th></th>\n",
              "      <th>code</th>\n",
              "      <th>function_name</th>\n",
              "      <th>filepath</th>\n",
              "      <th>n_tokens</th>\n",
              "    </tr>\n",
              "  </thead>\n",
              "  <tbody>\n",
              "    <tr>\n",
              "      <th>70</th>\n",
              "      <td>void onStepChanged();</td>\n",
              "      <td>onStepChanged</td>\n",
              "      <td>platform-impl/src/com/intellij/ui/wizard/Wizar...</td>\n",
              "      <td>5</td>\n",
              "    </tr>\n",
              "    <tr>\n",
              "      <th>327</th>\n",
              "      <td>void selectionInverted();</td>\n",
              "      <td>selectionInverted</td>\n",
              "      <td>platform-impl/src/com/intellij/ide/util/Elemen...</td>\n",
              "      <td>5</td>\n",
              "    </tr>\n",
              "    <tr>\n",
              "      <th>374</th>\n",
              "      <td>protected abstract int getColumn();</td>\n",
              "      <td>getColumn</td>\n",
              "      <td>platform-impl/src/com/intellij/ide/util/GotoLi...</td>\n",
              "      <td>5</td>\n",
              "    </tr>\n",
              "    <tr>\n",
              "      <th>470</th>\n",
              "      <td>fun closeTipDialog()</td>\n",
              "      <td>closeTipDialog</td>\n",
              "      <td>platform-impl/src/com/intellij/ide/util/TipAnd...</td>\n",
              "      <td>5</td>\n",
              "    </tr>\n",
              "    <tr>\n",
              "      <th>475</th>\n",
              "      <td>JComponent getComponent();</td>\n",
              "      <td>getComponent</td>\n",
              "      <td>platform-impl/src/com/intellij/ide/util/TipUIU...</td>\n",
              "      <td>5</td>\n",
              "    </tr>\n",
              "    <tr>\n",
              "      <th>...</th>\n",
              "      <td>...</td>\n",
              "      <td>...</td>\n",
              "      <td>...</td>\n",
              "      <td>...</td>\n",
              "    </tr>\n",
              "    <tr>\n",
              "      <th>171692</th>\n",
              "      <td>protected abstract void perform();</td>\n",
              "      <td>perform</td>\n",
              "      <td>platform-api/src/com/intellij/ide/util/treeVie...</td>\n",
              "      <td>5</td>\n",
              "    </tr>\n",
              "    <tr>\n",
              "      <th>171932</th>\n",
              "      <td>boolean canGoFurther();</td>\n",
              "      <td>canGoFurther</td>\n",
              "      <td>platform-impl/src/com/intellij/openapi/ui/play...</td>\n",
              "      <td>5</td>\n",
              "    </tr>\n",
              "    <tr>\n",
              "      <th>173466</th>\n",
              "      <td>override fun toString(): String</td>\n",
              "      <td>toString</td>\n",
              "      <td>lang-api/src/com/intellij/codeInsight/hints/pr...</td>\n",
              "      <td>5</td>\n",
              "    </tr>\n",
              "    <tr>\n",
              "      <th>173469</th>\n",
              "      <td>fun mouseExited() {}</td>\n",
              "      <td>mouseExited</td>\n",
              "      <td>lang-api/src/com/intellij/codeInsight/hints/pr...</td>\n",
              "      <td>5</td>\n",
              "    </tr>\n",
              "    <tr>\n",
              "      <th>173656</th>\n",
              "      <td>override fun finished() {}</td>\n",
              "      <td>finished</td>\n",
              "      <td>vcs-impl/src/com/intellij/openapi/vcs/history/...</td>\n",
              "      <td>5</td>\n",
              "    </tr>\n",
              "  </tbody>\n",
              "</table>\n",
              "<p>927 rows × 4 columns</p>\n",
              "</div>"
            ],
            "text/plain": [
              "                                       code      function_name   \n",
              "70                    void onStepChanged();      onStepChanged  \\\n",
              "327               void selectionInverted();  selectionInverted   \n",
              "374     protected abstract int getColumn();          getColumn   \n",
              "470                    fun closeTipDialog()     closeTipDialog   \n",
              "475              JComponent getComponent();       getComponent   \n",
              "...                                     ...                ...   \n",
              "171692   protected abstract void perform();            perform   \n",
              "171932              boolean canGoFurther();       canGoFurther   \n",
              "173466      override fun toString(): String           toString   \n",
              "173469                 fun mouseExited() {}        mouseExited   \n",
              "173656           override fun finished() {}           finished   \n",
              "\n",
              "                                                 filepath  n_tokens  \n",
              "70      platform-impl/src/com/intellij/ui/wizard/Wizar...         5  \n",
              "327     platform-impl/src/com/intellij/ide/util/Elemen...         5  \n",
              "374     platform-impl/src/com/intellij/ide/util/GotoLi...         5  \n",
              "470     platform-impl/src/com/intellij/ide/util/TipAnd...         5  \n",
              "475     platform-impl/src/com/intellij/ide/util/TipUIU...         5  \n",
              "...                                                   ...       ...  \n",
              "171692  platform-api/src/com/intellij/ide/util/treeVie...         5  \n",
              "171932  platform-impl/src/com/intellij/openapi/ui/play...         5  \n",
              "173466  lang-api/src/com/intellij/codeInsight/hints/pr...         5  \n",
              "173469  lang-api/src/com/intellij/codeInsight/hints/pr...         5  \n",
              "173656  vcs-impl/src/com/intellij/openapi/vcs/history/...         5  \n",
              "\n",
              "[927 rows x 4 columns]"
            ]
          },
          "execution_count": 29,
          "metadata": {},
          "output_type": "execute_result"
        }
      ],
      "source": [
        "df[df['n_tokens'] == 5]"
      ]
    },
    {
      "cell_type": "code",
      "execution_count": null,
      "metadata": {
        "id": "7apVHjS9Vwb3",
        "outputId": "f13668c0-76d6-4bc6-8dc0-600be05e30fa"
      },
      "outputs": [
        {
          "data": {
            "text/html": [
              "<div>\n",
              "<style scoped>\n",
              "    .dataframe tbody tr th:only-of-type {\n",
              "        vertical-align: middle;\n",
              "    }\n",
              "\n",
              "    .dataframe tbody tr th {\n",
              "        vertical-align: top;\n",
              "    }\n",
              "\n",
              "    .dataframe thead th {\n",
              "        text-align: right;\n",
              "    }\n",
              "</style>\n",
              "<table border=\"1\" class=\"dataframe\">\n",
              "  <thead>\n",
              "    <tr style=\"text-align: right;\">\n",
              "      <th></th>\n",
              "      <th>code</th>\n",
              "      <th>function_name</th>\n",
              "      <th>filepath</th>\n",
              "      <th>n_tokens</th>\n",
              "    </tr>\n",
              "  </thead>\n",
              "  <tbody>\n",
              "    <tr>\n",
              "      <th>9651</th>\n",
              "      <td>fun JsonIndexDiagnostic.generateHtml(target: A...</td>\n",
              "      <td>generateHtml</td>\n",
              "      <td>lang-impl/src/com/intellij/util/indexing/diagn...</td>\n",
              "      <td>3057</td>\n",
              "    </tr>\n",
              "    <tr>\n",
              "      <th>10772</th>\n",
              "      <td>protected fun traverseInstanceGraph(progress: ...</td>\n",
              "      <td>traverseInstanceGraph</td>\n",
              "      <td>platform-impl/src/com/intellij/diagnostic/hpro...</td>\n",
              "      <td>2885</td>\n",
              "    </tr>\n",
              "    <tr>\n",
              "      <th>10774</th>\n",
              "      <td>private fun computeDominatorFlameGraph(nav: Ob...</td>\n",
              "      <td>computeDominatorFlameGraph</td>\n",
              "      <td>platform-impl/src/com/intellij/diagnostic/hpro...</td>\n",
              "      <td>4670</td>\n",
              "    </tr>\n",
              "    <tr>\n",
              "      <th>12055</th>\n",
              "      <td>fun createResolverImpl(project: Project?, indi...</td>\n",
              "      <td>createResolverImpl</td>\n",
              "      <td>lang-impl/src/com/intellij/openapi/projectRoot...</td>\n",
              "      <td>1842</td>\n",
              "    </tr>\n",
              "    <tr>\n",
              "      <th>16234</th>\n",
              "      <td>@Override\\n  public void actionPerformed(@NotN...</td>\n",
              "      <td>actionPerformed</td>\n",
              "      <td>platform-impl/src/com/intellij/ide/actions/Act...</td>\n",
              "      <td>1561</td>\n",
              "    </tr>\n",
              "    <tr>\n",
              "      <th>...</th>\n",
              "      <td>...</td>\n",
              "      <td>...</td>\n",
              "      <td>...</td>\n",
              "      <td>...</td>\n",
              "    </tr>\n",
              "    <tr>\n",
              "      <th>168282</th>\n",
              "      <td>private void initComponents() {\\n    AnAction ...</td>\n",
              "      <td>initComponents</td>\n",
              "      <td>lang-impl/src/com/intellij/find/impl/FindPopup...</td>\n",
              "      <td>4873</td>\n",
              "    </tr>\n",
              "    <tr>\n",
              "      <th>168309</th>\n",
              "      <td>private void findSettingsChanged() {\\n    if (...</td>\n",
              "      <td>findSettingsChanged</td>\n",
              "      <td>lang-impl/src/com/intellij/find/impl/FindPopup...</td>\n",
              "      <td>1493</td>\n",
              "    </tr>\n",
              "    <tr>\n",
              "      <th>169564</th>\n",
              "      <td>override fun saveEntities(storage: EntityStora...</td>\n",
              "      <td>saveEntities</td>\n",
              "      <td>workspaceModel/jps/src/com/intellij/workspaceM...</td>\n",
              "      <td>2539</td>\n",
              "    </tr>\n",
              "    <tr>\n",
              "      <th>172968</th>\n",
              "      <td>protected void initUI(final ChooseByNamePopupC...</td>\n",
              "      <td>initUI</td>\n",
              "      <td>lang-impl/src/com/intellij/ide/util/gotoByName...</td>\n",
              "      <td>2436</td>\n",
              "    </tr>\n",
              "    <tr>\n",
              "      <th>174628</th>\n",
              "      <td>private AnAction processGroupElement(@NotNull ...</td>\n",
              "      <td>processGroupElement</td>\n",
              "      <td>platform-impl/src/com/intellij/openapi/actionS...</td>\n",
              "      <td>1302</td>\n",
              "    </tr>\n",
              "  </tbody>\n",
              "</table>\n",
              "<p>227 rows × 4 columns</p>\n",
              "</div>"
            ],
            "text/plain": [
              "                                                     code   \n",
              "9651    fun JsonIndexDiagnostic.generateHtml(target: A...  \\\n",
              "10772   protected fun traverseInstanceGraph(progress: ...   \n",
              "10774   private fun computeDominatorFlameGraph(nav: Ob...   \n",
              "12055   fun createResolverImpl(project: Project?, indi...   \n",
              "16234   @Override\\n  public void actionPerformed(@NotN...   \n",
              "...                                                   ...   \n",
              "168282  private void initComponents() {\\n    AnAction ...   \n",
              "168309  private void findSettingsChanged() {\\n    if (...   \n",
              "169564  override fun saveEntities(storage: EntityStora...   \n",
              "172968  protected void initUI(final ChooseByNamePopupC...   \n",
              "174628  private AnAction processGroupElement(@NotNull ...   \n",
              "\n",
              "                     function_name   \n",
              "9651                  generateHtml  \\\n",
              "10772        traverseInstanceGraph   \n",
              "10774   computeDominatorFlameGraph   \n",
              "12055           createResolverImpl   \n",
              "16234              actionPerformed   \n",
              "...                            ...   \n",
              "168282              initComponents   \n",
              "168309         findSettingsChanged   \n",
              "169564                saveEntities   \n",
              "172968                      initUI   \n",
              "174628         processGroupElement   \n",
              "\n",
              "                                                 filepath  n_tokens  \n",
              "9651    lang-impl/src/com/intellij/util/indexing/diagn...      3057  \n",
              "10772   platform-impl/src/com/intellij/diagnostic/hpro...      2885  \n",
              "10774   platform-impl/src/com/intellij/diagnostic/hpro...      4670  \n",
              "12055   lang-impl/src/com/intellij/openapi/projectRoot...      1842  \n",
              "16234   platform-impl/src/com/intellij/ide/actions/Act...      1561  \n",
              "...                                                   ...       ...  \n",
              "168282  lang-impl/src/com/intellij/find/impl/FindPopup...      4873  \n",
              "168309  lang-impl/src/com/intellij/find/impl/FindPopup...      1493  \n",
              "169564  workspaceModel/jps/src/com/intellij/workspaceM...      2539  \n",
              "172968  lang-impl/src/com/intellij/ide/util/gotoByName...      2436  \n",
              "174628  platform-impl/src/com/intellij/openapi/actionS...      1302  \n",
              "\n",
              "[227 rows x 4 columns]"
            ]
          },
          "execution_count": 43,
          "metadata": {},
          "output_type": "execute_result"
        }
      ],
      "source": [
        "df[df['n_tokens'] > 1300] #8192"
      ]
    },
    {
      "cell_type": "code",
      "execution_count": null,
      "metadata": {
        "id": "8QT4WSxlVwb3",
        "outputId": "202deb94-8618-4118-9fd2-a9530f43fc1f"
      },
      "outputs": [
        {
          "data": {
            "text/plain": [
              "12078950"
            ]
          },
          "execution_count": 30,
          "metadata": {},
          "output_type": "execute_result"
        }
      ],
      "source": [
        "df['n_tokens'].sum()"
      ]
    },
    {
      "cell_type": "code",
      "execution_count": null,
      "metadata": {
        "id": "dw8twIRgVwb3",
        "outputId": "85d8b298-57b4-4ef1-b20f-30e5f60bb379"
      },
      "outputs": [
        {
          "name": "stdout",
          "output_type": "stream",
          "text": [
            "Price: $4.83\n",
            "Min time: 1.69 min\n"
          ]
        }
      ],
      "source": [
        "print(f\"Price: ${(df['n_tokens'].sum() / 1000) * 0.0004:.2f}\")\n",
        "print(f\"Min time: {((df['n_tokens'].sum() / 2048) / 3500):.2f} min\")\n",
        "# ~5.900 request total, 2k each\n",
        "\n",
        "# limit\n",
        "#  3,500 RPM / 350,000 TPM"
      ]
    },
    {
      "cell_type": "code",
      "execution_count": null,
      "metadata": {
        "id": "Sj6c1WbGVwb3"
      },
      "outputs": [],
      "source": [
        "import numpy as np\n",
        "\n",
        "# replace newlines, which can negatively affect performance. See https://github.com/openai/openai-python/blob/aa133ce3a883e2957aa1e0111ee27dfef986e787/openai/embeddings_utils.py#L20\n",
        "df['tokens'] = df['code'].apply(lambda text: tokenizer.encode(text.replace(\"\\n\", \" \")))"
      ]
    },
    {
      "cell_type": "markdown",
      "metadata": {
        "id": "hvXsCLodVwb3"
      },
      "source": [
        "### Fetch the embeddings"
      ]
    },
    {
      "cell_type": "code",
      "execution_count": null,
      "metadata": {
        "id": "aOh7NM6xVwb3"
      },
      "outputs": [],
      "source": [
        "import numpy as np\n",
        "import openai\n",
        "\n",
        "openai.api_key = os.getenv(\"OPENAI_API_KEY\")\n",
        "\n",
        "# We'll batch 2048 chunks into a single API call\n",
        "# each chunk up to 8192 tokens\n",
        "df_n = df[df['n_tokens'] < 8192]\n"
      ]
    },
    {
      "cell_type": "code",
      "execution_count": null,
      "metadata": {
        "id": "3uRRSiYXVwb3",
        "outputId": "59faa7bc-9cd2-425b-871e-db5831435acb"
      },
      "outputs": [
        {
          "data": {
            "text/html": [
              "<div>\n",
              "<style scoped>\n",
              "    .dataframe tbody tr th:only-of-type {\n",
              "        vertical-align: middle;\n",
              "    }\n",
              "\n",
              "    .dataframe tbody tr th {\n",
              "        vertical-align: top;\n",
              "    }\n",
              "\n",
              "    .dataframe thead th {\n",
              "        text-align: right;\n",
              "    }\n",
              "</style>\n",
              "<table border=\"1\" class=\"dataframe\">\n",
              "  <thead>\n",
              "    <tr style=\"text-align: right;\">\n",
              "      <th></th>\n",
              "      <th>code</th>\n",
              "      <th>function_name</th>\n",
              "      <th>filepath</th>\n",
              "      <th>n_tokens</th>\n",
              "    </tr>\n",
              "  </thead>\n",
              "  <tbody>\n",
              "    <tr>\n",
              "      <th>0</th>\n",
              "      <td>@Override\\n  protected void update(final AnAct...</td>\n",
              "      <td>update</td>\n",
              "      <td>lang-api/src/com/intellij/execution/ui/actions...</td>\n",
              "      <td>67</td>\n",
              "    </tr>\n",
              "    <tr>\n",
              "      <th>1</th>\n",
              "      <td>private boolean isToFocus(final ViewContext co...</td>\n",
              "      <td>isToFocus</td>\n",
              "      <td>lang-api/src/com/intellij/execution/ui/actions...</td>\n",
              "      <td>39</td>\n",
              "    </tr>\n",
              "    <tr>\n",
              "      <th>2</th>\n",
              "      <td>@Override\\n  protected void actionPerformed(fi...</td>\n",
              "      <td>actionPerformed</td>\n",
              "      <td>lang-api/src/com/intellij/execution/ui/actions...</td>\n",
              "      <td>63</td>\n",
              "    </tr>\n",
              "    <tr>\n",
              "      <th>3</th>\n",
              "      <td>@Override\\n  public @NotNull ActionUpdateThrea...</td>\n",
              "      <td>getActionUpdateThread</td>\n",
              "      <td>lang-api/src/com/intellij/execution/ui/actions...</td>\n",
              "      <td>25</td>\n",
              "    </tr>\n",
              "    <tr>\n",
              "      <th>4</th>\n",
              "      <td>@Override\\n  public final void update(final @N...</td>\n",
              "      <td>update</td>\n",
              "      <td>lang-api/src/com/intellij/execution/ui/actions...</td>\n",
              "      <td>76</td>\n",
              "    </tr>\n",
              "  </tbody>\n",
              "</table>\n",
              "</div>"
            ],
            "text/plain": [
              "                                                code          function_name   \n",
              "0  @Override\\n  protected void update(final AnAct...                 update  \\\n",
              "1  private boolean isToFocus(final ViewContext co...              isToFocus   \n",
              "2  @Override\\n  protected void actionPerformed(fi...        actionPerformed   \n",
              "3  @Override\\n  public @NotNull ActionUpdateThrea...  getActionUpdateThread   \n",
              "4  @Override\\n  public final void update(final @N...                 update   \n",
              "\n",
              "                                            filepath  n_tokens  \n",
              "0  lang-api/src/com/intellij/execution/ui/actions...        67  \n",
              "1  lang-api/src/com/intellij/execution/ui/actions...        39  \n",
              "2  lang-api/src/com/intellij/execution/ui/actions...        63  \n",
              "3  lang-api/src/com/intellij/execution/ui/actions...        25  \n",
              "4  lang-api/src/com/intellij/execution/ui/actions...        76  "
            ]
          },
          "execution_count": 53,
          "metadata": {},
          "output_type": "execute_result"
        }
      ],
      "source": [
        "df_n.head()"
      ]
    },
    {
      "cell_type": "code",
      "execution_count": null,
      "metadata": {
        "id": "Fcwk02QDVwb3"
      },
      "outputs": [],
      "source": [
        "from typing import List\n",
        "from tenacity import retry, stop_after_attempt, wait_random_exponential\n",
        "import numpy as np\n",
        "\n",
        "@retry(wait=wait_random_exponential(min=1, max=20), stop=stop_after_attempt(6))\n",
        "def get_embeddings(\n",
        "    list_of_tokens: List[int], engine=\"text-embedding-ada-002\"\n",
        ") -> List[np.ndarray]: #List[float]\n",
        "    assert len(list_of_tokens) <= 2048, \"The batch size should not be larger than 2048.\"\n",
        "\n",
        "    # replace newlines, which accoring to OpenAI can negatively affect performance.\n",
        "    # list_of_tokens = [text.replace(\"\\n\", \" \") for text in list_of_tokens]\n",
        "    ## we did this earlier, during tokenization\n",
        "\n",
        "    data = openai.Embedding.create(input=list_of_tokens, engine=engine).data\n",
        "    data = sorted(data, key=lambda x: x[\"index\"])  # maintain the same order as input.\n",
        "    return [np.array(d[\"embedding\"]) for d in data]\n"
      ]
    },
    {
      "cell_type": "code",
      "execution_count": null,
      "metadata": {
        "id": "4dcoxEV4Vwb3"
      },
      "outputs": [],
      "source": [
        "# All the API query happens here! 86 API requests on /platform\n",
        "df_n['code_embedding'] = df_n.groupby(np.arange(len(df_n))//2048)['code'].transform(lambda x: get_embeddings(x.tolist(), engine=model))"
      ]
    },
    {
      "cell_type": "code",
      "execution_count": null,
      "metadata": {
        "id": "imlu4SrzVwb3"
      },
      "outputs": [],
      "source": [
        "df_n.to_pickle(code_emb_file, compression={'method': 'gzip', 'compresslevel': 1, 'mtime': 1})"
      ]
    },
    {
      "cell_type": "code",
      "execution_count": null,
      "metadata": {
        "id": "jyvthr56Vwb3"
      },
      "outputs": [],
      "source": [
        "df_n.head()"
      ]
    },
    {
      "cell_type": "code",
      "execution_count": null,
      "metadata": {
        "id": "VDADWUG7Vwb3"
      },
      "outputs": [],
      "source": []
    },
    {
      "cell_type": "markdown",
      "metadata": {
        "id": "oju8RtqZVwb3"
      },
      "source": [
        "### Build the Index\n",
        "\n",
        "To speed up the query for nearest vectors, instead of doing a full scan over the corpus an index can be built in advance - a datastructure for approximate nearest neighbors search. \n",
        "\n",
        "We are going to use https://github.com/spotify/annoy. \n",
        "\n",
        "https://github.com/facebookresearch/faiss is also a good but official builds are _only_ on Anaconda. (Be carefull running someone else's builds from Pypi!)"
      ]
    },
    {
      "cell_type": "code",
      "execution_count": null,
      "metadata": {
        "id": "fx3hjsncVwb4",
        "outputId": "ebf99b36-6a88-4ce7-addd-7ce8c763bf01"
      },
      "outputs": [
        {
          "data": {
            "text/plain": [
              "True"
            ]
          },
          "execution_count": 125,
          "metadata": {},
          "output_type": "execute_result"
        }
      ],
      "source": [
        "# build the index\n",
        "from annoy import AnnoyIndex\n",
        "\n",
        "emb_dimensions = df_csv.iloc[0].code_embedding.shape[0]\n",
        "\n",
        "# Metric can be \"angular\", \"euclidean\", \"manhattan\", \"hamming\", or \"dot\" \n",
        "# This will affect the results significantly! \n",
        "# Use 'dot' for cosin similarty, to compare with Precise section.\n",
        "index = AnnoyIndex(emb_dimensions, 'dot')\n",
        "\n",
        "\n",
        "df_csv.apply(lambda x: index.add_item(x.name, x.code_embedding), axis=1)\n",
        "\n",
        "index.build(200)\n",
        "index.save(f\"{code_emb_index_file}\")"
      ]
    },
    {
      "cell_type": "markdown",
      "metadata": {
        "id": "V_7r4d4WVwb4"
      },
      "source": [
        "## Bonus: data exploration"
      ]
    },
    {
      "cell_type": "code",
      "execution_count": null,
      "metadata": {
        "id": "hTA5yNbdVwb4",
        "outputId": "2c1cd05a-946b-4f0f-e14e-31f6b29f7506"
      },
      "outputs": [
        {
          "data": {
            "text/html": [
              "<div>\n",
              "<style scoped>\n",
              "    .dataframe tbody tr th:only-of-type {\n",
              "        vertical-align: middle;\n",
              "    }\n",
              "\n",
              "    .dataframe tbody tr th {\n",
              "        vertical-align: top;\n",
              "    }\n",
              "\n",
              "    .dataframe thead th {\n",
              "        text-align: right;\n",
              "    }\n",
              "</style>\n",
              "<table border=\"1\" class=\"dataframe\">\n",
              "  <thead>\n",
              "    <tr style=\"text-align: right;\">\n",
              "      <th></th>\n",
              "      <th>code</th>\n",
              "      <th>function_name</th>\n",
              "      <th>filepath</th>\n",
              "    </tr>\n",
              "  </thead>\n",
              "  <tbody>\n",
              "    <tr>\n",
              "      <th>1205</th>\n",
              "      <td>default int getNavigationOffset() {\\n    FileE...</td>\n",
              "      <td>getNavigationOffset</td>\n",
              "      <td>usageView/src/com/intellij/usages/Usage.java</td>\n",
              "    </tr>\n",
              "    <tr>\n",
              "      <th>1239</th>\n",
              "      <td>@Override\\n  public int getNavigationOffset() ...</td>\n",
              "      <td>getNavigationOffset</td>\n",
              "      <td>usageView/src/com/intellij/usages/UsageInfo2Us...</td>\n",
              "    </tr>\n",
              "    <tr>\n",
              "      <th>1277</th>\n",
              "      <td>int getNavigationOffset();</td>\n",
              "      <td>getNavigationOffset</td>\n",
              "      <td>usageView/src/com/intellij/usages/UsageInfoAda...</td>\n",
              "    </tr>\n",
              "    <tr>\n",
              "      <th>78941</th>\n",
              "      <td>public int getNavigationOffset() {\\n    if (my...</td>\n",
              "      <td>getNavigationOffset</td>\n",
              "      <td>core-api/src/com/intellij/usageView/UsageInfo....</td>\n",
              "    </tr>\n",
              "  </tbody>\n",
              "</table>\n",
              "</div>"
            ],
            "text/plain": [
              "                                                    code        function_name   \n",
              "1205   default int getNavigationOffset() {\\n    FileE...  getNavigationOffset  \\\n",
              "1239   @Override\\n  public int getNavigationOffset() ...  getNavigationOffset   \n",
              "1277                          int getNavigationOffset();  getNavigationOffset   \n",
              "78941  public int getNavigationOffset() {\\n    if (my...  getNavigationOffset   \n",
              "\n",
              "                                                filepath  \n",
              "1205        usageView/src/com/intellij/usages/Usage.java  \n",
              "1239   usageView/src/com/intellij/usages/UsageInfo2Us...  \n",
              "1277   usageView/src/com/intellij/usages/UsageInfoAda...  \n",
              "78941  core-api/src/com/intellij/usageView/UsageInfo....  "
            ]
          },
          "execution_count": 295,
          "metadata": {},
          "output_type": "execute_result"
        }
      ],
      "source": [
        "df[df['function_name'] == 'getNavigationOffset']"
      ]
    },
    {
      "cell_type": "code",
      "execution_count": null,
      "metadata": {
        "id": "glwZ4G0dVwb4",
        "outputId": "563888c9-540d-49f0-f6a1-41d8e171d5a3"
      },
      "outputs": [
        {
          "name": "stdout",
          "output_type": "stream",
          "text": [
            "count              175242\n",
            "unique              62280\n",
            "top       actionPerformed\n",
            "freq                 1986\n",
            "Name: function_name, dtype: object\n",
            "\n",
            "function_name\n",
            "actionPerformed                 1986\n",
            "toString                        1700\n",
            "update                          1659\n",
            "getActionUpdateThread           1413\n",
            "dispose                         1029\n",
            "equals                           995\n",
            "hashCode                         919\n",
            "getInstance                      900\n",
            "getName                          620\n",
            "run                              605\n",
            "create                           552\n",
            "getIcon                          528\n",
            "get                              505\n",
            "getText                          419\n",
            "isEnabled                        404\n",
            "remove                           403\n",
            "apply                            401\n",
            "getProject                       395\n",
            "isSelected                       373\n",
            "reset                            370\n",
            "clear                            359\n",
            "getState                         358\n",
            "setSelected                      348\n",
            "getComponent                     345\n",
            "getChildren                      332\n",
            "getId                            332\n",
            "getData                          326\n",
            "add                              314\n",
            "execute                          302\n",
            "getDisplayName                   288\n",
            "process                          285\n",
            "getPreferredSize                 283\n",
            "contains                         282\n",
            "createCenterPanel                275\n",
            "isEmpty                          266\n",
            "getDescription                   266\n",
            "close                            263\n",
            "invoke                           263\n",
            "getValue                         263\n",
            "getPreferredFocusedComponent     259\n",
            "loadState                        258\n",
            "paint                            255\n",
            "isValid                          251\n",
            "size                             249\n",
            "init                             239\n",
            "perform                          228\n",
            "isModified                       226\n",
            "accept                           218\n",
            "addListener                      215\n",
            "getFile                          214\n",
            "Name: count, dtype: int64\n"
          ]
        }
      ],
      "source": [
        "print(df.function_name.describe())\n",
        "print()\n",
        "print(df.function_name.value_counts().head(50))"
      ]
    },
    {
      "cell_type": "code",
      "execution_count": null,
      "metadata": {
        "id": "7lx0auq-Vwb4",
        "outputId": "63976add-0683-4c9d-99f7-8fb9594be51b"
      },
      "outputs": [
        {
          "data": {
            "text/plain": [
              "<Axes: >"
            ]
          },
          "execution_count": 39,
          "metadata": {},
          "output_type": "execute_result"
        },
        {
          "data": {
            "image/png": "[encoded data removed]",
            "text/plain": [
              "<Figure size 640x480 with 1 Axes>"
            ]
          },
          "metadata": {},
          "output_type": "display_data"
        }
      ],
      "source": [
        "df[df['n_tokens'] < 4000]['n_tokens'].hist(bins=200, log=True)"
      ]
    },
    {
      "cell_type": "code",
      "execution_count": null,
      "metadata": {
        "id": "Zb8a2t08Vwb4"
      },
      "outputs": [],
      "source": []
    }
  ],
  "metadata": {
    "colab": {
      "collapsed_sections": [
        "EiIaSxdhVwal",
        "OwXYkt4FVwaw",
        "UW9nf3EpVwaw",
        "hvXsCLodVwb3"
      ],
      "provenance": []
    },
    "kernelspec": {
      "display_name": ".venv",
      "language": "python",
      "name": "python3"
    },
    "language_info": {
      "codemirror_mode": {
        "name": "ipython",
        "version": 3
      },
      "file_extension": ".py",
      "mimetype": "text/x-python",
      "name": "python",
      "nbconvert_exporter": "python",
      "pygments_lexer": "ipython3",
      "version": "3.9.15"
    },
    "orig_nbformat": 4
  },
  "nbformat": 4,
  "nbformat_minor": 0
}
